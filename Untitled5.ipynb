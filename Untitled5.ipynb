{
 "cells": [
  {
   "cell_type": "code",
   "execution_count": 1,
   "id": "b06423c2-8d2d-4ffc-9200-663b3c25d075",
   "metadata": {},
   "outputs": [],
   "source": [
    "import pandas as pd \n",
    "import pyodbc\n",
    "class get_df:\n",
    "\n",
    "    def __init__(self):\n",
    "        self.DB_infos = {'StrategyData': ('10.14.106.11','StrategyData','cc1102','cc1102')}\n",
    "        self.querys = {}\n",
    "        self.db = str()\n",
    "        self.df_dict =  dict()\n",
    "        self.w_code_dict = dict()\n",
    "        self.point_dict = dict()\n",
    "        self.result_dict = dict()\n",
    "        \n",
    "    def db_connect(self, DB_info):\n",
    "        DB_Host, DB_Name, DB_User, DB_Password = self.DB_infos[DB_info]\n",
    "        print(\"Connecting to database using pyodbc...\")\n",
    "        self.db = pyodbc.connect('DRIVER={ODBC Driver 13 for SQL Server}; SERVER=' + DB_Host + '; DATABASE=' + DB_Name + '; UID=' + DB_User + '; PWD=' + DB_Password)\n",
    "        print(\"Succesfully Connected to database using pyodbc!\")\n",
    "      \n",
    "    def load_data(self, query):\n",
    "        df =  pd.read_sql(self.querys[query], self.db)\n",
    "        return df\n",
    "\n",
    "    @staticmethod\n",
    "    def make_TCRI():\n",
    "        df =\"\"\"SELECT  [STOCKID]\n",
    "                      ,[TCRI]\n",
    "                  FROM [StrategyData].[dbo].[TCRI]\"\"\"\n",
    "        return df"
   ]
  },
  {
   "cell_type": "code",
   "execution_count": 10,
   "id": "0a6322ba-3297-4b6e-bd7b-1e9adf1f6d9e",
   "metadata": {},
   "outputs": [
    {
     "name": "stdout",
     "output_type": "stream",
     "text": [
      "Connecting to database using pyodbc...\n",
      "Succesfully Connected to database using pyodbc!\n"
     ]
    },
    {
     "name": "stdin",
     "output_type": "stream",
     "text": [
      " D:\\TCRI\n"
     ]
    }
   ],
   "source": [
    "sql_base = get_df()\n",
    "sql_base.db_connect('StrategyData')\n",
    "sql_base.querys['TCRI'] = get_df.make_TCRI()\n",
    "df = sql_base.load_data('TCRI')\n",
    "df['TCRI'] = df['TCRI'].str.strip()\n",
    "path = input()\n",
    "df.to_excel(path + \"\\\\TCRI.xlsx\")"
   ]
  },
  {
   "cell_type": "code",
   "execution_count": null,
   "id": "628c7185-976a-423d-a181-460b05dd9f60",
   "metadata": {},
   "outputs": [],
   "source": []
  }
 ],
 "metadata": {
  "kernelspec": {
   "display_name": "Python 3",
   "language": "python",
   "name": "python3"
  },
  "language_info": {
   "codemirror_mode": {
    "name": "ipython",
    "version": 3
   },
   "file_extension": ".py",
   "mimetype": "text/x-python",
   "name": "python",
   "nbconvert_exporter": "python",
   "pygments_lexer": "ipython3",
   "version": "3.8.8"
  }
 },
 "nbformat": 4,
 "nbformat_minor": 5
}
