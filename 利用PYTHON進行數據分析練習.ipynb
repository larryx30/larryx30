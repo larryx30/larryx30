{
 "cells": [
  {
   "cell_type": "code",
   "execution_count": 1,
   "id": "62966201-d181-4636-8229-ee792294d540",
   "metadata": {},
   "outputs": [],
   "source": [
    "a = 5"
   ]
  },
  {
   "cell_type": "code",
   "execution_count": 2,
   "id": "239fce2d-165a-4553-a913-9f252965a7df",
   "metadata": {},
   "outputs": [
    {
     "data": {
      "text/plain": [
       "5"
      ]
     },
     "execution_count": 2,
     "metadata": {},
     "output_type": "execute_result"
    }
   ],
   "source": [
    "a"
   ]
  },
  {
   "cell_type": "code",
   "execution_count": 3,
   "id": "4c9fffce-2193-436f-b407-cce334d1bba9",
   "metadata": {},
   "outputs": [],
   "source": [
    "import numpy as np\n",
    "import matplotlib.pyplot as plt\n",
    "import pandas as pd\n",
    "from pandas import Series,DataFrame\n"
   ]
  },
  {
   "cell_type": "code",
   "execution_count": 4,
   "id": "d3aea160-827e-4c8f-8ab3-0a82d1be9afe",
   "metadata": {},
   "outputs": [],
   "source": [
    "data = {i : np.random.randn() for i in range(7)}"
   ]
  },
  {
   "cell_type": "code",
   "execution_count": 5,
   "id": "3d92663a-f144-44d3-be91-7ed78645ed6e",
   "metadata": {},
   "outputs": [
    {
     "data": {
      "text/plain": [
       "{0: 0.37568619274886883,\n",
       " 1: 0.6287830972656075,\n",
       " 2: -0.15505253878780084,\n",
       " 3: -0.7902866256782078,\n",
       " 4: 0.0895971754380887,\n",
       " 5: -0.48049019447523506,\n",
       " 6: -0.35009697099581155}"
      ]
     },
     "execution_count": 5,
     "metadata": {},
     "output_type": "execute_result"
    }
   ],
   "source": [
    "data"
   ]
  },
  {
   "cell_type": "code",
   "execution_count": 6,
   "id": "b114bf13-c16b-4965-a5aa-40648248e876",
   "metadata": {},
   "outputs": [],
   "source": [
    "from numpy.random import randn"
   ]
  },
  {
   "cell_type": "code",
   "execution_count": 7,
   "id": "58f0ae8a-71f2-40a6-b07c-286be4a294f4",
   "metadata": {},
   "outputs": [],
   "source": [
    "data = {i : randn() for i in range(7)}"
   ]
  },
  {
   "cell_type": "code",
   "execution_count": 8,
   "id": "b4816442-972a-4098-b162-9e259c2aaf8c",
   "metadata": {},
   "outputs": [
    {
     "name": "stdout",
     "output_type": "stream",
     "text": [
      "{0: 0.6237977131680253, 1: 0.6096178608112048, 2: -0.08007051414500832, 3: -0.9888150224720145, 4: 1.5699603840064638, 5: -1.7643240794878337, 6: -0.902063739444728}\n"
     ]
    }
   ],
   "source": [
    "print(data)"
   ]
  },
  {
   "cell_type": "code",
   "execution_count": 9,
   "id": "b3b27ede-80ce-4498-866b-44a252c5f3a4",
   "metadata": {},
   "outputs": [
    {
     "name": "stdout",
     "output_type": "stream",
     "text": [
      "Hello world\n"
     ]
    }
   ],
   "source": [
    "print('Hello world')"
   ]
  },
  {
   "cell_type": "code",
   "execution_count": 10,
   "id": "e88ad2e2-5f28-4ea6-9792-b2384c465fbd",
   "metadata": {},
   "outputs": [],
   "source": [
    "an_apple = 27"
   ]
  },
  {
   "cell_type": "code",
   "execution_count": 11,
   "id": "1e2f7e95-2663-4a45-85c0-97d97dac3ac3",
   "metadata": {},
   "outputs": [],
   "source": [
    "an_example = 42"
   ]
  },
  {
   "cell_type": "code",
   "execution_count": 12,
   "id": "c9a9fef1-8ca5-4a93-9c12-d5a6da51e156",
   "metadata": {},
   "outputs": [],
   "source": [
    "b = [1,2,3]"
   ]
  },
  {
   "cell_type": "code",
   "execution_count": 13,
   "id": "4f590db0-d54e-4ed0-92bd-927b972e8fd5",
   "metadata": {},
   "outputs": [],
   "source": [
    "import datetime"
   ]
  },
  {
   "cell_type": "code",
   "execution_count": 14,
   "id": "8f0ab6e3-b12e-45a4-90b8-e3efbf4ea25d",
   "metadata": {},
   "outputs": [],
   "source": [
    "b = [1,2,3]"
   ]
  },
  {
   "cell_type": "code",
   "execution_count": 15,
   "id": "48c3975a-af2e-4d4b-9c87-400a0db20aa5",
   "metadata": {},
   "outputs": [
    {
     "data": {
      "text/plain": [
       "\u001b[1;31mType:\u001b[0m        list\n",
       "\u001b[1;31mString form:\u001b[0m [1, 2, 3]\n",
       "\u001b[1;31mLength:\u001b[0m      3\n",
       "\u001b[1;31mDocstring:\u001b[0m  \n",
       "Built-in mutable sequence.\n",
       "\n",
       "If no argument is given, the constructor creates a new empty list.\n",
       "The argument must be an iterable if specified.\n"
      ]
     },
     "metadata": {},
     "output_type": "display_data"
    }
   ],
   "source": [
    "b?"
   ]
  },
  {
   "cell_type": "code",
   "execution_count": 16,
   "id": "9fb5a855-22db-4919-8b97-a1c3bd44b9e0",
   "metadata": {},
   "outputs": [],
   "source": [
    "def add_numbers(a,b):\n",
    "    \"\"\"\n",
    "   add two number together\n",
    "   \n",
    "   returns\n",
    "   -----------\n",
    "   the_sum : type of arguments\n",
    "    \"\"\"\n",
    "    return a + b"
   ]
  },
  {
   "cell_type": "code",
   "execution_count": 17,
   "id": "a29fe18d-6b19-4fc9-9b30-e084e614873f",
   "metadata": {},
   "outputs": [
    {
     "data": {
      "text/plain": [
       "\u001b[1;31mSignature:\u001b[0m \u001b[0madd_numbers\u001b[0m\u001b[1;33m(\u001b[0m\u001b[0ma\u001b[0m\u001b[1;33m,\u001b[0m \u001b[0mb\u001b[0m\u001b[1;33m)\u001b[0m\u001b[1;33m\u001b[0m\u001b[1;33m\u001b[0m\u001b[0m\n",
       "\u001b[1;31mDocstring:\u001b[0m\n",
       "add two number together\n",
       "\n",
       "returns\n",
       "-----------\n",
       "the_sum : type of arguments\n",
       " \n",
       "\u001b[1;31mFile:\u001b[0m      c:\\users\\larryx30\\larryx30\\<ipython-input-16-60b50c718814>\n",
       "\u001b[1;31mType:\u001b[0m      function\n"
      ]
     },
     "metadata": {},
     "output_type": "display_data"
    }
   ],
   "source": [
    "add_numbers?"
   ]
  },
  {
   "cell_type": "code",
   "execution_count": 18,
   "id": "6e5fa384-7c61-4503-b6fa-0900f1c772ce",
   "metadata": {},
   "outputs": [
    {
     "data": {
      "text/plain": [
       "\u001b[1;31mSignature:\u001b[0m \u001b[0madd_numbers\u001b[0m\u001b[1;33m(\u001b[0m\u001b[0ma\u001b[0m\u001b[1;33m,\u001b[0m \u001b[0mb\u001b[0m\u001b[1;33m)\u001b[0m\u001b[1;33m\u001b[0m\u001b[1;33m\u001b[0m\u001b[0m\n",
       "\u001b[1;31mSource:\u001b[0m   \n",
       "\u001b[1;32mdef\u001b[0m \u001b[0madd_numbers\u001b[0m\u001b[1;33m(\u001b[0m\u001b[0ma\u001b[0m\u001b[1;33m,\u001b[0m\u001b[0mb\u001b[0m\u001b[1;33m)\u001b[0m\u001b[1;33m:\u001b[0m\u001b[1;33m\n",
       "\u001b[0m    \u001b[1;34m\"\"\"\n",
       "   add two number together\n",
       "   \n",
       "   returns\n",
       "   -----------\n",
       "   the_sum : type of arguments\n",
       "    \"\"\"\u001b[0m\u001b[1;33m\n",
       "\u001b[0m    \u001b[1;32mreturn\u001b[0m \u001b[0ma\u001b[0m \u001b[1;33m+\u001b[0m \u001b[0mb\u001b[0m\u001b[1;33m\u001b[0m\u001b[1;33m\u001b[0m\u001b[0m\n",
       "\u001b[1;31mFile:\u001b[0m      c:\\users\\larryx30\\larryx30\\<ipython-input-16-60b50c718814>\n",
       "\u001b[1;31mType:\u001b[0m      function\n"
      ]
     },
     "metadata": {},
     "output_type": "display_data"
    }
   ],
   "source": [
    "add_numbers??"
   ]
  },
  {
   "cell_type": "code",
   "execution_count": 19,
   "id": "18699a86-9995-4146-8226-cb8c3f07c542",
   "metadata": {},
   "outputs": [],
   "source": [
    "a = np.random.randn(100,100)"
   ]
  },
  {
   "cell_type": "code",
   "execution_count": 20,
   "id": "cffdabf5-ea36-4df6-9804-73c684a624f2",
   "metadata": {},
   "outputs": [
    {
     "name": "stdout",
     "output_type": "stream",
     "text": [
      "22.8 µs ± 5.36 µs per loop (mean ± std. dev. of 7 runs, 10000 loops each)\n"
     ]
    }
   ],
   "source": [
    "%timeit np.dot(a,a)"
   ]
  },
  {
   "cell_type": "code",
   "execution_count": null,
   "id": "3e3555e6-12e4-4354-b339-4f969ad4bca8",
   "metadata": {},
   "outputs": [],
   "source": []
  },
  {
   "cell_type": "code",
   "execution_count": 21,
   "id": "0757250a-c517-486b-b7a3-c5814394f4c2",
   "metadata": {},
   "outputs": [
    {
     "data": {
      "text/plain": [
       "[<matplotlib.lines.Line2D at 0x22d1bc545b0>]"
      ]
     },
     "execution_count": 21,
     "metadata": {},
     "output_type": "execute_result"
    },
    {
     "data": {
      "image/png": "[encoded data removed]",
      "text/plain": [
       "<Figure size 432x288 with 1 Axes>"
      ]
     },
     "metadata": {
      "needs_background": "light"
     },
     "output_type": "display_data"
    }
   ],
   "source": [
    "import matplotlib.pyplot as plt\n",
    "plt.plot(np.random.randn(100).cumsum())"
   ]
  },
  {
   "cell_type": "code",
   "execution_count": 22,
   "id": "eac6bc29-be74-489b-bf71-1680678361c1",
   "metadata": {},
   "outputs": [],
   "source": [
    "def append_element(some_list,element):\n",
    "    some_list.append(element)"
   ]
  },
  {
   "cell_type": "code",
   "execution_count": 23,
   "id": "7b7e615c-2482-482e-8c5c-04ab7fc615ae",
   "metadata": {},
   "outputs": [],
   "source": [
    "data = [1,2,3]"
   ]
  },
  {
   "cell_type": "code",
   "execution_count": 24,
   "id": "b9bec123-8a09-478c-b99e-9a43f9058b5b",
   "metadata": {},
   "outputs": [],
   "source": [
    "append_element(data,4)"
   ]
  },
  {
   "cell_type": "code",
   "execution_count": 25,
   "id": "488a345c-aca5-48d8-95e6-12e3504c1039",
   "metadata": {},
   "outputs": [
    {
     "data": {
      "text/plain": [
       "[1, 2, 3, 4]"
      ]
     },
     "execution_count": 25,
     "metadata": {},
     "output_type": "execute_result"
    }
   ],
   "source": [
    "data"
   ]
  },
  {
   "cell_type": "code",
   "execution_count": 26,
   "id": "922afd97-6ad9-4bb6-86e9-f78ee0883e00",
   "metadata": {},
   "outputs": [],
   "source": [
    "a=5"
   ]
  },
  {
   "cell_type": "code",
   "execution_count": 27,
   "id": "e7c8d32b-0c99-4571-b864-79efeba2c152",
   "metadata": {},
   "outputs": [],
   "source": [
    "a = 'foo'"
   ]
  },
  {
   "cell_type": "code",
   "execution_count": 28,
   "id": "b1bafce6-7a1d-4c37-bc0b-4ec47f74d300",
   "metadata": {},
   "outputs": [
    {
     "data": {
      "text/plain": [
       "<function str.split(sep=None, maxsplit=-1)>"
      ]
     },
     "execution_count": 28,
     "metadata": {},
     "output_type": "execute_result"
    }
   ],
   "source": [
    "getattr(a,'split')"
   ]
  },
  {
   "cell_type": "code",
   "execution_count": 29,
   "id": "2ebbc707-3221-41fe-a7f1-74fb5979b5c3",
   "metadata": {},
   "outputs": [],
   "source": [
    "a_list = ['foo',2,[4,5]]"
   ]
  },
  {
   "cell_type": "code",
   "execution_count": 30,
   "id": "9ada6de9-4740-4350-be9d-00652d233115",
   "metadata": {},
   "outputs": [
    {
     "data": {
      "text/plain": [
       "'foo'"
      ]
     },
     "execution_count": 30,
     "metadata": {},
     "output_type": "execute_result"
    }
   ],
   "source": [
    "a_list[0]"
   ]
  },
  {
   "cell_type": "code",
   "execution_count": 31,
   "id": "c3585e5d-a943-41df-b665-29565739629e",
   "metadata": {},
   "outputs": [],
   "source": [
    "a_list[2] = (3,4)"
   ]
  },
  {
   "cell_type": "code",
   "execution_count": 32,
   "id": "bea9d438-403f-4c64-bbea-7c0924a98a86",
   "metadata": {},
   "outputs": [
    {
     "data": {
      "text/plain": [
       "['foo', 2, (3, 4)]"
      ]
     },
     "execution_count": 32,
     "metadata": {},
     "output_type": "execute_result"
    }
   ],
   "source": [
    "a_list"
   ]
  },
  {
   "cell_type": "code",
   "execution_count": 33,
   "id": "ca00fc9d-2952-4ca6-9f71-209aaae3cf46",
   "metadata": {},
   "outputs": [],
   "source": [
    "ival = 17239871"
   ]
  },
  {
   "cell_type": "code",
   "execution_count": 34,
   "id": "c2f1ee80-5551-4b31-891b-ac55acbb9fca",
   "metadata": {},
   "outputs": [
    {
     "data": {
      "text/plain": [
       "26254519291092456596965462913230729701102721"
      ]
     },
     "execution_count": 34,
     "metadata": {},
     "output_type": "execute_result"
    }
   ],
   "source": [
    "ival**6"
   ]
  },
  {
   "cell_type": "code",
   "execution_count": 35,
   "id": "dcee3d0b-ef79-4882-a0a3-8afae61b20e1",
   "metadata": {},
   "outputs": [],
   "source": [
    "fval = 7.243"
   ]
  },
  {
   "cell_type": "code",
   "execution_count": 36,
   "id": "387236a4-2c4a-47d0-aa14-d633cb326373",
   "metadata": {},
   "outputs": [],
   "source": [
    "fval2 = 6.78e-5"
   ]
  },
  {
   "cell_type": "code",
   "execution_count": 37,
   "id": "566d9482-cfea-4849-9728-302ec5d52120",
   "metadata": {},
   "outputs": [
    {
     "data": {
      "text/plain": [
       "1.5"
      ]
     },
     "execution_count": 37,
     "metadata": {},
     "output_type": "execute_result"
    }
   ],
   "source": [
    "3/2"
   ]
  },
  {
   "cell_type": "code",
   "execution_count": 38,
   "id": "2385597f-80f1-4719-a4de-e732cee73cee",
   "metadata": {},
   "outputs": [
    {
     "data": {
      "text/plain": [
       "1"
      ]
     },
     "execution_count": 38,
     "metadata": {},
     "output_type": "execute_result"
    }
   ],
   "source": [
    "3//2"
   ]
  },
  {
   "cell_type": "code",
   "execution_count": 39,
   "id": "3c4f0e38-ab69-46e3-814e-4f3aad5c211a",
   "metadata": {},
   "outputs": [],
   "source": [
    "a = 'one way of writing a string'\n",
    "b = 'another way'"
   ]
  },
  {
   "cell_type": "code",
   "execution_count": 40,
   "id": "2f423ec0-d62d-4acc-8905-8aaf6ee5c333",
   "metadata": {},
   "outputs": [],
   "source": [
    "c = \"\"\"\n",
    "this is a longer string that\n",
    "spans multiple lines\n",
    "\"\"\""
   ]
  },
  {
   "cell_type": "code",
   "execution_count": 41,
   "id": "09242e46-bde4-47bd-8218-07ccb5bda6f3",
   "metadata": {},
   "outputs": [
    {
     "data": {
      "text/plain": [
       "'\\nthis is a longer string that\\nspans multiple lines\\n'"
      ]
     },
     "execution_count": 41,
     "metadata": {},
     "output_type": "execute_result"
    }
   ],
   "source": [
    "c"
   ]
  },
  {
   "cell_type": "code",
   "execution_count": 42,
   "id": "9d422418-14a0-4ffb-91ae-9cdfee5e10c5",
   "metadata": {},
   "outputs": [
    {
     "data": {
      "text/plain": [
       "3"
      ]
     },
     "execution_count": 42,
     "metadata": {},
     "output_type": "execute_result"
    }
   ],
   "source": [
    "c.count('\\n')"
   ]
  },
  {
   "cell_type": "code",
   "execution_count": 43,
   "id": "fe90c2a0-807f-47e2-801e-391f5a66612f",
   "metadata": {},
   "outputs": [],
   "source": [
    "a = 'this is a string'"
   ]
  },
  {
   "cell_type": "code",
   "execution_count": 44,
   "id": "2952755d-38e1-4ca0-95af-022e8210f4e8",
   "metadata": {},
   "outputs": [
    {
     "data": {
      "text/plain": [
       "'t'"
      ]
     },
     "execution_count": 44,
     "metadata": {},
     "output_type": "execute_result"
    }
   ],
   "source": [
    "a[0]"
   ]
  },
  {
   "cell_type": "code",
   "execution_count": 45,
   "id": "834e0744-2254-448d-8023-a4304d5b8e6d",
   "metadata": {},
   "outputs": [
    {
     "data": {
      "text/plain": [
       "'i'"
      ]
     },
     "execution_count": 45,
     "metadata": {},
     "output_type": "execute_result"
    }
   ],
   "source": [
    "a[5]"
   ]
  },
  {
   "cell_type": "code",
   "execution_count": 46,
   "id": "ded58954-7b0f-4464-ad66-1623174adb60",
   "metadata": {},
   "outputs": [
    {
     "ename": "TypeError",
     "evalue": "'str' object does not support item assignment",
     "output_type": "error",
     "traceback": [
      "\u001b[1;31m---------------------------------------------------------------------------\u001b[0m",
      "\u001b[1;31mTypeError\u001b[0m                                 Traceback (most recent call last)",
      "\u001b[1;32m<ipython-input-46-4280cec911f7>\u001b[0m in \u001b[0;36m<module>\u001b[1;34m\u001b[0m\n\u001b[1;32m----> 1\u001b[1;33m \u001b[0ma\u001b[0m\u001b[1;33m[\u001b[0m\u001b[1;36m10\u001b[0m\u001b[1;33m]\u001b[0m \u001b[1;33m=\u001b[0m \u001b[1;34m'F'\u001b[0m\u001b[1;33m\u001b[0m\u001b[1;33m\u001b[0m\u001b[0m\n\u001b[0m",
      "\u001b[1;31mTypeError\u001b[0m: 'str' object does not support item assignment"
     ]
    }
   ],
   "source": [
    "a[10] = 'F'"
   ]
  },
  {
   "cell_type": "code",
   "execution_count": null,
   "id": "8f8981ac-7d6b-4459-bce5-456735976f64",
   "metadata": {},
   "outputs": [],
   "source": [
    "a"
   ]
  },
  {
   "cell_type": "code",
   "execution_count": null,
   "id": "b2a6160c-4db5-44d7-bd7f-bd28b73d4434",
   "metadata": {},
   "outputs": [],
   "source": [
    "a = 5.6"
   ]
  },
  {
   "cell_type": "code",
   "execution_count": null,
   "id": "a13e13ad-1008-4016-90e6-cf58ccf3a088",
   "metadata": {},
   "outputs": [],
   "source": [
    "type(a)"
   ]
  },
  {
   "cell_type": "code",
   "execution_count": null,
   "id": "87a23aab-c27a-4804-af27-408645d5e2c0",
   "metadata": {},
   "outputs": [],
   "source": [
    "s= str(a)"
   ]
  },
  {
   "cell_type": "code",
   "execution_count": null,
   "id": "da100cc6-4d2c-4dbe-9b3f-9d60e24041e4",
   "metadata": {},
   "outputs": [],
   "source": [
    "type(s)"
   ]
  },
  {
   "cell_type": "code",
   "execution_count": null,
   "id": "655e52f0-cb23-4f94-b958-880490cec186",
   "metadata": {},
   "outputs": [],
   "source": [
    "print(s)"
   ]
  },
  {
   "cell_type": "code",
   "execution_count": null,
   "id": "340e43b7-13f4-409c-9dd4-8af92cac0f96",
   "metadata": {},
   "outputs": [],
   "source": [
    "s = 'python'"
   ]
  },
  {
   "cell_type": "code",
   "execution_count": null,
   "id": "78812f5f-8f9f-4533-b329-3a9b6dc5aefb",
   "metadata": {},
   "outputs": [],
   "source": [
    "list(s)"
   ]
  },
  {
   "cell_type": "code",
   "execution_count": null,
   "id": "f9765462-ba88-453d-b77d-bf9983854076",
   "metadata": {},
   "outputs": [],
   "source": [
    "s[:3]"
   ]
  },
  {
   "cell_type": "code",
   "execution_count": null,
   "id": "69e6fac1-122b-457d-8c47-64d9bac7973d",
   "metadata": {},
   "outputs": [],
   "source": [
    "s = '12\\\\34'"
   ]
  },
  {
   "cell_type": "code",
   "execution_count": null,
   "id": "85a9f426-4403-4c8b-aa28-ff6e4acaad14",
   "metadata": {},
   "outputs": [],
   "source": [
    "print(s)"
   ]
  },
  {
   "cell_type": "code",
   "execution_count": null,
   "id": "ddebee62-cd33-49d4-a59c-7910a7e8aeb0",
   "metadata": {},
   "outputs": [],
   "source": [
    "s = r'this\\has\\no\\special\\characters'"
   ]
  },
  {
   "cell_type": "code",
   "execution_count": null,
   "id": "2d6457f4-2c34-4dbc-9bde-25a28d420666",
   "metadata": {},
   "outputs": [],
   "source": [
    "s"
   ]
  },
  {
   "cell_type": "code",
   "execution_count": null,
   "id": "f626f557-0ede-4bc5-8b50-cf3e2892660b",
   "metadata": {},
   "outputs": [],
   "source": [
    "a='this is then first half'"
   ]
  },
  {
   "cell_type": "code",
   "execution_count": null,
   "id": "f5319b1d-f9b5-436b-ba8f-19c4ea112c76",
   "metadata": {},
   "outputs": [],
   "source": [
    "b=' and this is then second half'"
   ]
  },
  {
   "cell_type": "code",
   "execution_count": null,
   "id": "6b05a506-9ddf-4aee-a654-3d9ed590638d",
   "metadata": {},
   "outputs": [],
   "source": [
    "a  +b"
   ]
  },
  {
   "cell_type": "code",
   "execution_count": null,
   "id": "103ba138-8332-4fe1-86e0-a8e415d82cbd",
   "metadata": {},
   "outputs": [],
   "source": [
    "template = '{0:.2f} {1:s} are worth US${2:d}'"
   ]
  },
  {
   "cell_type": "code",
   "execution_count": null,
   "id": "754e21aa-dd14-44e7-95ab-aedc05ab492e",
   "metadata": {},
   "outputs": [],
   "source": [
    "template.format(4.5560, 'Argentine pesos', 1)"
   ]
  },
  {
   "cell_type": "code",
   "execution_count": null,
   "id": "38764126-b7a3-412c-8138-ead419b69b2e",
   "metadata": {},
   "outputs": [],
   "source": [
    "True and True"
   ]
  },
  {
   "cell_type": "code",
   "execution_count": null,
   "id": "c124e358-e7f7-4097-90df-961eebf6580f",
   "metadata": {},
   "outputs": [],
   "source": [
    "False and True"
   ]
  },
  {
   "cell_type": "code",
   "execution_count": null,
   "id": "5ea59ed5-5229-44a9-8dad-b7579c8ecbd0",
   "metadata": {},
   "outputs": [],
   "source": [
    "False or True"
   ]
  },
  {
   "cell_type": "code",
   "execution_count": null,
   "id": "55a1fd8d-2dea-480d-8e4b-957a05128461",
   "metadata": {},
   "outputs": [],
   "source": [
    "False and False"
   ]
  },
  {
   "cell_type": "code",
   "execution_count": null,
   "id": "5a4d447a-8e34-4b48-bf9e-719890bfeaed",
   "metadata": {},
   "outputs": [],
   "source": [
    "s='3.14159'"
   ]
  },
  {
   "cell_type": "code",
   "execution_count": null,
   "id": "e2cf41ff-9809-4708-bd21-484248acdba3",
   "metadata": {},
   "outputs": [],
   "source": [
    "fval = float(s)"
   ]
  },
  {
   "cell_type": "code",
   "execution_count": null,
   "id": "e8c83656-d878-4334-9012-d2f244caf95d",
   "metadata": {},
   "outputs": [],
   "source": [
    "fval"
   ]
  },
  {
   "cell_type": "code",
   "execution_count": null,
   "id": "354f340c-1855-49e5-81ca-6e7b8ca85713",
   "metadata": {},
   "outputs": [],
   "source": [
    "type(fval)"
   ]
  },
  {
   "cell_type": "code",
   "execution_count": null,
   "id": "93724326-869a-421a-942a-ef1436b184bc",
   "metadata": {},
   "outputs": [],
   "source": [
    "int(fval)"
   ]
  },
  {
   "cell_type": "code",
   "execution_count": null,
   "id": "ba52fcd0-8b9e-44b9-a04c-46527c05cb84",
   "metadata": {},
   "outputs": [],
   "source": [
    "def add_and_maybe_multiply(a,b,c=None):\n",
    "    result = a + b\n",
    "    if c is not None:\n",
    "        result =  result * c\n",
    "    return result"
   ]
  },
  {
   "cell_type": "code",
   "execution_count": null,
   "id": "10eaeaad-9835-47c5-967f-1b8b0543b90b",
   "metadata": {},
   "outputs": [],
   "source": [
    "add_and_maybe_multiply(2,3,None)"
   ]
  },
  {
   "cell_type": "code",
   "execution_count": null,
   "id": "fafc7a82-09fd-41a0-9a1d-5ff8eea9d1cb",
   "metadata": {},
   "outputs": [],
   "source": [
    "from datetime import datetime,date,time"
   ]
  },
  {
   "cell_type": "code",
   "execution_count": null,
   "id": "61c696aa-be0e-483f-a71a-c78215ab2542",
   "metadata": {},
   "outputs": [],
   "source": [
    "dt = datetime(2011,10,29,20,30,21)"
   ]
  },
  {
   "cell_type": "code",
   "execution_count": null,
   "id": "6bd600a7-ccfd-462a-a2e6-df2abcf5f415",
   "metadata": {},
   "outputs": [],
   "source": [
    "dt"
   ]
  },
  {
   "cell_type": "code",
   "execution_count": null,
   "id": "4597c07e-891f-4fa9-9b56-100d98f458d7",
   "metadata": {},
   "outputs": [],
   "source": [
    "dt.day"
   ]
  },
  {
   "cell_type": "code",
   "execution_count": null,
   "id": "e1f587aa-6a2f-4b41-8985-1602c8873f6b",
   "metadata": {},
   "outputs": [],
   "source": [
    "dt.time"
   ]
  },
  {
   "cell_type": "code",
   "execution_count": null,
   "id": "47906d4f-fa2b-4b1c-bdd7-99932cd91851",
   "metadata": {},
   "outputs": [],
   "source": [
    "dt.minute"
   ]
  },
  {
   "cell_type": "code",
   "execution_count": null,
   "id": "8e7c78ad-f351-46d5-9245-9eb7eac539cd",
   "metadata": {},
   "outputs": [],
   "source": [
    "dt.hour"
   ]
  },
  {
   "cell_type": "code",
   "execution_count": null,
   "id": "59d27cc2-e233-473e-abb1-13223c083446",
   "metadata": {},
   "outputs": [],
   "source": [
    "dt.second"
   ]
  },
  {
   "cell_type": "code",
   "execution_count": null,
   "id": "4cf96668-e3ef-42b3-b73e-e566ff8defab",
   "metadata": {},
   "outputs": [],
   "source": [
    "dt.date()"
   ]
  },
  {
   "cell_type": "code",
   "execution_count": null,
   "id": "a8ee2ea7-4754-41b3-b717-ac9ce6126ba9",
   "metadata": {},
   "outputs": [],
   "source": [
    "dt.time()"
   ]
  },
  {
   "cell_type": "code",
   "execution_count": null,
   "id": "4eb6f0fa-5028-4234-91eb-1febba06a023",
   "metadata": {},
   "outputs": [],
   "source": [
    "dt.year"
   ]
  },
  {
   "cell_type": "code",
   "execution_count": null,
   "id": "c45cbf8c-bbfe-447f-942c-026d16184788",
   "metadata": {},
   "outputs": [],
   "source": [
    "dt.strftime('%Y/%m/%d %H:%M')"
   ]
  },
  {
   "cell_type": "code",
   "execution_count": null,
   "id": "880e9fb9-a5d0-494c-90af-07610917a831",
   "metadata": {},
   "outputs": [],
   "source": [
    "datetime.strptime('20091031','%Y%m%d')"
   ]
  },
  {
   "cell_type": "code",
   "execution_count": null,
   "id": "8bb565ab-2e4e-44da-a159-5feedb53dd4c",
   "metadata": {},
   "outputs": [],
   "source": [
    "dt.replace(minute = 0,second = 0)"
   ]
  },
  {
   "cell_type": "code",
   "execution_count": null,
   "id": "df8319c6-9212-45b3-bca7-abffd0ae6e4f",
   "metadata": {},
   "outputs": [],
   "source": [
    "dt2 = datetime(2011,11,15,22,30)"
   ]
  },
  {
   "cell_type": "code",
   "execution_count": null,
   "id": "a9df8ed6-a8cf-41fd-bcba-e374a31206b5",
   "metadata": {},
   "outputs": [],
   "source": [
    "delta = dt2 - dt"
   ]
  },
  {
   "cell_type": "code",
   "execution_count": null,
   "id": "42bea2ea-c26e-4595-ab09-8cd5720fc514",
   "metadata": {},
   "outputs": [],
   "source": [
    "delta"
   ]
  },
  {
   "cell_type": "code",
   "execution_count": null,
   "id": "8f8ed6c5-d4b2-44d4-b478-bdde5d558e57",
   "metadata": {},
   "outputs": [],
   "source": [
    "type(delta)"
   ]
  },
  {
   "cell_type": "code",
   "execution_count": null,
   "id": "4dbfc4a9-4fe4-4f4e-8840-e14a8ebe0ca6",
   "metadata": {},
   "outputs": [],
   "source": [
    "dt"
   ]
  },
  {
   "cell_type": "code",
   "execution_count": null,
   "id": "d2e6559a-b2ed-470f-bb59-eb83908f0f63",
   "metadata": {},
   "outputs": [],
   "source": [
    "dt + delta"
   ]
  },
  {
   "cell_type": "code",
   "execution_count": null,
   "id": "6ea5e49d-cdfe-4c7e-a7fe-b28e922ff8f7",
   "metadata": {},
   "outputs": [],
   "source": [
    "x = -1\n",
    "if x < 0:\n",
    "    print('Its negative')"
   ]
  },
  {
   "cell_type": "code",
   "execution_count": null,
   "id": "c39b55df-9716-4bb1-aaed-507d9431c123",
   "metadata": {},
   "outputs": [],
   "source": [
    "sequence = [1,2,None,4,None,5]\n",
    "total = 0\n",
    "for value in sequence:\n",
    "    if value is None:\n",
    "        continue\n",
    "    total += value"
   ]
  },
  {
   "cell_type": "code",
   "execution_count": null,
   "id": "cabf4986-f022-45e8-9146-f5828c9c09b3",
   "metadata": {},
   "outputs": [],
   "source": [
    "total"
   ]
  },
  {
   "cell_type": "code",
   "execution_count": null,
   "id": "3c03f99c-10b4-4374-8afc-fa73fb57cdf5",
   "metadata": {},
   "outputs": [],
   "source": [
    "sequence = [1,2,0,4,6,5,2,1]\n",
    "total_untile_5 = 0\n",
    "for value in sequence:\n",
    "    if value == 6:\n",
    "        break\n",
    "    total_untile_5 += value\n",
    "total_untile_5"
   ]
  },
  {
   "cell_type": "code",
   "execution_count": null,
   "id": "3b4323ef-4d70-446a-b039-411ff442d358",
   "metadata": {},
   "outputs": [],
   "source": [
    "for i in range(4):\n",
    "    for j in range(4):\n",
    "        if j > 1:\n",
    "            break\n",
    "        print((i,j))"
   ]
  },
  {
   "cell_type": "code",
   "execution_count": null,
   "id": "b856af5e-f793-4aba-ac76-e344a896fdc2",
   "metadata": {},
   "outputs": [],
   "source": [
    "x = 256\n",
    "total = 0\n",
    "while x > 0 :\n",
    "    if total > 500:\n",
    "        break\n",
    "    total += x\n",
    "    x = x//2\n",
    "x"
   ]
  },
  {
   "cell_type": "code",
   "execution_count": null,
   "id": "9267777c-c305-480f-ab02-384eee640586",
   "metadata": {},
   "outputs": [],
   "source": [
    "range(10)"
   ]
  },
  {
   "cell_type": "code",
   "execution_count": null,
   "id": "c3c20e7f-d468-4e42-b953-757e7cce90a5",
   "metadata": {},
   "outputs": [],
   "source": [
    "seq = [1,2,3,4]\n",
    "for i in range(len(seq)):\n",
    "    val = seq[i]"
   ]
  },
  {
   "cell_type": "code",
   "execution_count": null,
   "id": "f0aeaa4a-7164-4dfa-8ac8-2a27decdb855",
   "metadata": {},
   "outputs": [],
   "source": [
    "sum = 0\n",
    "for i in range(6):\n",
    "    if i%3 == 0 or i%5 == 0:\n",
    "        sum += i\n",
    "sum"
   ]
  },
  {
   "cell_type": "code",
   "execution_count": null,
   "id": "5f565eda-3606-4947-aa37-176bcdd10f23",
   "metadata": {},
   "outputs": [],
   "source": [
    "x = 5\n",
    "'NON-NEGATIVE' if x >= 0 else 'NEGATIVE'"
   ]
  },
  {
   "cell_type": "code",
   "execution_count": null,
   "id": "0ab1ba17-badf-4629-98a3-1be61e57fc59",
   "metadata": {},
   "outputs": [],
   "source": [
    "tup = 4,5,6"
   ]
  },
  {
   "cell_type": "code",
   "execution_count": null,
   "id": "d77759b6-e530-4ee7-899a-ee139cd85e55",
   "metadata": {},
   "outputs": [],
   "source": [
    "tup"
   ]
  },
  {
   "cell_type": "code",
   "execution_count": null,
   "id": "51353c7d-2cf1-48b0-a88d-23f9493644ab",
   "metadata": {},
   "outputs": [],
   "source": [
    "nested_tup = ((4,5,6),(7,8))"
   ]
  },
  {
   "cell_type": "code",
   "execution_count": null,
   "id": "38dcd94a-bf53-4762-a013-167bb497d708",
   "metadata": {},
   "outputs": [],
   "source": [
    "nested_tup"
   ]
  },
  {
   "cell_type": "code",
   "execution_count": null,
   "id": "2c88efa0-0034-4272-8480-a1b631ec7145",
   "metadata": {},
   "outputs": [],
   "source": [
    "tuple([4,5,6])"
   ]
  },
  {
   "cell_type": "code",
   "execution_count": null,
   "id": "11c81643-1c39-4bd1-aa07-5edcab496c47",
   "metadata": {},
   "outputs": [],
   "source": [
    "tup = tuple('string')"
   ]
  },
  {
   "cell_type": "code",
   "execution_count": null,
   "id": "75513941-bd5a-473a-90d7-f68f0e07ed30",
   "metadata": {},
   "outputs": [],
   "source": [
    "tup"
   ]
  },
  {
   "cell_type": "code",
   "execution_count": null,
   "id": "e711a7a5-bd7c-4988-86e8-392350b687f9",
   "metadata": {},
   "outputs": [],
   "source": [
    "tup[0]"
   ]
  },
  {
   "cell_type": "code",
   "execution_count": null,
   "id": "72314e63-b37b-4c2a-a0a4-11d42ea7c5de",
   "metadata": {},
   "outputs": [],
   "source": [
    "tup = tuple(['foo',[1,2],True])"
   ]
  },
  {
   "cell_type": "code",
   "execution_count": null,
   "id": "8932127c-a4c4-4b55-a4fc-6de8c5b12100",
   "metadata": {},
   "outputs": [],
   "source": [
    "tup"
   ]
  },
  {
   "cell_type": "code",
   "execution_count": null,
   "id": "49938f5e-5e6c-4cde-b436-a88a78613c04",
   "metadata": {},
   "outputs": [],
   "source": [
    "tup[2]"
   ]
  },
  {
   "cell_type": "code",
   "execution_count": null,
   "id": "3266c24d-3b13-4be8-a034-efadf9273bc5",
   "metadata": {},
   "outputs": [],
   "source": [
    "tup[2] = False"
   ]
  },
  {
   "cell_type": "code",
   "execution_count": null,
   "id": "410744c6-a2fa-4e57-b497-127b5c990a81",
   "metadata": {},
   "outputs": [],
   "source": [
    "tup"
   ]
  },
  {
   "cell_type": "code",
   "execution_count": null,
   "id": "2d78bbbf-fb69-4f11-aee5-fa34870e8ccb",
   "metadata": {},
   "outputs": [],
   "source": [
    "tup[1].append(3)"
   ]
  },
  {
   "cell_type": "code",
   "execution_count": null,
   "id": "4fe7d3c5-9f7c-4036-995e-12acb4cafc90",
   "metadata": {},
   "outputs": [],
   "source": [
    "tup"
   ]
  },
  {
   "cell_type": "code",
   "execution_count": null,
   "id": "18b9006a-5195-4d6f-9990-be2b8c540b76",
   "metadata": {},
   "outputs": [],
   "source": [
    "(4,None,'foo')+(6,0)"
   ]
  },
  {
   "cell_type": "code",
   "execution_count": null,
   "id": "c8d99035-05a9-416e-b7f0-a17f23df7715",
   "metadata": {},
   "outputs": [],
   "source": [
    "tup = (4,5,6)"
   ]
  },
  {
   "cell_type": "code",
   "execution_count": null,
   "id": "c865cdd7-b53f-46e0-8de5-6794c24c47fb",
   "metadata": {},
   "outputs": [],
   "source": [
    "a,b,c = tup"
   ]
  },
  {
   "cell_type": "code",
   "execution_count": null,
   "id": "5acc6bee-e380-46bd-a4a3-4f86f292ac52",
   "metadata": {},
   "outputs": [],
   "source": [
    "a"
   ]
  },
  {
   "cell_type": "code",
   "execution_count": null,
   "id": "0ee4053d-e8ff-4ce1-907c-7fe54ea18c4d",
   "metadata": {},
   "outputs": [],
   "source": [
    "b"
   ]
  },
  {
   "cell_type": "code",
   "execution_count": null,
   "id": "7acd5ea2-196d-44a2-8f8e-484da0a507a1",
   "metadata": {},
   "outputs": [],
   "source": [
    "tup = 4,5,(6,7)"
   ]
  },
  {
   "cell_type": "code",
   "execution_count": null,
   "id": "da0e059f-a6a7-48cf-862e-2f2c908a0c10",
   "metadata": {},
   "outputs": [],
   "source": [
    "a,b,(c,d) = tup"
   ]
  },
  {
   "cell_type": "code",
   "execution_count": null,
   "id": "ebfa6265-2701-42d5-8053-1f278dc12276",
   "metadata": {},
   "outputs": [],
   "source": [
    "d"
   ]
  },
  {
   "cell_type": "code",
   "execution_count": null,
   "id": "b3f303c5-a596-4d20-b177-b911bc23229d",
   "metadata": {},
   "outputs": [],
   "source": [
    "a,b = 1,2"
   ]
  },
  {
   "cell_type": "code",
   "execution_count": null,
   "id": "701c91a9-fe76-4899-adf6-b4e787912ace",
   "metadata": {},
   "outputs": [],
   "source": [
    "a"
   ]
  },
  {
   "cell_type": "code",
   "execution_count": null,
   "id": "32748b3b-6ce1-4667-b928-51bc337dcf77",
   "metadata": {},
   "outputs": [],
   "source": [
    "b,a = a,b"
   ]
  },
  {
   "cell_type": "code",
   "execution_count": null,
   "id": "80230551-3ec4-447e-84d5-c16f5bba82ca",
   "metadata": {},
   "outputs": [],
   "source": [
    "a"
   ]
  },
  {
   "cell_type": "code",
   "execution_count": null,
   "id": "96a38c7b-916b-4aa9-b74f-07b6eb5db9d3",
   "metadata": {},
   "outputs": [],
   "source": [
    "seq = [(1,2,3),(4,5,6),(6,7,8)]"
   ]
  },
  {
   "cell_type": "code",
   "execution_count": null,
   "id": "b448ad4a-5bd0-4fe2-af8c-90e0ed861fe1",
   "metadata": {},
   "outputs": [],
   "source": [
    "for a,b,c in seq :\n",
    "    print('a = {0},b={1},c={2}'.format(a,b,c))"
   ]
  },
  {
   "cell_type": "code",
   "execution_count": null,
   "id": "1f765cc7-6524-44c9-855b-0bb845fd856b",
   "metadata": {},
   "outputs": [],
   "source": [
    "values = 1,2,3,4,5,6"
   ]
  },
  {
   "cell_type": "code",
   "execution_count": null,
   "id": "77862cf7-80ac-42ba-97cd-02eea27a19d0",
   "metadata": {},
   "outputs": [],
   "source": [
    "a,b,*_= values"
   ]
  },
  {
   "cell_type": "code",
   "execution_count": null,
   "id": "837357ef-4b15-41d3-92e2-4e2bb44e1718",
   "metadata": {},
   "outputs": [],
   "source": [
    "a"
   ]
  },
  {
   "cell_type": "code",
   "execution_count": null,
   "id": "a01fca84-5b2b-433b-881e-9b782c3a8ae1",
   "metadata": {},
   "outputs": [],
   "source": [
    "b"
   ]
  },
  {
   "cell_type": "code",
   "execution_count": null,
   "id": "a42dae5f-89bb-4115-b99a-7af03c215db4",
   "metadata": {},
   "outputs": [],
   "source": [
    "_"
   ]
  },
  {
   "cell_type": "code",
   "execution_count": null,
   "id": "a46febef-c802-4c4d-aee5-d4ce80b15290",
   "metadata": {},
   "outputs": [],
   "source": [
    "a = (1,2,2,2,3,4,2)"
   ]
  },
  {
   "cell_type": "code",
   "execution_count": null,
   "id": "a57f4f02-32f3-42aa-9f55-bce9cfd485da",
   "metadata": {},
   "outputs": [],
   "source": [
    "a.count(2)"
   ]
  },
  {
   "cell_type": "code",
   "execution_count": null,
   "id": "e6a4e065-4f49-4e06-b6c9-d6caa8b62db7",
   "metadata": {},
   "outputs": [],
   "source": [
    "a_list = [2,3,7,None]"
   ]
  },
  {
   "cell_type": "code",
   "execution_count": null,
   "id": "335b1ee7-eaa8-4cfb-948d-910e789c1fa5",
   "metadata": {},
   "outputs": [],
   "source": [
    "tup = ('foo','bar','baz')"
   ]
  },
  {
   "cell_type": "code",
   "execution_count": null,
   "id": "884891c3-a2fd-4525-b81a-76bc18f0e616",
   "metadata": {},
   "outputs": [],
   "source": [
    "b_list = list(tup)"
   ]
  },
  {
   "cell_type": "code",
   "execution_count": null,
   "id": "ada8a2ec-e0d8-47df-be88-72305068c97e",
   "metadata": {},
   "outputs": [],
   "source": [
    "b_list"
   ]
  },
  {
   "cell_type": "code",
   "execution_count": null,
   "id": "572034de-b837-4dca-84f7-ff8e4d2a48e1",
   "metadata": {},
   "outputs": [],
   "source": [
    "b_list[1] = 'peekaboo'"
   ]
  },
  {
   "cell_type": "code",
   "execution_count": null,
   "id": "e213dd42-40c5-4507-8c60-d7b3b2791d3a",
   "metadata": {},
   "outputs": [],
   "source": [
    "b_list"
   ]
  },
  {
   "cell_type": "code",
   "execution_count": null,
   "id": "a6ffbd61-3f8a-4ebc-b475-2265b78a7f79",
   "metadata": {},
   "outputs": [],
   "source": [
    "gen = range(10)"
   ]
  },
  {
   "cell_type": "code",
   "execution_count": null,
   "id": "d914e21b-a8d7-47a4-b478-2e179e642fe3",
   "metadata": {},
   "outputs": [],
   "source": [
    "gen"
   ]
  },
  {
   "cell_type": "code",
   "execution_count": null,
   "id": "856eba67-979e-4139-9265-01a22913f876",
   "metadata": {},
   "outputs": [],
   "source": [
    "list(gen)"
   ]
  },
  {
   "cell_type": "code",
   "execution_count": null,
   "id": "bc039747-3fb0-48e2-a299-8cfd85120ebc",
   "metadata": {},
   "outputs": [],
   "source": [
    "b_list"
   ]
  },
  {
   "cell_type": "code",
   "execution_count": null,
   "id": "493d2135-8aac-48b5-8a1e-faf0342d11f9",
   "metadata": {},
   "outputs": [],
   "source": [
    "b_list.append('dwarf')"
   ]
  },
  {
   "cell_type": "code",
   "execution_count": null,
   "id": "d2c53402-ddb1-4bf4-bd07-6a35494270d5",
   "metadata": {},
   "outputs": [],
   "source": [
    "b_list"
   ]
  },
  {
   "cell_type": "code",
   "execution_count": null,
   "id": "5c91b3c3-5043-4e63-94cc-245cdc12bf7c",
   "metadata": {},
   "outputs": [],
   "source": [
    "b_list.insert(1,'red')"
   ]
  },
  {
   "cell_type": "code",
   "execution_count": null,
   "id": "d014e61b-efdf-4f7a-a9a9-7e36abdd9c23",
   "metadata": {},
   "outputs": [],
   "source": [
    "b_list"
   ]
  },
  {
   "cell_type": "code",
   "execution_count": null,
   "id": "d3d672a2-51fb-49cc-abe5-fdf101a3a21f",
   "metadata": {},
   "outputs": [],
   "source": [
    "b_list.pop(1)"
   ]
  },
  {
   "cell_type": "code",
   "execution_count": null,
   "id": "4d79a34f-9f39-4c3f-95d8-5e2213d7c9a4",
   "metadata": {},
   "outputs": [],
   "source": [
    "b_list"
   ]
  },
  {
   "cell_type": "code",
   "execution_count": null,
   "id": "d5271456-db8e-403a-adc5-9f14e2ec2651",
   "metadata": {},
   "outputs": [],
   "source": [
    "b_list.append('foo')"
   ]
  },
  {
   "cell_type": "code",
   "execution_count": null,
   "id": "a2f28dbe-ce12-4476-9c54-cde450681da1",
   "metadata": {},
   "outputs": [],
   "source": [
    "b_list"
   ]
  },
  {
   "cell_type": "code",
   "execution_count": null,
   "id": "d65f3bff-64db-4fa3-a640-a039f80304ee",
   "metadata": {},
   "outputs": [],
   "source": [
    "b_list.remove('foo')"
   ]
  },
  {
   "cell_type": "code",
   "execution_count": null,
   "id": "1b16735f-4086-4b94-aff8-cd33443d282a",
   "metadata": {},
   "outputs": [],
   "source": [
    "b_list"
   ]
  },
  {
   "cell_type": "code",
   "execution_count": null,
   "id": "4eddc325-f091-4db4-8494-02da9b6a3729",
   "metadata": {},
   "outputs": [],
   "source": [
    "'dwarf' in b_list"
   ]
  },
  {
   "cell_type": "code",
   "execution_count": null,
   "id": "d551ef1a-4bf1-44de-813c-2676da30e273",
   "metadata": {},
   "outputs": [],
   "source": [
    "[4,None,'foo'] + [7,8,(2,3)]"
   ]
  },
  {
   "cell_type": "code",
   "execution_count": null,
   "id": "ed0ab721-a22a-4bb8-927f-9924142c20ac",
   "metadata": {},
   "outputs": [],
   "source": [
    "x = [4,None,'foo']"
   ]
  },
  {
   "cell_type": "code",
   "execution_count": null,
   "id": "e0cd9672-e209-468b-a8bf-d39ce76047df",
   "metadata": {},
   "outputs": [],
   "source": []
  },
  {
   "cell_type": "code",
   "execution_count": null,
   "id": "85bae82f-0908-46ea-86f3-6adfd252c725",
   "metadata": {},
   "outputs": [],
   "source": []
  },
  {
   "cell_type": "code",
   "execution_count": null,
   "id": "50198716-6f70-4f8a-b9a1-08bbed322cd3",
   "metadata": {},
   "outputs": [],
   "source": [
    "x"
   ]
  },
  {
   "cell_type": "code",
   "execution_count": null,
   "id": "e5f4dcc7-8b27-4027-87fa-83dace86d5eb",
   "metadata": {},
   "outputs": [],
   "source": [
    "everything = []\n",
    "for chunk in list_of_lists:\n",
    "    everything.extend(chunk)"
   ]
  },
  {
   "cell_type": "code",
   "execution_count": null,
   "id": "ec1fe266-ec7b-45cc-ba55-33d82f78e2d1",
   "metadata": {},
   "outputs": [],
   "source": [
    "a = [7,2,4,1,3]"
   ]
  },
  {
   "cell_type": "code",
   "execution_count": null,
   "id": "c196ab27-cf98-4acf-9619-59271cfccf0a",
   "metadata": {},
   "outputs": [],
   "source": [
    "a.sort()"
   ]
  },
  {
   "cell_type": "code",
   "execution_count": null,
   "id": "52188498-f8aa-447d-abd3-57a3c840e3c5",
   "metadata": {},
   "outputs": [],
   "source": [
    "a"
   ]
  },
  {
   "cell_type": "code",
   "execution_count": null,
   "id": "33178829-2833-4f34-b4d9-a1e7fda75ef8",
   "metadata": {},
   "outputs": [],
   "source": [
    "b = ['saw','small','he','foxes','six']"
   ]
  },
  {
   "cell_type": "code",
   "execution_count": null,
   "id": "b8011c1a-e134-4077-907a-07ed447417fb",
   "metadata": {},
   "outputs": [],
   "source": [
    "b.sort(key=len)"
   ]
  },
  {
   "cell_type": "code",
   "execution_count": null,
   "id": "88f15f45-c118-425f-816c-fe566ca18c65",
   "metadata": {},
   "outputs": [],
   "source": [
    "b"
   ]
  },
  {
   "cell_type": "code",
   "execution_count": null,
   "id": "0361e986-0545-4824-9db3-dcf8eef5f371",
   "metadata": {},
   "outputs": [],
   "source": [
    "import bisect"
   ]
  },
  {
   "cell_type": "code",
   "execution_count": null,
   "id": "085d48ac-0ec8-4f41-9e31-31b923f67edd",
   "metadata": {},
   "outputs": [],
   "source": [
    "c = [1,2,2,2,3,4,7]"
   ]
  },
  {
   "cell_type": "code",
   "execution_count": null,
   "id": "99885a3d-a46f-498e-9d83-c46d94907570",
   "metadata": {},
   "outputs": [],
   "source": [
    "bisect.bisect(c,2)"
   ]
  },
  {
   "cell_type": "code",
   "execution_count": null,
   "id": "8e633526-71ad-44f6-99d3-6ec8284fbb10",
   "metadata": {},
   "outputs": [],
   "source": [
    "c"
   ]
  },
  {
   "cell_type": "code",
   "execution_count": null,
   "id": "ac51ed4f-c99b-4a85-9a8a-efe0bab40569",
   "metadata": {},
   "outputs": [],
   "source": [
    "bisect.bisect(c,0)"
   ]
  },
  {
   "cell_type": "code",
   "execution_count": null,
   "id": "1ec0ccf0-01b6-45ff-97cc-9ec2ec7f8612",
   "metadata": {},
   "outputs": [],
   "source": [
    "bisect.bisect(c,1)"
   ]
  },
  {
   "cell_type": "code",
   "execution_count": null,
   "id": "e1b5ff5b-8eff-4408-8998-329ee8cbd978",
   "metadata": {},
   "outputs": [],
   "source": [
    "c"
   ]
  },
  {
   "cell_type": "code",
   "execution_count": null,
   "id": "faa1e0be-3804-4de9-8e93-245f52a8dd95",
   "metadata": {},
   "outputs": [],
   "source": [
    "seq = [7,2,3,7,5,6,0,1]"
   ]
  },
  {
   "cell_type": "code",
   "execution_count": null,
   "id": "da7ad964-9f4c-4c49-9794-7b27238e1077",
   "metadata": {},
   "outputs": [],
   "source": [
    "seq[1:5]"
   ]
  },
  {
   "cell_type": "code",
   "execution_count": null,
   "id": "fa8831b4-7daa-4a80-9bd9-9113f0fa9a8b",
   "metadata": {},
   "outputs": [],
   "source": [
    "seq[3:4] = [6,3]"
   ]
  },
  {
   "cell_type": "code",
   "execution_count": null,
   "id": "0485038f-5992-4505-989c-f0d3ea041481",
   "metadata": {},
   "outputs": [],
   "source": [
    "seq"
   ]
  },
  {
   "cell_type": "code",
   "execution_count": null,
   "id": "dc881f49-7a29-46c8-a5e2-0516d2ab28e5",
   "metadata": {},
   "outputs": [],
   "source": [
    "seq[:5]"
   ]
  },
  {
   "cell_type": "code",
   "execution_count": null,
   "id": "2a93e735-ae82-42f6-8177-350f603ec5b0",
   "metadata": {},
   "outputs": [],
   "source": [
    "seq[3:]"
   ]
  },
  {
   "cell_type": "code",
   "execution_count": null,
   "id": "a975e973-d781-4434-b251-27af4d816358",
   "metadata": {},
   "outputs": [],
   "source": [
    "seq[::2]"
   ]
  },
  {
   "cell_type": "code",
   "execution_count": null,
   "id": "ca47923d-97ea-4846-afb9-1991d0783ac9",
   "metadata": {},
   "outputs": [],
   "source": [
    "seq[::1]"
   ]
  },
  {
   "cell_type": "code",
   "execution_count": null,
   "id": "63924f3b-7e95-406f-aecf-0368235e63b3",
   "metadata": {},
   "outputs": [],
   "source": [
    "seq[::-1]"
   ]
  },
  {
   "cell_type": "code",
   "execution_count": null,
   "id": "5af7781e-e967-4e42-8a41-2d18c0d86300",
   "metadata": {},
   "outputs": [],
   "source": [
    "some_list = ['foo','bar','baz']"
   ]
  },
  {
   "cell_type": "code",
   "execution_count": null,
   "id": "a11ea8d4-7431-4069-812a-8ee6df6494b4",
   "metadata": {},
   "outputs": [],
   "source": [
    "mapping = {}"
   ]
  },
  {
   "cell_type": "code",
   "execution_count": null,
   "id": "5a6f43bd-f661-4f27-b0b1-d39c4c362e77",
   "metadata": {},
   "outputs": [],
   "source": [
    "for i ,v in enumerate(some_list):\n",
    "    mapping[v] = i"
   ]
  },
  {
   "cell_type": "code",
   "execution_count": null,
   "id": "36921855-b052-4c1e-9308-228639cbcd57",
   "metadata": {},
   "outputs": [],
   "source": [
    "mapping"
   ]
  },
  {
   "cell_type": "code",
   "execution_count": null,
   "id": "9396e122-6611-40d0-a9d8-a0286cff295d",
   "metadata": {},
   "outputs": [],
   "source": [
    "sorted([7,1,2,6,0,3,2])"
   ]
  },
  {
   "cell_type": "code",
   "execution_count": null,
   "id": "6f2ca622-1871-4975-aadb-2297aeed55b1",
   "metadata": {},
   "outputs": [],
   "source": [
    "sorted('horse race')"
   ]
  },
  {
   "cell_type": "code",
   "execution_count": null,
   "id": "d01113d4-4bc2-404b-b840-9262dfad0d09",
   "metadata": {},
   "outputs": [],
   "source": [
    "seq1 = ['foo','bar','baz']"
   ]
  },
  {
   "cell_type": "code",
   "execution_count": null,
   "id": "23eba318-ea40-472b-af0c-c3d029efb5ee",
   "metadata": {},
   "outputs": [],
   "source": [
    "seq2 = ['one','two','three']"
   ]
  },
  {
   "cell_type": "code",
   "execution_count": null,
   "id": "3b242491-e983-43a0-b63e-f4353d8edc33",
   "metadata": {},
   "outputs": [],
   "source": [
    "zipped = zip(seq1,seq2)"
   ]
  },
  {
   "cell_type": "code",
   "execution_count": null,
   "id": "f19e85b3-126e-468f-be5a-66f2d376e332",
   "metadata": {},
   "outputs": [],
   "source": [
    "list(zipped)"
   ]
  },
  {
   "cell_type": "code",
   "execution_count": null,
   "id": "1aea5d04-000d-406c-a9a6-6b9ce5e71be9",
   "metadata": {},
   "outputs": [],
   "source": [
    "seq3 = [False,True]"
   ]
  },
  {
   "cell_type": "code",
   "execution_count": null,
   "id": "fb760c3e-b5b9-48b6-9c9c-522c60953032",
   "metadata": {},
   "outputs": [],
   "source": [
    "list(zip(seq1,seq2,seq3))"
   ]
  },
  {
   "cell_type": "code",
   "execution_count": null,
   "id": "db90cc38-d2a2-4f98-8ef4-baeb3681f191",
   "metadata": {},
   "outputs": [],
   "source": [
    "for i ,(a,b) in enumerate(zip(seq1,seq2)):\n",
    "    print('{0}:{1},{2}'.format(i,a,b))"
   ]
  },
  {
   "cell_type": "code",
   "execution_count": null,
   "id": "09b37236-2168-4d74-8cb7-58aa84df1029",
   "metadata": {},
   "outputs": [],
   "source": [
    "pitchers = [('Nolan','Ryan'),('Roger','Clemens'),('Schilling','Curt')]"
   ]
  },
  {
   "cell_type": "code",
   "execution_count": null,
   "id": "5f735a24-a516-47b4-8e0a-7cb477db9a05",
   "metadata": {},
   "outputs": [],
   "source": [
    "first_names,last_names = zip(*pitchers)"
   ]
  },
  {
   "cell_type": "code",
   "execution_count": null,
   "id": "53f902b6-8a23-4711-a25b-b41c1858fe54",
   "metadata": {},
   "outputs": [],
   "source": [
    "first_names"
   ]
  },
  {
   "cell_type": "code",
   "execution_count": null,
   "id": "001ff44f-7b4c-486d-889b-4a284e47ec12",
   "metadata": {},
   "outputs": [],
   "source": [
    "last_names"
   ]
  },
  {
   "cell_type": "code",
   "execution_count": null,
   "id": "0773f1de-ffca-42c3-94ba-619fcf96d96a",
   "metadata": {},
   "outputs": [],
   "source": [
    "list(reversed(range(10)))"
   ]
  },
  {
   "cell_type": "code",
   "execution_count": null,
   "id": "3e22b55b-49cd-48cc-8b06-d9f99469940f",
   "metadata": {},
   "outputs": [],
   "source": [
    "empty_dict = {}"
   ]
  },
  {
   "cell_type": "code",
   "execution_count": null,
   "id": "781eeab4-f56c-475a-ace2-472699a49479",
   "metadata": {},
   "outputs": [],
   "source": [
    "d1 = {'a':'some value','b':[1,2,3,4]}"
   ]
  },
  {
   "cell_type": "code",
   "execution_count": null,
   "id": "401cb60a-90a6-4fc1-b77c-131325c6147e",
   "metadata": {},
   "outputs": [],
   "source": [
    "d1"
   ]
  },
  {
   "cell_type": "code",
   "execution_count": null,
   "id": "491cdf0a-822b-4afc-9518-457ff4ad3088",
   "metadata": {},
   "outputs": [],
   "source": [
    "d1[7] = 'an integer'"
   ]
  },
  {
   "cell_type": "code",
   "execution_count": null,
   "id": "bc45ba63-7729-44a8-883a-82cc48153a39",
   "metadata": {},
   "outputs": [],
   "source": [
    "d1"
   ]
  },
  {
   "cell_type": "code",
   "execution_count": null,
   "id": "e4c047f8-458f-49b0-9def-f2e98e704aa1",
   "metadata": {},
   "outputs": [],
   "source": [
    "d1['b']"
   ]
  },
  {
   "cell_type": "code",
   "execution_count": null,
   "id": "7926abe4-1a0a-410a-bb5c-13437aa34413",
   "metadata": {},
   "outputs": [],
   "source": [
    "d1[5] = 'some value'"
   ]
  },
  {
   "cell_type": "code",
   "execution_count": null,
   "id": "2ede366c-f545-43b7-a4d6-cc55a8498b4e",
   "metadata": {},
   "outputs": [],
   "source": [
    "d1"
   ]
  },
  {
   "cell_type": "code",
   "execution_count": null,
   "id": "d6d5d72a-6056-4145-b115-260632069639",
   "metadata": {},
   "outputs": [],
   "source": [
    "d1['dummy'] = 'another value'"
   ]
  },
  {
   "cell_type": "code",
   "execution_count": null,
   "id": "c446ce43-dc30-4ac9-b014-fd484df97755",
   "metadata": {},
   "outputs": [],
   "source": [
    "d1"
   ]
  },
  {
   "cell_type": "code",
   "execution_count": null,
   "id": "d62cd251-3fb0-4384-8634-e4199ece3c0c",
   "metadata": {},
   "outputs": [],
   "source": [
    "del d1[5]"
   ]
  },
  {
   "cell_type": "code",
   "execution_count": null,
   "id": "add2b6ea-b875-47f7-84bb-6af3bf9ee570",
   "metadata": {},
   "outputs": [],
   "source": [
    "d1"
   ]
  },
  {
   "cell_type": "code",
   "execution_count": null,
   "id": "4fbbcd88-4eee-47b5-b3cd-9b834d453195",
   "metadata": {},
   "outputs": [],
   "source": [
    "ret = d1.pop('dummy')"
   ]
  },
  {
   "cell_type": "code",
   "execution_count": null,
   "id": "3f655b71-e3cc-4eea-b9b6-e6b731903c6f",
   "metadata": {},
   "outputs": [],
   "source": [
    "ret"
   ]
  },
  {
   "cell_type": "code",
   "execution_count": null,
   "id": "6a97b970-9a1f-4210-b6fe-a78ddad05d71",
   "metadata": {},
   "outputs": [],
   "source": [
    "d1"
   ]
  },
  {
   "cell_type": "code",
   "execution_count": null,
   "id": "b8b88be8-d433-4f06-941e-ae952f8cc08a",
   "metadata": {},
   "outputs": [],
   "source": [
    "list(d1.keys())"
   ]
  },
  {
   "cell_type": "code",
   "execution_count": null,
   "id": "27d352a4-4ed3-422b-84ea-e25122dd331d",
   "metadata": {},
   "outputs": [],
   "source": [
    "list(d1.values())"
   ]
  },
  {
   "cell_type": "code",
   "execution_count": null,
   "id": "a2a97a4a-0372-4951-8805-a3c0171e001b",
   "metadata": {},
   "outputs": [],
   "source": [
    "d1.update({'b':'foo','c':12})"
   ]
  },
  {
   "cell_type": "code",
   "execution_count": null,
   "id": "946310c0-e68e-4b75-92d8-b307efb5c274",
   "metadata": {},
   "outputs": [],
   "source": [
    "d1"
   ]
  },
  {
   "cell_type": "code",
   "execution_count": null,
   "id": "ddfadac3-a9ef-40d4-8e6f-9e8d50e5ca76",
   "metadata": {},
   "outputs": [],
   "source": [
    "mapping = {}\n",
    "for key,value in zip(key_list,value_list):\n",
    "    mapping[key] = value"
   ]
  },
  {
   "cell_type": "code",
   "execution_count": null,
   "id": "e4cfafd9-676a-4cc6-9f84-ed160c4e1a26",
   "metadata": {},
   "outputs": [],
   "source": [
    "mapping = dict(zip(range(5),reversed(range(5))))"
   ]
  },
  {
   "cell_type": "code",
   "execution_count": null,
   "id": "c20a0e6a-9d15-4c34-9c9e-08dd7fac6ff0",
   "metadata": {},
   "outputs": [],
   "source": [
    "mapping"
   ]
  },
  {
   "cell_type": "code",
   "execution_count": null,
   "id": "38c2123c-87bb-4245-bd7e-e7de34b3301f",
   "metadata": {},
   "outputs": [],
   "source": [
    "words = ['apple','bat','bar','atom','book']"
   ]
  },
  {
   "cell_type": "code",
   "execution_count": null,
   "id": "8bc5a239-b148-4542-9e9f-60c1ff10c638",
   "metadata": {},
   "outputs": [],
   "source": [
    "by_letter = {}"
   ]
  },
  {
   "cell_type": "code",
   "execution_count": null,
   "id": "a0a15ab0-e354-45e6-8160-737eacc6634b",
   "metadata": {},
   "outputs": [],
   "source": []
  },
  {
   "cell_type": "code",
   "execution_count": null,
   "id": "4262bfdc-aba5-4fea-b2ae-bdf48aac817e",
   "metadata": {},
   "outputs": [],
   "source": [
    "from collections import defaultdict\n",
    "by_letter = defaultdict(list)\n",
    "for word in words:\n",
    "    by_letter[word[0]].append(word)"
   ]
  },
  {
   "cell_type": "code",
   "execution_count": null,
   "id": "095a01ce-ef91-438c-bd44-4eaa43a4f2eb",
   "metadata": {},
   "outputs": [],
   "source": [
    "by_letter"
   ]
  },
  {
   "cell_type": "code",
   "execution_count": null,
   "id": "7f39bdc0-1e9e-4dcf-800e-9f576af25827",
   "metadata": {},
   "outputs": [],
   "source": [
    "hash('string')"
   ]
  },
  {
   "cell_type": "code",
   "execution_count": null,
   "id": "07bc4932-f43b-4e52-b0c8-229640ec5007",
   "metadata": {},
   "outputs": [],
   "source": [
    "hash((1,2,[2,3]))"
   ]
  },
  {
   "cell_type": "code",
   "execution_count": null,
   "id": "7c4245e2-f1bd-43e4-97ba-9f7c0bd5bfa8",
   "metadata": {},
   "outputs": [],
   "source": [
    "d = {}\n",
    "d[tuple([1,2,3])] = 5\n",
    "d"
   ]
  },
  {
   "cell_type": "code",
   "execution_count": null,
   "id": "86ea3ad9-c12a-4446-8bc2-7c517e186b0f",
   "metadata": {},
   "outputs": [],
   "source": [
    "set([2,2,2,1,3,3])"
   ]
  },
  {
   "cell_type": "code",
   "execution_count": null,
   "id": "2bdc001f-a8a4-4260-96fa-c6afc91167eb",
   "metadata": {},
   "outputs": [],
   "source": [
    "{2,2,2,1,3,3}"
   ]
  },
  {
   "cell_type": "code",
   "execution_count": null,
   "id": "b67ccc2c-db65-4e21-ac9f-66afc53e06d8",
   "metadata": {},
   "outputs": [],
   "source": [
    "a = {1,2,3,4,5}\n",
    "b = {3,4,5,6,7,8,}"
   ]
  },
  {
   "cell_type": "code",
   "execution_count": null,
   "id": "b01ee3a0-61d5-45b0-87e7-5d564030a5c5",
   "metadata": {},
   "outputs": [],
   "source": [
    "a.union(b)"
   ]
  },
  {
   "cell_type": "code",
   "execution_count": null,
   "id": "bc3001e0-6e62-4a68-b3d5-ae7ccf558229",
   "metadata": {},
   "outputs": [],
   "source": [
    "a|b"
   ]
  },
  {
   "cell_type": "code",
   "execution_count": null,
   "id": "974e91b2-02b3-4e9e-b841-aa5fbfc7d1c0",
   "metadata": {},
   "outputs": [],
   "source": [
    "a.intersection(b)"
   ]
  },
  {
   "cell_type": "code",
   "execution_count": null,
   "id": "8a61257e-82ee-411b-9154-38159fd4e56a",
   "metadata": {},
   "outputs": [],
   "source": [
    "a&b"
   ]
  },
  {
   "cell_type": "code",
   "execution_count": null,
   "id": "faba98e8-0214-46d0-9609-917d271d8c04",
   "metadata": {},
   "outputs": [],
   "source": [
    "c = a.copy()"
   ]
  },
  {
   "cell_type": "code",
   "execution_count": null,
   "id": "75b18299-ce48-4ad2-957e-2dc88fb6aa0b",
   "metadata": {},
   "outputs": [],
   "source": [
    "c"
   ]
  },
  {
   "cell_type": "code",
   "execution_count": null,
   "id": "d04d5797-6f96-4ef5-b8ed-332cbf56c430",
   "metadata": {},
   "outputs": [],
   "source": [
    "c|=b"
   ]
  },
  {
   "cell_type": "code",
   "execution_count": null,
   "id": "f22b1a0c-f927-497e-a291-d5e63c7c96dc",
   "metadata": {},
   "outputs": [],
   "source": [
    "c"
   ]
  },
  {
   "cell_type": "code",
   "execution_count": null,
   "id": "11a9f608-f517-4403-8e66-10bf8a950dba",
   "metadata": {},
   "outputs": [],
   "source": [
    "my_data = [1,2,3,4]\n",
    "my_set = {tuple(my_data)}"
   ]
  },
  {
   "cell_type": "code",
   "execution_count": null,
   "id": "8826029f-a933-4a59-97d3-11f0cdff067c",
   "metadata": {},
   "outputs": [],
   "source": [
    "my_set"
   ]
  },
  {
   "cell_type": "code",
   "execution_count": null,
   "id": "e2ce69ee-4ed7-494d-842e-39992cce96fd",
   "metadata": {},
   "outputs": [],
   "source": [
    "a_set = {1,2,3,4,5}"
   ]
  },
  {
   "cell_type": "code",
   "execution_count": null,
   "id": "fce60659-73fe-4817-9f06-1a4ce29a6ec0",
   "metadata": {},
   "outputs": [],
   "source": [
    "{1,2,3}.issubset(a_set)"
   ]
  },
  {
   "cell_type": "code",
   "execution_count": null,
   "id": "1dfbe524-0aaa-410d-8428-68f6a24e3ca0",
   "metadata": {},
   "outputs": [],
   "source": [
    "{1,2,3} == {3,2,1}"
   ]
  },
  {
   "cell_type": "code",
   "execution_count": null,
   "id": "75dfcb10-3df0-4acb-a918-834bccdf3b54",
   "metadata": {},
   "outputs": [],
   "source": [
    "strings = ['a','as','bat','car','dove','python']"
   ]
  },
  {
   "cell_type": "code",
   "execution_count": null,
   "id": "d555eb70-34b8-48a1-9740-b2ea0b76a2ba",
   "metadata": {},
   "outputs": [],
   "source": [
    "[x.upper() for x in strings if len(x) > 2]"
   ]
  },
  {
   "cell_type": "code",
   "execution_count": null,
   "id": "3ba1da1f-872a-475c-ae83-9c8e5546263e",
   "metadata": {},
   "outputs": [],
   "source": [
    "unique_lengths = {len(x) for x in strings}"
   ]
  },
  {
   "cell_type": "code",
   "execution_count": null,
   "id": "7a116955-5b2d-40f2-8c54-064c72c9bc34",
   "metadata": {},
   "outputs": [],
   "source": [
    "unique_lengths"
   ]
  },
  {
   "cell_type": "code",
   "execution_count": null,
   "id": "c614dbb9-ba68-4b87-8671-807b352d3fc2",
   "metadata": {},
   "outputs": [],
   "source": [
    "set(map(len,strings))"
   ]
  },
  {
   "cell_type": "code",
   "execution_count": null,
   "id": "91401b40-b1d4-403c-a196-996fa7583594",
   "metadata": {},
   "outputs": [],
   "source": [
    "loc_mapping = {val:index for index,val in enumerate(strings)}"
   ]
  },
  {
   "cell_type": "code",
   "execution_count": null,
   "id": "4180fe81-d06a-4f8c-a3a3-2385073c8897",
   "metadata": {},
   "outputs": [],
   "source": [
    "loc_mapping"
   ]
  },
  {
   "cell_type": "code",
   "execution_count": null,
   "id": "071ceaae-d35c-46f5-861e-5befd388f5d9",
   "metadata": {},
   "outputs": [],
   "source": [
    "all_data = [['John','Emily','Michael','Mary','Steven'],['Maria','Juan','Javier','Natalia','Pilar']]"
   ]
  },
  {
   "cell_type": "code",
   "execution_count": null,
   "id": "5d70c711-b69d-4f69-ac1b-fb7c5434a663",
   "metadata": {},
   "outputs": [],
   "source": [
    "names_of_interest = []\n",
    "for names in all_data:\n",
    "    enouth_es = [name for name in names if name.count('e') >=2]\n",
    "    names_of_interest.extend(enouth_es)"
   ]
  },
  {
   "cell_type": "code",
   "execution_count": null,
   "id": "4a535ed6-e050-49c6-bf19-f197522c8cb0",
   "metadata": {},
   "outputs": [],
   "source": [
    "names_of_interest"
   ]
  },
  {
   "cell_type": "code",
   "execution_count": null,
   "id": "144765cd-6f47-45ff-850c-1a81ee079922",
   "metadata": {},
   "outputs": [],
   "source": [
    "result = [name for names in all_data for name in names if name.count('e') >=2]"
   ]
  },
  {
   "cell_type": "code",
   "execution_count": null,
   "id": "86d9668c-9584-4437-983a-f0a202bd84c3",
   "metadata": {},
   "outputs": [],
   "source": [
    "result"
   ]
  },
  {
   "cell_type": "code",
   "execution_count": null,
   "id": "d4e7f2c3-31e0-465e-a3a5-392d5d72c971",
   "metadata": {},
   "outputs": [],
   "source": [
    "some_tuples = [(1,2,3),(4,5,6),(7,8,9)]"
   ]
  },
  {
   "cell_type": "code",
   "execution_count": null,
   "id": "b4c75d6a-8675-4dff-a24a-d1b8bfc6dc5c",
   "metadata": {},
   "outputs": [],
   "source": [
    "flattened = [x for tup in some_tuples for x in tup]"
   ]
  },
  {
   "cell_type": "code",
   "execution_count": null,
   "id": "b12ca617-cbaa-458d-82a3-c6a52363d6e9",
   "metadata": {},
   "outputs": [],
   "source": [
    "flattened"
   ]
  },
  {
   "cell_type": "code",
   "execution_count": null,
   "id": "894e7103-df3b-4c79-9afc-741b2702d9ab",
   "metadata": {},
   "outputs": [],
   "source": [
    "flattened = []"
   ]
  },
  {
   "cell_type": "code",
   "execution_count": null,
   "id": "21a0578e-4e35-4d20-ba0b-3f303ce649b2",
   "metadata": {},
   "outputs": [],
   "source": [
    "for tup in some_tuples:\n",
    "    for x in tup:\n",
    "        flattened.append(x)"
   ]
  },
  {
   "cell_type": "code",
   "execution_count": null,
   "id": "0a152ae3-cb77-4b18-99c8-bbb7ad3763b2",
   "metadata": {},
   "outputs": [],
   "source": [
    "flattened"
   ]
  },
  {
   "cell_type": "code",
   "execution_count": null,
   "id": "704842c0-2033-4c46-b57f-3af649bea522",
   "metadata": {},
   "outputs": [],
   "source": [
    "[[x for x in tup] for tup in some_tuples]"
   ]
  },
  {
   "cell_type": "code",
   "execution_count": null,
   "id": "a76e503d-eaf2-41af-ac29-4ac879a2e0ef",
   "metadata": {},
   "outputs": [],
   "source": [
    "def my_function(x,y,z=1.5):\n",
    "    if z > 1:\n",
    "        return z*(x+y)\n",
    "    else :\n",
    "        return z/(x+y)"
   ]
  },
  {
   "cell_type": "code",
   "execution_count": null,
   "id": "b5ae03bc-7f22-4dcd-b5a4-da2dc1b91778",
   "metadata": {},
   "outputs": [],
   "source": [
    "my_function(3,6,3)"
   ]
  },
  {
   "cell_type": "code",
   "execution_count": null,
   "id": "507972e6-e42a-4ffe-9b23-02e0e9fc37ef",
   "metadata": {},
   "outputs": [],
   "source": [
    "a = None\n"
   ]
  },
  {
   "cell_type": "code",
   "execution_count": null,
   "id": "03ab06a8-ba89-4dbc-9765-871872f5431c",
   "metadata": {},
   "outputs": [],
   "source": [
    "def bind_a_variable():\n",
    "    global a\n",
    "    a = []\n",
    "bind_a_variable()"
   ]
  },
  {
   "cell_type": "code",
   "execution_count": null,
   "id": "a90c0cca-f290-4b3a-8edd-fd532c67534a",
   "metadata": {},
   "outputs": [],
   "source": [
    "print(a)"
   ]
  },
  {
   "cell_type": "code",
   "execution_count": null,
   "id": "ab7a31fc-19d3-44e2-a5fc-6312b2673c58",
   "metadata": {},
   "outputs": [],
   "source": [
    "states = ['Alabama','Georgia!','Georgia','georgia','FLOrIda','south carolina##','West virginia?']"
   ]
  },
  {
   "cell_type": "code",
   "execution_count": null,
   "id": "d39139fb-3f68-48cc-aefc-2b48aa10bc75",
   "metadata": {},
   "outputs": [],
   "source": [
    "import re"
   ]
  },
  {
   "cell_type": "code",
   "execution_count": null,
   "id": "655476d6-f8ea-42f0-931f-549dec32ae3a",
   "metadata": {},
   "outputs": [],
   "source": [
    "def clean_strings(strings):\n",
    "    result = []\n",
    "    for value in strings:\n",
    "        value = value.strip()\n",
    "        value = re.sub('[!#?]','',value)\n",
    "        value = value.title()\n",
    "        result.append(value)\n",
    "    return result"
   ]
  },
  {
   "cell_type": "code",
   "execution_count": null,
   "id": "96dbd530-bf2a-410a-8b19-aa5b07293564",
   "metadata": {},
   "outputs": [],
   "source": [
    "clean_strings(states)"
   ]
  },
  {
   "cell_type": "code",
   "execution_count": null,
   "id": "c90044c6-b1d2-4bae-8dbe-93970f2914d0",
   "metadata": {},
   "outputs": [],
   "source": [
    "def remove_punctuation(value):\n",
    "    return re.sub('[!#?]','',value)"
   ]
  },
  {
   "cell_type": "code",
   "execution_count": null,
   "id": "77454b98-f40e-46a1-97bb-35984851308c",
   "metadata": {},
   "outputs": [],
   "source": [
    "clean_ops = [str.strip,remove_punctuation,str.title]"
   ]
  },
  {
   "cell_type": "code",
   "execution_count": null,
   "id": "a8185e99-062d-4d52-bdcc-4dd5b3e94ea6",
   "metadata": {},
   "outputs": [],
   "source": [
    "def clean_strings(strings,ops):\n",
    "    result = []\n",
    "    for value in strings:\n",
    "        for function in ops:\n",
    "            value = function(ops)\n",
    "        result.append(value)\n",
    "    return result"
   ]
  },
  {
   "cell_type": "code",
   "execution_count": null,
   "id": "14806e22-0f78-4245-a77a-35420d166ce1",
   "metadata": {},
   "outputs": [],
   "source": [
    "clean_strings(states,clean_ops)"
   ]
  },
  {
   "cell_type": "code",
   "execution_count": null,
   "id": "9b59569b-4085-40db-8d75-5b1d676c78fa",
   "metadata": {},
   "outputs": [],
   "source": [
    "for x in map(remove_punctuation,states):\n",
    "    print(x)"
   ]
  },
  {
   "cell_type": "code",
   "execution_count": null,
   "id": "b276054e-d5d9-482c-a52b-8cb49df574cf",
   "metadata": {},
   "outputs": [],
   "source": [
    "\n",
    "strings = ['foo','card','bar','aaaa','abab']"
   ]
  },
  {
   "cell_type": "code",
   "execution_count": null,
   "id": "b7e31edc-58f3-40d7-9cac-2fe74786f24a",
   "metadata": {},
   "outputs": [],
   "source": [
    "strings.sort(key = lambda x:len(set(list(x))))"
   ]
  },
  {
   "cell_type": "code",
   "execution_count": null,
   "id": "c0a9a1d1-52fd-47d1-a8cf-26b4043f3f5b",
   "metadata": {},
   "outputs": [],
   "source": [
    "strings"
   ]
  },
  {
   "cell_type": "code",
   "execution_count": null,
   "id": "88632564-da98-401a-ae7e-91a8f04d123a",
   "metadata": {},
   "outputs": [],
   "source": [
    "some_dict = {'a' : 1 , 'b' : 2 , 'c' : 3}"
   ]
  },
  {
   "cell_type": "code",
   "execution_count": null,
   "id": "0dc76c22-35b1-4f7e-9a7d-54e9ad865ef2",
   "metadata": {
    "tags": []
   },
   "outputs": [],
   "source": [
    "for key in some_dict:\n",
    "    print(key)"
   ]
  },
  {
   "cell_type": "code",
   "execution_count": null,
   "id": "0f0b1daf-1a0d-4225-8d13-0f5e7622971b",
   "metadata": {},
   "outputs": [],
   "source": [
    "dict_iterator = iter(some_dict)"
   ]
  },
  {
   "cell_type": "code",
   "execution_count": null,
   "id": "ab088aec-f24d-4f5f-a5b6-6823de7a1196",
   "metadata": {},
   "outputs": [],
   "source": [
    "dict_iterator"
   ]
  },
  {
   "cell_type": "code",
   "execution_count": null,
   "id": "61cf56be-a017-4268-beb7-d34fb5265cef",
   "metadata": {},
   "outputs": [],
   "source": [
    "list(dict_iterator)"
   ]
  },
  {
   "cell_type": "code",
   "execution_count": null,
   "id": "70b9b9bf-c2cf-4306-ab18-8833849a66e1",
   "metadata": {},
   "outputs": [],
   "source": [
    "def square(n=10):\n",
    "    print('Generating squares from 1 to {0}'.format(n**2))\n",
    "    for i in range(1,n+1):\n",
    "        yield i**2"
   ]
  },
  {
   "cell_type": "code",
   "execution_count": null,
   "id": "fcd260e9-3bbb-4839-9e74-98ea0e176531",
   "metadata": {},
   "outputs": [],
   "source": [
    "gen = square()"
   ]
  },
  {
   "cell_type": "code",
   "execution_count": null,
   "id": "162b5b79-cdbd-4442-a6a7-6858904af934",
   "metadata": {},
   "outputs": [],
   "source": [
    "gen"
   ]
  },
  {
   "cell_type": "code",
   "execution_count": null,
   "id": "245119a1-d2b9-46a7-a0e5-2e258fe5b8d7",
   "metadata": {},
   "outputs": [],
   "source": [
    "for x in gen:\n",
    "    print(x,end='')"
   ]
  },
  {
   "cell_type": "code",
   "execution_count": null,
   "id": "c8b8f919-2127-4f98-976c-f08ad0a955be",
   "metadata": {},
   "outputs": [],
   "source": [
    "gen = (x**2 for x in range(100))"
   ]
  },
  {
   "cell_type": "code",
   "execution_count": null,
   "id": "bfeaef34-3498-409a-8a55-c462288b9b86",
   "metadata": {},
   "outputs": [],
   "source": [
    "list(gen)"
   ]
  },
  {
   "cell_type": "code",
   "execution_count": null,
   "id": "38cef089-ca0c-4bb1-a189-931b3cdf824f",
   "metadata": {},
   "outputs": [],
   "source": [
    "import itertools"
   ]
  },
  {
   "cell_type": "code",
   "execution_count": null,
   "id": "6ccbb3dc-05dd-4dce-8ca1-b7986d6384cc",
   "metadata": {},
   "outputs": [],
   "source": [
    "first_letter = lambda x:x[0]\n",
    "names = ['Alan','Adam','Wes','Will','Albert','Steven']\n"
   ]
  },
  {
   "cell_type": "code",
   "execution_count": null,
   "id": "980deec2-230e-4b14-b745-61faf8d912ba",
   "metadata": {},
   "outputs": [],
   "source": [
    "float('1.2345')"
   ]
  },
  {
   "cell_type": "code",
   "execution_count": null,
   "id": "b6ab179f-7804-4f9d-adb9-b8c65e1f8d43",
   "metadata": {},
   "outputs": [],
   "source": [
    "float('something')"
   ]
  },
  {
   "cell_type": "code",
   "execution_count": null,
   "id": "2ed57d3c-e36a-4927-9ab8-792051f16df4",
   "metadata": {},
   "outputs": [],
   "source": [
    "def attempt_float(x):\n",
    "    try:\n",
    "        return float(x)\n",
    "    except:\n",
    "        return x"
   ]
  },
  {
   "cell_type": "code",
   "execution_count": null,
   "id": "ca983a1b-cd91-44b0-8a8a-a076971727d0",
   "metadata": {},
   "outputs": [],
   "source": [
    "attempt_float('1.2345')"
   ]
  },
  {
   "cell_type": "code",
   "execution_count": null,
   "id": "772c724e-ce6d-4195-8c9c-b54c63604a56",
   "metadata": {},
   "outputs": [],
   "source": [
    "attempt_float('something')"
   ]
  },
  {
   "cell_type": "code",
   "execution_count": null,
   "id": "2a088a22-741d-4e9b-9b7d-2647f59d1db6",
   "metadata": {},
   "outputs": [],
   "source": [
    "def attempt_float(x):\n",
    "    try:\n",
    "        return float(x)\n",
    "    except (TypeError,ValueError):\n",
    "        return (x)"
   ]
  },
  {
   "cell_type": "code",
   "execution_count": null,
   "id": "a3070db3-51d3-4de2-96ce-2231efb4b944",
   "metadata": {},
   "outputs": [],
   "source": [
    "attempt_float((1,2))"
   ]
  },
  {
   "cell_type": "code",
   "execution_count": null,
   "id": "969ecfd4-fc6d-4ef4-8857-1ce6e80b1c6b",
   "metadata": {},
   "outputs": [],
   "source": [
    "import numpy as np"
   ]
  },
  {
   "cell_type": "code",
   "execution_count": null,
   "id": "43c32e07-0a75-43b5-bff9-847b45904e1c",
   "metadata": {},
   "outputs": [],
   "source": [
    "my_arr = np.arange(1000000)"
   ]
  },
  {
   "cell_type": "code",
   "execution_count": null,
   "id": "2ae01eff-b0ad-437b-a4a0-472751d0af67",
   "metadata": {},
   "outputs": [],
   "source": [
    "my_list = list(range(1000000))"
   ]
  },
  {
   "cell_type": "code",
   "execution_count": null,
   "id": "6436b19a-85b9-4d95-babc-eb95fe006862",
   "metadata": {},
   "outputs": [],
   "source": [
    "%time for _ in range(10):my_arr2 = my_arr*2"
   ]
  },
  {
   "cell_type": "code",
   "execution_count": null,
   "id": "a078b07b-ac49-4708-9d70-6a5f85314ca7",
   "metadata": {},
   "outputs": [],
   "source": [
    "%time for _ in range(10):my_list2 = [x*2 for x in my_list]"
   ]
  },
  {
   "cell_type": "code",
   "execution_count": null,
   "id": "7ff2e1ce-3273-4922-aa51-4bf152150906",
   "metadata": {},
   "outputs": [],
   "source": [
    "data = np.random.randn(2,3)"
   ]
  },
  {
   "cell_type": "code",
   "execution_count": null,
   "id": "b0c8ef29-8f40-4d2a-845f-c45e4b50f232",
   "metadata": {},
   "outputs": [],
   "source": [
    "data"
   ]
  },
  {
   "cell_type": "code",
   "execution_count": null,
   "id": "e6b45006-ef4f-461b-a55a-c4261f4d2e01",
   "metadata": {},
   "outputs": [],
   "source": [
    "data*10"
   ]
  },
  {
   "cell_type": "code",
   "execution_count": null,
   "id": "e745456c-03b8-444f-a69f-b8c5facfe2d5",
   "metadata": {},
   "outputs": [],
   "source": [
    "data + data"
   ]
  },
  {
   "cell_type": "code",
   "execution_count": null,
   "id": "507b2627-4529-4f9b-841e-5a4a545c408a",
   "metadata": {},
   "outputs": [],
   "source": [
    "data.shape"
   ]
  },
  {
   "cell_type": "code",
   "execution_count": null,
   "id": "569cbe1b-f35a-4e20-8fb2-082104b3aecd",
   "metadata": {},
   "outputs": [],
   "source": [
    "data.dtype"
   ]
  },
  {
   "cell_type": "code",
   "execution_count": null,
   "id": "f6afdcfe-80e8-44ed-8ecd-5b9d4a2b8c38",
   "metadata": {},
   "outputs": [],
   "source": [
    "data1 = [6,7.5,8,0,1]"
   ]
  },
  {
   "cell_type": "code",
   "execution_count": null,
   "id": "0ab8bb63-ac08-4864-8671-f0083e382399",
   "metadata": {},
   "outputs": [],
   "source": [
    "arr1 = np.array(data1)"
   ]
  },
  {
   "cell_type": "code",
   "execution_count": null,
   "id": "fa0576b0-091b-4670-afe6-f01d23c3da24",
   "metadata": {},
   "outputs": [],
   "source": [
    "arr1"
   ]
  },
  {
   "cell_type": "code",
   "execution_count": null,
   "id": "0466468f-be37-402b-9cef-dbddbc47e6e8",
   "metadata": {},
   "outputs": [],
   "source": [
    "data2 = [(1,2,3,4),[5,6,7,8,]]"
   ]
  },
  {
   "cell_type": "code",
   "execution_count": null,
   "id": "cdd877c2-78a8-46a2-aba7-8ba404b5dc04",
   "metadata": {},
   "outputs": [],
   "source": [
    "arr2 = np.array(data2)"
   ]
  },
  {
   "cell_type": "code",
   "execution_count": null,
   "id": "88aeccbd-0526-4990-8889-517a2c54b326",
   "metadata": {},
   "outputs": [],
   "source": [
    "arr2"
   ]
  },
  {
   "cell_type": "code",
   "execution_count": null,
   "id": "50fe0686-4cb6-4b42-89f8-4d5a994eae6f",
   "metadata": {},
   "outputs": [],
   "source": [
    "np.zeros(10)"
   ]
  },
  {
   "cell_type": "code",
   "execution_count": null,
   "id": "46178288-ffbc-4a0e-8097-58b6716b49a6",
   "metadata": {},
   "outputs": [],
   "source": [
    "np.zeros(2)"
   ]
  },
  {
   "cell_type": "code",
   "execution_count": null,
   "id": "a7793c5c-19db-41ce-b30e-a03cc64f6070",
   "metadata": {},
   "outputs": [],
   "source": [
    "np.zeros((3,6))"
   ]
  },
  {
   "cell_type": "code",
   "execution_count": null,
   "id": "83ab74a8-1c63-42dc-bcc8-a96badabf318",
   "metadata": {},
   "outputs": [],
   "source": [
    "np.zeros((2,3,2))"
   ]
  },
  {
   "cell_type": "code",
   "execution_count": null,
   "id": "80da045d-a017-4328-ac00-41febbc2cd1e",
   "metadata": {},
   "outputs": [],
   "source": [
    "np.arange(15)"
   ]
  },
  {
   "cell_type": "code",
   "execution_count": null,
   "id": "6091182d-a17f-4c11-8eae-53e23c46761e",
   "metadata": {},
   "outputs": [],
   "source": [
    "arr1 = np.array([1,2,3],dtype = np.int32)"
   ]
  },
  {
   "cell_type": "code",
   "execution_count": null,
   "id": "938f68bc-e5ae-4b17-b9d9-b7f422bbcae6",
   "metadata": {},
   "outputs": [],
   "source": [
    "arr1.dtype"
   ]
  },
  {
   "cell_type": "code",
   "execution_count": null,
   "id": "40a1ccc5-21e5-4c7f-8a71-cd8d9ad2c4e7",
   "metadata": {},
   "outputs": [],
   "source": [
    "arr = np.array([1,2,3,4,5])"
   ]
  },
  {
   "cell_type": "code",
   "execution_count": null,
   "id": "7ddb0fca-79f9-407c-8410-67e8910f7cb9",
   "metadata": {},
   "outputs": [],
   "source": [
    "arr"
   ]
  },
  {
   "cell_type": "code",
   "execution_count": null,
   "id": "c2aed7f6-3877-4d28-80f1-ed260cbec065",
   "metadata": {},
   "outputs": [],
   "source": [
    "float_arr = arr.astype(np.float64)"
   ]
  },
  {
   "cell_type": "code",
   "execution_count": null,
   "id": "5e1c7246-ede0-4dd7-8e0c-d9b57d7cc0cd",
   "metadata": {},
   "outputs": [],
   "source": [
    "float_arr"
   ]
  },
  {
   "cell_type": "code",
   "execution_count": null,
   "id": "8af3f9bc-eee7-41f2-8983-775861f39582",
   "metadata": {},
   "outputs": [],
   "source": [
    "float_arr.dtype"
   ]
  },
  {
   "cell_type": "code",
   "execution_count": null,
   "id": "4e7991db-89fb-4eb7-b571-13d51686e47f",
   "metadata": {},
   "outputs": [],
   "source": [
    "arr = np.array([3.7,-1.2,-2.6,0.5,12.9,10.1])"
   ]
  },
  {
   "cell_type": "code",
   "execution_count": null,
   "id": "1fe2110c-9dcb-490a-ab35-bd2db492e8e1",
   "metadata": {},
   "outputs": [],
   "source": [
    "arr"
   ]
  },
  {
   "cell_type": "code",
   "execution_count": null,
   "id": "de03625f-dc41-4cb7-976c-ff1ce49f44e6",
   "metadata": {},
   "outputs": [],
   "source": [
    "arr.astype(np.int32)"
   ]
  },
  {
   "cell_type": "code",
   "execution_count": null,
   "id": "75d0033a-a5b7-4143-88bd-30edd6387525",
   "metadata": {},
   "outputs": [],
   "source": [
    "arr = np.arange(10)"
   ]
  },
  {
   "cell_type": "code",
   "execution_count": null,
   "id": "e1b279e9-e58f-4cf4-8423-2e01d27dd716",
   "metadata": {},
   "outputs": [],
   "source": [
    "arr"
   ]
  },
  {
   "cell_type": "code",
   "execution_count": null,
   "id": "47daf875-788c-4c00-a129-c77ade63ab7d",
   "metadata": {},
   "outputs": [],
   "source": [
    "arr[0]"
   ]
  },
  {
   "cell_type": "code",
   "execution_count": null,
   "id": "8cd16d08-639a-4450-84ab-0dd0c6165604",
   "metadata": {},
   "outputs": [],
   "source": [
    "arr[1]"
   ]
  },
  {
   "cell_type": "code",
   "execution_count": null,
   "id": "a21bd42b-4773-4ad1-a9ac-f4d42f767ebb",
   "metadata": {},
   "outputs": [],
   "source": [
    "arr[5]"
   ]
  },
  {
   "cell_type": "code",
   "execution_count": null,
   "id": "bba2315c-656a-4bba-af61-06394bf7965f",
   "metadata": {},
   "outputs": [],
   "source": [
    "arr[5:8]"
   ]
  },
  {
   "cell_type": "code",
   "execution_count": null,
   "id": "e51b87f1-81a7-474b-ab87-153d3dc8b88a",
   "metadata": {},
   "outputs": [],
   "source": [
    "arr[5:8] = 12"
   ]
  },
  {
   "cell_type": "code",
   "execution_count": null,
   "id": "59bebf2b-e635-4e19-a82c-b4910c89693c",
   "metadata": {},
   "outputs": [],
   "source": [
    "arr"
   ]
  },
  {
   "cell_type": "code",
   "execution_count": null,
   "id": "1b4ff1a5-81fe-4602-8d8f-929c0585f2df",
   "metadata": {},
   "outputs": [],
   "source": [
    "arr_slice = arr[5:8]"
   ]
  },
  {
   "cell_type": "code",
   "execution_count": null,
   "id": "ab297a46-35e5-4d00-845e-052478e424c8",
   "metadata": {},
   "outputs": [],
   "source": [
    "arr_slice"
   ]
  },
  {
   "cell_type": "code",
   "execution_count": null,
   "id": "724e6f6b-507f-4153-98c5-3570cd550c9f",
   "metadata": {},
   "outputs": [],
   "source": [
    "arr_slice[1] = 12345"
   ]
  },
  {
   "cell_type": "code",
   "execution_count": null,
   "id": "f4095187-e6cf-4bbe-96ee-3c7fa761d9a0",
   "metadata": {},
   "outputs": [],
   "source": [
    "arr"
   ]
  },
  {
   "cell_type": "code",
   "execution_count": null,
   "id": "d4906d13-c977-4601-8ed5-e6dba02636f7",
   "metadata": {},
   "outputs": [],
   "source": [
    "arr_slice[:] = 64"
   ]
  },
  {
   "cell_type": "code",
   "execution_count": null,
   "id": "77afe44a-cf95-41ee-90ae-8feff8f55721",
   "metadata": {},
   "outputs": [],
   "source": [
    "arr"
   ]
  },
  {
   "cell_type": "code",
   "execution_count": null,
   "id": "821d99b1-3a0b-4063-80a7-e23c6a515f24",
   "metadata": {},
   "outputs": [],
   "source": [
    "arr3d = np.array([[[1,2,3],[4,5,6]],[[7,8,9],[10,11,12]]])"
   ]
  },
  {
   "cell_type": "code",
   "execution_count": null,
   "id": "53e63f4f-37de-409b-8844-3792e3d897af",
   "metadata": {},
   "outputs": [],
   "source": [
    "arr3d"
   ]
  },
  {
   "cell_type": "code",
   "execution_count": null,
   "id": "fed853fb-ffbb-4dae-82b8-8b7a7a466753",
   "metadata": {},
   "outputs": [],
   "source": [
    "arr3d[0]"
   ]
  },
  {
   "cell_type": "code",
   "execution_count": null,
   "id": "d7d61c44-2065-4ea8-834d-ffd3cf47d4a2",
   "metadata": {},
   "outputs": [],
   "source": [
    "old_values = arr3d[0].copy()"
   ]
  },
  {
   "cell_type": "code",
   "execution_count": null,
   "id": "6b2f8108-827b-4dbf-bfa6-a188fafd75fd",
   "metadata": {},
   "outputs": [],
   "source": [
    "old_values"
   ]
  },
  {
   "cell_type": "code",
   "execution_count": null,
   "id": "8e9d247e-c926-4272-a630-0f66e201f7da",
   "metadata": {},
   "outputs": [],
   "source": [
    "arr3d[0] = 42"
   ]
  },
  {
   "cell_type": "code",
   "execution_count": null,
   "id": "4046df93-5753-46b7-9478-be86b63ee085",
   "metadata": {},
   "outputs": [],
   "source": [
    "arr3d"
   ]
  },
  {
   "cell_type": "code",
   "execution_count": null,
   "id": "f3daf62b-90e2-41bc-b4fa-70fa89bf1faa",
   "metadata": {},
   "outputs": [],
   "source": [
    "arr3d[0] = old_values"
   ]
  },
  {
   "cell_type": "code",
   "execution_count": null,
   "id": "0c1df47a-200f-480d-8764-93a2fcfcf6bd",
   "metadata": {},
   "outputs": [],
   "source": [
    "arr3d"
   ]
  },
  {
   "cell_type": "code",
   "execution_count": null,
   "id": "2fd1d808-9d5d-42ee-86da-bf22d00b05ce",
   "metadata": {},
   "outputs": [],
   "source": [
    "arr3d[0,0]"
   ]
  },
  {
   "cell_type": "code",
   "execution_count": null,
   "id": "5ed93427-d5a3-48cf-92b7-95b959a67edf",
   "metadata": {},
   "outputs": [],
   "source": [
    "x = arr3d[1]"
   ]
  },
  {
   "cell_type": "code",
   "execution_count": null,
   "id": "fb728235-4e33-42a8-8808-317c0e98c79e",
   "metadata": {},
   "outputs": [],
   "source": [
    "x"
   ]
  },
  {
   "cell_type": "code",
   "execution_count": null,
   "id": "74bd090c-e42b-4d2c-a0da-b6e15b5ea8d6",
   "metadata": {},
   "outputs": [],
   "source": [
    "x[0]"
   ]
  },
  {
   "cell_type": "code",
   "execution_count": null,
   "id": "eedebee2-e2a6-4b4b-943d-cdce258f79ba",
   "metadata": {},
   "outputs": [],
   "source": [
    "arr"
   ]
  },
  {
   "cell_type": "code",
   "execution_count": null,
   "id": "5d4cef6f-9141-4f47-b143-cba7939db155",
   "metadata": {},
   "outputs": [],
   "source": [
    "arr[1:6]"
   ]
  },
  {
   "cell_type": "code",
   "execution_count": null,
   "id": "52bd143e-3108-421c-ab0a-317f07c572fa",
   "metadata": {},
   "outputs": [],
   "source": [
    "arr2d = np.array([[1,2,3],[4,5,6],[7,8,9]])"
   ]
  },
  {
   "cell_type": "code",
   "execution_count": null,
   "id": "a4742150-5b49-472b-959a-8b9a42b178df",
   "metadata": {},
   "outputs": [],
   "source": [
    "arr2d"
   ]
  },
  {
   "cell_type": "code",
   "execution_count": null,
   "id": "fd49f529-a770-4d40-89f9-e0ec5028b44f",
   "metadata": {},
   "outputs": [],
   "source": [
    "arr2d[:2,1:]"
   ]
  },
  {
   "cell_type": "code",
   "execution_count": null,
   "id": "a74d1d7b-e54f-4446-bd34-565a3676a82c",
   "metadata": {},
   "outputs": [],
   "source": [
    "arr2d[1,:2]"
   ]
  },
  {
   "cell_type": "code",
   "execution_count": null,
   "id": "c6c23e8b-e771-412a-99d5-22d23393d63f",
   "metadata": {},
   "outputs": [],
   "source": [
    "arr2d[:2,2]"
   ]
  },
  {
   "cell_type": "code",
   "execution_count": null,
   "id": "9df3f39d-df27-4c57-9f7c-95dbd93d17cc",
   "metadata": {},
   "outputs": [],
   "source": [
    "arr2d[:2,1:] =0 "
   ]
  },
  {
   "cell_type": "code",
   "execution_count": null,
   "id": "72d0f113-fc59-48c2-af2a-d42f34c52525",
   "metadata": {},
   "outputs": [],
   "source": [
    "arr2d"
   ]
  },
  {
   "cell_type": "code",
   "execution_count": null,
   "id": "6c6aa29a-e583-4893-9167-c7310c15a180",
   "metadata": {},
   "outputs": [],
   "source": [
    "names = np.array(['Bob','Joe','Will','Bob','Will','Joe','Joe'])"
   ]
  },
  {
   "cell_type": "code",
   "execution_count": null,
   "id": "c158a37a-fcdc-45b6-b402-2dfc296866b3",
   "metadata": {},
   "outputs": [],
   "source": [
    "names"
   ]
  },
  {
   "cell_type": "code",
   "execution_count": null,
   "id": "f644e997-85e9-46f4-a82c-a5a6930c3b45",
   "metadata": {},
   "outputs": [],
   "source": [
    "data = np.random.randn(7,4)"
   ]
  },
  {
   "cell_type": "code",
   "execution_count": null,
   "id": "046073d3-b87e-4fd5-b678-052bc8dfdf7e",
   "metadata": {},
   "outputs": [],
   "source": [
    "data"
   ]
  },
  {
   "cell_type": "code",
   "execution_count": null,
   "id": "98e9b95d-e8cb-43e0-8c8d-f85529f2e6bd",
   "metadata": {},
   "outputs": [],
   "source": [
    "names == 'Bob'"
   ]
  },
  {
   "cell_type": "code",
   "execution_count": null,
   "id": "252255bc-fe46-4dcd-9922-7a494857c471",
   "metadata": {},
   "outputs": [],
   "source": [
    "data[names == 'Bob']"
   ]
  },
  {
   "cell_type": "code",
   "execution_count": null,
   "id": "43b582eb-35ad-4ec4-adb5-92e50aa52780",
   "metadata": {},
   "outputs": [],
   "source": [
    "data[names == 'Bob',2:]"
   ]
  },
  {
   "cell_type": "code",
   "execution_count": null,
   "id": "4ea10355-1f5a-4722-8418-6db61be716d0",
   "metadata": {},
   "outputs": [],
   "source": [
    "names != 'Bob'"
   ]
  },
  {
   "cell_type": "code",
   "execution_count": null,
   "id": "b5abcafb-4dd0-4c84-ba81-8f4092ededae",
   "metadata": {},
   "outputs": [],
   "source": [
    "data[~(names == 'Bob')]"
   ]
  },
  {
   "cell_type": "code",
   "execution_count": null,
   "id": "dcd434de-02ba-4a5a-b7d6-94e8d6d62d2e",
   "metadata": {},
   "outputs": [],
   "source": [
    "cond = names =='Bob'"
   ]
  },
  {
   "cell_type": "code",
   "execution_count": null,
   "id": "2953a7b9-57b2-4094-8ea2-b9e60af89fd7",
   "metadata": {},
   "outputs": [],
   "source": [
    "cond"
   ]
  },
  {
   "cell_type": "code",
   "execution_count": null,
   "id": "0698b2e6-7195-4bf7-a812-e81f132df7a8",
   "metadata": {},
   "outputs": [],
   "source": [
    "data[~cond]"
   ]
  },
  {
   "cell_type": "code",
   "execution_count": null,
   "id": "d8a799b8-159e-4a95-ab4b-7af3d3d2234e",
   "metadata": {},
   "outputs": [],
   "source": [
    "mask = (names == 'Bob')|(names == 'Will')"
   ]
  },
  {
   "cell_type": "code",
   "execution_count": null,
   "id": "ad0b03e6-b092-415a-9d2c-da252b94dedc",
   "metadata": {},
   "outputs": [],
   "source": [
    "mask"
   ]
  },
  {
   "cell_type": "code",
   "execution_count": null,
   "id": "3aec2442-0bd8-4f11-beb3-b58eb4642285",
   "metadata": {},
   "outputs": [],
   "source": [
    "data[mask]"
   ]
  },
  {
   "cell_type": "code",
   "execution_count": null,
   "id": "a16b87e2-eedd-455f-aba6-aa86510ed197",
   "metadata": {},
   "outputs": [],
   "source": [
    "data[data<0]=0"
   ]
  },
  {
   "cell_type": "code",
   "execution_count": null,
   "id": "fc6d0f8f-c65c-4c82-b0ae-e9d4793b69fd",
   "metadata": {},
   "outputs": [],
   "source": [
    "data"
   ]
  },
  {
   "cell_type": "code",
   "execution_count": null,
   "id": "27ce6eb9-27c5-4cbe-8390-4f60a9da02e0",
   "metadata": {},
   "outputs": [],
   "source": [
    "data[names == 'Joe'] = 7"
   ]
  },
  {
   "cell_type": "code",
   "execution_count": null,
   "id": "f60ca321-b386-486e-bbda-6d224eefab71",
   "metadata": {},
   "outputs": [],
   "source": [
    "data"
   ]
  },
  {
   "cell_type": "code",
   "execution_count": null,
   "id": "525e7b1a-3ca5-44d7-a79f-4434d2a786c0",
   "metadata": {},
   "outputs": [],
   "source": [
    "arr = np.empty((8,4))"
   ]
  },
  {
   "cell_type": "code",
   "execution_count": null,
   "id": "cc482004-750e-497b-82eb-40e080286ed5",
   "metadata": {},
   "outputs": [],
   "source": [
    "arr"
   ]
  },
  {
   "cell_type": "code",
   "execution_count": null,
   "id": "58de3f2f-900c-4da5-bfa4-55db6ad31008",
   "metadata": {},
   "outputs": [],
   "source": [
    "range(8)"
   ]
  },
  {
   "cell_type": "code",
   "execution_count": null,
   "id": "40a9523f-5714-4aee-90fe-99f57897467d",
   "metadata": {},
   "outputs": [],
   "source": [
    "list(range(8))"
   ]
  },
  {
   "cell_type": "code",
   "execution_count": null,
   "id": "528f1e4c-7b0d-454f-a2fb-7af83ed6f212",
   "metadata": {},
   "outputs": [],
   "source": [
    "for i in range(8):\n",
    "    arr[i] = i"
   ]
  },
  {
   "cell_type": "code",
   "execution_count": null,
   "id": "6e91ca26-c130-44db-a64f-364b26a3a68f",
   "metadata": {},
   "outputs": [],
   "source": [
    "arr"
   ]
  },
  {
   "cell_type": "code",
   "execution_count": null,
   "id": "1d5561e7-95e6-4bc4-93a0-cbb4e1ca97e9",
   "metadata": {},
   "outputs": [],
   "source": [
    "arr[[4,3,0,6]]"
   ]
  },
  {
   "cell_type": "code",
   "execution_count": null,
   "id": "4cd02160-1662-4da2-b172-5735e99d7f81",
   "metadata": {},
   "outputs": [],
   "source": [
    "arr[[-3]]"
   ]
  },
  {
   "cell_type": "code",
   "execution_count": null,
   "id": "d0efe15f-51c0-4afc-83c3-30a48d73b500",
   "metadata": {},
   "outputs": [],
   "source": [
    "arr[0]"
   ]
  },
  {
   "cell_type": "code",
   "execution_count": null,
   "id": "09049411-1dcb-493d-84a2-925a6dcbb8ca",
   "metadata": {},
   "outputs": [],
   "source": [
    "arr = np.arange(32).reshape((8,4))"
   ]
  },
  {
   "cell_type": "code",
   "execution_count": null,
   "id": "55f2088e-b2c5-4536-840e-0d6b9e6b5b1a",
   "metadata": {},
   "outputs": [],
   "source": [
    "arr"
   ]
  },
  {
   "cell_type": "code",
   "execution_count": null,
   "id": "3dcac99b-575e-41e5-8c85-335e97b0d064",
   "metadata": {},
   "outputs": [],
   "source": [
    "arr[[1,5,7,2]]"
   ]
  },
  {
   "cell_type": "code",
   "execution_count": null,
   "id": "3561f410-e65d-41c8-97a7-7b6748887b20",
   "metadata": {},
   "outputs": [],
   "source": [
    "arr[[1,5,7,2],[0,3,1,2]]"
   ]
  },
  {
   "cell_type": "code",
   "execution_count": null,
   "id": "c62ae0dc-fddd-45c2-9df6-556400b00160",
   "metadata": {},
   "outputs": [],
   "source": [
    "arr = np.arange(15).reshape((3,5))"
   ]
  },
  {
   "cell_type": "code",
   "execution_count": null,
   "id": "0f1fa2a9-f99d-49ff-94b4-a6d1f4966ce6",
   "metadata": {},
   "outputs": [],
   "source": [
    "arr"
   ]
  },
  {
   "cell_type": "code",
   "execution_count": null,
   "id": "838485aa-006b-405a-8fbc-21bd696fb15b",
   "metadata": {},
   "outputs": [],
   "source": [
    "arr.T"
   ]
  },
  {
   "cell_type": "code",
   "execution_count": null,
   "id": "b60ac90e-f3e3-4aeb-989f-ceb7401b415b",
   "metadata": {},
   "outputs": [],
   "source": [
    "arr = np.random.randn(6,3)"
   ]
  },
  {
   "cell_type": "code",
   "execution_count": null,
   "id": "8fc0d36a-3930-4d47-80dc-ac2942664ce9",
   "metadata": {},
   "outputs": [],
   "source": [
    "arr"
   ]
  },
  {
   "cell_type": "code",
   "execution_count": null,
   "id": "01a0ff9e-e92a-49a7-880e-09bd0b11a8d4",
   "metadata": {},
   "outputs": [],
   "source": [
    "np.dot(arr.T,arr)"
   ]
  },
  {
   "cell_type": "code",
   "execution_count": null,
   "id": "27d3cf24-8755-4792-b80f-53c259459fae",
   "metadata": {},
   "outputs": [],
   "source": [
    "arr = np.arange(16).reshape((2,2,4))"
   ]
  },
  {
   "cell_type": "code",
   "execution_count": null,
   "id": "b83ab431-8a66-4cf6-bf1f-4cfe3d76b4b1",
   "metadata": {},
   "outputs": [],
   "source": [
    "arr"
   ]
  },
  {
   "cell_type": "code",
   "execution_count": null,
   "id": "ca220f0d-5f43-4220-bb91-6a7fef06fbc6",
   "metadata": {},
   "outputs": [],
   "source": [
    "arr.transpose((1,0,2))"
   ]
  },
  {
   "cell_type": "code",
   "execution_count": null,
   "id": "45af4c37-78a6-4e3d-895a-aff9611e39f7",
   "metadata": {},
   "outputs": [],
   "source": [
    "arr.swapaxes(1,2)"
   ]
  },
  {
   "cell_type": "code",
   "execution_count": null,
   "id": "ee9fe507-11e4-41fd-95bb-0bb7a3f57a57",
   "metadata": {},
   "outputs": [],
   "source": [
    "arr=np.arange(10)"
   ]
  },
  {
   "cell_type": "code",
   "execution_count": null,
   "id": "efdda910-705e-41db-af5f-19495ba205fb",
   "metadata": {},
   "outputs": [],
   "source": [
    "arr"
   ]
  },
  {
   "cell_type": "code",
   "execution_count": null,
   "id": "15d51be7-ddd7-445d-b4ef-a20aebfab047",
   "metadata": {},
   "outputs": [],
   "source": [
    "np.sqrt(arr)"
   ]
  },
  {
   "cell_type": "code",
   "execution_count": null,
   "id": "9efe44d0-d2b7-48e3-89fa-1606bb9be804",
   "metadata": {},
   "outputs": [],
   "source": [
    "np.exp(arr)"
   ]
  },
  {
   "cell_type": "code",
   "execution_count": null,
   "id": "822f2583-6bbf-468b-b419-bbfc573a8957",
   "metadata": {},
   "outputs": [],
   "source": [
    "x = np.random.randn(8)"
   ]
  },
  {
   "cell_type": "code",
   "execution_count": null,
   "id": "901077e0-e9d2-4c19-92b8-1f961ff302bc",
   "metadata": {},
   "outputs": [],
   "source": [
    "y = np.random.randn(8)"
   ]
  },
  {
   "cell_type": "code",
   "execution_count": null,
   "id": "f307ca9a-c3fa-45f3-ac36-9e80bc27331c",
   "metadata": {},
   "outputs": [],
   "source": [
    "x"
   ]
  },
  {
   "cell_type": "code",
   "execution_count": null,
   "id": "748741c8-6359-4dae-913a-facbb16db7bc",
   "metadata": {},
   "outputs": [],
   "source": [
    "y"
   ]
  },
  {
   "cell_type": "code",
   "execution_count": null,
   "id": "7f6de0c5-0ca7-45b8-98b9-4e0bdbc0fdd8",
   "metadata": {},
   "outputs": [],
   "source": [
    "np.maximum(x,y)"
   ]
  },
  {
   "cell_type": "code",
   "execution_count": null,
   "id": "5f030be8-bac5-4596-8ac2-e967a9c1a610",
   "metadata": {},
   "outputs": [],
   "source": [
    "arr = np.random.randn(7)*5"
   ]
  },
  {
   "cell_type": "code",
   "execution_count": null,
   "id": "3d1a9f36-5d79-4d45-88fa-466247dfc8f1",
   "metadata": {},
   "outputs": [],
   "source": [
    "arr"
   ]
  },
  {
   "cell_type": "code",
   "execution_count": null,
   "id": "71021caf-3dad-4c02-9337-5f249a8dd3d6",
   "metadata": {},
   "outputs": [],
   "source": [
    "remainder,whole_part = np.modf(arr)"
   ]
  },
  {
   "cell_type": "code",
   "execution_count": null,
   "id": "aaa4db86-047e-48ef-8703-a14d47d5ca04",
   "metadata": {},
   "outputs": [],
   "source": [
    "remainder"
   ]
  },
  {
   "cell_type": "code",
   "execution_count": null,
   "id": "4264354b-50ee-4d38-a516-2df065348147",
   "metadata": {},
   "outputs": [],
   "source": [
    "whole_part"
   ]
  },
  {
   "cell_type": "code",
   "execution_count": null,
   "id": "fd3ffda6-ddbe-4865-9823-a8468bc215ed",
   "metadata": {},
   "outputs": [],
   "source": [
    "arr"
   ]
  },
  {
   "cell_type": "code",
   "execution_count": null,
   "id": "8518f8ac-74a0-45a0-a8b2-ad685920b43e",
   "metadata": {},
   "outputs": [],
   "source": [
    "np.sqrt(arr)"
   ]
  },
  {
   "cell_type": "code",
   "execution_count": null,
   "id": "c4f989ee-e552-4a9b-a93f-23a3a34cf40d",
   "metadata": {},
   "outputs": [],
   "source": [
    "points = np.arange(-5,5,0.01)"
   ]
  },
  {
   "cell_type": "code",
   "execution_count": null,
   "id": "ec7645bc-5717-44ef-93d3-fbaeb6a8c569",
   "metadata": {},
   "outputs": [],
   "source": [
    "xs,ys = np.meshgrid(points,points)"
   ]
  },
  {
   "cell_type": "code",
   "execution_count": null,
   "id": "0bc0eb94-4cee-497e-aa5f-f64e274132de",
   "metadata": {},
   "outputs": [],
   "source": [
    "ys"
   ]
  },
  {
   "cell_type": "code",
   "execution_count": null,
   "id": "25b0b4c7-2d3a-434a-9b71-8f93a09e7e88",
   "metadata": {},
   "outputs": [],
   "source": [
    "z = np.sqrt(xs**2 + ys**2)"
   ]
  },
  {
   "cell_type": "code",
   "execution_count": null,
   "id": "e7e53741-b8a5-42b6-9dbd-0c646d598126",
   "metadata": {},
   "outputs": [],
   "source": [
    "z"
   ]
  },
  {
   "cell_type": "code",
   "execution_count": null,
   "id": "cd41e247-1288-42a6-865c-937bd51f8387",
   "metadata": {},
   "outputs": [],
   "source": [
    "import matplotlib.pyplot as plt"
   ]
  },
  {
   "cell_type": "code",
   "execution_count": null,
   "id": "0ec2cae1-07e7-4853-9ff6-bbc9c2fb3607",
   "metadata": {},
   "outputs": [],
   "source": [
    "plt.imshow(z,cmap = plot.cm.gray);plt.colorbar()"
   ]
  },
  {
   "cell_type": "code",
   "execution_count": null,
   "id": "f2c3b739-c403-4dfc-a9bb-e20521935be6",
   "metadata": {},
   "outputs": [],
   "source": [
    "plt.title(\"Image plot of $\\sqrt{x^2+y^2}$ for a grid of values\")"
   ]
  },
  {
   "cell_type": "code",
   "execution_count": null,
   "id": "583efa3c-5bae-4708-8cbd-ebc0d009df71",
   "metadata": {},
   "outputs": [],
   "source": [
    "xarr = np.array([1.1,1.2,1.3,1.4,1.5])"
   ]
  },
  {
   "cell_type": "code",
   "execution_count": null,
   "id": "6acda70c-d863-4231-b8db-8f85cb88c6b8",
   "metadata": {},
   "outputs": [],
   "source": [
    "yarr = np.array([2.1,2.2,2.3,2.4,2.5])"
   ]
  },
  {
   "cell_type": "code",
   "execution_count": null,
   "id": "9c2ff0b2-6d40-4eb0-ac87-13f73a889919",
   "metadata": {},
   "outputs": [],
   "source": [
    "cond = np.array([True,False,True,True,False])"
   ]
  },
  {
   "cell_type": "code",
   "execution_count": null,
   "id": "5088243f-2c2f-4304-87fd-a42d86bdcaf8",
   "metadata": {},
   "outputs": [],
   "source": [
    "result = [(x if c else y) for x,y,c in zip(xarr,yarr,cond)]"
   ]
  },
  {
   "cell_type": "code",
   "execution_count": null,
   "id": "6ee41ba0-8c88-489a-905a-cae6b12728d2",
   "metadata": {},
   "outputs": [],
   "source": [
    "result"
   ]
  },
  {
   "cell_type": "code",
   "execution_count": null,
   "id": "909b800b-271b-4afc-823b-06118ab25ea7",
   "metadata": {},
   "outputs": [],
   "source": [
    "result = np.where(cond,xarr,yarr)"
   ]
  },
  {
   "cell_type": "code",
   "execution_count": null,
   "id": "31b9ffed-9c23-427f-845c-5b5e56c68ca3",
   "metadata": {},
   "outputs": [],
   "source": [
    "result"
   ]
  },
  {
   "cell_type": "code",
   "execution_count": null,
   "id": "769248c8-70d3-4ab5-a826-b51e7f499e92",
   "metadata": {},
   "outputs": [],
   "source": [
    "arr = np.random.randn(4,4)"
   ]
  },
  {
   "cell_type": "code",
   "execution_count": null,
   "id": "226b5ff3-4e32-4246-90f6-4c2b43f69a40",
   "metadata": {},
   "outputs": [],
   "source": [
    "arr"
   ]
  },
  {
   "cell_type": "code",
   "execution_count": null,
   "id": "024ea203-c01f-45d6-9a82-7e4efd66cc18",
   "metadata": {},
   "outputs": [],
   "source": [
    "arr > 0"
   ]
  },
  {
   "cell_type": "code",
   "execution_count": null,
   "id": "331fb40f-9958-4646-a0c2-89407537a23e",
   "metadata": {},
   "outputs": [],
   "source": [
    "np.where(arr > 0 ,2,-2)"
   ]
  },
  {
   "cell_type": "code",
   "execution_count": null,
   "id": "478dd27e-e03b-472e-93c4-ef9280100c07",
   "metadata": {},
   "outputs": [],
   "source": [
    "np.where(arr > 0,2,arr)"
   ]
  },
  {
   "cell_type": "code",
   "execution_count": null,
   "id": "9971b355-fa70-4295-b315-3fbb165c1cc7",
   "metadata": {},
   "outputs": [],
   "source": [
    "arr = np.random.randn(5,4)"
   ]
  },
  {
   "cell_type": "code",
   "execution_count": null,
   "id": "e4054f8c-0fe4-4c57-9fbf-b4072a3fac09",
   "metadata": {},
   "outputs": [],
   "source": [
    "arr"
   ]
  },
  {
   "cell_type": "code",
   "execution_count": null,
   "id": "0e5b7eaf-bc80-4744-82e2-0ed5bbab0402",
   "metadata": {},
   "outputs": [],
   "source": [
    "arr.mean()"
   ]
  },
  {
   "cell_type": "code",
   "execution_count": null,
   "id": "9b2713cd-c775-4df8-b517-fc002058742b",
   "metadata": {},
   "outputs": [],
   "source": [
    "np.mean(arr)"
   ]
  },
  {
   "cell_type": "code",
   "execution_count": null,
   "id": "cc13c0da-3e44-463d-a726-460252423f91",
   "metadata": {},
   "outputs": [],
   "source": [
    "arr.sum()"
   ]
  },
  {
   "cell_type": "code",
   "execution_count": null,
   "id": "148f2dfb-422b-4c35-94ad-9f87c224075a",
   "metadata": {},
   "outputs": [],
   "source": [
    "np.sum(arr)"
   ]
  },
  {
   "cell_type": "code",
   "execution_count": null,
   "id": "dc9ba357-f3fc-4eb8-aa85-dc16e49bb88f",
   "metadata": {},
   "outputs": [],
   "source": [
    "arr.mean(axis = 1)"
   ]
  },
  {
   "cell_type": "code",
   "execution_count": null,
   "id": "a9a33af0-7231-4320-8117-35bdc23e46cb",
   "metadata": {},
   "outputs": [],
   "source": [
    "arr.mean(axis = 0)"
   ]
  },
  {
   "cell_type": "code",
   "execution_count": null,
   "id": "d78cfff2-60ec-4379-8ff7-5f16a9db4165",
   "metadata": {},
   "outputs": [],
   "source": [
    "arr = np.array([0,1,2,3,4,5,6,7])"
   ]
  },
  {
   "cell_type": "code",
   "execution_count": null,
   "id": "b733ef72-8cfc-4f18-8086-533f41de0966",
   "metadata": {},
   "outputs": [],
   "source": [
    "arr"
   ]
  },
  {
   "cell_type": "code",
   "execution_count": null,
   "id": "f4d6dd16-ff49-4ee8-977b-09f93c132e02",
   "metadata": {},
   "outputs": [],
   "source": [
    "arr.sum()"
   ]
  },
  {
   "cell_type": "code",
   "execution_count": null,
   "id": "d88ebd1c-5c05-4b47-8b4e-8e0ffbe89e76",
   "metadata": {},
   "outputs": [],
   "source": [
    "arr.cumsum()"
   ]
  },
  {
   "cell_type": "code",
   "execution_count": null,
   "id": "9435e450-18b8-47cb-893b-c5efdcb6e890",
   "metadata": {},
   "outputs": [],
   "source": [
    "arr = np.array([[0,1,2],[3,4,5],[6,7,8]])"
   ]
  },
  {
   "cell_type": "code",
   "execution_count": null,
   "id": "66455be4-911b-4499-985a-fcd5456aa59d",
   "metadata": {},
   "outputs": [],
   "source": [
    "arr"
   ]
  },
  {
   "cell_type": "code",
   "execution_count": null,
   "id": "2da598f1-3673-4c01-85a8-de171284a988",
   "metadata": {},
   "outputs": [],
   "source": [
    "arr.cumsum(axis = 0)"
   ]
  },
  {
   "cell_type": "code",
   "execution_count": null,
   "id": "01b230f4-55f0-41fe-ba37-5aff856b8247",
   "metadata": {},
   "outputs": [],
   "source": [
    "arr.cumsum(axis = 1)"
   ]
  },
  {
   "cell_type": "code",
   "execution_count": null,
   "id": "6f04acad-1774-493c-b432-d226c38a7f35",
   "metadata": {},
   "outputs": [],
   "source": [
    "arr = np.random.randn(100)"
   ]
  },
  {
   "cell_type": "code",
   "execution_count": null,
   "id": "a03f7f76-00a7-4d6b-afdd-56af9d686d5a",
   "metadata": {},
   "outputs": [],
   "source": [
    "arr"
   ]
  },
  {
   "cell_type": "code",
   "execution_count": null,
   "id": "c9345587-cc76-42c7-b669-39a302010b37",
   "metadata": {},
   "outputs": [],
   "source": [
    "(arr > 0).sum()"
   ]
  },
  {
   "cell_type": "code",
   "execution_count": null,
   "id": "fb0d09b3-c158-45bb-b353-ea778b8fb8be",
   "metadata": {},
   "outputs": [],
   "source": [
    "bools = np.array([False,False,True,False])"
   ]
  },
  {
   "cell_type": "code",
   "execution_count": null,
   "id": "b6a3abbe-6955-4a80-910c-cd46414ed218",
   "metadata": {},
   "outputs": [],
   "source": [
    "bools.any()"
   ]
  },
  {
   "cell_type": "code",
   "execution_count": null,
   "id": "cc264687-1fed-4695-879b-c072ca056fe2",
   "metadata": {},
   "outputs": [],
   "source": [
    "bools.all()"
   ]
  },
  {
   "cell_type": "code",
   "execution_count": null,
   "id": "26d5cf93-8bd3-41a3-9440-6bbc2c00b926",
   "metadata": {},
   "outputs": [],
   "source": [
    "arr = np.random.randn(6)"
   ]
  },
  {
   "cell_type": "code",
   "execution_count": null,
   "id": "f9959cb7-80b4-499d-84fe-12054b35cb41",
   "metadata": {},
   "outputs": [],
   "source": [
    "arr"
   ]
  },
  {
   "cell_type": "code",
   "execution_count": null,
   "id": "aaa43902-2562-440a-9904-140b55af313a",
   "metadata": {},
   "outputs": [],
   "source": [
    "arr.sort()"
   ]
  },
  {
   "cell_type": "code",
   "execution_count": null,
   "id": "b43c273b-5069-4814-8bd5-73aee0af7c7c",
   "metadata": {},
   "outputs": [],
   "source": [
    "arr"
   ]
  },
  {
   "cell_type": "code",
   "execution_count": null,
   "id": "a31499ef-9303-467e-a467-8f0dd084bf77",
   "metadata": {},
   "outputs": [],
   "source": [
    "arr"
   ]
  },
  {
   "cell_type": "code",
   "execution_count": null,
   "id": "74a37532-a700-45a7-9f95-c1998a8fcbf6",
   "metadata": {},
   "outputs": [],
   "source": [
    "arr = np.random.randn(5,3)"
   ]
  },
  {
   "cell_type": "code",
   "execution_count": null,
   "id": "b604559f-ac80-4d29-b6f8-f7dbfcb285eb",
   "metadata": {},
   "outputs": [],
   "source": [
    "arr"
   ]
  },
  {
   "cell_type": "code",
   "execution_count": null,
   "id": "33866554-f751-4e91-9e2c-e4132a22e8ee",
   "metadata": {},
   "outputs": [],
   "source": [
    "arr.sort(1)"
   ]
  },
  {
   "cell_type": "code",
   "execution_count": null,
   "id": "add459e5-de5a-403f-b408-949ec91e0a20",
   "metadata": {},
   "outputs": [],
   "source": [
    "arr"
   ]
  },
  {
   "cell_type": "code",
   "execution_count": null,
   "id": "66920dd8-c75f-43ae-a9b6-bd0153d289d2",
   "metadata": {},
   "outputs": [],
   "source": [
    "arr.sort()"
   ]
  },
  {
   "cell_type": "code",
   "execution_count": null,
   "id": "fe565d65-dd1e-4afd-9645-64adfed8f373",
   "metadata": {},
   "outputs": [],
   "source": [
    "arr"
   ]
  },
  {
   "cell_type": "code",
   "execution_count": null,
   "id": "d682e3f5-875d-4d80-bbf2-17969f7a6762",
   "metadata": {},
   "outputs": [],
   "source": [
    "large_arr = np.random.randn(1000)"
   ]
  },
  {
   "cell_type": "code",
   "execution_count": null,
   "id": "abc03ab7-246f-4b48-bf1b-1154cc2df7a0",
   "metadata": {},
   "outputs": [],
   "source": [
    "large_arr.sort()"
   ]
  },
  {
   "cell_type": "code",
   "execution_count": null,
   "id": "1bbeb027-3b52-44f0-9158-40b538c11c63",
   "metadata": {},
   "outputs": [],
   "source": [
    "large_arr[int(0.05*len(large_arr))]"
   ]
  },
  {
   "cell_type": "code",
   "execution_count": null,
   "id": "da6b5ff3-2803-4458-8e4d-67ed90b30d3a",
   "metadata": {},
   "outputs": [],
   "source": [
    "names = np.array(['Bob','Joe','Will','Bob','Will','Joe','Joe'])"
   ]
  },
  {
   "cell_type": "code",
   "execution_count": null,
   "id": "026fe652-0b55-4f08-8050-7f0adc89d153",
   "metadata": {},
   "outputs": [],
   "source": [
    "np.unique(names)"
   ]
  },
  {
   "cell_type": "code",
   "execution_count": null,
   "id": "c510e479-82ce-40d2-8dc2-c7139c4642d6",
   "metadata": {},
   "outputs": [],
   "source": [
    "arr = np.arange(10)"
   ]
  },
  {
   "cell_type": "code",
   "execution_count": null,
   "id": "7e4cde0c-9abf-4369-8598-e073c6394b14",
   "metadata": {},
   "outputs": [],
   "source": [
    "arr"
   ]
  },
  {
   "cell_type": "code",
   "execution_count": null,
   "id": "1b2a8ebf-69c0-4f83-97c3-b629a15151ee",
   "metadata": {},
   "outputs": [],
   "source": [
    "np.save('some_array',arr)"
   ]
  },
  {
   "cell_type": "code",
   "execution_count": null,
   "id": "6c8e293b-b64c-4316-83cf-dcd2c96f7d49",
   "metadata": {},
   "outputs": [],
   "source": [
    "np.load('some_array.npy')"
   ]
  },
  {
   "cell_type": "code",
   "execution_count": null,
   "id": "d83af07a-c90c-47c3-9e07-4bf1fb732d3d",
   "metadata": {},
   "outputs": [],
   "source": [
    "samples = np.random.normal(size=(4,4))"
   ]
  },
  {
   "cell_type": "code",
   "execution_count": null,
   "id": "a457694a-5615-4ad6-bd87-0adce42af81f",
   "metadata": {},
   "outputs": [],
   "source": [
    "samples"
   ]
  },
  {
   "cell_type": "code",
   "execution_count": null,
   "id": "410712cb-f5ac-428a-a291-0f31eac71ddb",
   "metadata": {},
   "outputs": [],
   "source": [
    "from random import normalvariate"
   ]
  },
  {
   "cell_type": "code",
   "execution_count": null,
   "id": "9f856052-0119-407f-b750-f4eb527d0b03",
   "metadata": {},
   "outputs": [],
   "source": [
    "N = 100000"
   ]
  },
  {
   "cell_type": "code",
   "execution_count": null,
   "id": "7ab4db2d-7fc9-4e7e-9281-74d3959c2702",
   "metadata": {},
   "outputs": [],
   "source": [
    "%timeit samples = [normalvariate(0,1) for _ in range(N)]"
   ]
  },
  {
   "cell_type": "code",
   "execution_count": null,
   "id": "7bfbb785-0f6e-4d4b-bcef-fe06b64f0ccf",
   "metadata": {},
   "outputs": [],
   "source": [
    "import random\n",
    "position = 0\n",
    "walk = [position]\n",
    "steps = 1000\n",
    "for i in range(steps):\n",
    "    step = 1 if random.randint(0,1) else -1\n",
    "    position +=step\n",
    "    walk.append(position)"
   ]
  },
  {
   "cell_type": "code",
   "execution_count": null,
   "id": "f5f15997-e956-4bc4-8c68-3dbbbd16129b",
   "metadata": {},
   "outputs": [],
   "source": [
    "plt.plot(walk[:100])"
   ]
  },
  {
   "cell_type": "code",
   "execution_count": null,
   "id": "4b793e89-899b-4d71-9c46-e0134ebff9e3",
   "metadata": {},
   "outputs": [],
   "source": [
    "obj = pd.Series([4,7,-5,3])"
   ]
  },
  {
   "cell_type": "code",
   "execution_count": null,
   "id": "52ba0537-c6dd-4024-a0ad-4114bf81461d",
   "metadata": {},
   "outputs": [],
   "source": [
    "obj"
   ]
  },
  {
   "cell_type": "code",
   "execution_count": null,
   "id": "f9a625d2-ef8c-4088-b274-80a7708ab01c",
   "metadata": {},
   "outputs": [],
   "source": [
    "obj.values"
   ]
  },
  {
   "cell_type": "code",
   "execution_count": null,
   "id": "f4ea4948-f2fd-430c-b338-86559055d4f8",
   "metadata": {},
   "outputs": [],
   "source": [
    "obj.index"
   ]
  },
  {
   "cell_type": "code",
   "execution_count": null,
   "id": "dc7fc79a-4ac5-4997-a027-33c7a6e28793",
   "metadata": {},
   "outputs": [],
   "source": [
    "obj2 = pd.Series([4,7,-5,3],index = ['d','b','a','c'])"
   ]
  },
  {
   "cell_type": "code",
   "execution_count": null,
   "id": "532fd5e7-df93-44c3-991c-cef302b6e3a6",
   "metadata": {},
   "outputs": [],
   "source": [
    "obj2"
   ]
  },
  {
   "cell_type": "code",
   "execution_count": null,
   "id": "27b2a6c9-dd22-4038-bd53-74f9348ca65d",
   "metadata": {},
   "outputs": [],
   "source": [
    "obj2.index"
   ]
  },
  {
   "cell_type": "code",
   "execution_count": null,
   "id": "1e0e15bd-9dfc-4a3a-a12d-5a7c43de8efc",
   "metadata": {},
   "outputs": [],
   "source": [
    "obj2['a']"
   ]
  },
  {
   "cell_type": "code",
   "execution_count": null,
   "id": "18827970-c4ff-4f57-859e-d2cf9e62a851",
   "metadata": {},
   "outputs": [],
   "source": [
    "obj2['d']"
   ]
  },
  {
   "cell_type": "code",
   "execution_count": null,
   "id": "c9efeb08-f5f5-4d2d-a2de-6210380c9c85",
   "metadata": {},
   "outputs": [],
   "source": [
    "obj2[['c','a','d']]"
   ]
  },
  {
   "cell_type": "code",
   "execution_count": null,
   "id": "7161c8d5-f886-46b3-be90-ab15c7839abe",
   "metadata": {},
   "outputs": [],
   "source": [
    "obj2['d'] = 6"
   ]
  },
  {
   "cell_type": "code",
   "execution_count": null,
   "id": "370211b9-29a6-4a65-bb1b-b37cc8e4c024",
   "metadata": {},
   "outputs": [],
   "source": [
    "obj2"
   ]
  },
  {
   "cell_type": "code",
   "execution_count": null,
   "id": "04dfb910-4065-4bcb-8099-2eb43c479a89",
   "metadata": {},
   "outputs": [],
   "source": [
    "obj2[obj2 > 0]"
   ]
  },
  {
   "cell_type": "code",
   "execution_count": null,
   "id": "a8ccbb40-d2d1-49ea-88a4-b2f55f38fcb6",
   "metadata": {},
   "outputs": [],
   "source": [
    "obj2 *2"
   ]
  },
  {
   "cell_type": "code",
   "execution_count": null,
   "id": "85ddf838-9f57-4f9a-8c93-10f509f3f931",
   "metadata": {},
   "outputs": [],
   "source": [
    "np.exp(obj2)"
   ]
  },
  {
   "cell_type": "code",
   "execution_count": null,
   "id": "f3306218-1bb0-47c9-af8b-ecdc451551c0",
   "metadata": {},
   "outputs": [],
   "source": [
    "'b'in obj2"
   ]
  },
  {
   "cell_type": "code",
   "execution_count": null,
   "id": "fba11d3d-c731-4fdd-8cbf-1f27da061a84",
   "metadata": {},
   "outputs": [],
   "source": [
    "'e'in obj2"
   ]
  },
  {
   "cell_type": "code",
   "execution_count": null,
   "id": "e1a50a7a-aa9d-40a5-9cce-470d4f68b123",
   "metadata": {},
   "outputs": [],
   "source": [
    "sdata = {'Ohio':35000,'Texas':71000,'Oregon':16000,'Utah':5000}"
   ]
  },
  {
   "cell_type": "code",
   "execution_count": null,
   "id": "e16f7d48-b639-4959-9136-c10bc7d8bbb7",
   "metadata": {},
   "outputs": [],
   "source": [
    "obj3 = pd.Series(sdata)"
   ]
  },
  {
   "cell_type": "code",
   "execution_count": null,
   "id": "3386d37d-a7c0-4e74-9dba-901ddb1fb314",
   "metadata": {},
   "outputs": [],
   "source": [
    "obj3"
   ]
  },
  {
   "cell_type": "code",
   "execution_count": null,
   "id": "38afc158-a0e8-4d54-b819-7f6577be25af",
   "metadata": {},
   "outputs": [],
   "source": [
    "states = ['California','Ohio','Oregon','Texas']"
   ]
  },
  {
   "cell_type": "code",
   "execution_count": null,
   "id": "b43f245c-6e4d-4575-b476-89249199b351",
   "metadata": {},
   "outputs": [],
   "source": [
    "obj4 = pd.Series(sdata,index = states)"
   ]
  },
  {
   "cell_type": "code",
   "execution_count": null,
   "id": "3aed145d-6cc5-43fb-9270-9457decb5832",
   "metadata": {},
   "outputs": [],
   "source": [
    "obj4"
   ]
  },
  {
   "cell_type": "code",
   "execution_count": null,
   "id": "6a846006-b8a4-46b4-8226-4176a58f9681",
   "metadata": {},
   "outputs": [],
   "source": [
    "pd.isnull(obj4)"
   ]
  },
  {
   "cell_type": "code",
   "execution_count": null,
   "id": "1833a94b-b588-452d-8c9f-11af1f61cc3d",
   "metadata": {},
   "outputs": [],
   "source": [
    "pd.notnull(obj4)"
   ]
  },
  {
   "cell_type": "code",
   "execution_count": null,
   "id": "6c26c293-db6b-4e2a-a552-4ffe41c39a41",
   "metadata": {},
   "outputs": [],
   "source": [
    "obj4.isnull()"
   ]
  },
  {
   "cell_type": "code",
   "execution_count": null,
   "id": "1385e1a9-da70-4c67-b8e4-84e3621ed41f",
   "metadata": {},
   "outputs": [],
   "source": [
    "obj3"
   ]
  },
  {
   "cell_type": "code",
   "execution_count": null,
   "id": "a671321f-018b-4c70-9d9c-6da243e1f203",
   "metadata": {},
   "outputs": [],
   "source": [
    "obj4"
   ]
  },
  {
   "cell_type": "code",
   "execution_count": null,
   "id": "d18ecbcd-125f-43b0-8b25-59be9ad11e0d",
   "metadata": {},
   "outputs": [],
   "source": [
    "obj3 + obj4"
   ]
  },
  {
   "cell_type": "code",
   "execution_count": null,
   "id": "a39f18e6-f1f2-4b1a-a68c-2a2066d11883",
   "metadata": {},
   "outputs": [],
   "source": [
    "obj4"
   ]
  },
  {
   "cell_type": "code",
   "execution_count": null,
   "id": "b5b41632-ff3f-4f81-98f0-809c88ba3a4b",
   "metadata": {},
   "outputs": [],
   "source": [
    "obj4.name = 'population'"
   ]
  },
  {
   "cell_type": "code",
   "execution_count": null,
   "id": "ef3fb162-19b7-4d1b-b45c-e97c0c227677",
   "metadata": {},
   "outputs": [],
   "source": [
    "obj4"
   ]
  },
  {
   "cell_type": "code",
   "execution_count": null,
   "id": "ce0a60e9-1db3-4b4e-85fe-35a03eb31a9d",
   "metadata": {},
   "outputs": [],
   "source": [
    "obj4.index.name = 'state'"
   ]
  },
  {
   "cell_type": "code",
   "execution_count": null,
   "id": "08386b95-e1ed-4fbf-a4c7-e04ead2904f7",
   "metadata": {},
   "outputs": [],
   "source": [
    "obj4"
   ]
  },
  {
   "cell_type": "code",
   "execution_count": null,
   "id": "26453c8a-9713-4dbe-ad1e-4b2d0a00ce5b",
   "metadata": {},
   "outputs": [],
   "source": [
    "obj"
   ]
  },
  {
   "cell_type": "code",
   "execution_count": null,
   "id": "7b0df572-9710-497b-ac3c-14e8209f9ed5",
   "metadata": {},
   "outputs": [],
   "source": [
    "obj.index = ['Bob','Steve','Jeff','Ryan']"
   ]
  },
  {
   "cell_type": "code",
   "execution_count": null,
   "id": "11a64a42-b5f4-4171-92ac-0524cf6e3dd8",
   "metadata": {},
   "outputs": [],
   "source": [
    "obj"
   ]
  },
  {
   "cell_type": "code",
   "execution_count": null,
   "id": "59dc1536-cc45-4081-b399-8c1818636985",
   "metadata": {},
   "outputs": [],
   "source": [
    "data = {'state':['Ohio','Ohio','Ohio','Nevada','Nevada','Nevada'],\n",
    "       'year':[2000,2001,2002,2001,2002,2003],\n",
    "       'pop':[1.5,1.7,3.6,2.4,2.9,3.2]}"
   ]
  },
  {
   "cell_type": "code",
   "execution_count": null,
   "id": "8b3f165e-54ad-48cf-be43-3e5121b2fc06",
   "metadata": {},
   "outputs": [],
   "source": [
    "frame = pd.DataFrame(data)"
   ]
  },
  {
   "cell_type": "code",
   "execution_count": null,
   "id": "60d8dcc3-53b9-4fb3-8035-79848c368edb",
   "metadata": {},
   "outputs": [],
   "source": [
    "frame"
   ]
  },
  {
   "cell_type": "code",
   "execution_count": null,
   "id": "3b3d7834-1c27-46ed-a5a1-92741c822abc",
   "metadata": {},
   "outputs": [],
   "source": [
    "frame.head()"
   ]
  },
  {
   "cell_type": "code",
   "execution_count": null,
   "id": "ef75bd3d-88db-4c80-8e0a-88671c2035c3",
   "metadata": {},
   "outputs": [],
   "source": [
    "pd.DataFrame(data,columns = ['year','state','pop'])"
   ]
  },
  {
   "cell_type": "code",
   "execution_count": null,
   "id": "cad69bf0-3699-4e88-b901-84797fea5d5f",
   "metadata": {},
   "outputs": [],
   "source": [
    "frame2 = pd.DataFrame(data,columns=['year','state','pop','debt'],index=['one','two','three','four','five','six'])"
   ]
  },
  {
   "cell_type": "code",
   "execution_count": null,
   "id": "295e94b6-b26c-489e-bc2e-1a702cc51f77",
   "metadata": {},
   "outputs": [],
   "source": [
    "frame2"
   ]
  },
  {
   "cell_type": "code",
   "execution_count": null,
   "id": "0dfbd274-e857-4ebe-a47b-0e4ce162af3f",
   "metadata": {},
   "outputs": [],
   "source": [
    "frame2.columns"
   ]
  },
  {
   "cell_type": "code",
   "execution_count": null,
   "id": "b4ba46ea-d39e-40ce-bee6-aade31991a9d",
   "metadata": {},
   "outputs": [],
   "source": [
    "frame2['state']"
   ]
  },
  {
   "cell_type": "code",
   "execution_count": null,
   "id": "077316dc-db2a-445e-bd26-c95b792937b7",
   "metadata": {},
   "outputs": [],
   "source": [
    "frame.year"
   ]
  },
  {
   "cell_type": "code",
   "execution_count": null,
   "id": "08a80493-893f-4fd8-93be-b116bfd72de9",
   "metadata": {},
   "outputs": [],
   "source": [
    "frame.state"
   ]
  },
  {
   "cell_type": "code",
   "execution_count": null,
   "id": "b1c3bf41-c265-4d31-a58a-bca88a0d08c9",
   "metadata": {},
   "outputs": [],
   "source": [
    "frame2"
   ]
  },
  {
   "cell_type": "code",
   "execution_count": null,
   "id": "2d872f4d-911b-4715-8fa8-e68f64c6f45e",
   "metadata": {},
   "outputs": [],
   "source": [
    "frame2.loc['three']"
   ]
  },
  {
   "cell_type": "code",
   "execution_count": null,
   "id": "29a1c0af-47ce-4a67-80c0-43413ebcbb36",
   "metadata": {},
   "outputs": [],
   "source": [
    "frame2['debt'] = 16.5"
   ]
  },
  {
   "cell_type": "code",
   "execution_count": null,
   "id": "b6c4fafa-a5b9-40ba-a159-584828513ee6",
   "metadata": {},
   "outputs": [],
   "source": [
    "frame2"
   ]
  },
  {
   "cell_type": "code",
   "execution_count": null,
   "id": "8ef3783d-2e78-4a73-90cd-a41cc437b78b",
   "metadata": {},
   "outputs": [],
   "source": [
    "frame2['debt'] = np.arange(6.)"
   ]
  },
  {
   "cell_type": "code",
   "execution_count": null,
   "id": "f635cc9e-8293-4d90-b461-68247d12eb1f",
   "metadata": {},
   "outputs": [],
   "source": [
    "frame2"
   ]
  },
  {
   "cell_type": "code",
   "execution_count": null,
   "id": "dfda041c-8458-4145-b263-195817c0839a",
   "metadata": {},
   "outputs": [],
   "source": [
    "val = pd.Series([-1.2,-1.5,-1.7],index = ['two','four','five'])"
   ]
  },
  {
   "cell_type": "code",
   "execution_count": null,
   "id": "09ea1bd1-2da6-4898-99cb-de37f5367841",
   "metadata": {},
   "outputs": [],
   "source": [
    "val"
   ]
  },
  {
   "cell_type": "code",
   "execution_count": null,
   "id": "857d4400-25db-4528-b990-24fd1cc2495a",
   "metadata": {},
   "outputs": [],
   "source": [
    "frame2['debt'] = val"
   ]
  },
  {
   "cell_type": "code",
   "execution_count": null,
   "id": "8f7671a2-98ec-428d-b7ef-31e8f7cbb795",
   "metadata": {},
   "outputs": [],
   "source": [
    "frame2"
   ]
  },
  {
   "cell_type": "code",
   "execution_count": null,
   "id": "446a3500-a4d9-4ec9-a5c8-fa008fbf0d85",
   "metadata": {},
   "outputs": [],
   "source": [
    "frame2['eastern'] = frame2['state']=='Ohio'"
   ]
  },
  {
   "cell_type": "code",
   "execution_count": null,
   "id": "ba3f40ae-1df9-4704-b26c-069c45ec87fc",
   "metadata": {},
   "outputs": [],
   "source": [
    "frame2"
   ]
  },
  {
   "cell_type": "code",
   "execution_count": null,
   "id": "9375bf64-77b3-4c33-8c08-518cfea759f6",
   "metadata": {},
   "outputs": [],
   "source": [
    "del frame2['eastern']"
   ]
  },
  {
   "cell_type": "code",
   "execution_count": null,
   "id": "08526147-a7ac-4c40-821e-716f1fc2da98",
   "metadata": {},
   "outputs": [],
   "source": [
    "frame2"
   ]
  },
  {
   "cell_type": "code",
   "execution_count": null,
   "id": "a9d45ac9-f83c-4729-967e-df407de5c391",
   "metadata": {},
   "outputs": [],
   "source": [
    "frame2.columns"
   ]
  },
  {
   "cell_type": "code",
   "execution_count": null,
   "id": "8159e862-94df-4e28-817e-4a076db345d3",
   "metadata": {},
   "outputs": [],
   "source": [
    "pop = {'Nevada':{2001:2.4,2002:2.9},'Ohio':{2000:1.5,2001:1.7,2002:3.6}}"
   ]
  },
  {
   "cell_type": "code",
   "execution_count": null,
   "id": "66466031-db7f-46e7-9071-257424a42706",
   "metadata": {},
   "outputs": [],
   "source": [
    "frame3 = pd.DataFrame(pop)"
   ]
  },
  {
   "cell_type": "code",
   "execution_count": null,
   "id": "0f4b8654-f8a7-4cdf-8887-6656b120b9f8",
   "metadata": {},
   "outputs": [],
   "source": [
    "frame3"
   ]
  },
  {
   "cell_type": "code",
   "execution_count": null,
   "id": "5171b28e-cc18-4eec-8d3f-3407212b44f6",
   "metadata": {},
   "outputs": [],
   "source": [
    "frame3.T"
   ]
  },
  {
   "cell_type": "code",
   "execution_count": null,
   "id": "bfef0b71-cea8-403d-83a5-db010bec5849",
   "metadata": {},
   "outputs": [],
   "source": [
    "pd.DataFrame(pop,index = [2001,2002,2003])"
   ]
  },
  {
   "cell_type": "code",
   "execution_count": null,
   "id": "dd10b176-3006-402c-822b-bc847a2584d4",
   "metadata": {},
   "outputs": [],
   "source": [
    "frame3['Ohio'][:-1]"
   ]
  },
  {
   "cell_type": "code",
   "execution_count": null,
   "id": "22a6f089-0eb8-4343-b2ec-9dce16ae28d7",
   "metadata": {},
   "outputs": [],
   "source": [
    "frame3['Nevada'][:2]"
   ]
  },
  {
   "cell_type": "code",
   "execution_count": null,
   "id": "4a08bf02-ac91-4e29-b6e7-231185084e76",
   "metadata": {},
   "outputs": [],
   "source": [
    "frame3"
   ]
  },
  {
   "cell_type": "code",
   "execution_count": null,
   "id": "c8f84552-8268-4876-a2b6-4cb3d77e8d39",
   "metadata": {},
   "outputs": [],
   "source": [
    "frame3.index.name = 'year';frame3.columns.name = 'state'"
   ]
  },
  {
   "cell_type": "code",
   "execution_count": null,
   "id": "77574837-39f0-4902-8351-458c3a0f8272",
   "metadata": {},
   "outputs": [],
   "source": [
    "frame3.sort_index()"
   ]
  },
  {
   "cell_type": "code",
   "execution_count": null,
   "id": "6002fb11-d6df-4e77-afc3-62119dec68e1",
   "metadata": {},
   "outputs": [],
   "source": [
    "frame3.values"
   ]
  },
  {
   "cell_type": "code",
   "execution_count": null,
   "id": "41df2d5b-3a3d-4fda-8846-f7cb51aa164b",
   "metadata": {},
   "outputs": [],
   "source": [
    "frame2.values"
   ]
  },
  {
   "cell_type": "code",
   "execution_count": null,
   "id": "74d47182-9359-4252-b230-168effa65159",
   "metadata": {},
   "outputs": [],
   "source": [
    "obj = pd.Series(range(3),index = ['a','b','c'])"
   ]
  },
  {
   "cell_type": "code",
   "execution_count": null,
   "id": "7d35edca-40d3-4097-ae3a-ade95217e623",
   "metadata": {},
   "outputs": [],
   "source": [
    "index = obj.index"
   ]
  },
  {
   "cell_type": "code",
   "execution_count": null,
   "id": "37d98d04-6141-4b4f-80d6-cf5b42e907a1",
   "metadata": {},
   "outputs": [],
   "source": [
    "index"
   ]
  },
  {
   "cell_type": "code",
   "execution_count": null,
   "id": "05e4d88a-017b-47c1-81a3-9507617a7dab",
   "metadata": {},
   "outputs": [],
   "source": [
    "index[1:]"
   ]
  },
  {
   "cell_type": "code",
   "execution_count": null,
   "id": "dd0ef5ca-4413-4763-94e8-21bc6304a63a",
   "metadata": {},
   "outputs": [],
   "source": [
    "index[1]"
   ]
  },
  {
   "cell_type": "code",
   "execution_count": null,
   "id": "52ab9ba8-6923-4b31-a858-950748afa790",
   "metadata": {},
   "outputs": [],
   "source": [
    "labels = pd.Index(np.arange(3))"
   ]
  },
  {
   "cell_type": "code",
   "execution_count": null,
   "id": "faefe25a-13ef-4abb-acd3-4b01327fac5d",
   "metadata": {},
   "outputs": [],
   "source": [
    "labels"
   ]
  },
  {
   "cell_type": "code",
   "execution_count": null,
   "id": "2b55d711-deed-4419-b223-29abe09b9a2f",
   "metadata": {},
   "outputs": [],
   "source": [
    "obj2 = pd.Series([1.5,-2.5,0],index = labels)"
   ]
  },
  {
   "cell_type": "code",
   "execution_count": null,
   "id": "c547e401-85b3-4a23-ae31-723e14e3cc5c",
   "metadata": {},
   "outputs": [],
   "source": [
    "obj2"
   ]
  },
  {
   "cell_type": "code",
   "execution_count": null,
   "id": "88d154d8-5d35-4c2b-a206-5645157a3307",
   "metadata": {},
   "outputs": [],
   "source": [
    "obj.index is labels"
   ]
  },
  {
   "cell_type": "code",
   "execution_count": null,
   "id": "894099e0-f553-49e9-b0f8-1e716e6dab91",
   "metadata": {},
   "outputs": [],
   "source": [
    "frame3"
   ]
  },
  {
   "cell_type": "code",
   "execution_count": null,
   "id": "2f470396-7792-4f67-8abd-c7db22b593d4",
   "metadata": {},
   "outputs": [],
   "source": [
    "frame3.index.name = 'year'"
   ]
  },
  {
   "cell_type": "code",
   "execution_count": null,
   "id": "93aac37f-22eb-43cf-90c6-70561302c435",
   "metadata": {},
   "outputs": [],
   "source": [
    "frame3"
   ]
  },
  {
   "cell_type": "code",
   "execution_count": null,
   "id": "c434d800-798a-4831-84c3-fa57daf4d557",
   "metadata": {},
   "outputs": [],
   "source": [
    "frame3.columns.name = 'state'"
   ]
  },
  {
   "cell_type": "code",
   "execution_count": null,
   "id": "14529449-1c2b-4edf-bed1-31a9c3bd743e",
   "metadata": {},
   "outputs": [],
   "source": [
    "frame3"
   ]
  },
  {
   "cell_type": "code",
   "execution_count": null,
   "id": "bb5b7a29-4a3d-47c4-957b-65fc539da1cb",
   "metadata": {},
   "outputs": [],
   "source": [
    "frame3.columns"
   ]
  },
  {
   "cell_type": "code",
   "execution_count": null,
   "id": "b6d0961b-d7b6-4cd1-bcc4-05fbe84c3f29",
   "metadata": {},
   "outputs": [],
   "source": [
    "'Ohio' in frame3.columns"
   ]
  },
  {
   "cell_type": "code",
   "execution_count": null,
   "id": "a8a6d224-5ebc-462d-8536-e8a573291882",
   "metadata": {},
   "outputs": [],
   "source": [
    "2003 in frame3.index"
   ]
  },
  {
   "cell_type": "code",
   "execution_count": null,
   "id": "2e324890-8013-4323-8c39-93359fdf487b",
   "metadata": {},
   "outputs": [],
   "source": [
    "dup_labels = pd.Index(['foo','foo','bar','bar'])"
   ]
  },
  {
   "cell_type": "code",
   "execution_count": null,
   "id": "0ce80752-7c18-462c-a9df-06629fa10e14",
   "metadata": {},
   "outputs": [],
   "source": [
    "dup_labels"
   ]
  },
  {
   "cell_type": "code",
   "execution_count": null,
   "id": "3e91123a-36a8-4696-a573-a15930413b36",
   "metadata": {},
   "outputs": [],
   "source": [
    "obj = pd.Series([4.5,7.2,-5.3,3.6],index = ['d','b','a','c'])"
   ]
  },
  {
   "cell_type": "code",
   "execution_count": null,
   "id": "af471a5a-02ba-40bc-b493-7de0f3110daa",
   "metadata": {},
   "outputs": [],
   "source": [
    "obj"
   ]
  },
  {
   "cell_type": "code",
   "execution_count": null,
   "id": "43ce4b83-9e90-44a4-bac8-7f23ec1dd40f",
   "metadata": {},
   "outputs": [],
   "source": [
    "obj2 = obj.reindex(['a','b','c','d','e'])"
   ]
  },
  {
   "cell_type": "code",
   "execution_count": null,
   "id": "cd1b6da6-0306-4fea-a49c-ca64e6e00788",
   "metadata": {},
   "outputs": [],
   "source": [
    "obj2"
   ]
  },
  {
   "cell_type": "code",
   "execution_count": null,
   "id": "bb4c7506-5cd5-4898-ad2d-1fe9f127f83e",
   "metadata": {},
   "outputs": [],
   "source": [
    "obj3 = pd.Series(['blue','purple','yellow'],index = [0,2,4])"
   ]
  },
  {
   "cell_type": "code",
   "execution_count": null,
   "id": "82a750b1-1ab0-48c9-b8e6-542f16528745",
   "metadata": {},
   "outputs": [],
   "source": [
    "obj3"
   ]
  },
  {
   "cell_type": "code",
   "execution_count": null,
   "id": "c3bb8358-045d-470b-b797-720d01e0fae8",
   "metadata": {},
   "outputs": [],
   "source": [
    "obj3.reindex(range(6),method = 'ffill')"
   ]
  },
  {
   "cell_type": "code",
   "execution_count": null,
   "id": "03e32fd6-a3f6-426b-ac53-92ec46a3282b",
   "metadata": {},
   "outputs": [],
   "source": [
    "frame = pd.DataFrame(np.arange(9).reshape((3,3)),index = ['a','c','d'],columns = ['Ohio','Texas','California'])"
   ]
  },
  {
   "cell_type": "code",
   "execution_count": null,
   "id": "1e71df59-88b4-4d0c-af16-7c7ae25aad16",
   "metadata": {},
   "outputs": [],
   "source": [
    "frame"
   ]
  },
  {
   "cell_type": "code",
   "execution_count": null,
   "id": "02d4e54e-1cce-4fe4-b086-c7d2d96c552f",
   "metadata": {},
   "outputs": [],
   "source": [
    "frame.reindex(['a','b','c','d'])"
   ]
  },
  {
   "cell_type": "code",
   "execution_count": null,
   "id": "939c44ab-379c-4a34-a828-1c52a5738fb7",
   "metadata": {},
   "outputs": [],
   "source": [
    "states = ['Texas','Utah','California']"
   ]
  },
  {
   "cell_type": "code",
   "execution_count": null,
   "id": "9cf87c27-f6dd-42ca-84c8-6e758ec1057c",
   "metadata": {},
   "outputs": [],
   "source": [
    "frame.reindex(columns = states)"
   ]
  },
  {
   "cell_type": "code",
   "execution_count": null,
   "id": "5722b6d3-2fa2-4fd2-9e9e-27c5619db7b5",
   "metadata": {},
   "outputs": [],
   "source": [
    "obj = pd.Series(np.arange(5.),index = ['a','b','c','d','e'])"
   ]
  },
  {
   "cell_type": "code",
   "execution_count": null,
   "id": "e394fecc-d1f7-4ab7-b2d2-f334bf1cbdac",
   "metadata": {},
   "outputs": [],
   "source": [
    "obj"
   ]
  },
  {
   "cell_type": "code",
   "execution_count": null,
   "id": "4cc36bed-166e-46ed-ba80-56f538c7ece3",
   "metadata": {},
   "outputs": [],
   "source": [
    "new_obj = obj.drop('c')"
   ]
  },
  {
   "cell_type": "code",
   "execution_count": null,
   "id": "b3f9c3e6-8a1e-4ac1-abe7-65d780d87cad",
   "metadata": {},
   "outputs": [],
   "source": [
    "new_obj"
   ]
  },
  {
   "cell_type": "code",
   "execution_count": null,
   "id": "ae6f67ec-83a9-451f-a53f-a76199f9d3af",
   "metadata": {},
   "outputs": [],
   "source": [
    "obj"
   ]
  },
  {
   "cell_type": "code",
   "execution_count": null,
   "id": "985be163-c750-4d53-820d-963f285fc979",
   "metadata": {},
   "outputs": [],
   "source": [
    "obj.drop(['d','c'])"
   ]
  },
  {
   "cell_type": "code",
   "execution_count": null,
   "id": "c31930dd-f04b-4f7e-816a-7292b7f1318d",
   "metadata": {},
   "outputs": [],
   "source": [
    "obj"
   ]
  },
  {
   "cell_type": "code",
   "execution_count": null,
   "id": "9b78fab6-2f9c-4f72-936f-9c493416374b",
   "metadata": {},
   "outputs": [],
   "source": [
    "data = pd.DataFrame(np.arange(16).reshape((4,4)),index = ['Ohio','Colorado','Utah','New York'],columns = ['one','two','three','four'])"
   ]
  },
  {
   "cell_type": "code",
   "execution_count": null,
   "id": "3c34f592-79dd-4d59-8047-f607867e7c5b",
   "metadata": {},
   "outputs": [],
   "source": [
    "data"
   ]
  },
  {
   "cell_type": "code",
   "execution_count": null,
   "id": "9c3f3bab-3e20-41f1-b1ef-afcb8f554acf",
   "metadata": {},
   "outputs": [],
   "source": [
    "data.drop(['Ohio','New York'])"
   ]
  },
  {
   "cell_type": "code",
   "execution_count": null,
   "id": "09e23c9c-f66b-4bb1-b08d-62f6128a0097",
   "metadata": {},
   "outputs": [],
   "source": [
    "data.drop('two',axis = 'columns')"
   ]
  },
  {
   "cell_type": "code",
   "execution_count": null,
   "id": "c950e61d-a70b-4b96-a3db-8a5a8527673c",
   "metadata": {},
   "outputs": [],
   "source": [
    "data.drop(['two','four'],axis = 'columns')"
   ]
  },
  {
   "cell_type": "code",
   "execution_count": null,
   "id": "85c81c08-be9c-4c5b-8c1f-b9b61c569b89",
   "metadata": {},
   "outputs": [],
   "source": [
    "obj"
   ]
  },
  {
   "cell_type": "code",
   "execution_count": null,
   "id": "51b3b1f0-0833-4a3a-b638-fe96950210e4",
   "metadata": {},
   "outputs": [],
   "source": [
    "obj.drop('c',inplace = True)"
   ]
  },
  {
   "cell_type": "code",
   "execution_count": null,
   "id": "52b5c38b-3f3a-4847-8836-6f3b194aa5f9",
   "metadata": {},
   "outputs": [],
   "source": [
    "obj"
   ]
  },
  {
   "cell_type": "code",
   "execution_count": null,
   "id": "519fd8c8-5590-4564-bcc8-72358b450726",
   "metadata": {},
   "outputs": [],
   "source": [
    "obj = pd.Series(np.arange(4.),index = ['a','b','c','d'])"
   ]
  },
  {
   "cell_type": "code",
   "execution_count": null,
   "id": "bf757b62-2722-4165-9215-ac900ef6f326",
   "metadata": {},
   "outputs": [],
   "source": [
    "obj"
   ]
  },
  {
   "cell_type": "code",
   "execution_count": null,
   "id": "171123e7-8088-4768-9da8-c00ad41c31a0",
   "metadata": {},
   "outputs": [],
   "source": [
    "obj['b']"
   ]
  },
  {
   "cell_type": "code",
   "execution_count": null,
   "id": "b99a7c38-d587-49d3-826c-a6380e5292ec",
   "metadata": {},
   "outputs": [],
   "source": [
    "obj[1]"
   ]
  },
  {
   "cell_type": "code",
   "execution_count": null,
   "id": "92d42703-cdae-4234-83ed-5aef46d43f9e",
   "metadata": {},
   "outputs": [],
   "source": [
    "obj[2:4]"
   ]
  },
  {
   "cell_type": "code",
   "execution_count": null,
   "id": "97c9a165-1f7a-4725-afd3-2cf39901e215",
   "metadata": {},
   "outputs": [],
   "source": [
    "obj[['b','a','d']]"
   ]
  },
  {
   "cell_type": "code",
   "execution_count": null,
   "id": "ff984c11-7e3a-471b-8085-890c4927ffd4",
   "metadata": {},
   "outputs": [],
   "source": [
    "obj[[1,3]]"
   ]
  },
  {
   "cell_type": "code",
   "execution_count": null,
   "id": "356640be-4bb1-4c16-86f1-6d8c96f471ff",
   "metadata": {},
   "outputs": [],
   "source": [
    "obj[obj < 2]"
   ]
  },
  {
   "cell_type": "code",
   "execution_count": null,
   "id": "c2de06dc-f2a6-4667-bfd8-b6fcdbf2c276",
   "metadata": {},
   "outputs": [],
   "source": [
    "obj['b':'c']"
   ]
  },
  {
   "cell_type": "code",
   "execution_count": null,
   "id": "319613a0-1058-4e8d-a1ac-252ab5e26e48",
   "metadata": {},
   "outputs": [],
   "source": [
    "obj['b':'c'] = 5"
   ]
  },
  {
   "cell_type": "code",
   "execution_count": null,
   "id": "6f4d8d8d-71d7-4aa9-9496-9811c3da7640",
   "metadata": {},
   "outputs": [],
   "source": [
    "obj"
   ]
  },
  {
   "cell_type": "code",
   "execution_count": null,
   "id": "49fcc4db-6299-4e3b-b2f8-a193ed968c37",
   "metadata": {},
   "outputs": [],
   "source": [
    "data = pd.DataFrame(np.arange(16).reshape((4,4)),index = ['Ohio','Calorado','Utah','New York'],columns = ['one','two','three','four'])"
   ]
  },
  {
   "cell_type": "code",
   "execution_count": null,
   "id": "2319f1fb-2016-4649-81e0-17780f8fabbf",
   "metadata": {},
   "outputs": [],
   "source": [
    "data"
   ]
  },
  {
   "cell_type": "code",
   "execution_count": null,
   "id": "ab2c3988-cf33-439b-a5ab-0d2cdf3514c0",
   "metadata": {},
   "outputs": [],
   "source": [
    "data['two']"
   ]
  },
  {
   "cell_type": "code",
   "execution_count": null,
   "id": "46ac332c-1321-4193-93e1-0171d6a86b00",
   "metadata": {},
   "outputs": [],
   "source": [
    "data[['three','one']]"
   ]
  },
  {
   "cell_type": "code",
   "execution_count": null,
   "id": "81f90639-6155-4c09-a4a7-7d02dc8f8708",
   "metadata": {},
   "outputs": [],
   "source": [
    "data[:2]"
   ]
  },
  {
   "cell_type": "code",
   "execution_count": null,
   "id": "5d54456f-076f-494d-8928-c9d580e632d0",
   "metadata": {},
   "outputs": [],
   "source": [
    "data[data['three'] > 5]"
   ]
  },
  {
   "cell_type": "code",
   "execution_count": null,
   "id": "1a33911a-d3c4-4cd7-b228-b5376e068904",
   "metadata": {},
   "outputs": [],
   "source": [
    "data[data<5]=0"
   ]
  },
  {
   "cell_type": "code",
   "execution_count": null,
   "id": "899494e5-cbc0-4a68-b127-bb72218a1fd4",
   "metadata": {},
   "outputs": [],
   "source": [
    "data"
   ]
  },
  {
   "cell_type": "code",
   "execution_count": null,
   "id": "9adab1d6-57bd-419d-be62-1e7883e49475",
   "metadata": {},
   "outputs": [],
   "source": [
    "data.loc['Calorado',['two','three']]"
   ]
  },
  {
   "cell_type": "code",
   "execution_count": null,
   "id": "279fac6d-c101-4ef2-8765-6a997b4fa9fc",
   "metadata": {},
   "outputs": [],
   "source": [
    "data.iloc[2,[3,0,1]]"
   ]
  },
  {
   "cell_type": "code",
   "execution_count": null,
   "id": "408eaaed-ae45-4811-b7f4-75f1c248d1a7",
   "metadata": {},
   "outputs": [],
   "source": [
    "data.iloc[2]"
   ]
  },
  {
   "cell_type": "code",
   "execution_count": null,
   "id": "462c3c95-7df3-44e1-aae1-92f5b0f0be41",
   "metadata": {},
   "outputs": [],
   "source": [
    "data.iloc[[1,2],[3,0,1]]"
   ]
  },
  {
   "cell_type": "code",
   "execution_count": null,
   "id": "80ca244c-5ec6-4313-b6cc-fba7f9239f82",
   "metadata": {},
   "outputs": [],
   "source": [
    "data"
   ]
  },
  {
   "cell_type": "code",
   "execution_count": null,
   "id": "4ed52b0f-5485-40a4-b985-c8fe7382aa54",
   "metadata": {},
   "outputs": [],
   "source": [
    "data.loc[:'Utah','two']"
   ]
  },
  {
   "cell_type": "code",
   "execution_count": null,
   "id": "faf0cf6f-c181-4598-8916-68d667fb9e98",
   "metadata": {},
   "outputs": [],
   "source": [
    "data.iloc[:,:3][data.three>5]"
   ]
  },
  {
   "cell_type": "code",
   "execution_count": null,
   "id": "479c0992-91da-4935-a3e4-c3a376d3c287",
   "metadata": {},
   "outputs": [],
   "source": [
    "ser = pd.Series(np.arange(3.0))"
   ]
  },
  {
   "cell_type": "code",
   "execution_count": null,
   "id": "35503649-4c0e-4e13-bf6c-b6afa656d072",
   "metadata": {},
   "outputs": [],
   "source": [
    "ser"
   ]
  },
  {
   "cell_type": "code",
   "execution_count": null,
   "id": "b0046f67-a012-4570-8569-23784d7a9fa3",
   "metadata": {},
   "outputs": [],
   "source": [
    "ser2 = pd.Series(np.arange(3.),index = ['a','b','c'])"
   ]
  },
  {
   "cell_type": "code",
   "execution_count": null,
   "id": "fdeb144b-ab0a-436f-abba-b9d5c067df82",
   "metadata": {},
   "outputs": [],
   "source": [
    "ser2"
   ]
  },
  {
   "cell_type": "code",
   "execution_count": null,
   "id": "ee939057-98ec-4954-a420-e8a35bc8c948",
   "metadata": {},
   "outputs": [],
   "source": [
    "ser2[1]"
   ]
  },
  {
   "cell_type": "code",
   "execution_count": null,
   "id": "935a68f1-8276-4f34-9b9d-901f0258a230",
   "metadata": {},
   "outputs": [],
   "source": [
    "ser2[-1]"
   ]
  },
  {
   "cell_type": "code",
   "execution_count": null,
   "id": "5e5cfca4-d904-4de1-a910-2df5adec2182",
   "metadata": {},
   "outputs": [],
   "source": [
    "ser"
   ]
  },
  {
   "cell_type": "code",
   "execution_count": null,
   "id": "db89b50a-befb-4695-b2be-134fc6354670",
   "metadata": {},
   "outputs": [],
   "source": [
    "ser[:1]"
   ]
  },
  {
   "cell_type": "code",
   "execution_count": null,
   "id": "4f6dbda6-8464-4005-84c3-a1b57b5935dc",
   "metadata": {},
   "outputs": [],
   "source": [
    "ser.loc[:1]"
   ]
  },
  {
   "cell_type": "code",
   "execution_count": null,
   "id": "fc2316a1-67de-4dcd-b9b7-6e36d5fdb6a3",
   "metadata": {},
   "outputs": [],
   "source": [
    "ser.iloc[:1]"
   ]
  },
  {
   "cell_type": "code",
   "execution_count": null,
   "id": "1bb1af72-c2a4-4c87-9fc5-5a51ee75b33b",
   "metadata": {},
   "outputs": [],
   "source": [
    "s1 = pd.Series([7.3,-2.5,3.4,1.5],index = ['a','c','d','e'])"
   ]
  },
  {
   "cell_type": "code",
   "execution_count": null,
   "id": "53acc21b-dbc7-4476-a6b2-7cff3bee55db",
   "metadata": {},
   "outputs": [],
   "source": [
    "s1"
   ]
  },
  {
   "cell_type": "code",
   "execution_count": null,
   "id": "e84474a0-58a1-46f1-89fc-7354e62e232c",
   "metadata": {},
   "outputs": [],
   "source": [
    "s2 = pd.Series([-2.1,3.6,-1.5,4,3.1],index = ['a','c','e','f','g'])"
   ]
  },
  {
   "cell_type": "code",
   "execution_count": null,
   "id": "60769072-4b1c-4db1-bea1-da05642209c8",
   "metadata": {},
   "outputs": [],
   "source": [
    "s2"
   ]
  },
  {
   "cell_type": "code",
   "execution_count": null,
   "id": "e3f6e38a-1b88-4663-83d5-665b27e5f3b5",
   "metadata": {},
   "outputs": [],
   "source": [
    "s1 + s2"
   ]
  },
  {
   "cell_type": "code",
   "execution_count": null,
   "id": "d5ba5409-ff43-4a46-8da7-d7ab5b93c435",
   "metadata": {},
   "outputs": [],
   "source": [
    "df1 = pd.DataFrame(np.arange(9.).reshape((3,3)),columns = list('bcd'),index = ['Ohio','Texas','Colorado'])"
   ]
  },
  {
   "cell_type": "code",
   "execution_count": null,
   "id": "2d27e61b-197d-4a0e-9cf8-95b57f73c2cc",
   "metadata": {},
   "outputs": [],
   "source": [
    "df2 = pd.DataFrame(np.arange(12.).reshape((4,3)),columns = list('bde'),index = ['Utah','Ohio','Texas','Oregon'])"
   ]
  },
  {
   "cell_type": "code",
   "execution_count": null,
   "id": "d58a73c2-ed32-40fc-8968-a2ca7f2889a5",
   "metadata": {},
   "outputs": [],
   "source": [
    "df2"
   ]
  },
  {
   "cell_type": "code",
   "execution_count": null,
   "id": "6094ef17-731a-4b4d-92ad-30c329ce20d0",
   "metadata": {},
   "outputs": [],
   "source": [
    "df1 +df2"
   ]
  },
  {
   "cell_type": "code",
   "execution_count": null,
   "id": "9d522662-6bc8-4b14-a2bd-107b1e7c3edd",
   "metadata": {},
   "outputs": [],
   "source": [
    "df1 = pd.DataFrame({'A':[1,2]})"
   ]
  },
  {
   "cell_type": "code",
   "execution_count": null,
   "id": "ceec909c-6b68-495e-ac6d-1fc3ff20cc88",
   "metadata": {},
   "outputs": [],
   "source": [
    "df2 = pd.DataFrame({'B':[3,4]})"
   ]
  },
  {
   "cell_type": "code",
   "execution_count": null,
   "id": "9db1b0f0-b638-40e7-817d-f8ac9a8e4b08",
   "metadata": {},
   "outputs": [],
   "source": [
    "df1 - df2"
   ]
  },
  {
   "cell_type": "code",
   "execution_count": null,
   "id": "365a668e-34dc-4f76-917b-516bc66dbc55",
   "metadata": {},
   "outputs": [],
   "source": [
    "df1 = pd.DataFrame(np.arange(12.).reshape((3,4)),columns = list('abcd'))"
   ]
  },
  {
   "cell_type": "code",
   "execution_count": null,
   "id": "df9ee66b-cef7-466c-a149-601db0e99ed5",
   "metadata": {},
   "outputs": [],
   "source": [
    "df2 = pd.DataFrame(np.arange(20.).reshape((4,5)),columns = list('abcde'))"
   ]
  },
  {
   "cell_type": "code",
   "execution_count": null,
   "id": "2aa711d9-bda7-4da0-9b95-fa7dfe3edea9",
   "metadata": {},
   "outputs": [],
   "source": [
    "df2"
   ]
  },
  {
   "cell_type": "code",
   "execution_count": null,
   "id": "3457921a-b4e0-4d6c-b2d6-3edb7a8c7308",
   "metadata": {},
   "outputs": [],
   "source": [
    "df2.loc[1,'b'] = np.nan"
   ]
  },
  {
   "cell_type": "code",
   "execution_count": null,
   "id": "1580d009-cfc5-445c-9223-f652f6d2752b",
   "metadata": {},
   "outputs": [],
   "source": [
    "df2"
   ]
  },
  {
   "cell_type": "code",
   "execution_count": null,
   "id": "2c4b0e46-1278-4794-b850-1f45fc3a4349",
   "metadata": {},
   "outputs": [],
   "source": [
    "df1"
   ]
  },
  {
   "cell_type": "code",
   "execution_count": null,
   "id": "e212708a-1096-4d0a-8088-dc6f5ae8b5c8",
   "metadata": {},
   "outputs": [],
   "source": [
    "df1 + df2"
   ]
  },
  {
   "cell_type": "code",
   "execution_count": null,
   "id": "0fdafa1d-f7bc-4019-b459-cda5acc72ce4",
   "metadata": {},
   "outputs": [],
   "source": [
    "df1.add(df2,fill_value=0)"
   ]
  },
  {
   "cell_type": "code",
   "execution_count": null,
   "id": "83100802-e3f2-4985-9882-4062a79ccdbb",
   "metadata": {},
   "outputs": [],
   "source": [
    "df1"
   ]
  },
  {
   "cell_type": "code",
   "execution_count": null,
   "id": "b10af35a-a118-4306-9117-00c57011d9df",
   "metadata": {},
   "outputs": [],
   "source": [
    "1/df1"
   ]
  },
  {
   "cell_type": "code",
   "execution_count": null,
   "id": "ef2e6c7e-5da3-4d9a-a3eb-6aed99eada71",
   "metadata": {},
   "outputs": [],
   "source": [
    "df1.rdiv(1)"
   ]
  },
  {
   "cell_type": "code",
   "execution_count": null,
   "id": "5ef829fd-ab50-48e6-9bf1-4d1262fd0f2b",
   "metadata": {},
   "outputs": [],
   "source": [
    "df1"
   ]
  },
  {
   "cell_type": "code",
   "execution_count": null,
   "id": "88116e50-7f49-4a47-a128-a788a202fe1c",
   "metadata": {},
   "outputs": [],
   "source": [
    "df1.reindex(columns = df2.columns,fill_value = 0)"
   ]
  },
  {
   "cell_type": "code",
   "execution_count": null,
   "id": "bc7aad2e-6c1e-4d67-ae8b-f3899e09215d",
   "metadata": {},
   "outputs": [],
   "source": [
    "df1"
   ]
  },
  {
   "cell_type": "code",
   "execution_count": null,
   "id": "48bb6cff-8b69-4bba-b64d-15ace4719c71",
   "metadata": {},
   "outputs": [],
   "source": [
    "arr = np.arange(12.).reshape(3,4)"
   ]
  },
  {
   "cell_type": "code",
   "execution_count": null,
   "id": "bc0b8143-fa07-42d5-9395-6729eb041178",
   "metadata": {},
   "outputs": [],
   "source": [
    "arr"
   ]
  },
  {
   "cell_type": "code",
   "execution_count": null,
   "id": "f6763c61-f144-4513-98fe-08c0df026bed",
   "metadata": {},
   "outputs": [],
   "source": [
    "arr[0]"
   ]
  },
  {
   "cell_type": "code",
   "execution_count": null,
   "id": "5768835d-0327-4d33-aa57-c33aab2f0705",
   "metadata": {},
   "outputs": [],
   "source": [
    "arr - arr[0]"
   ]
  },
  {
   "cell_type": "code",
   "execution_count": null,
   "id": "46fb458f-ae27-484b-9f0a-a7c3d2debc1b",
   "metadata": {},
   "outputs": [],
   "source": [
    "arr"
   ]
  },
  {
   "cell_type": "code",
   "execution_count": null,
   "id": "9bb659ef-0a83-4a85-aad4-5cac1e623ad4",
   "metadata": {},
   "outputs": [],
   "source": [
    "frame = pd.DataFrame(np.arange(12.).reshape((4,3)),columns = list('bde'),index = ['Utah','Ohio','Texas','Oregon'])"
   ]
  },
  {
   "cell_type": "code",
   "execution_count": null,
   "id": "77964ed6-6b84-4313-9017-18b18723f95b",
   "metadata": {},
   "outputs": [],
   "source": [
    "frame"
   ]
  },
  {
   "cell_type": "code",
   "execution_count": null,
   "id": "60ca64c9-973e-4c8c-b2b3-529ce4fb35d9",
   "metadata": {},
   "outputs": [],
   "source": [
    "series = frame.iloc[0]"
   ]
  },
  {
   "cell_type": "code",
   "execution_count": null,
   "id": "3fdeb97e-cfd8-4ff6-88fe-066f8d8120e7",
   "metadata": {},
   "outputs": [],
   "source": [
    "series"
   ]
  },
  {
   "cell_type": "code",
   "execution_count": null,
   "id": "115cddff-afe4-42d4-a577-75a96bfca1cf",
   "metadata": {},
   "outputs": [],
   "source": [
    "frame - series"
   ]
  },
  {
   "cell_type": "code",
   "execution_count": null,
   "id": "1d788eab-5fd9-4e6f-96e5-a221206806d3",
   "metadata": {},
   "outputs": [],
   "source": [
    "series = pd.Series(range(3),index = ['b','e','f'])"
   ]
  },
  {
   "cell_type": "code",
   "execution_count": null,
   "id": "2ff6c049-276e-4abc-9b54-dad5f6c3e190",
   "metadata": {},
   "outputs": [],
   "source": [
    "series"
   ]
  },
  {
   "cell_type": "code",
   "execution_count": null,
   "id": "a501e091-fb1b-47a6-a84a-1082ac84fbc3",
   "metadata": {},
   "outputs": [],
   "source": [
    "frame + series"
   ]
  },
  {
   "cell_type": "code",
   "execution_count": null,
   "id": "2c1e134b-3ec3-420b-a32b-7103fcdb7043",
   "metadata": {},
   "outputs": [],
   "source": [
    "frame.add(series)"
   ]
  },
  {
   "cell_type": "code",
   "execution_count": null,
   "id": "d5cd90ef-3521-4c78-aaca-ff7128aae161",
   "metadata": {},
   "outputs": [],
   "source": [
    "series3 = frame['d']"
   ]
  },
  {
   "cell_type": "code",
   "execution_count": null,
   "id": "a8eb7f2c-1b11-4888-92c3-84e5b6fc3a7a",
   "metadata": {},
   "outputs": [],
   "source": [
    "series3"
   ]
  },
  {
   "cell_type": "code",
   "execution_count": null,
   "id": "9abc8c5a-f010-4ebf-9222-3f04c3adc1b7",
   "metadata": {},
   "outputs": [],
   "source": [
    "frame"
   ]
  },
  {
   "cell_type": "code",
   "execution_count": null,
   "id": "9cb4beb7-b6b4-4bad-8765-5e525996398d",
   "metadata": {},
   "outputs": [],
   "source": [
    "frame.sub(series3,axis = 0)"
   ]
  },
  {
   "cell_type": "code",
   "execution_count": null,
   "id": "843a0e6d-e732-4ad7-af06-a5871620c838",
   "metadata": {},
   "outputs": [],
   "source": [
    "frame = pd.DataFrame(np.random.randn(4,3),columns = list('bde'),index = ['Utha','Ohio','Texas','Oregon'])"
   ]
  },
  {
   "cell_type": "code",
   "execution_count": null,
   "id": "f8331467-9ce4-4ff3-976a-9e27cea48ea3",
   "metadata": {},
   "outputs": [],
   "source": [
    "frame"
   ]
  },
  {
   "cell_type": "code",
   "execution_count": null,
   "id": "ea312222-c2a5-47b1-8a7b-95e24f36f0d7",
   "metadata": {},
   "outputs": [],
   "source": [
    "np.abs(frame)"
   ]
  },
  {
   "cell_type": "code",
   "execution_count": null,
   "id": "fa56cbdc-7f79-42e1-85fd-0314b35d3abc",
   "metadata": {},
   "outputs": [],
   "source": [
    "frame.abs()"
   ]
  },
  {
   "cell_type": "code",
   "execution_count": null,
   "id": "8fe95d80-fe18-443a-8c4d-c0f4261a11af",
   "metadata": {},
   "outputs": [],
   "source": [
    "f = lambda x : x.max() - x.min()"
   ]
  },
  {
   "cell_type": "code",
   "execution_count": null,
   "id": "19452361-adb0-4b3c-9ee5-8d79911bc6a6",
   "metadata": {},
   "outputs": [],
   "source": [
    "frame.apply(f)"
   ]
  },
  {
   "cell_type": "code",
   "execution_count": null,
   "id": "471667a4-f06b-489c-b4c5-864562f68e9f",
   "metadata": {},
   "outputs": [],
   "source": [
    "frame"
   ]
  },
  {
   "cell_type": "code",
   "execution_count": null,
   "id": "55f8bde0-dc25-4d91-844d-729493d24b9e",
   "metadata": {},
   "outputs": [],
   "source": [
    "frame.apply(f,axis = 1)"
   ]
  },
  {
   "cell_type": "code",
   "execution_count": null,
   "id": "77c94bd0-1914-498b-8c67-66b853497bb5",
   "metadata": {},
   "outputs": [],
   "source": [
    "def f(x):\n",
    "    return pd.Series([x.min(),x.max()],index = ['min','max'])"
   ]
  },
  {
   "cell_type": "code",
   "execution_count": null,
   "id": "b4f67248-bea8-4241-a183-82ab4d5e5a1e",
   "metadata": {},
   "outputs": [],
   "source": [
    "frame.apply(f)"
   ]
  },
  {
   "cell_type": "code",
   "execution_count": null,
   "id": "2ea22381-4a29-4ab7-a084-67df7944bef3",
   "metadata": {},
   "outputs": [],
   "source": [
    "format = lambda x :'%.2f'%x"
   ]
  },
  {
   "cell_type": "code",
   "execution_count": null,
   "id": "6e9b5a3b-c877-4386-8a5b-ba57bcdd7d52",
   "metadata": {},
   "outputs": [],
   "source": [
    "frame.applymap(format)"
   ]
  },
  {
   "cell_type": "code",
   "execution_count": null,
   "id": "0b6e1c60-48cd-4278-8a52-019f96b7dcd4",
   "metadata": {},
   "outputs": [],
   "source": [
    "frame['e'].map(format)"
   ]
  },
  {
   "cell_type": "code",
   "execution_count": null,
   "id": "3651bc8a-446a-4c2f-8152-b4cf69066733",
   "metadata": {},
   "outputs": [],
   "source": [
    "obj = pd.Series(range(4),index = ['d','a','b','c'])"
   ]
  },
  {
   "cell_type": "code",
   "execution_count": null,
   "id": "b5a7dae4-1163-489c-9e88-8357118ac947",
   "metadata": {},
   "outputs": [],
   "source": [
    "obj"
   ]
  },
  {
   "cell_type": "code",
   "execution_count": null,
   "id": "2cfd0db8-9415-4d47-b688-3a9707309fca",
   "metadata": {},
   "outputs": [],
   "source": [
    "obj.sort_index()"
   ]
  },
  {
   "cell_type": "code",
   "execution_count": null,
   "id": "bb24d92d-d16e-4bca-a713-b701ba82dffb",
   "metadata": {},
   "outputs": [],
   "source": [
    "frame = pd.DataFrame(np.arange(8).reshape((2,4)))"
   ]
  },
  {
   "cell_type": "code",
   "execution_count": null,
   "id": "e675b085-03c6-4463-8820-7ed392a30d5c",
   "metadata": {},
   "outputs": [],
   "source": [
    "frame.index = ['three','one']"
   ]
  },
  {
   "cell_type": "code",
   "execution_count": null,
   "id": "dcac3bf9-132b-4ea2-afc7-be712111f974",
   "metadata": {},
   "outputs": [],
   "source": [
    "frame.columns = ['d','a','b','c']"
   ]
  },
  {
   "cell_type": "code",
   "execution_count": null,
   "id": "529616c7-caac-4253-ace7-ba4bbd9d73d1",
   "metadata": {},
   "outputs": [],
   "source": [
    "frame"
   ]
  },
  {
   "cell_type": "code",
   "execution_count": null,
   "id": "fac7b071-3128-46d2-add6-febc5f7342e8",
   "metadata": {},
   "outputs": [],
   "source": [
    "frame.sort_index()"
   ]
  },
  {
   "cell_type": "code",
   "execution_count": null,
   "id": "69f28dc4-d3f3-4290-a462-745da8239cad",
   "metadata": {},
   "outputs": [],
   "source": [
    "frame.sort_index(axis = 1)"
   ]
  },
  {
   "cell_type": "code",
   "execution_count": null,
   "id": "c23a1a91-3f56-43b9-83dc-0fdfa5ec6a99",
   "metadata": {},
   "outputs": [],
   "source": [
    "frame.sort_index(axis = 1,ascending = False)"
   ]
  },
  {
   "cell_type": "code",
   "execution_count": null,
   "id": "5ce9756c-1356-4f7c-8ed8-5d0e93a91211",
   "metadata": {},
   "outputs": [],
   "source": [
    "obj = pd.Series([4,7,-3,2])"
   ]
  },
  {
   "cell_type": "code",
   "execution_count": null,
   "id": "13652f15-c8bf-4484-8acf-199ace87e0e0",
   "metadata": {},
   "outputs": [],
   "source": [
    "obj"
   ]
  },
  {
   "cell_type": "code",
   "execution_count": null,
   "id": "87498300-9573-499b-9248-878c64e58395",
   "metadata": {},
   "outputs": [],
   "source": [
    "obj.sort_values()"
   ]
  },
  {
   "cell_type": "code",
   "execution_count": null,
   "id": "02d710ac-5ad7-47cd-9d25-433908ed27fc",
   "metadata": {},
   "outputs": [],
   "source": [
    "obj = pd.Series([4,np.nan,7,np.nan,-3,2])"
   ]
  },
  {
   "cell_type": "code",
   "execution_count": null,
   "id": "020b1987-feec-47b2-8586-b2633b6c1fc9",
   "metadata": {},
   "outputs": [],
   "source": [
    "obj"
   ]
  },
  {
   "cell_type": "code",
   "execution_count": null,
   "id": "a3cd0cf7-2e44-417d-af48-e6bdbb0045e1",
   "metadata": {},
   "outputs": [],
   "source": [
    "obj.sort_values()"
   ]
  },
  {
   "cell_type": "code",
   "execution_count": null,
   "id": "d4e70b34-ef4b-43da-83ba-693dbfaf5f92",
   "metadata": {},
   "outputs": [],
   "source": [
    "frame = pd.DataFrame({'b':[4,7,-3,2],'a':[0,1,0,1]})"
   ]
  },
  {
   "cell_type": "code",
   "execution_count": null,
   "id": "1950c8f0-e824-4633-997e-808bc1a75c9c",
   "metadata": {},
   "outputs": [],
   "source": [
    "frame.sort_index(axis = 1)"
   ]
  },
  {
   "cell_type": "code",
   "execution_count": null,
   "id": "76501c60-1c6b-448a-a777-4bdd35b0e210",
   "metadata": {},
   "outputs": [],
   "source": [
    "frame.sort_values(by = 'b')"
   ]
  },
  {
   "cell_type": "code",
   "execution_count": null,
   "id": "70558ae9-06c6-4ca3-841f-cd43bfc10b35",
   "metadata": {},
   "outputs": [],
   "source": [
    "frame.sort_values(by = ['a','b'])"
   ]
  },
  {
   "cell_type": "code",
   "execution_count": null,
   "id": "8da8320e-2d3c-4cdb-bb4d-3a2dbf07572b",
   "metadata": {},
   "outputs": [],
   "source": [
    "obj = pd.Series([7,-5,7,4,2,0,4])"
   ]
  },
  {
   "cell_type": "code",
   "execution_count": null,
   "id": "fb412225-897a-440e-9976-2fe1397b701a",
   "metadata": {},
   "outputs": [],
   "source": [
    "obj"
   ]
  },
  {
   "cell_type": "code",
   "execution_count": null,
   "id": "8e6a190f-ad18-4f47-88b3-bb51954ec4a2",
   "metadata": {},
   "outputs": [],
   "source": [
    "obj.rank()"
   ]
  },
  {
   "cell_type": "code",
   "execution_count": null,
   "id": "5b2f956c-0b1f-4fb4-bdf1-a362e47265db",
   "metadata": {},
   "outputs": [],
   "source": [
    "obj.rank(method = 'first')"
   ]
  },
  {
   "cell_type": "code",
   "execution_count": null,
   "id": "9362ce1d-a44d-4c42-b7de-457ce818bac3",
   "metadata": {},
   "outputs": [],
   "source": [
    "obj.rank(ascending = False,method = 'max')"
   ]
  },
  {
   "cell_type": "code",
   "execution_count": null,
   "id": "f7e2a332-2573-4086-a114-98988a084695",
   "metadata": {},
   "outputs": [],
   "source": [
    "obj = pd.DataFrame({'b':[4.3,7,-3,2],'a':[0,1,0,1],'c':[-2,5,8,-2.5]})"
   ]
  },
  {
   "cell_type": "code",
   "execution_count": null,
   "id": "62eb05ec-a289-4c92-afde-2ba57430d762",
   "metadata": {},
   "outputs": [],
   "source": [
    "obj"
   ]
  },
  {
   "cell_type": "code",
   "execution_count": null,
   "id": "eda4c3e2-3e0b-475b-8fbc-c3ed1625c98b",
   "metadata": {},
   "outputs": [],
   "source": [
    "obj.rank(axis = 'columns')"
   ]
  },
  {
   "cell_type": "code",
   "execution_count": null,
   "id": "81b460ce-395b-470e-8fc4-e0a6b8f0c3d9",
   "metadata": {},
   "outputs": [],
   "source": [
    "obj = pd.Series(range(5),index = ['a','a','b','b','c'])"
   ]
  },
  {
   "cell_type": "code",
   "execution_count": null,
   "id": "cf77396b-d815-4c6d-bfae-f7cdcbb821fb",
   "metadata": {},
   "outputs": [],
   "source": [
    "obj"
   ]
  },
  {
   "cell_type": "code",
   "execution_count": null,
   "id": "e2908978-2f85-49e2-8b9a-3d8d1997f4fa",
   "metadata": {},
   "outputs": [],
   "source": [
    "obj.index.is_unique"
   ]
  },
  {
   "cell_type": "code",
   "execution_count": null,
   "id": "e0688e5f-ba74-4818-a3de-33c7fbdd9713",
   "metadata": {},
   "outputs": [],
   "source": [
    "obj['a']"
   ]
  },
  {
   "cell_type": "code",
   "execution_count": null,
   "id": "6677fdb4-6393-436a-9627-9de7713b7b81",
   "metadata": {},
   "outputs": [],
   "source": [
    "obj['c']"
   ]
  },
  {
   "cell_type": "code",
   "execution_count": null,
   "id": "d8819620-8cc8-4d67-b24d-f2e19a57188b",
   "metadata": {},
   "outputs": [],
   "source": [
    "df = pd.DataFrame(np.random.randn(4,3),index = ['a','a','b','b'])"
   ]
  },
  {
   "cell_type": "code",
   "execution_count": null,
   "id": "f75f0071-5dbc-42db-824e-ca42594cd076",
   "metadata": {},
   "outputs": [],
   "source": [
    "df"
   ]
  },
  {
   "cell_type": "code",
   "execution_count": null,
   "id": "f78c8a5b-d756-41de-8f1a-6a8cc9a56bfc",
   "metadata": {},
   "outputs": [],
   "source": [
    "df.loc['a']"
   ]
  },
  {
   "cell_type": "code",
   "execution_count": null,
   "id": "09867a3c-ee7e-4ac0-bf15-2d7feaab7c3a",
   "metadata": {},
   "outputs": [],
   "source": [
    "df = pd.DataFrame([[1.4,np.nan],[7.1,-4.5],[np.nan,np.nan],[0.75,-1.3]],index = ['a','b','c','d'],columns = ['one','two'])"
   ]
  },
  {
   "cell_type": "code",
   "execution_count": null,
   "id": "995ae9b0-a356-40f4-9db8-0572b7b3a25e",
   "metadata": {},
   "outputs": [],
   "source": [
    "df"
   ]
  },
  {
   "cell_type": "code",
   "execution_count": null,
   "id": "6a1f8453-c27a-4cfd-a0a3-db5e4a1ceba9",
   "metadata": {},
   "outputs": [],
   "source": [
    "df.sum()"
   ]
  },
  {
   "cell_type": "code",
   "execution_count": null,
   "id": "0bcd335f-9828-455e-a630-a30e1088c253",
   "metadata": {},
   "outputs": [],
   "source": [
    "df.sum(axis = 1)"
   ]
  },
  {
   "cell_type": "code",
   "execution_count": null,
   "id": "21f15bd6-a997-4b0c-a20a-7d45aaa83c51",
   "metadata": {},
   "outputs": [],
   "source": [
    "df.mean(axis = 'columns',skipna = False)"
   ]
  },
  {
   "cell_type": "code",
   "execution_count": null,
   "id": "d0cdebc9-b83d-4b59-b31c-970347ce082a",
   "metadata": {},
   "outputs": [],
   "source": [
    "df.idxmax()"
   ]
  },
  {
   "cell_type": "code",
   "execution_count": null,
   "id": "70356b9d-66e6-4c1f-aa86-090c53b98bfb",
   "metadata": {},
   "outputs": [],
   "source": [
    "df.cumsum()"
   ]
  },
  {
   "cell_type": "code",
   "execution_count": null,
   "id": "1967f5a5-a61a-48ef-8917-2f775698444c",
   "metadata": {},
   "outputs": [],
   "source": [
    "df.describe()"
   ]
  },
  {
   "cell_type": "code",
   "execution_count": null,
   "id": "14de94de-6db3-4268-9d87-8ef3e0794197",
   "metadata": {},
   "outputs": [],
   "source": [
    "obj = pd.Series(['a','a','b','c']*4)"
   ]
  },
  {
   "cell_type": "code",
   "execution_count": null,
   "id": "1ef354df-d008-4be6-a9a5-f8941f29f281",
   "metadata": {},
   "outputs": [],
   "source": [
    "obj"
   ]
  },
  {
   "cell_type": "code",
   "execution_count": null,
   "id": "89cac31a-db58-4c5d-89d6-8dd2cb6d7bd3",
   "metadata": {},
   "outputs": [],
   "source": [
    "obj.describe()"
   ]
  },
  {
   "cell_type": "code",
   "execution_count": null,
   "id": "f111dc1f-007f-4fa1-9dc9-26eba5cce018",
   "metadata": {},
   "outputs": [],
   "source": [
    "pip install pandas_datareader"
   ]
  },
  {
   "cell_type": "code",
   "execution_count": null,
   "id": "1b14aad1-9e49-4215-a885-859e87330b39",
   "metadata": {},
   "outputs": [],
   "source": [
    "import pandas\n",
    "from pandas_datareader import data as pdr\n",
    "import yfinance as yfin\n",
    "yfin.pdr_override()"
   ]
  },
  {
   "cell_type": "code",
   "execution_count": null,
   "id": "ed0fc2ca-4491-494c-813c-c06b346eb0d4",
   "metadata": {},
   "outputs": [],
   "source": [
    "all_data = {ticker:pdr.get_data_yahoo(ticker) for ticker in ['AAPL','IBM','MSFT','GOOG']}\n",
    "price = pd.DataFrame({ticker:data['Adj Close'] for ticker,data in all_data.items()})\n",
    "volume = pd.DataFrame({ticker:data['Volume'] for ticker,data in all_data.items()})"
   ]
  },
  {
   "cell_type": "code",
   "execution_count": null,
   "id": "e5c176ae-7928-49d9-8f07-220982107e6a",
   "metadata": {},
   "outputs": [],
   "source": [
    "returns = price.pct_change()"
   ]
  },
  {
   "cell_type": "code",
   "execution_count": null,
   "id": "20f1f546-898f-4d20-9229-11b4814d9e41",
   "metadata": {},
   "outputs": [],
   "source": [
    "returns.tail()"
   ]
  },
  {
   "cell_type": "code",
   "execution_count": null,
   "id": "48c43b17-d6bb-46fa-bfbc-e6030dc03f29",
   "metadata": {},
   "outputs": [],
   "source": [
    "returns['MSFT'].corr(returns['IBM'])"
   ]
  },
  {
   "cell_type": "code",
   "execution_count": null,
   "id": "292a60ed-31e1-4669-bdc3-051254a7fc7f",
   "metadata": {},
   "outputs": [],
   "source": [
    "returns['MSFT'].cov(returns['IBM'])"
   ]
  },
  {
   "cell_type": "code",
   "execution_count": null,
   "id": "9a183bc4-4072-42de-8ecc-cd79719ea4cb",
   "metadata": {},
   "outputs": [],
   "source": [
    "returns.MSFT.corr(returns.IBM)"
   ]
  },
  {
   "cell_type": "code",
   "execution_count": null,
   "id": "2138b5e1-8cb4-4087-95ac-3cfdf424e6a8",
   "metadata": {},
   "outputs": [],
   "source": [
    "returns.corr()"
   ]
  },
  {
   "cell_type": "code",
   "execution_count": null,
   "id": "0e11b14f-9e69-497b-bdec-dd21ead3ca1a",
   "metadata": {},
   "outputs": [],
   "source": [
    "returns.cov()"
   ]
  },
  {
   "cell_type": "code",
   "execution_count": null,
   "id": "2127278a-fe5f-4e4f-88d5-9fe8fda6a3fa",
   "metadata": {},
   "outputs": [],
   "source": [
    "returns.corrwith(volume)"
   ]
  },
  {
   "cell_type": "code",
   "execution_count": null,
   "id": "d4d919ff-fd71-4b80-a76a-1c82960d8279",
   "metadata": {},
   "outputs": [],
   "source": [
    "obj = pd.Series(['c','a','d','a','a','b','b','c','c'])"
   ]
  },
  {
   "cell_type": "code",
   "execution_count": null,
   "id": "ee827248-bdcf-4492-8b5e-2ab4dd317147",
   "metadata": {},
   "outputs": [],
   "source": [
    "obj"
   ]
  },
  {
   "cell_type": "code",
   "execution_count": null,
   "id": "636196ea-95e2-4796-a47b-e08975f13567",
   "metadata": {},
   "outputs": [],
   "source": [
    "uniques = obj.unique()"
   ]
  },
  {
   "cell_type": "code",
   "execution_count": null,
   "id": "840f9cb9-bb7d-4f2b-9873-917edabc00a3",
   "metadata": {},
   "outputs": [],
   "source": [
    "uniques"
   ]
  },
  {
   "cell_type": "code",
   "execution_count": null,
   "id": "39b3306a-dbdf-4245-bda8-c20f3cb33f31",
   "metadata": {},
   "outputs": [],
   "source": [
    "pd.value_counts(obj.values,sort = False)"
   ]
  },
  {
   "cell_type": "code",
   "execution_count": null,
   "id": "f7c9ca8c-ba62-4251-8d9c-c7873e18b197",
   "metadata": {},
   "outputs": [],
   "source": [
    "obj"
   ]
  },
  {
   "cell_type": "code",
   "execution_count": null,
   "id": "2539746a-cec5-413c-a20a-a27eb8b43cc8",
   "metadata": {},
   "outputs": [],
   "source": [
    "mask = obj.isin(['b','c'])"
   ]
  },
  {
   "cell_type": "code",
   "execution_count": null,
   "id": "33e0b400-536e-44e3-b885-ab13975a8d7b",
   "metadata": {},
   "outputs": [],
   "source": [
    "mask"
   ]
  },
  {
   "cell_type": "code",
   "execution_count": null,
   "id": "3d3ba482-a84f-4e70-ab7d-50a13db10c8e",
   "metadata": {},
   "outputs": [],
   "source": [
    "obj[mask]"
   ]
  },
  {
   "cell_type": "code",
   "execution_count": null,
   "id": "c712641d-2e8b-4df7-97df-5f0a0231e841",
   "metadata": {},
   "outputs": [],
   "source": [
    "to_match = pd.Series(['c','a','b','b','c','a'])"
   ]
  },
  {
   "cell_type": "code",
   "execution_count": null,
   "id": "0c748a62-2c2f-4acc-9ab0-0e685b4978c1",
   "metadata": {},
   "outputs": [],
   "source": [
    "to_match"
   ]
  },
  {
   "cell_type": "code",
   "execution_count": null,
   "id": "ff57f863-b098-4bfe-8413-a2d9500059fa",
   "metadata": {},
   "outputs": [],
   "source": [
    "unique_vals = pd.Series(['c','b','a'])"
   ]
  },
  {
   "cell_type": "code",
   "execution_count": null,
   "id": "655b2aa9-f2a9-43a7-a649-0477ccf7eca8",
   "metadata": {},
   "outputs": [],
   "source": [
    "unique_vals"
   ]
  },
  {
   "cell_type": "code",
   "execution_count": null,
   "id": "fe1d669f-2d25-43f8-b948-c36f355a491d",
   "metadata": {},
   "outputs": [],
   "source": [
    "pd.Index(unique_vals).get_indexer(to_match)"
   ]
  },
  {
   "cell_type": "code",
   "execution_count": null,
   "id": "b523cbc5-73e6-4688-a900-4d5a3c48ec19",
   "metadata": {},
   "outputs": [],
   "source": [
    "data = pd.DataFrame({'Qu1':[1,3,4,3,4],'Qu2':[2,3,1,2,3],'Qu3':[1,5,2,4,4]})"
   ]
  },
  {
   "cell_type": "code",
   "execution_count": null,
   "id": "8cd5216c-66cd-45c6-9dd2-c231022e0022",
   "metadata": {},
   "outputs": [],
   "source": [
    "data"
   ]
  },
  {
   "cell_type": "code",
   "execution_count": null,
   "id": "053108c8-a046-4318-aa67-2f90187a69da",
   "metadata": {},
   "outputs": [],
   "source": [
    "result = data.apply(pd.value_counts).fillna(0)"
   ]
  },
  {
   "cell_type": "code",
   "execution_count": null,
   "id": "21de6a36-5e8a-4298-b5b7-e217d5e5d82a",
   "metadata": {},
   "outputs": [],
   "source": [
    "result"
   ]
  },
  {
   "cell_type": "code",
   "execution_count": null,
   "id": "a0f9d69e-92a5-4eb3-8f09-29b2e3807b27",
   "metadata": {},
   "outputs": [],
   "source": [
    "df = pd.read_csv(r'C:\\Users\\larryx30\\Desktop\\範例\\ex1.csv')"
   ]
  },
  {
   "cell_type": "code",
   "execution_count": null,
   "id": "6c368371-f672-4038-ab64-a5aefa91e218",
   "metadata": {},
   "outputs": [],
   "source": [
    "df"
   ]
  },
  {
   "cell_type": "code",
   "execution_count": null,
   "id": "c1404ba4-e6cd-4e82-a1fe-4debd05fb217",
   "metadata": {},
   "outputs": [],
   "source": [
    "pd.read_table(r'C:\\Users\\larryx30\\Desktop\\範例\\ex1.csv',sep=',')"
   ]
  },
  {
   "cell_type": "code",
   "execution_count": null,
   "id": "8c3c3ce2-8214-47ce-b2ea-2d22c2b49a78",
   "metadata": {},
   "outputs": [],
   "source": [
    "pd.read_csv(r'C:\\Users\\larryx30\\Desktop\\範例\\ex2.csv',header = None)"
   ]
  },
  {
   "cell_type": "code",
   "execution_count": null,
   "id": "8a3074bf-e8ea-4749-b542-c8e9d6c38a76",
   "metadata": {},
   "outputs": [],
   "source": [
    "pd.read_csv(r'C:\\Users\\larryx30\\Desktop\\範例\\ex2.csv',names = ['a','b','c','d','message'])"
   ]
  },
  {
   "cell_type": "code",
   "execution_count": null,
   "id": "662f55d9-6c54-4474-84c9-27fb950d5a61",
   "metadata": {},
   "outputs": [],
   "source": [
    "names = ['a','b','c','d','message']"
   ]
  },
  {
   "cell_type": "code",
   "execution_count": null,
   "id": "2302d88b-bdc9-423d-95e1-cd213823706f",
   "metadata": {},
   "outputs": [],
   "source": [
    "pd.read_csv(r'C:\\Users\\larryx30\\Desktop\\範例\\ex2.csv',names = names,index_col = 'message')"
   ]
  },
  {
   "cell_type": "code",
   "execution_count": null,
   "id": "8458b647-5272-4a5f-aee2-60e7d8cf6b61",
   "metadata": {},
   "outputs": [],
   "source": [
    "pd.read_csv(r'C:\\Users\\larryx30\\Desktop\\範例\\csv_mindex.csv')"
   ]
  },
  {
   "cell_type": "code",
   "execution_count": null,
   "id": "0f929823-4f72-42bf-bf7a-953443cf9433",
   "metadata": {},
   "outputs": [],
   "source": [
    "pd.read_csv(r'C:\\Users\\larryx30\\Desktop\\範例\\csv_mindex.csv',index_col = ['key1','key2'])"
   ]
  },
  {
   "cell_type": "code",
   "execution_count": null,
   "id": "71fb7bdc-788a-4f8f-ae1c-4a949f572d05",
   "metadata": {},
   "outputs": [],
   "source": [
    "list(open(r'C:\\Users\\larryx30\\Desktop\\範例\\ex3.txt'))"
   ]
  },
  {
   "cell_type": "code",
   "execution_count": null,
   "id": "63913ad8-69e1-43b2-9ed1-acf0b399d9ef",
   "metadata": {},
   "outputs": [],
   "source": [
    "pd.read_table(r'C:\\Users\\larryx30\\Desktop\\範例\\ex3.txt',sep = '\\s+')"
   ]
  },
  {
   "cell_type": "code",
   "execution_count": null,
   "id": "868107c1-89b9-430a-9e64-1f5279d751af",
   "metadata": {},
   "outputs": [],
   "source": [
    "pd.read_csv(r'C:\\Users\\larryx30\\Desktop\\範例\\ex4.csv')"
   ]
  },
  {
   "cell_type": "code",
   "execution_count": null,
   "id": "93f0f813-eb0a-43d2-ac94-b7323970e193",
   "metadata": {},
   "outputs": [],
   "source": [
    "pd.read_csv(r'C:\\Users\\larryx30\\Desktop\\範例\\ex4.csv',skiprows = [0,2,3])"
   ]
  },
  {
   "cell_type": "code",
   "execution_count": null,
   "id": "1f7f8aaf-cf44-4554-8390-784bb72efa66",
   "metadata": {},
   "outputs": [],
   "source": [
    "result = pd.read_csv(r'C:\\Users\\larryx30\\Desktop\\範例\\ex5.csv')"
   ]
  },
  {
   "cell_type": "code",
   "execution_count": null,
   "id": "f30a22f7-50f1-4df2-98b9-9a445d6007bc",
   "metadata": {},
   "outputs": [],
   "source": [
    "result"
   ]
  },
  {
   "cell_type": "code",
   "execution_count": null,
   "id": "b11919df-1ff0-489e-8305-e85abb610899",
   "metadata": {},
   "outputs": [],
   "source": [
    "pd.isnull(result)"
   ]
  },
  {
   "cell_type": "code",
   "execution_count": null,
   "id": "d80809db-2b43-45ae-aad3-7ec7715cd93d",
   "metadata": {},
   "outputs": [],
   "source": [
    "result = pd.read_csv(r'C:\\Users\\larryx30\\Desktop\\範例\\ex5.csv',na_values = ['Null'])"
   ]
  },
  {
   "cell_type": "code",
   "execution_count": null,
   "id": "4a0479e1-339c-46bc-bfa8-8f58b994c9a2",
   "metadata": {},
   "outputs": [],
   "source": [
    "result"
   ]
  },
  {
   "cell_type": "code",
   "execution_count": null,
   "id": "6bc38922-81da-491a-bfb9-fc470356049e",
   "metadata": {},
   "outputs": [],
   "source": [
    "sentinels = {'message':['foo','NA'],'something':['two']}"
   ]
  },
  {
   "cell_type": "code",
   "execution_count": null,
   "id": "22b7bdba-12c0-4cde-8c22-bbc90d363b16",
   "metadata": {},
   "outputs": [],
   "source": [
    "sentinels"
   ]
  },
  {
   "cell_type": "code",
   "execution_count": null,
   "id": "3a5ef1de-8d1d-4a6b-b608-0d3c1d73de86",
   "metadata": {},
   "outputs": [],
   "source": [
    "pd.read_csv(r'C:\\Users\\larryx30\\Desktop\\範例\\ex5.csv',na_values = sentinels)"
   ]
  },
  {
   "cell_type": "code",
   "execution_count": null,
   "id": "e24f2b25-d170-4917-89c8-9ea1a707383f",
   "metadata": {},
   "outputs": [],
   "source": [
    "pd.options.display.max_rows = 10"
   ]
  },
  {
   "cell_type": "code",
   "execution_count": null,
   "id": "476ca29f-4bfa-4226-9693-3eb144b90828",
   "metadata": {},
   "outputs": [],
   "source": [
    "result = pd.read_csv(r'C:\\Users\\larryx30\\Desktop\\範例\\ex6.csv')"
   ]
  },
  {
   "cell_type": "code",
   "execution_count": null,
   "id": "2f18ab95-d3fb-4b2d-acd7-6511fe2a1755",
   "metadata": {},
   "outputs": [],
   "source": [
    "result"
   ]
  },
  {
   "cell_type": "code",
   "execution_count": null,
   "id": "f679950a-310c-472a-963a-c093c90eaf0b",
   "metadata": {},
   "outputs": [],
   "source": [
    "pd.read_csv(r'C:\\Users\\larryx30\\Desktop\\範例\\ex6.csv',nrows = 5)"
   ]
  },
  {
   "cell_type": "code",
   "execution_count": null,
   "id": "bf96c92c-892f-4769-acb1-9ceb879b4fe7",
   "metadata": {},
   "outputs": [],
   "source": [
    "chunker = pd.read_csv(r'C:\\Users\\larryx30\\Desktop\\範例\\ex6.csv',chunksize = 1000)"
   ]
  },
  {
   "cell_type": "code",
   "execution_count": null,
   "id": "b9a9c67b-a15f-4612-9ab8-dfdae3e1d089",
   "metadata": {},
   "outputs": [],
   "source": [
    "chunker"
   ]
  },
  {
   "cell_type": "code",
   "execution_count": null,
   "id": "e6dafabd-e7de-4f87-acf8-7c9a35fdc4c7",
   "metadata": {},
   "outputs": [],
   "source": [
    "tot = pd.Series([])\n",
    "for piece in chunker :\n",
    "    tot = tot.add(piece['key'].value_counts(),fill_value = 0)"
   ]
  },
  {
   "cell_type": "code",
   "execution_count": null,
   "id": "7bb4fa52-0a09-4c79-97d6-dea94ba77822",
   "metadata": {},
   "outputs": [],
   "source": [
    "tot = tot.sort_values(ascending = False)"
   ]
  },
  {
   "cell_type": "code",
   "execution_count": null,
   "id": "c0cc2b32-b467-4056-b1c1-25fd7bf64db2",
   "metadata": {},
   "outputs": [],
   "source": [
    "tot"
   ]
  },
  {
   "cell_type": "code",
   "execution_count": null,
   "id": "a394935a-ccc6-4cb4-a256-c303d41cf030",
   "metadata": {},
   "outputs": [],
   "source": [
    "data = pd.read_csv(r'C:\\Users\\larryx30\\Desktop\\範例\\ex5.csv')"
   ]
  },
  {
   "cell_type": "code",
   "execution_count": null,
   "id": "a6d671d7-ec52-40a6-b5da-a22cfa5dd4c2",
   "metadata": {},
   "outputs": [],
   "source": [
    "data"
   ]
  },
  {
   "cell_type": "code",
   "execution_count": null,
   "id": "2f574015-97c9-44c5-ae90-dd8c29e64a95",
   "metadata": {},
   "outputs": [],
   "source": [
    "data.to_csv(r'C:\\Users\\larryx30\\Desktop\\範例\\out.csv')"
   ]
  },
  {
   "cell_type": "code",
   "execution_count": null,
   "id": "4c2d84db-8f45-4909-ab2b-e21f6561a9cf",
   "metadata": {},
   "outputs": [],
   "source": [
    "import sys"
   ]
  },
  {
   "cell_type": "code",
   "execution_count": null,
   "id": "3c2ea651-2b21-4bec-9e93-287bc03ff808",
   "metadata": {},
   "outputs": [],
   "source": [
    "data.to_csv(sys.stdout,sep = '|')"
   ]
  },
  {
   "cell_type": "code",
   "execution_count": null,
   "id": "89bb46aa-a140-47df-b73a-51922e282480",
   "metadata": {},
   "outputs": [],
   "source": [
    "data.to_csv(sys.stdout,na_rep = 'Null')"
   ]
  },
  {
   "cell_type": "code",
   "execution_count": null,
   "id": "cf078937-29d0-4fc3-9628-4703cbb0fab5",
   "metadata": {},
   "outputs": [],
   "source": [
    "data.to_csv(sys.stdout,index = False,header = False,na_rep = 'Null')"
   ]
  },
  {
   "cell_type": "code",
   "execution_count": null,
   "id": "4ad7e7fd-a655-407a-a8fb-e553254afcc3",
   "metadata": {},
   "outputs": [],
   "source": [
    "data.to_csv(sys.stdout,index = False,columns = ['a','b','c'],na_rep = 'NUll')"
   ]
  },
  {
   "cell_type": "code",
   "execution_count": null,
   "id": "ea04bf42-319e-4b61-a5d7-c5d9b47bc058",
   "metadata": {},
   "outputs": [],
   "source": [
    "dates = pd.date_range('1/1/2000',periods = 7)"
   ]
  },
  {
   "cell_type": "code",
   "execution_count": null,
   "id": "d44796a7-4dae-4066-872d-bbeb1743e181",
   "metadata": {},
   "outputs": [],
   "source": [
    "dates"
   ]
  },
  {
   "cell_type": "code",
   "execution_count": null,
   "id": "2e1849eb-2f14-496c-a327-12c14cd7c915",
   "metadata": {},
   "outputs": [],
   "source": [
    "ts = pd.Series(np.arange(7),index = dates)"
   ]
  },
  {
   "cell_type": "code",
   "execution_count": null,
   "id": "6ce451aa-1eae-4629-8327-48b5fbcb1479",
   "metadata": {},
   "outputs": [],
   "source": [
    "ts"
   ]
  },
  {
   "cell_type": "code",
   "execution_count": null,
   "id": "582e6378-e5fc-4793-b2a5-3716101d7252",
   "metadata": {},
   "outputs": [],
   "source": [
    "ts.to_csv(r'C:\\Users\\larryx30\\Desktop\\範例\\tseries.csv')"
   ]
  },
  {
   "cell_type": "code",
   "execution_count": null,
   "id": "c2f66b36-6674-4889-af30-6924e922e471",
   "metadata": {},
   "outputs": [],
   "source": [
    "pd.read_csv(r'C:\\Users\\larryx30\\Desktop\\範例\\ex7.csv')"
   ]
  },
  {
   "cell_type": "code",
   "execution_count": null,
   "id": "b706ee11-9c39-4ab1-8f76-c3f13193a0df",
   "metadata": {},
   "outputs": [],
   "source": [
    "import csv"
   ]
  },
  {
   "cell_type": "code",
   "execution_count": null,
   "id": "ec9fc8a3-5a38-42f2-a598-ba6bcf1a7bdf",
   "metadata": {},
   "outputs": [],
   "source": [
    "f = open(r'C:\\Users\\larryx30\\Desktop\\範例\\ex7.csv')"
   ]
  },
  {
   "cell_type": "code",
   "execution_count": null,
   "id": "17ee6b7b-ed93-4f1a-88ac-18dfc3a12c2f",
   "metadata": {},
   "outputs": [],
   "source": [
    "reader = csv.reader(f)"
   ]
  },
  {
   "cell_type": "code",
   "execution_count": null,
   "id": "69717ba7-51ec-488f-9a06-4548de4c88c0",
   "metadata": {},
   "outputs": [],
   "source": [
    "for line in reader:\n",
    "    print(line)"
   ]
  },
  {
   "cell_type": "code",
   "execution_count": null,
   "id": "8ad07e12-bfe7-40c7-a33f-eaf759646788",
   "metadata": {},
   "outputs": [],
   "source": [
    "with open(r'C:\\Users\\larryx30\\Desktop\\範例\\ex7.csv') as f :\n",
    "    lines = list(csv.reader(f))"
   ]
  },
  {
   "cell_type": "code",
   "execution_count": null,
   "id": "192a4206-b0ec-4c5c-b3e4-64a172400b34",
   "metadata": {},
   "outputs": [],
   "source": [
    "lines"
   ]
  },
  {
   "cell_type": "code",
   "execution_count": null,
   "id": "6125096f-424d-4100-86c1-2336ddd1bbd6",
   "metadata": {},
   "outputs": [],
   "source": [
    "header,values = lines[0],lines[1:]"
   ]
  },
  {
   "cell_type": "code",
   "execution_count": null,
   "id": "d374d424-64bd-4013-8577-95f79763c33e",
   "metadata": {},
   "outputs": [],
   "source": [
    "data_dict = {h:v for h,v in zip(header,zip(*values))}"
   ]
  },
  {
   "cell_type": "code",
   "execution_count": null,
   "id": "09260cd7-b16f-4072-9854-0c48653b65e3",
   "metadata": {},
   "outputs": [],
   "source": [
    "data_dict"
   ]
  },
  {
   "cell_type": "code",
   "execution_count": null,
   "id": "7e171a56-8901-44ff-9f37-b473a9b9d5be",
   "metadata": {},
   "outputs": [],
   "source": [
    "obj = \"\"\"\n",
    "{\"name\":\"Wes\",\n",
    "}\n",
    "\"\"\""
   ]
  },
  {
   "cell_type": "code",
   "execution_count": null,
   "id": "c8f061bf-5f3d-4741-a58a-710a0814b70c",
   "metadata": {},
   "outputs": [],
   "source": [
    "import json"
   ]
  },
  {
   "cell_type": "code",
   "execution_count": null,
   "id": "498a6cb3-cbf2-467d-bab0-29d5207ac015",
   "metadata": {},
   "outputs": [],
   "source": [
    "data = pd.read_json(r'C:\\Users\\larryx30\\Desktop\\範例\\example.json')"
   ]
  },
  {
   "cell_type": "code",
   "execution_count": null,
   "id": "d21f6e1c-82cb-422c-a4de-0969aaa62a70",
   "metadata": {},
   "outputs": [],
   "source": [
    "data"
   ]
  },
  {
   "cell_type": "code",
   "execution_count": null,
   "id": "3fc59871-38d4-4df5-ac56-7ab100372dee",
   "metadata": {},
   "outputs": [],
   "source": [
    "print(data.to_json())"
   ]
  },
  {
   "cell_type": "code",
   "execution_count": null,
   "id": "18a4f128-4da8-40c6-b757-21027f809e24",
   "metadata": {},
   "outputs": [],
   "source": [
    "conda install lxml"
   ]
  },
  {
   "cell_type": "code",
   "execution_count": null,
   "id": "46112e20-25a6-4472-bcca-87c528a367ec",
   "metadata": {},
   "outputs": [],
   "source": [
    "pip install beautifulsoup4 html5lib"
   ]
  },
  {
   "cell_type": "code",
   "execution_count": null,
   "id": "9fd3bce2-1e5f-4efc-90ff-3a52db1a6094",
   "metadata": {},
   "outputs": [],
   "source": [
    "tables = pd.read_html(r'C:\\Users\\larryx30\\Desktop\\範例\\fdic_failed_bank_list.html')"
   ]
  },
  {
   "cell_type": "code",
   "execution_count": null,
   "id": "75d1e83f-31f7-4c9a-b3dc-19f0febcd36f",
   "metadata": {},
   "outputs": [],
   "source": [
    "len(tables)"
   ]
  },
  {
   "cell_type": "code",
   "execution_count": null,
   "id": "ff8045f6-7bfd-46e6-812f-2a2f4ce98d0d",
   "metadata": {},
   "outputs": [],
   "source": [
    "failures = tables[0]"
   ]
  },
  {
   "cell_type": "code",
   "execution_count": null,
   "id": "0af350b6-7240-4892-8c1f-20447a7c1bf8",
   "metadata": {},
   "outputs": [],
   "source": [
    "failures.head()"
   ]
  },
  {
   "cell_type": "code",
   "execution_count": null,
   "id": "591216f0-d06a-49a7-a463-df3216dac4a6",
   "metadata": {},
   "outputs": [],
   "source": [
    "close_timestamps = pd.to_datetime(failures['Closing Date'])"
   ]
  },
  {
   "cell_type": "code",
   "execution_count": null,
   "id": "19c34a69-24f1-4fc5-8ca8-fca8d5a2ecf3",
   "metadata": {},
   "outputs": [],
   "source": [
    "close_timestamps.dt.year.value_counts()"
   ]
  },
  {
   "cell_type": "code",
   "execution_count": null,
   "id": "d1c3fbc9-4363-4922-ba0b-5c03712e2a02",
   "metadata": {},
   "outputs": [],
   "source": [
    "frame = pd.read_csv(r'C:\\Users\\larryx30\\Desktop\\範例\\ex1.csv')"
   ]
  },
  {
   "cell_type": "code",
   "execution_count": null,
   "id": "cf28a34d-d4c1-47d0-8b30-ef237c6ae471",
   "metadata": {},
   "outputs": [],
   "source": [
    "frame"
   ]
  },
  {
   "cell_type": "code",
   "execution_count": null,
   "id": "e0381645-3fa3-424c-a336-b1afd498ecfc",
   "metadata": {},
   "outputs": [],
   "source": [
    "frame.to_pickle(r'C:\\Users\\larryx30\\Desktop\\範例\\frame_pickle')"
   ]
  },
  {
   "cell_type": "code",
   "execution_count": null,
   "id": "b6d9f148-5b98-4000-ab72-62b97a6ebc81",
   "metadata": {},
   "outputs": [],
   "source": [
    "pd.read_pickle(r'C:\\Users\\larryx30\\Desktop\\範例\\frame_pickle')"
   ]
  },
  {
   "cell_type": "code",
   "execution_count": null,
   "id": "d777cf99-991b-4620-8b7d-95a9ebb15209",
   "metadata": {},
   "outputs": [],
   "source": [
    "frame = pd.DataFrame({'a':np.random.randn(100)})"
   ]
  },
  {
   "cell_type": "code",
   "execution_count": null,
   "id": "446759fc-7726-4f66-958a-ccde34620a71",
   "metadata": {},
   "outputs": [],
   "source": [
    "store = pd.HDFStore('mydata.h5')"
   ]
  },
  {
   "cell_type": "code",
   "execution_count": null,
   "id": "720e0ad8-6879-49af-aa6b-a088addd9b3a",
   "metadata": {},
   "outputs": [],
   "source": [
    "store"
   ]
  },
  {
   "cell_type": "code",
   "execution_count": null,
   "id": "f72ae6ff-ec54-4801-b18d-064b30ba1ba3",
   "metadata": {},
   "outputs": [],
   "source": [
    "xlsx = pd.ExcelFile(r'C:\\Users\\larryx30\\Desktop\\範例\\ex1.xlsx')"
   ]
  },
  {
   "cell_type": "code",
   "execution_count": null,
   "id": "475cedfe-9b6e-4e7f-8941-8088860058ac",
   "metadata": {},
   "outputs": [],
   "source": [
    "pd.read_excel(xlsx,'Sheet1')"
   ]
  },
  {
   "cell_type": "code",
   "execution_count": null,
   "id": "92b74a2d-53e7-4a7a-a41f-e9409d53b6be",
   "metadata": {},
   "outputs": [],
   "source": [
    "frame = pd.read_excel(r'C:\\Users\\larryx30\\Desktop\\範例\\ex1.xlsx','Sheet1')"
   ]
  },
  {
   "cell_type": "code",
   "execution_count": null,
   "id": "97a760be-cf34-48e9-8bc3-50caa8e8a398",
   "metadata": {},
   "outputs": [],
   "source": [
    "frame"
   ]
  },
  {
   "cell_type": "code",
   "execution_count": null,
   "id": "ffdffd09-f65a-489c-99e6-c66a29797c40",
   "metadata": {},
   "outputs": [],
   "source": [
    "import requests"
   ]
  },
  {
   "cell_type": "code",
   "execution_count": null,
   "id": "5a42719e-2e13-477e-82fc-3c1274cd25d3",
   "metadata": {},
   "outputs": [],
   "source": [
    "url = 'https://api.github.com/repos/pandas-dev/pandas/issues'"
   ]
  },
  {
   "cell_type": "code",
   "execution_count": null,
   "id": "aaf1eca2-7016-40a0-bcce-7ee60aa58888",
   "metadata": {},
   "outputs": [],
   "source": [
    "resp = requests.get(url)"
   ]
  },
  {
   "cell_type": "code",
   "execution_count": null,
   "id": "14e3e86f-277f-4f3c-858e-5fdfc516bfe4",
   "metadata": {},
   "outputs": [],
   "source": [
    "resp"
   ]
  },
  {
   "cell_type": "code",
   "execution_count": null,
   "id": "9ff650c6-a589-4a2f-9e73-5feb5f820f91",
   "metadata": {},
   "outputs": [],
   "source": [
    "data = resp.json()"
   ]
  },
  {
   "cell_type": "code",
   "execution_count": null,
   "id": "92651b50-9e81-423e-a19b-2112b4709dc6",
   "metadata": {},
   "outputs": [],
   "source": [
    "issues = pd.DataFrame(data,columns = ['number','title','labels','state'])"
   ]
  },
  {
   "cell_type": "code",
   "execution_count": null,
   "id": "b2c532e9-91c2-4a6c-b63c-2aac074f20d8",
   "metadata": {},
   "outputs": [],
   "source": [
    "issues"
   ]
  },
  {
   "cell_type": "code",
   "execution_count": null,
   "id": "d8d9e724-8b2d-463f-8885-0f5a1c72a2cd",
   "metadata": {},
   "outputs": [],
   "source": [
    "import sqlite3"
   ]
  },
  {
   "cell_type": "code",
   "execution_count": null,
   "id": "4565bad0-29b7-4162-9898-8a39f3445edb",
   "metadata": {},
   "outputs": [],
   "source": [
    "query = \"\"\"\n",
    "CREATE TABLE test\n",
    "(a VARCHAR(20), b VARCHAR(20),\n",
    " c REAL,        d INTEGER\n",
    ");\"\"\""
   ]
  },
  {
   "cell_type": "code",
   "execution_count": null,
   "id": "2c983d72-e8e5-4994-83b6-d3d5c8c1679c",
   "metadata": {},
   "outputs": [],
   "source": [
    "con = sqlite3.connect('mydata.sqlite')"
   ]
  },
  {
   "cell_type": "code",
   "execution_count": null,
   "id": "44c11ab3-1cb0-404a-8393-ab56714b4e69",
   "metadata": {},
   "outputs": [],
   "source": [
    "con.execute(query)"
   ]
  },
  {
   "cell_type": "code",
   "execution_count": null,
   "id": "03ec3959-36ff-41ea-ba62-6f9c65e12603",
   "metadata": {},
   "outputs": [],
   "source": [
    "con.commit()"
   ]
  },
  {
   "cell_type": "code",
   "execution_count": null,
   "id": "7a6fee73-cbd0-45b0-ba72-da9bacb3d412",
   "metadata": {},
   "outputs": [],
   "source": [
    "data = [(\"Atlanta\", \"Georgia\", 1.25, 6),\n",
    "        (\"Tallahassee\", \"Florida\", 2.6, 3),\n",
    "        (\"Sacramento\", \"California\", 1.7, 5)]\n",
    "stmt = \"INSERT INTO test VALUES(?, ?, ?, ?)\"\n",
    "\n",
    "con.executemany(stmt, data)\n",
    "con.commit()"
   ]
  },
  {
   "cell_type": "code",
   "execution_count": null,
   "id": "ef57e7ac-668b-40db-9586-68f92dae5fe7",
   "metadata": {},
   "outputs": [],
   "source": [
    "cursor = con.execute('select*from test')"
   ]
  },
  {
   "cell_type": "code",
   "execution_count": null,
   "id": "7de8f9d6-4845-4c28-b759-98ad8d52f01e",
   "metadata": {},
   "outputs": [],
   "source": [
    "rows = cursor.fetchall()"
   ]
  },
  {
   "cell_type": "code",
   "execution_count": null,
   "id": "74404bb6-6385-4a0b-9cae-7bc99221625a",
   "metadata": {},
   "outputs": [],
   "source": [
    "rows"
   ]
  },
  {
   "cell_type": "code",
   "execution_count": null,
   "id": "8d0a7508-d55e-4c57-b777-5d44e4b003d6",
   "metadata": {},
   "outputs": [],
   "source": [
    "cursor.description"
   ]
  },
  {
   "cell_type": "code",
   "execution_count": null,
   "id": "44c3a510-300c-4ab8-9e8d-240f9e59dc70",
   "metadata": {},
   "outputs": [],
   "source": [
    "pd.DataFrame(rows,columns = [x[0] for x in cursor.description])"
   ]
  },
  {
   "cell_type": "code",
   "execution_count": null,
   "id": "9345552b-74a0-46f7-ae68-d7a10a6f403c",
   "metadata": {},
   "outputs": [],
   "source": [
    "import sqlalchemy as sqla\n",
    "db = sqla.create_engine(\"sqlite:///mydata.sqlite\")\n",
    "pd.read_sql(\"SELECT * FROM test\", db)"
   ]
  },
  {
   "cell_type": "code",
   "execution_count": null,
   "id": "dcb8c647-9270-44c4-9c3d-a7c88bc3b11a",
   "metadata": {},
   "outputs": [],
   "source": [
    "string_data = pd.Series(['aardvark','atrichoke',np.nan,'avocado'])"
   ]
  },
  {
   "cell_type": "code",
   "execution_count": null,
   "id": "bdefc79e-e230-48c6-9987-5013fdc6b2cb",
   "metadata": {},
   "outputs": [],
   "source": [
    "string_data"
   ]
  },
  {
   "cell_type": "code",
   "execution_count": null,
   "id": "3c508186-6f5b-437d-9523-2d33e46eda3b",
   "metadata": {},
   "outputs": [],
   "source": [
    "string_data.isnull()"
   ]
  },
  {
   "cell_type": "code",
   "execution_count": null,
   "id": "756b6058-8ded-458c-b4aa-71cd456327a2",
   "metadata": {},
   "outputs": [],
   "source": [
    "string_data = pd.Series(['aardvark','artichoke',np.nan,'avocado'])"
   ]
  },
  {
   "cell_type": "code",
   "execution_count": null,
   "id": "fff0d3f5-a7ea-46e6-9108-1fd883cad29a",
   "metadata": {},
   "outputs": [],
   "source": [
    "string_data"
   ]
  },
  {
   "cell_type": "code",
   "execution_count": null,
   "id": "8ae80c8d-2d16-4882-a876-fbd42321b174",
   "metadata": {},
   "outputs": [],
   "source": [
    "string_data.isnull()"
   ]
  },
  {
   "cell_type": "code",
   "execution_count": null,
   "id": "26d1ae93-f55b-4c36-b5c2-770252b9b60f",
   "metadata": {},
   "outputs": [],
   "source": [
    "string_data[0]"
   ]
  },
  {
   "cell_type": "code",
   "execution_count": null,
   "id": "ead4f25b-34a6-4900-8bf9-4400a048e235",
   "metadata": {},
   "outputs": [],
   "source": [
    "string_data[0] = None"
   ]
  },
  {
   "cell_type": "code",
   "execution_count": null,
   "id": "47a2d278-37b6-4dc1-a01f-2e81200a57d2",
   "metadata": {},
   "outputs": [],
   "source": [
    "string_data"
   ]
  },
  {
   "cell_type": "code",
   "execution_count": null,
   "id": "868ba90f-97fb-44e0-97a6-1e79010441c3",
   "metadata": {},
   "outputs": [],
   "source": [
    "string_data.isnull()"
   ]
  },
  {
   "cell_type": "code",
   "execution_count": 49,
   "id": "ac0fb518-800a-40bd-9a17-4d157714ebf9",
   "metadata": {},
   "outputs": [],
   "source": [
    "from numpy import nan as NA"
   ]
  },
  {
   "cell_type": "code",
   "execution_count": null,
   "id": "1139051d-7b05-4796-9342-3aa0280960ca",
   "metadata": {},
   "outputs": [],
   "source": [
    "data = pd.Series([1,NA,3.5,NA,7])"
   ]
  },
  {
   "cell_type": "code",
   "execution_count": null,
   "id": "216061e4-665e-40b2-a2fd-c1151ff97fc5",
   "metadata": {},
   "outputs": [],
   "source": [
    "data"
   ]
  },
  {
   "cell_type": "code",
   "execution_count": null,
   "id": "2e9d7431-f87b-4464-835b-2d69ce74dc94",
   "metadata": {},
   "outputs": [],
   "source": [
    "data.dropna()"
   ]
  },
  {
   "cell_type": "code",
   "execution_count": null,
   "id": "1931e9e6-f90a-4134-88c9-f02016c681c8",
   "metadata": {},
   "outputs": [],
   "source": [
    "data[data.notnull()]"
   ]
  },
  {
   "cell_type": "code",
   "execution_count": 50,
   "id": "fe36ff35-ae44-4cb4-8357-c8b8764d75d3",
   "metadata": {},
   "outputs": [],
   "source": [
    "data = pd.DataFrame([[1.,6.5,3.],[1.,NA,NA],[NA,NA,NA],[NA,6.5,3.]])"
   ]
  },
  {
   "cell_type": "code",
   "execution_count": null,
   "id": "f8cd5684-9c9f-4914-9f45-c0a12c8fb39c",
   "metadata": {},
   "outputs": [],
   "source": [
    "data"
   ]
  },
  {
   "cell_type": "code",
   "execution_count": null,
   "id": "582d9253-f2cb-43b9-8d2a-0d405dfab49e",
   "metadata": {},
   "outputs": [],
   "source": [
    "cleaned = data.dropna()"
   ]
  },
  {
   "cell_type": "code",
   "execution_count": 47,
   "id": "de462511-7e8b-4dd0-a648-ea240f6eaafe",
   "metadata": {},
   "outputs": [
    {
     "ename": "NameError",
     "evalue": "name 'cleaned' is not defined",
     "output_type": "error",
     "traceback": [
      "\u001b[1;31m---------------------------------------------------------------------------\u001b[0m",
      "\u001b[1;31mNameError\u001b[0m                                 Traceback (most recent call last)",
      "\u001b[1;32m<ipython-input-47-031dabc3fd5e>\u001b[0m in \u001b[0;36m<module>\u001b[1;34m\u001b[0m\n\u001b[1;32m----> 1\u001b[1;33m \u001b[0mcleaned\u001b[0m\u001b[1;33m\u001b[0m\u001b[1;33m\u001b[0m\u001b[0m\n\u001b[0m",
      "\u001b[1;31mNameError\u001b[0m: name 'cleaned' is not defined"
     ]
    }
   ],
   "source": [
    "cleaned"
   ]
  },
  {
   "cell_type": "code",
   "execution_count": null,
   "id": "37dca1f4-3779-41e4-8a0b-3e04bd766c47",
   "metadata": {},
   "outputs": [],
   "source": []
  }
 ],
 "metadata": {
  "kernelspec": {
   "display_name": "Python 3",
   "language": "python",
   "name": "python3"
  },
  "language_info": {
   "codemirror_mode": {
    "name": "ipython",
    "version": 3
   },
   "file_extension": ".py",
   "mimetype": "text/x-python",
   "name": "python",
   "nbconvert_exporter": "python",
   "pygments_lexer": "ipython3",
   "version": "3.8.8"
  }
 },
 "nbformat": 4,
 "nbformat_minor": 5
}
