{
 "cells": [
  {
   "cell_type": "code",
   "execution_count": 2,
   "id": "16039c61-2d62-4153-81b7-1d224710ccd7",
   "metadata": {},
   "outputs": [
    {
     "ename": "NameError",
     "evalue": "name 'SKTCRI' is not defined",
     "output_type": "error",
     "traceback": [
      "\u001b[1;31m---------------------------------------------------------------------------\u001b[0m",
      "\u001b[1;31mNameError\u001b[0m                                 Traceback (most recent call last)",
      "\u001b[1;32m<ipython-input-2-6460f6673d80>\u001b[0m in \u001b[0;36m<module>\u001b[1;34m\u001b[0m\n\u001b[0;32m      9\u001b[0m \u001b[0mpztest\u001b[0m \u001b[1;33m=\u001b[0m \u001b[0mpd\u001b[0m\u001b[1;33m.\u001b[0m\u001b[0mDataFrame\u001b[0m\u001b[1;33m(\u001b[0m\u001b[1;33m)\u001b[0m\u001b[1;33m\u001b[0m\u001b[1;33m\u001b[0m\u001b[0m\n\u001b[0;32m     10\u001b[0m \u001b[0mpztest1\u001b[0m \u001b[1;33m=\u001b[0m \u001b[0mpd\u001b[0m\u001b[1;33m.\u001b[0m\u001b[0mDataFrame\u001b[0m\u001b[1;33m(\u001b[0m\u001b[1;33m)\u001b[0m\u001b[1;33m\u001b[0m\u001b[1;33m\u001b[0m\u001b[0m\n\u001b[1;32m---> 11\u001b[1;33m \u001b[1;32mfor\u001b[0m \u001b[0mx\u001b[0m \u001b[1;32min\u001b[0m \u001b[0mtqdm\u001b[0m\u001b[1;33m(\u001b[0m\u001b[0mSKTCRI\u001b[0m\u001b[1;33m)\u001b[0m\u001b[1;33m:\u001b[0m\u001b[1;33m\u001b[0m\u001b[1;33m\u001b[0m\u001b[0m\n\u001b[0m\u001b[0;32m     12\u001b[0m \u001b[1;33m\u001b[0m\u001b[0m\n\u001b[0;32m     13\u001b[0m \u001b[1;33m\u001b[0m\u001b[0m\n",
      "\u001b[1;31mNameError\u001b[0m: name 'SKTCRI' is not defined"
     ]
    }
   ],
   "source": [
    "import pyodbc\n",
    "import pandas as pd\n",
    "import numpy as np\n",
    "import warnings\n",
    "from tqdm import tqdm\n",
    "import talib\n",
    "ERROR = []\n",
    "trrtest = pd.DataFrame()\n",
    "pztest = pd.DataFrame()\n",
    "pztest1 = pd.DataFrame()\n",
    "for x in tqdm(SKTCRI):\n",
    "    \n",
    "    \n",
    "    DDW[str(x)][\"4MA\"] = talib.MA(DDW[str(x)][\"還原收盤價\"].dropna(), timeperiod=5, matype=0)\n",
    "    DDW[str(x)][\"4MAS\"] = DDW[str(x)][\"4MA\"].shift(1)\n",
    "    DDW[str(x)][\"DR\"] = ((DDW[str(x)][\"還原收盤價\"] - DDW[str(x)][\"還原收盤價\"].shift(1))/DDW[str(x)][\"還原收盤價\"].shift(1))*100\n",
    "    DDW[str(x)]['大盤夏普']= DDW['TWA00']['sharpe'].fillna(method = 'pad',axis =0)\n",
    "    TESTBS = 0\n",
    "    TESTBUY =[]\n",
    "    for z in range(len(DDW[str(x)])):\n",
    "\n",
    "        if DDW[str(x)]['4MA'].iloc[z] > DDW[str(x)]['4MA'].shift(1).iloc[z]  :\n",
    "        \n",
    "            TESTBS = 1\n",
    "\n",
    "        elif  DDW[str(x)]['4MA'].iloc[z] < DDW[str(x)]['4MA'].shift(1).iloc[z] :\n",
    "            TESTBS = 0\n",
    "            #buy.append(\"0\")\n",
    "        TESTBUY.append(TESTBS)\n",
    "    DDW[str(x)][\"TESTBUY\"] = TESTBUY\n",
    "    DDW[str(x)][\"TESTBUYS\"] = DDW[str(x)][\"TESTBUY\"].shift(1)\n",
    "    pztests = DDW[str(x)][\"TESTBUYS\"]  \n",
    "    pztests.name = str(x)\n",
    "    pztest = DDW[str(x)][\"TESTBUY\"]\n",
    "    pztest.name = str(x)\n",
    "    DDW[str(x)][\"TESTRR\"] = DDW[str(x)][\"DR\"] * DDW[str(x)][\"TESTBUYS\"].dropna().astype(int)\n",
    "    PVTEST= DDW[str(x)][\"TESTRR\"]\n",
    "    PVTEST.name = str(x)\n",
    "    if len(trrtest) == 0:\n",
    "        trrtest = PVTEST\n",
    "    else:\n",
    "        trrtest = pd.merge(trrtest,PVTEST,left_on = trrtest.index,right_on = PVTEST.index,how = 'outer')\n",
    "        trrtest.set_index('key_0',inplace = True)\n",
    "    if len(pztest) == 0:\n",
    "        pztest1 = pztests\n",
    "    else:\n",
    "        pztest1 = pd.merge(pztest1,pztests,left_on = pztest1.index,right_on = pztests.index,how = 'outer')\n",
    "        pztest1.set_index('key_0',inplace = True)\n",
    "\n",
    "trrtest1 =trrtest.sort_index().sum(axis = 1).cumsum().plot()\n",
    "\n",
    "plt.xlabel(\"time\")\n",
    "plt.ylabel(\"Profit\")\n"
   ]
  },
  {
   "cell_type": "code",
   "execution_count": null,
   "id": "81cee93b-f3bd-4699-946c-008c441f3547",
   "metadata": {},
   "outputs": [],
   "source": []
  }
 ],
 "metadata": {
  "kernelspec": {
   "display_name": "Python 3",
   "language": "python",
   "name": "python3"
  },
  "language_info": {
   "codemirror_mode": {
    "name": "ipython",
    "version": 3
   },
   "file_extension": ".py",
   "mimetype": "text/x-python",
   "name": "python",
   "nbconvert_exporter": "python",
   "pygments_lexer": "ipython3",
   "version": "3.8.8"
  }
 },
 "nbformat": 4,
 "nbformat_minor": 5
}
