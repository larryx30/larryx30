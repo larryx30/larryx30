{
 "cells": [
  {
   "cell_type": "code",
   "execution_count": 1,
   "id": "b06423c2-8d2d-4ffc-9200-663b3c25d075",
   "metadata": {},
   "outputs": [],
   "source": [
    "import pandas as pd \n",
    "import pyodbc\n",
    "class get_df:\n",
    "\n",
    "    def __init__(self):\n",
    "        self.DB_infos = {'StrategyData': ('10.14.106.11','StrategyData','cc1102','cc1102')}\n",
    "        self.querys = {}\n",
    "        self.db = str()\n",
    "        self.df_dict =  dict()\n",
    "        self.w_code_dict = dict()\n",
    "        self.point_dict = dict()\n",
    "        self.result_dict = dict()\n",
    "        \n",
    "    def db_connect(self, DB_info):\n",
    "        DB_Host, DB_Name, DB_User, DB_Password = self.DB_infos[DB_info]\n",
    "        print(\"Connecting to database using pyodbc...\")\n",
    "        self.db = pyodbc.connect('DRIVER={ODBC Driver 13 for SQL Server}; SERVER=' + DB_Host + '; DATABASE=' + DB_Name + '; UID=' + DB_User + '; PWD=' + DB_Password)\n",
    "        print(\"Succesfully Connected to database using pyodbc!\")\n",
    "      \n",
    "    def load_data(self, query):\n",
    "        df =  pd.read_sql(self.querys[query], self.db)\n",
    "        return df\n",
    "\n",
    "    @staticmethod\n",
    "    def make_TCRI():\n",
    "        df =\"\"\"SELECT  [STOCKID]\n",
    "                      ,[TCRI]\n",
    "                  FROM [StrategyData].[dbo].[TCRI]\"\"\"\n",
    "        return df"
   ]
  },
  {
   "cell_type": "code",
   "execution_count": 14,
   "id": "0a6322ba-3297-4b6e-bd7b-1e9adf1f6d9e",
   "metadata": {},
   "outputs": [
    {
     "name": "stdout",
     "output_type": "stream",
     "text": [
      "Connecting to database using pyodbc...\n",
      "Succesfully Connected to database using pyodbc!\n"
     ]
    }
   ],
   "source": [
    "sql_base = get_df()\n",
    "sql_base.db_connect('StrategyData')\n",
    "sql_base.querys['TCRI'] = get_df.make_TCRI()\n",
    "df = sql_base.load_data('TCRI')\n",
    "df['TCRI'] = df['TCRI'].str.strip()\n",
    "df = df[~(df['TCRI'].isin(['D','C','7','8','9']))].sort_values(by = 'STOCKID').reset_index(drop = True)\n",
    "#path = input()\n",
    "#df.to_excel(path + \"\\\\TCRI.xlsx\")\n",
    "df.to_excel(r'C:\\Users\\larryx30\\larryx30\\每週買賣報表\\TCRIDAY.xlsx',index = False)\n",
    "df.to_excel(r'C:\\Users\\larryx30\\Desktop\\PYTHON\\TCRIDAY.xlsx',index = False)"
   ]
  },
  {
   "cell_type": "code",
   "execution_count": 12,
   "id": "a9c0e48a-cec8-4c31-a1b8-f4fcb26116e2",
   "metadata": {},
   "outputs": [
    {
     "data": {
      "text/html": [
       "<div>\n",
       "<style scoped>\n",
       "    .dataframe tbody tr th:only-of-type {\n",
       "        vertical-align: middle;\n",
       "    }\n",
       "\n",
       "    .dataframe tbody tr th {\n",
       "        vertical-align: top;\n",
       "    }\n",
       "\n",
       "    .dataframe thead th {\n",
       "        text-align: right;\n",
       "    }\n",
       "</style>\n",
       "<table border=\"1\" class=\"dataframe\">\n",
       "  <thead>\n",
       "    <tr style=\"text-align: right;\">\n",
       "      <th></th>\n",
       "      <th>STOCKID</th>\n",
       "      <th>TCRI</th>\n",
       "    </tr>\n",
       "  </thead>\n",
       "  <tbody>\n",
       "    <tr>\n",
       "      <th>0</th>\n",
       "      <td>1101</td>\n",
       "      <td>4</td>\n",
       "    </tr>\n",
       "    <tr>\n",
       "      <th>1</th>\n",
       "      <td>1102</td>\n",
       "      <td>3</td>\n",
       "    </tr>\n",
       "    <tr>\n",
       "      <th>2</th>\n",
       "      <td>1103</td>\n",
       "      <td>6</td>\n",
       "    </tr>\n",
       "    <tr>\n",
       "      <th>3</th>\n",
       "      <td>1104</td>\n",
       "      <td>5</td>\n",
       "    </tr>\n",
       "    <tr>\n",
       "      <th>4</th>\n",
       "      <td>1108</td>\n",
       "      <td>6</td>\n",
       "    </tr>\n",
       "    <tr>\n",
       "      <th>...</th>\n",
       "      <td>...</td>\n",
       "      <td>...</td>\n",
       "    </tr>\n",
       "    <tr>\n",
       "      <th>1455</th>\n",
       "      <td>9952</td>\n",
       "      <td>6</td>\n",
       "    </tr>\n",
       "    <tr>\n",
       "      <th>1456</th>\n",
       "      <td>9958</td>\n",
       "      <td>5</td>\n",
       "    </tr>\n",
       "    <tr>\n",
       "      <th>1457</th>\n",
       "      <td>9960</td>\n",
       "      <td>6</td>\n",
       "    </tr>\n",
       "    <tr>\n",
       "      <th>1458</th>\n",
       "      <td>9962</td>\n",
       "      <td>6</td>\n",
       "    </tr>\n",
       "    <tr>\n",
       "      <th>1459</th>\n",
       "      <td>L2301</td>\n",
       "      <td>4</td>\n",
       "    </tr>\n",
       "  </tbody>\n",
       "</table>\n",
       "<p>1460 rows × 2 columns</p>\n",
       "</div>"
      ],
      "text/plain": [
       "     STOCKID TCRI\n",
       "0     1101      4\n",
       "1     1102      3\n",
       "2     1103      6\n",
       "3     1104      5\n",
       "4     1108      6\n",
       "...      ...  ...\n",
       "1455  9952      6\n",
       "1456  9958      5\n",
       "1457  9960      6\n",
       "1458  9962      6\n",
       "1459  L2301     4\n",
       "\n",
       "[1460 rows x 2 columns]"
      ]
     },
     "execution_count": 12,
     "metadata": {},
     "output_type": "execute_result"
    }
   ],
   "source": [
    "df"
   ]
  },
  {
   "cell_type": "code",
   "execution_count": null,
   "id": "628c7185-976a-423d-a181-460b05dd9f60",
   "metadata": {},
   "outputs": [],
   "source": []
  }
 ],
 "metadata": {
  "kernelspec": {
   "display_name": "Python 3",
   "language": "python",
   "name": "python3"
  },
  "language_info": {
   "codemirror_mode": {
    "name": "ipython",
    "version": 3
   },
   "file_extension": ".py",
   "mimetype": "text/x-python",
   "name": "python",
   "nbconvert_exporter": "python",
   "pygments_lexer": "ipython3",
   "version": "3.8.8"
  }
 },
 "nbformat": 4,
 "nbformat_minor": 5
}
