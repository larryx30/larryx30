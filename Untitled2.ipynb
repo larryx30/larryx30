{
 "cells": [
  {
   "cell_type": "code",
   "execution_count": 1,
   "id": "5e19219d-a746-4d95-9d43-84b7f813611d",
   "metadata": {},
   "outputs": [
    {
     "name": "stdout",
     "output_type": "stream",
     "text": [
      "Collecting interval3\n",
      "  Downloading interval3-2.0.0.tar.gz (13 kB)\n",
      "Building wheels for collected packages: interval3\n",
      "  Building wheel for interval3 (setup.py): started\n",
      "  Building wheel for interval3 (setup.py): finished with status 'done'\n",
      "  Created wheel for interval3: filename=interval3-2.0.0-py3-none-any.whl size=13732 sha256=48facb69d40ae6e1010e2c41b7800dca9b50e51fea4bd33bd9c25c85234a6a1f\n",
      "  Stored in directory: c:\\users\\larryx30\\appdata\\local\\pip\\cache\\wheels\\77\\d5\\e6\\bb01cbabf84c55e3fc193ce9903bc5bc239a3b635b82323e92\n",
      "Successfully built interval3\n",
      "Installing collected packages: interval3\n",
      "Successfully installed interval3-2.0.0Note: you may need to restart the kernel to use updated packages.\n",
      "\n"
     ]
    }
   ],
   "source": [
    "pip install interval3 "
   ]
  },
  {
   "cell_type": "code",
   "execution_count": null,
   "id": "426d2d85-8253-41e3-9e8e-6ce4051f6008",
   "metadata": {},
   "outputs": [],
   "source": []
  }
 ],
 "metadata": {
  "kernelspec": {
   "display_name": "Python 3",
   "language": "python",
   "name": "python3"
  },
  "language_info": {
   "codemirror_mode": {
    "name": "ipython",
    "version": 3
   },
   "file_extension": ".py",
   "mimetype": "text/x-python",
   "name": "python",
   "nbconvert_exporter": "python",
   "pygments_lexer": "ipython3",
   "version": "3.8.8"
  }
 },
 "nbformat": 4,
 "nbformat_minor": 5
}
