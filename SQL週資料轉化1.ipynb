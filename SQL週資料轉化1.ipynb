{
 "cells": [
  {
   "cell_type": "markdown",
   "id": "0268eb58-3649-41ad-8799-3b4d7fd8d4c5",
   "metadata": {},
   "source": [
    "# SQL資料更新"
   ]
  },
  {
   "cell_type": "code",
   "execution_count": 1,
   "id": "d4493e43-d5be-494a-abd1-f64fc5749110",
   "metadata": {
    "tags": []
   },
   "outputs": [
    {
     "name": "stdout",
     "output_type": "stream",
     "text": [
      "Connecting to database using pyodbc...\n",
      "Succesfully Connected to database using pyodbc!\n"
     ]
    },
    {
     "name": "stderr",
     "output_type": "stream",
     "text": [
      "100%|██████████| 1776/1776 [1:14:29<00:00,  2.52s/it]\n"
     ]
    }
   ],
   "source": [
    "import pyodbc\n",
    "import pandas as pd\n",
    "import numpy as np\n",
    "import warnings\n",
    "from tqdm import tqdm\n",
    "warnings.filterwarnings(\"ignore\")\n",
    "DB_Host = \"192.168.1.16\"\n",
    "DB_Name = \"X01\"\n",
    "DB_User = \"cm23357868\"#以我的帳號為例，請填入您個人帳號\n",
    "DB_Password = \"86875332\"#以我的密碼為例，請填入您個人密碼\n",
    "\n",
    "print(\"Connecting to database using pyodbc...\")\n",
    "\n",
    "db = pyodbc.connect('DRIVER={ODBC Driver 13 for SQL Server}; SERVER=' + DB_Host + '; DATABASE=' + DB_Name + '; UID=' + DB_User + '; PWD=' + DB_Password)\n",
    "\n",
    "print(\"Succesfully Connected to database using pyodbc!\")\n",
    "\n",
    "cursor = db.cursor()\n",
    "#假設我有個列表(tuple也可以)裡面有股票代號，示範只導入前十項\n",
    "\n",
    "s_code_df = pd.read_excel(\"C:\\\\Users\\\\larryx30\\\\Desktop\\\\ALLSTOCK.xlsx\")\n",
    "stock_ls = list(s_code_df.loc[0:,'NUM'])\n",
    "data_ls = []\n",
    "data_frame = pd.DataFrame()\n",
    "for stock_code in tqdm(stock_ls):\n",
    "    query1 = \"\"\"SELECT  [日期]\n",
    "      ,[股票代號]\n",
    "      ,[股票名稱]\n",
    "      ,[資使用率]\n",
    "      ,[融資維持率(%%)]\n",
    "      FROM [X01].[dbo].[日融資券排行] WITH(NOLOCK) where 股票代號 = '%s' And 日期 >= 20160101 order by 日期 \"\"\" %stock_code\n",
    "    query2 = \"\"\"SELECT [日期]\n",
    "      ,[股票代號]\n",
    "      ,[股票名稱]\n",
    "      ,[開盤價]\n",
    "      ,[最高價]\n",
    "      ,[最低價]\n",
    "      ,[收盤價]\n",
    "      ,[成交金額(千)]\n",
    "      FROM [X01].[dbo].[日收盤表排行] WITH(NOLOCK) where 股票代號 = '%s' And 日期 >= 20160101 order by 日期 \"\"\" %stock_code\n",
    "    query3 = \"\"\"SELECT [日期]\n",
    "      ,[股票代號]\n",
    "      ,[股票名稱]\n",
    "      ,[還原收盤價]\n",
    "      FROM [X01].[dbo].[日報酬率比較表] WITH(NOLOCK) where 股票代號 = '%s' And 日期 >= 20160101 order by 日期 \"\"\"  %stock_code\n",
    "    query4 = \"\"\"SELECT [日期]\n",
    "      ,[股票代號]\n",
    "      ,[股票名稱]\n",
    "      ,[投信買賣超金額(千)]\n",
    "      ,[投信持股比率(%%)]\n",
    "      ,[投信持股市值(百萬)]\n",
    "      ,[投信持股成本]\n",
    "      FROM [X01].[dbo].[日投信明細與排行] WITH(NOLOCK) where 股票代號 = '%s' And 日期 >= 20160101 order by 日期 \"\"\"  %stock_code\n",
    "    query5 = \"\"\"SELECT [日期]\n",
    "      ,[股票代號]\n",
    "      ,[股票名稱]\n",
    "      ,[外資買賣超金額(千)]\n",
    "      ,[外資持股比率(%%)]\n",
    "      ,[外資持股市值(百萬)]\n",
    "      ,[外資持股成本]\n",
    "      FROM [X01].[dbo].[日外資持股與排行] WITH(NOLOCK) where 股票代號 = '%s' And 日期 >= 20160101 order by 日期 \"\"\"  %stock_code\n",
    "    \n",
    "    df_Financing = pd.read_sql(query1, db)#.dropna()\n",
    "    df_price = pd.read_sql(query2, db)\n",
    "    df_res_price = pd.read_sql(query3, db)\n",
    "    df_sit = pd.read_sql(query4, db)\n",
    "    df_ff = pd.read_sql(query5, db)\n",
    "    df_from_sql = df_price.merge(df_Financing, on= ['日期', '股票代號', '股票名稱']).fillna(0)\n",
    "    df_from_sql = df_from_sql.merge(df_res_price, on= ['日期', '股票代號', '股票名稱']).fillna(0)\n",
    "    df_from_sql = df_from_sql.merge(df_sit,on = ['日期', '股票代號', '股票名稱']).fillna(0)\n",
    "    df_from_sql = df_from_sql.merge(df_ff,on = ['日期', '股票代號', '股票名稱']).fillna(0)\n",
    "    df_from_sql['日期'] = pd.to_datetime(df_from_sql['日期'],format = \"%Y%m%d\").fillna(0)\n",
    "    df_from_sql = df_from_sql.set_index('日期')\n",
    "    data_ls.append(df_from_sql)\n",
    "    data_frame = pd.concat([data_frame,df_from_sql],axis = 0)\n",
    "    \n"
   ]
  },
  {
   "cell_type": "code",
   "execution_count": 2,
   "id": "d2c300c2-bd8c-4286-8c7f-a3ec9d655bbf",
   "metadata": {},
   "outputs": [
    {
     "data": {
      "text/html": [
       "<div>\n",
       "<style scoped>\n",
       "    .dataframe tbody tr th:only-of-type {\n",
       "        vertical-align: middle;\n",
       "    }\n",
       "\n",
       "    .dataframe tbody tr th {\n",
       "        vertical-align: top;\n",
       "    }\n",
       "\n",
       "    .dataframe thead th {\n",
       "        text-align: right;\n",
       "    }\n",
       "</style>\n",
       "<table border=\"1\" class=\"dataframe\">\n",
       "  <thead>\n",
       "    <tr style=\"text-align: right;\">\n",
       "      <th></th>\n",
       "      <th>股票代號</th>\n",
       "      <th>股票名稱</th>\n",
       "      <th>開盤價</th>\n",
       "      <th>最高價</th>\n",
       "      <th>最低價</th>\n",
       "      <th>收盤價</th>\n",
       "      <th>成交金額(千)</th>\n",
       "      <th>資使用率</th>\n",
       "      <th>融資維持率(%)</th>\n",
       "      <th>還原收盤價</th>\n",
       "      <th>投信買賣超金額(千)</th>\n",
       "      <th>投信持股比率(%)</th>\n",
       "      <th>投信持股市值(百萬)</th>\n",
       "      <th>投信持股成本</th>\n",
       "      <th>外資買賣超金額(千)</th>\n",
       "      <th>外資持股比率(%)</th>\n",
       "      <th>外資持股市值(百萬)</th>\n",
       "      <th>外資持股成本</th>\n",
       "    </tr>\n",
       "    <tr>\n",
       "      <th>日期</th>\n",
       "      <th></th>\n",
       "      <th></th>\n",
       "      <th></th>\n",
       "      <th></th>\n",
       "      <th></th>\n",
       "      <th></th>\n",
       "      <th></th>\n",
       "      <th></th>\n",
       "      <th></th>\n",
       "      <th></th>\n",
       "      <th></th>\n",
       "      <th></th>\n",
       "      <th></th>\n",
       "      <th></th>\n",
       "      <th></th>\n",
       "      <th></th>\n",
       "      <th></th>\n",
       "      <th></th>\n",
       "    </tr>\n",
       "  </thead>\n",
       "  <tbody>\n",
       "    <tr>\n",
       "      <th>2023-02-17</th>\n",
       "      <td>TWA00</td>\n",
       "      <td>加權指數</td>\n",
       "      <td>15503.75</td>\n",
       "      <td>15503.75</td>\n",
       "      <td>15418.43</td>\n",
       "      <td>15479.70</td>\n",
       "      <td>214221197</td>\n",
       "      <td>3.71</td>\n",
       "      <td>169.422897</td>\n",
       "      <td>15479.70</td>\n",
       "      <td>980266</td>\n",
       "      <td>1.51</td>\n",
       "      <td>734866.39</td>\n",
       "      <td>0.0</td>\n",
       "      <td>-11667393</td>\n",
       "      <td>40.62</td>\n",
       "      <td>19741592.75</td>\n",
       "      <td>0.0</td>\n",
       "    </tr>\n",
       "    <tr>\n",
       "      <th>2023-02-20</th>\n",
       "      <td>TWA00</td>\n",
       "      <td>加權指數</td>\n",
       "      <td>15452.01</td>\n",
       "      <td>15575.32</td>\n",
       "      <td>15436.66</td>\n",
       "      <td>15551.23</td>\n",
       "      <td>211408695</td>\n",
       "      <td>3.73</td>\n",
       "      <td>170.515198</td>\n",
       "      <td>15551.23</td>\n",
       "      <td>983207</td>\n",
       "      <td>1.51</td>\n",
       "      <td>739566.20</td>\n",
       "      <td>0.0</td>\n",
       "      <td>-2370604</td>\n",
       "      <td>40.50</td>\n",
       "      <td>19778294.95</td>\n",
       "      <td>0.0</td>\n",
       "    </tr>\n",
       "    <tr>\n",
       "      <th>2023-02-21</th>\n",
       "      <td>TWA00</td>\n",
       "      <td>加權指數</td>\n",
       "      <td>15535.64</td>\n",
       "      <td>15567.74</td>\n",
       "      <td>15496.73</td>\n",
       "      <td>15563.00</td>\n",
       "      <td>224395036</td>\n",
       "      <td>3.74</td>\n",
       "      <td>171.230499</td>\n",
       "      <td>15563.00</td>\n",
       "      <td>1303601</td>\n",
       "      <td>1.52</td>\n",
       "      <td>743580.13</td>\n",
       "      <td>0.0</td>\n",
       "      <td>-251833</td>\n",
       "      <td>40.49</td>\n",
       "      <td>19783500.53</td>\n",
       "      <td>0.0</td>\n",
       "    </tr>\n",
       "    <tr>\n",
       "      <th>2023-02-22</th>\n",
       "      <td>TWA00</td>\n",
       "      <td>加權指數</td>\n",
       "      <td>15541.17</td>\n",
       "      <td>15541.17</td>\n",
       "      <td>15345.93</td>\n",
       "      <td>15418.77</td>\n",
       "      <td>243905149</td>\n",
       "      <td>3.75</td>\n",
       "      <td>168.589203</td>\n",
       "      <td>15418.77</td>\n",
       "      <td>1028648</td>\n",
       "      <td>1.52</td>\n",
       "      <td>736229.54</td>\n",
       "      <td>0.0</td>\n",
       "      <td>-12197584</td>\n",
       "      <td>40.34</td>\n",
       "      <td>19531345.32</td>\n",
       "      <td>0.0</td>\n",
       "    </tr>\n",
       "    <tr>\n",
       "      <th>2023-02-23</th>\n",
       "      <td>TWA00</td>\n",
       "      <td>加權指數</td>\n",
       "      <td>15463.46</td>\n",
       "      <td>15657.63</td>\n",
       "      <td>15463.46</td>\n",
       "      <td>15615.41</td>\n",
       "      <td>252651517</td>\n",
       "      <td>3.77</td>\n",
       "      <td>171.126099</td>\n",
       "      <td>15615.41</td>\n",
       "      <td>16980</td>\n",
       "      <td>1.53</td>\n",
       "      <td>747844.33</td>\n",
       "      <td>0.0</td>\n",
       "      <td>13592655</td>\n",
       "      <td>40.49</td>\n",
       "      <td>19852015.48</td>\n",
       "      <td>0.0</td>\n",
       "    </tr>\n",
       "    <tr>\n",
       "      <th>2023-02-24</th>\n",
       "      <td>TWA00</td>\n",
       "      <td>加權指數</td>\n",
       "      <td>15669.88</td>\n",
       "      <td>15717.96</td>\n",
       "      <td>15503.79</td>\n",
       "      <td>15503.79</td>\n",
       "      <td>294344442</td>\n",
       "      <td>3.77</td>\n",
       "      <td>169.356201</td>\n",
       "      <td>15503.79</td>\n",
       "      <td>1229465</td>\n",
       "      <td>1.53</td>\n",
       "      <td>745349.36</td>\n",
       "      <td>0.0</td>\n",
       "      <td>-8055103</td>\n",
       "      <td>40.36</td>\n",
       "      <td>19648313.89</td>\n",
       "      <td>0.0</td>\n",
       "    </tr>\n",
       "    <tr>\n",
       "      <th>2023-03-01</th>\n",
       "      <td>TWA00</td>\n",
       "      <td>加權指數</td>\n",
       "      <td>15435.38</td>\n",
       "      <td>15617.03</td>\n",
       "      <td>15387.38</td>\n",
       "      <td>15598.49</td>\n",
       "      <td>260757684</td>\n",
       "      <td>3.77</td>\n",
       "      <td>169.408295</td>\n",
       "      <td>15598.49</td>\n",
       "      <td>1484512</td>\n",
       "      <td>1.53</td>\n",
       "      <td>751445.76</td>\n",
       "      <td>0.0</td>\n",
       "      <td>-3676869</td>\n",
       "      <td>40.68</td>\n",
       "      <td>19920899.90</td>\n",
       "      <td>0.0</td>\n",
       "    </tr>\n",
       "    <tr>\n",
       "      <th>2023-03-02</th>\n",
       "      <td>TWA00</td>\n",
       "      <td>加權指數</td>\n",
       "      <td>15580.28</td>\n",
       "      <td>15618.06</td>\n",
       "      <td>15492.37</td>\n",
       "      <td>15598.72</td>\n",
       "      <td>216854554</td>\n",
       "      <td>3.69</td>\n",
       "      <td>169.863998</td>\n",
       "      <td>15598.72</td>\n",
       "      <td>3031377</td>\n",
       "      <td>1.54</td>\n",
       "      <td>754849.21</td>\n",
       "      <td>0.0</td>\n",
       "      <td>-3792680</td>\n",
       "      <td>40.56</td>\n",
       "      <td>19864646.42</td>\n",
       "      <td>0.0</td>\n",
       "    </tr>\n",
       "    <tr>\n",
       "      <th>2023-03-03</th>\n",
       "      <td>TWA00</td>\n",
       "      <td>加權指數</td>\n",
       "      <td>15621.36</td>\n",
       "      <td>15713.42</td>\n",
       "      <td>15606.85</td>\n",
       "      <td>15608.42</td>\n",
       "      <td>240195649</td>\n",
       "      <td>3.69</td>\n",
       "      <td>170.133698</td>\n",
       "      <td>15608.42</td>\n",
       "      <td>2828319</td>\n",
       "      <td>1.54</td>\n",
       "      <td>756903.48</td>\n",
       "      <td>0.0</td>\n",
       "      <td>-2118883</td>\n",
       "      <td>40.45</td>\n",
       "      <td>19824246.92</td>\n",
       "      <td>0.0</td>\n",
       "    </tr>\n",
       "    <tr>\n",
       "      <th>2023-03-06</th>\n",
       "      <td>TWA00</td>\n",
       "      <td>加權指數</td>\n",
       "      <td>15675.28</td>\n",
       "      <td>15818.88</td>\n",
       "      <td>15675.28</td>\n",
       "      <td>15763.51</td>\n",
       "      <td>246927680</td>\n",
       "      <td>3.70</td>\n",
       "      <td>171.919098</td>\n",
       "      <td>15763.51</td>\n",
       "      <td>2050953</td>\n",
       "      <td>1.55</td>\n",
       "      <td>767011.26</td>\n",
       "      <td>0.0</td>\n",
       "      <td>8453980</td>\n",
       "      <td>40.47</td>\n",
       "      <td>20030562.62</td>\n",
       "      <td>0.0</td>\n",
       "    </tr>\n",
       "  </tbody>\n",
       "</table>\n",
       "</div>"
      ],
      "text/plain": [
       "             股票代號  股票名稱       開盤價       最高價       最低價       收盤價    成交金額(千)  \\\n",
       "日期                                                                           \n",
       "2023-02-17  TWA00  加權指數  15503.75  15503.75  15418.43  15479.70  214221197   \n",
       "2023-02-20  TWA00  加權指數  15452.01  15575.32  15436.66  15551.23  211408695   \n",
       "2023-02-21  TWA00  加權指數  15535.64  15567.74  15496.73  15563.00  224395036   \n",
       "2023-02-22  TWA00  加權指數  15541.17  15541.17  15345.93  15418.77  243905149   \n",
       "2023-02-23  TWA00  加權指數  15463.46  15657.63  15463.46  15615.41  252651517   \n",
       "2023-02-24  TWA00  加權指數  15669.88  15717.96  15503.79  15503.79  294344442   \n",
       "2023-03-01  TWA00  加權指數  15435.38  15617.03  15387.38  15598.49  260757684   \n",
       "2023-03-02  TWA00  加權指數  15580.28  15618.06  15492.37  15598.72  216854554   \n",
       "2023-03-03  TWA00  加權指數  15621.36  15713.42  15606.85  15608.42  240195649   \n",
       "2023-03-06  TWA00  加權指數  15675.28  15818.88  15675.28  15763.51  246927680   \n",
       "\n",
       "            資使用率    融資維持率(%)     還原收盤價  投信買賣超金額(千)  投信持股比率(%)  投信持股市值(百萬)  \\\n",
       "日期                                                                          \n",
       "2023-02-17  3.71  169.422897  15479.70      980266       1.51   734866.39   \n",
       "2023-02-20  3.73  170.515198  15551.23      983207       1.51   739566.20   \n",
       "2023-02-21  3.74  171.230499  15563.00     1303601       1.52   743580.13   \n",
       "2023-02-22  3.75  168.589203  15418.77     1028648       1.52   736229.54   \n",
       "2023-02-23  3.77  171.126099  15615.41       16980       1.53   747844.33   \n",
       "2023-02-24  3.77  169.356201  15503.79     1229465       1.53   745349.36   \n",
       "2023-03-01  3.77  169.408295  15598.49     1484512       1.53   751445.76   \n",
       "2023-03-02  3.69  169.863998  15598.72     3031377       1.54   754849.21   \n",
       "2023-03-03  3.69  170.133698  15608.42     2828319       1.54   756903.48   \n",
       "2023-03-06  3.70  171.919098  15763.51     2050953       1.55   767011.26   \n",
       "\n",
       "            投信持股成本  外資買賣超金額(千)  外資持股比率(%)   外資持股市值(百萬)  外資持股成本  \n",
       "日期                                                              \n",
       "2023-02-17     0.0   -11667393      40.62  19741592.75     0.0  \n",
       "2023-02-20     0.0    -2370604      40.50  19778294.95     0.0  \n",
       "2023-02-21     0.0     -251833      40.49  19783500.53     0.0  \n",
       "2023-02-22     0.0   -12197584      40.34  19531345.32     0.0  \n",
       "2023-02-23     0.0    13592655      40.49  19852015.48     0.0  \n",
       "2023-02-24     0.0    -8055103      40.36  19648313.89     0.0  \n",
       "2023-03-01     0.0    -3676869      40.68  19920899.90     0.0  \n",
       "2023-03-02     0.0    -3792680      40.56  19864646.42     0.0  \n",
       "2023-03-03     0.0    -2118883      40.45  19824246.92     0.0  \n",
       "2023-03-06     0.0     8453980      40.47  20030562.62     0.0  "
      ]
     },
     "execution_count": 2,
     "metadata": {},
     "output_type": "execute_result"
    }
   ],
   "source": [
    "data_frame.tail(10)"
   ]
  },
  {
   "cell_type": "code",
   "execution_count": null,
   "id": "1968bbbb-f431-4f3b-8b59-f95823d7f4f1",
   "metadata": {},
   "outputs": [],
   "source": []
  },
  {
   "cell_type": "markdown",
   "id": "d0e40700-6622-4fe2-8a8d-fdefabc54c82",
   "metadata": {},
   "source": [
    "# 整理樞紐1"
   ]
  },
  {
   "cell_type": "code",
   "execution_count": 3,
   "id": "3957c5a7-02ff-4142-8378-11fc154e0cc1",
   "metadata": {},
   "outputs": [
    {
     "name": "stderr",
     "output_type": "stream",
     "text": [
      "100%|██████████| 15/15 [00:16<00:00,  1.12s/it]\n"
     ]
    }
   ],
   "source": [
    "feature_ls = data_frame.columns[3:]\n",
    "data_frame = data_frame.reset_index(drop = False)\n",
    "data_pivots_ls = []\n",
    "for feature in tqdm(feature_ls):\n",
    "    data_pivot = data_frame.pivot('日期','股票代號',feature)\n",
    "    data_pivots_ls.append(data_pivot)\n",
    "data_dict = {str(stock_ls[i]):data_ls[i] for i in range(len(stock_ls))}\n",
    "    "
   ]
  },
  {
   "cell_type": "code",
   "execution_count": 4,
   "id": "7bb8be6c-4d8a-42e2-b403-6abb35fcd68d",
   "metadata": {},
   "outputs": [
    {
     "data": {
      "text/html": [
       "<div>\n",
       "<style scoped>\n",
       "    .dataframe tbody tr th:only-of-type {\n",
       "        vertical-align: middle;\n",
       "    }\n",
       "\n",
       "    .dataframe tbody tr th {\n",
       "        vertical-align: top;\n",
       "    }\n",
       "\n",
       "    .dataframe thead th {\n",
       "        text-align: right;\n",
       "    }\n",
       "</style>\n",
       "<table border=\"1\" class=\"dataframe\">\n",
       "  <thead>\n",
       "    <tr style=\"text-align: right;\">\n",
       "      <th></th>\n",
       "      <th>股票代號</th>\n",
       "      <th>股票名稱</th>\n",
       "      <th>開盤價</th>\n",
       "      <th>最高價</th>\n",
       "      <th>最低價</th>\n",
       "      <th>收盤價</th>\n",
       "      <th>成交金額(千)</th>\n",
       "      <th>資使用率</th>\n",
       "      <th>融資維持率(%)</th>\n",
       "      <th>還原收盤價</th>\n",
       "      <th>投信買賣超金額(千)</th>\n",
       "      <th>投信持股比率(%)</th>\n",
       "      <th>投信持股市值(百萬)</th>\n",
       "      <th>投信持股成本</th>\n",
       "      <th>外資買賣超金額(千)</th>\n",
       "      <th>外資持股比率(%)</th>\n",
       "      <th>外資持股市值(百萬)</th>\n",
       "      <th>外資持股成本</th>\n",
       "    </tr>\n",
       "    <tr>\n",
       "      <th>日期</th>\n",
       "      <th></th>\n",
       "      <th></th>\n",
       "      <th></th>\n",
       "      <th></th>\n",
       "      <th></th>\n",
       "      <th></th>\n",
       "      <th></th>\n",
       "      <th></th>\n",
       "      <th></th>\n",
       "      <th></th>\n",
       "      <th></th>\n",
       "      <th></th>\n",
       "      <th></th>\n",
       "      <th></th>\n",
       "      <th></th>\n",
       "      <th></th>\n",
       "      <th></th>\n",
       "      <th></th>\n",
       "    </tr>\n",
       "  </thead>\n",
       "  <tbody>\n",
       "    <tr>\n",
       "      <th>2023-03-03</th>\n",
       "      <td>TWA00</td>\n",
       "      <td>加權指數</td>\n",
       "      <td>15621.36</td>\n",
       "      <td>15713.42</td>\n",
       "      <td>15606.85</td>\n",
       "      <td>15608.42</td>\n",
       "      <td>240195649</td>\n",
       "      <td>3.69</td>\n",
       "      <td>170.133698</td>\n",
       "      <td>15608.42</td>\n",
       "      <td>2828319</td>\n",
       "      <td>1.54</td>\n",
       "      <td>756903.48</td>\n",
       "      <td>0</td>\n",
       "      <td>-2118883</td>\n",
       "      <td>40.45</td>\n",
       "      <td>19824246.92</td>\n",
       "      <td>0</td>\n",
       "    </tr>\n",
       "    <tr>\n",
       "      <th>2023-03-06</th>\n",
       "      <td>TWA00</td>\n",
       "      <td>加權指數</td>\n",
       "      <td>15675.28</td>\n",
       "      <td>15818.88</td>\n",
       "      <td>15675.28</td>\n",
       "      <td>15763.51</td>\n",
       "      <td>246927680</td>\n",
       "      <td>3.70</td>\n",
       "      <td>171.919098</td>\n",
       "      <td>15763.51</td>\n",
       "      <td>2050953</td>\n",
       "      <td>1.55</td>\n",
       "      <td>767011.26</td>\n",
       "      <td>0</td>\n",
       "      <td>8453980</td>\n",
       "      <td>40.47</td>\n",
       "      <td>20030562.62</td>\n",
       "      <td>0</td>\n",
       "    </tr>\n",
       "  </tbody>\n",
       "</table>\n",
       "</div>"
      ],
      "text/plain": [
       "             股票代號  股票名稱       開盤價       最高價       最低價       收盤價    成交金額(千)  \\\n",
       "日期                                                                           \n",
       "2023-03-03  TWA00  加權指數  15621.36  15713.42  15606.85  15608.42  240195649   \n",
       "2023-03-06  TWA00  加權指數  15675.28  15818.88  15675.28  15763.51  246927680   \n",
       "\n",
       "            資使用率    融資維持率(%)     還原收盤價  投信買賣超金額(千)  投信持股比率(%)  投信持股市值(百萬)  \\\n",
       "日期                                                                          \n",
       "2023-03-03  3.69  170.133698  15608.42     2828319       1.54   756903.48   \n",
       "2023-03-06  3.70  171.919098  15763.51     2050953       1.55   767011.26   \n",
       "\n",
       "            投信持股成本  外資買賣超金額(千)  外資持股比率(%)   外資持股市值(百萬)  外資持股成本  \n",
       "日期                                                              \n",
       "2023-03-03       0    -2118883      40.45  19824246.92       0  \n",
       "2023-03-06       0     8453980      40.47  20030562.62       0  "
      ]
     },
     "execution_count": 4,
     "metadata": {},
     "output_type": "execute_result"
    }
   ],
   "source": [
    "data_dict['TWA00'].tail(2)"
   ]
  },
  {
   "cell_type": "code",
   "execution_count": 5,
   "id": "8663668a-d2dd-46fd-8ded-36bb9ed691bf",
   "metadata": {},
   "outputs": [
    {
     "data": {
      "text/html": [
       "<div>\n",
       "<style scoped>\n",
       "    .dataframe tbody tr th:only-of-type {\n",
       "        vertical-align: middle;\n",
       "    }\n",
       "\n",
       "    .dataframe tbody tr th {\n",
       "        vertical-align: top;\n",
       "    }\n",
       "\n",
       "    .dataframe thead th {\n",
       "        text-align: right;\n",
       "    }\n",
       "</style>\n",
       "<table border=\"1\" class=\"dataframe\">\n",
       "  <thead>\n",
       "    <tr style=\"text-align: right;\">\n",
       "      <th></th>\n",
       "      <th>股票代號</th>\n",
       "      <th>股票名稱</th>\n",
       "      <th>開盤價</th>\n",
       "      <th>最高價</th>\n",
       "      <th>最低價</th>\n",
       "      <th>收盤價</th>\n",
       "      <th>成交金額(千)</th>\n",
       "      <th>資使用率</th>\n",
       "      <th>融資維持率(%)</th>\n",
       "      <th>還原收盤價</th>\n",
       "      <th>投信買賣超金額(千)</th>\n",
       "      <th>投信持股比率(%)</th>\n",
       "      <th>投信持股市值(百萬)</th>\n",
       "      <th>投信持股成本</th>\n",
       "      <th>外資買賣超金額(千)</th>\n",
       "      <th>外資持股比率(%)</th>\n",
       "      <th>外資持股市值(百萬)</th>\n",
       "      <th>外資持股成本</th>\n",
       "    </tr>\n",
       "    <tr>\n",
       "      <th>日期</th>\n",
       "      <th></th>\n",
       "      <th></th>\n",
       "      <th></th>\n",
       "      <th></th>\n",
       "      <th></th>\n",
       "      <th></th>\n",
       "      <th></th>\n",
       "      <th></th>\n",
       "      <th></th>\n",
       "      <th></th>\n",
       "      <th></th>\n",
       "      <th></th>\n",
       "      <th></th>\n",
       "      <th></th>\n",
       "      <th></th>\n",
       "      <th></th>\n",
       "      <th></th>\n",
       "      <th></th>\n",
       "    </tr>\n",
       "  </thead>\n",
       "  <tbody>\n",
       "    <tr>\n",
       "      <th>2023-03-03</th>\n",
       "      <td>1301</td>\n",
       "      <td>台塑</td>\n",
       "      <td>90.2</td>\n",
       "      <td>90.7</td>\n",
       "      <td>90.2</td>\n",
       "      <td>90.7</td>\n",
       "      <td>211761</td>\n",
       "      <td>0.12</td>\n",
       "      <td>171.460800</td>\n",
       "      <td>90.7</td>\n",
       "      <td>21906</td>\n",
       "      <td>1.21</td>\n",
       "      <td>6966.27</td>\n",
       "      <td>89.06</td>\n",
       "      <td>432</td>\n",
       "      <td>33.83</td>\n",
       "      <td>195335.41</td>\n",
       "      <td>83.46</td>\n",
       "    </tr>\n",
       "    <tr>\n",
       "      <th>2023-03-06</th>\n",
       "      <td>1301</td>\n",
       "      <td>台塑</td>\n",
       "      <td>91.1</td>\n",
       "      <td>91.5</td>\n",
       "      <td>90.7</td>\n",
       "      <td>91.5</td>\n",
       "      <td>496113</td>\n",
       "      <td>0.11</td>\n",
       "      <td>172.917496</td>\n",
       "      <td>91.5</td>\n",
       "      <td>34314</td>\n",
       "      <td>1.21</td>\n",
       "      <td>7062.12</td>\n",
       "      <td>89.07</td>\n",
       "      <td>81047</td>\n",
       "      <td>33.84</td>\n",
       "      <td>197140.32</td>\n",
       "      <td>83.47</td>\n",
       "    </tr>\n",
       "  </tbody>\n",
       "</table>\n",
       "</div>"
      ],
      "text/plain": [
       "            股票代號 股票名稱   開盤價   最高價   最低價   收盤價  成交金額(千)  資使用率    融資維持率(%)  \\\n",
       "日期                                                                         \n",
       "2023-03-03  1301   台塑  90.2  90.7  90.2  90.7   211761  0.12  171.460800   \n",
       "2023-03-06  1301   台塑  91.1  91.5  90.7  91.5   496113  0.11  172.917496   \n",
       "\n",
       "            還原收盤價  投信買賣超金額(千)  投信持股比率(%)  投信持股市值(百萬)  投信持股成本  外資買賣超金額(千)  \\\n",
       "日期                                                                         \n",
       "2023-03-03   90.7       21906       1.21     6966.27   89.06         432   \n",
       "2023-03-06   91.5       34314       1.21     7062.12   89.07       81047   \n",
       "\n",
       "            外資持股比率(%)  外資持股市值(百萬)  外資持股成本  \n",
       "日期                                         \n",
       "2023-03-03      33.83   195335.41   83.46  \n",
       "2023-03-06      33.84   197140.32   83.47  "
      ]
     },
     "execution_count": 5,
     "metadata": {},
     "output_type": "execute_result"
    }
   ],
   "source": [
    "data_dict['1301'].tail(2)"
   ]
  },
  {
   "cell_type": "markdown",
   "id": "63f20871-b6de-437f-a7f9-4aae05b2378f",
   "metadata": {},
   "source": [
    "# 整理樞紐2及字典合併"
   ]
  },
  {
   "cell_type": "code",
   "execution_count": 6,
   "id": "422b3a4b-1c12-4dfa-9ed3-c49027686873",
   "metadata": {},
   "outputs": [],
   "source": [
    "pivot_dict = {str(feature_ls[i]):data_pivots_ls[i] for i in range(len(feature_ls))}\n",
    "data_dict.update(pivot_dict)"
   ]
  },
  {
   "cell_type": "markdown",
   "id": "15385420-d314-4ca8-8fc9-653b6e759779",
   "metadata": {
    "tags": []
   },
   "source": [
    "# 回測樣本代號"
   ]
  },
  {
   "cell_type": "code",
   "execution_count": 7,
   "id": "e04300d1-856b-4c82-8bf6-9c894c7133ca",
   "metadata": {
    "tags": []
   },
   "outputs": [
    {
     "name": "stderr",
     "output_type": "stream",
     "text": [
      "100%|██████████| 1776/1776 [00:22<00:00, 78.19it/s]\n",
      "100%|██████████| 1776/1776 [00:00<00:00, 14713.57it/s]\n"
     ]
    }
   ],
   "source": [
    "response1 = pd.read_excel(r\"C:\\Users\\larryx30\\Desktop\\\\ALLSTOCK.xlsx\")\n",
    "response1.index = response1.index+1\n",
    "AS = response1['NUM']\n",
    "response2 = pd.read_excel(r\"C:\\Users\\larryx30\\Desktop\\\\TCRINEW.xlsx\")\n",
    "response2.index = response2.index+1\n",
    "SKTCRI = response2['NUM']\n",
    "response3 = pd.read_excel(r\"C:\\Users\\larryx30\\Desktop\\\\STOCKFUTURE.xlsx\")\n",
    "response3.index = response3.index+1\n",
    "SF = response3['NUM']\n",
    "DDW = {}\n",
    "for j in tqdm(AS):\n",
    "    DDW[str(j)] = data_dict[str(j)].resample('W-FRI').agg({'開盤價':'first', '最高價':'max', '最低價':'min', '收盤價':'last','成交金額(千)':'sum','資使用率':'last','融資維持率(%)':'last', '還原收盤價':'last','投信持股比率(%)':'last','投信持股成本':'last','外資持股比率(%)':'last','外資持股成本':'last','投信持股市值(百萬)':'last'})\n",
    "for fi in tqdm(AS):\n",
    "    DDW[str(fi)] = DDW[str(fi)].fillna(method = 'pad' ,axis = 0)"
   ]
  },
  {
   "cell_type": "code",
   "execution_count": 8,
   "id": "f470bcfc-1599-49c2-8906-3c478ed56d01",
   "metadata": {},
   "outputs": [
    {
     "data": {
      "text/html": [
       "<div>\n",
       "<style scoped>\n",
       "    .dataframe tbody tr th:only-of-type {\n",
       "        vertical-align: middle;\n",
       "    }\n",
       "\n",
       "    .dataframe tbody tr th {\n",
       "        vertical-align: top;\n",
       "    }\n",
       "\n",
       "    .dataframe thead th {\n",
       "        text-align: right;\n",
       "    }\n",
       "</style>\n",
       "<table border=\"1\" class=\"dataframe\">\n",
       "  <thead>\n",
       "    <tr style=\"text-align: right;\">\n",
       "      <th></th>\n",
       "      <th>開盤價</th>\n",
       "      <th>最高價</th>\n",
       "      <th>最低價</th>\n",
       "      <th>收盤價</th>\n",
       "      <th>成交金額(千)</th>\n",
       "      <th>資使用率</th>\n",
       "      <th>融資維持率(%)</th>\n",
       "      <th>還原收盤價</th>\n",
       "      <th>投信持股比率(%)</th>\n",
       "      <th>投信持股成本</th>\n",
       "      <th>外資持股比率(%)</th>\n",
       "      <th>外資持股成本</th>\n",
       "      <th>投信持股市值(百萬)</th>\n",
       "    </tr>\n",
       "    <tr>\n",
       "      <th>日期</th>\n",
       "      <th></th>\n",
       "      <th></th>\n",
       "      <th></th>\n",
       "      <th></th>\n",
       "      <th></th>\n",
       "      <th></th>\n",
       "      <th></th>\n",
       "      <th></th>\n",
       "      <th></th>\n",
       "      <th></th>\n",
       "      <th></th>\n",
       "      <th></th>\n",
       "      <th></th>\n",
       "    </tr>\n",
       "  </thead>\n",
       "  <tbody>\n",
       "    <tr>\n",
       "      <th>2023-02-24</th>\n",
       "      <td>15452.01</td>\n",
       "      <td>15717.96</td>\n",
       "      <td>15345.93</td>\n",
       "      <td>15503.79</td>\n",
       "      <td>1226704839</td>\n",
       "      <td>3.77</td>\n",
       "      <td>169.356201</td>\n",
       "      <td>15503.79</td>\n",
       "      <td>1.53</td>\n",
       "      <td>0.0</td>\n",
       "      <td>40.36</td>\n",
       "      <td>0.0</td>\n",
       "      <td>745349.36</td>\n",
       "    </tr>\n",
       "    <tr>\n",
       "      <th>2023-03-03</th>\n",
       "      <td>15435.38</td>\n",
       "      <td>15713.42</td>\n",
       "      <td>15387.38</td>\n",
       "      <td>15608.42</td>\n",
       "      <td>717807887</td>\n",
       "      <td>3.69</td>\n",
       "      <td>170.133698</td>\n",
       "      <td>15608.42</td>\n",
       "      <td>1.54</td>\n",
       "      <td>0.0</td>\n",
       "      <td>40.45</td>\n",
       "      <td>0.0</td>\n",
       "      <td>756903.48</td>\n",
       "    </tr>\n",
       "    <tr>\n",
       "      <th>2023-03-10</th>\n",
       "      <td>15675.28</td>\n",
       "      <td>15818.88</td>\n",
       "      <td>15675.28</td>\n",
       "      <td>15763.51</td>\n",
       "      <td>246927680</td>\n",
       "      <td>3.70</td>\n",
       "      <td>171.919098</td>\n",
       "      <td>15763.51</td>\n",
       "      <td>1.55</td>\n",
       "      <td>0.0</td>\n",
       "      <td>40.47</td>\n",
       "      <td>0.0</td>\n",
       "      <td>767011.26</td>\n",
       "    </tr>\n",
       "  </tbody>\n",
       "</table>\n",
       "</div>"
      ],
      "text/plain": [
       "                 開盤價       最高價       最低價       收盤價     成交金額(千)  資使用率  \\\n",
       "日期                                                                     \n",
       "2023-02-24  15452.01  15717.96  15345.93  15503.79  1226704839  3.77   \n",
       "2023-03-03  15435.38  15713.42  15387.38  15608.42   717807887  3.69   \n",
       "2023-03-10  15675.28  15818.88  15675.28  15763.51   246927680  3.70   \n",
       "\n",
       "              融資維持率(%)     還原收盤價  投信持股比率(%)  投信持股成本  外資持股比率(%)  外資持股成本  \\\n",
       "日期                                                                       \n",
       "2023-02-24  169.356201  15503.79       1.53     0.0      40.36     0.0   \n",
       "2023-03-03  170.133698  15608.42       1.54     0.0      40.45     0.0   \n",
       "2023-03-10  171.919098  15763.51       1.55     0.0      40.47     0.0   \n",
       "\n",
       "            投信持股市值(百萬)  \n",
       "日期                      \n",
       "2023-02-24   745349.36  \n",
       "2023-03-03   756903.48  \n",
       "2023-03-10   767011.26  "
      ]
     },
     "execution_count": 8,
     "metadata": {},
     "output_type": "execute_result"
    }
   ],
   "source": [
    "DDW['TWA00'].tail(3)"
   ]
  },
  {
   "cell_type": "markdown",
   "id": "c7913940-b21d-4fda-af27-22284e2c245f",
   "metadata": {
    "tags": []
   },
   "source": [
    "# 計算大盤夏普"
   ]
  },
  {
   "cell_type": "code",
   "execution_count": 9,
   "id": "94ae0343-26a7-46b9-9b11-568be85a75f0",
   "metadata": {},
   "outputs": [
    {
     "data": {
      "text/plain": [
       "<matplotlib.legend.Legend at 0x1d6d69334f0>"
      ]
     },
     "execution_count": 9,
     "metadata": {},
     "output_type": "execute_result"
    },
    {
     "data": {
      "image/png": "[encoded data removed]",
      "text/plain": [
       "<Figure size 576x216 with 1 Axes>"
      ]
     },
     "metadata": {
      "needs_background": "light"
     },
     "output_type": "display_data"
    }
   ],
   "source": [
    "import matplotlib.pyplot as plt\n",
    "import mplfinance as mpf\n",
    "import seaborn as sns\n",
    "shar2 = pd.DataFrame()\n",
    "\n",
    "change2 = data_dict[\"TWA00\"][\"還原收盤價\"].pct_change()\n",
    "sigma2 = change2.std()\n",
    "data_dict[\"TWA00\"]['rolling_ret'] = change2.rolling(252).mean()\n",
    "data_dict[\"TWA00\"]['rolling_std'] = change2.rolling(252).std()\n",
    "data_dict[\"TWA00\"]['sharpe'] = (data_dict[\"TWA00\"]['rolling_ret'] / data_dict[\"TWA00\"]['rolling_std']) * (252 ** 0.5)\n",
    "\n",
    "APT2 = data_dict[\"TWA00\"][\"sharpe\"]\n",
    "APT2.name = 'TWA00'\n",
    "DDW['TWA00'][\"sharpe\"] = data_dict['TWA00']['sharpe'].groupby(pd.Grouper(freq='1W')).tail(1)\n",
    "if len(shar2) == 0:\n",
    "    shar2 = APT2\n",
    "else:\n",
    "    shar2 = pd.merge(shar2,APT2,left_on = shar2.index,right_on = APT2.index,how = 'outer')\n",
    "    shar2.set_index('key_0',inplace = True)\n",
    "\n",
    "plt.figure(figsize=(8,3))\n",
    "plt.xlabel(\"time\")\n",
    "plt.ylabel(\"Sharpe ratio\")\n",
    "shar2.plot(label = \"TWA00\")\n",
    "plt.legend()"
   ]
  },
  {
   "cell_type": "markdown",
   "id": "040c38a7-c0fe-4154-9444-445bac887a32",
   "metadata": {},
   "source": [
    "# 計算全股票夏普"
   ]
  },
  {
   "cell_type": "code",
   "execution_count": 10,
   "id": "f3f970a1-da43-479d-af8c-4b63f9f387df",
   "metadata": {},
   "outputs": [
    {
     "name": "stderr",
     "output_type": "stream",
     "text": [
      "100%|██████████| 1776/1776 [00:29<00:00, 60.90it/s]\n"
     ]
    },
    {
     "data": {
      "image/png": "[encoded data removed]",
      "text/plain": [
       "<Figure size 576x216 with 1 Axes>"
      ]
     },
     "metadata": {
      "needs_background": "light"
     },
     "output_type": "display_data"
    }
   ],
   "source": [
    "#Sharpe\n",
    "shar = pd.DataFrame()\n",
    "\n",
    "for i in tqdm(AS):\n",
    "    change = data_dict[str(i)][\"還原收盤價\"].pct_change()\n",
    "    sigma = change.std()\n",
    "    data_dict[str(i)]['rolling_ret'] = change.rolling(252).mean()\n",
    "    data_dict[str(i)]['rolling_std'] = change.rolling(252).std()\n",
    "    data_dict[str(i)]['sharpe'] = (data_dict[str(i)]['rolling_ret'] / data_dict[str(i)]['rolling_std']) * (252 ** 0.5)\n",
    "\n",
    "    APT = data_dict[str(i)][\"sharpe\"]\n",
    "    APT.name = i\n",
    "\n",
    "    if len(shar) == 0:\n",
    "        shar = APT\n",
    "    else:\n",
    "        shar = pd.merge(shar,APT,left_on = shar.index,right_on = APT.index,how = 'outer')\n",
    "        shar.set_index('key_0',inplace = True)\n",
    "\n",
    "plt.figure(figsize=(8,3))\n",
    "plt.xlabel(\"time\")\n",
    "plt.ylabel(\"Sharpe ratio\")\n",
    "wholesharpe = shar.sort_index().sum(axis = 1)/len(shar.columns)\n",
    "wholesharpe.plot(label = \"STOCK\")\n",
    "plt.legend()\n",
    "plt.savefig(\"一籃子夏普\")"
   ]
  },
  {
   "cell_type": "markdown",
   "id": "cd9aeefa-1781-4bf8-af37-516e29851043",
   "metadata": {},
   "source": [
    "# 母關鍵點策略"
   ]
  },
  {
   "cell_type": "code",
   "execution_count": 11,
   "id": "d31cf2c5-d13b-48aa-9daf-a682c926f4f1",
   "metadata": {
    "tags": []
   },
   "outputs": [
    {
     "name": "stderr",
     "output_type": "stream",
     "text": [
      "100%|██████████| 1098/1098 [01:40<00:00, 10.91it/s]\n"
     ]
    },
    {
     "data": {
      "text/plain": [
       "Text(0, 0.5, 'Profit')"
      ]
     },
     "execution_count": 11,
     "metadata": {},
     "output_type": "execute_result"
    },
    {
     "data": {
      "image/png": "[encoded data removed]",
      "text/plain": [
       "<Figure size 432x288 with 1 Axes>"
      ]
     },
     "metadata": {
      "needs_background": "light"
     },
     "output_type": "display_data"
    }
   ],
   "source": [
    "import talib\n",
    "ERROR = []\n",
    "trr = pd.DataFrame()\n",
    "pz = pd.DataFrame()\n",
    "\n",
    "for x in tqdm(SKTCRI):\n",
    "    \n",
    "    DDW[str(x)]['MAX52'] = DDW[str(x)][\"還原收盤價\"].rolling(52).max()\n",
    "    DDW[str(x)][\"MAX52S\"] = DDW[str(x)][\"MAX52\"].shift(1)\n",
    "    DDW[str(x)][\"4MA\"] = talib.MA(DDW[str(x)][\"還原收盤價\"].dropna(), timeperiod=5, matype=0)\n",
    "    DDW[str(x)][\"4MAS\"] = DDW[str(x)][\"4MA\"].shift(1)\n",
    "    DDW[str(x)][\"DR\"] = ((DDW[str(x)][\"還原收盤價\"] - DDW[str(x)][\"還原收盤價\"].shift(1))/DDW[str(x)][\"還原收盤價\"].shift(1))*100\n",
    "    KPBS = 0\n",
    "    KPBUY =[]\n",
    "    for z in range(len(DDW[str(x)])):\n",
    "\n",
    "        if DDW[str(x)][\"還原收盤價\"].iloc[z]  > DDW[str(x)][\"MAX52S\"].iloc[z] and  DDW[str(x)][\"成交金額(千)\"].iloc[z] > 50000 and  DDW[str(x)][\"資使用率\"].iloc[z] < 15 \\\n",
    "        and DDW[str(x)][\"成交金額(千)\"].shift(1).iloc[z] > 20000  :\n",
    "        \n",
    "            KPBS = 1\n",
    "\n",
    "        elif DDW[str(x)][\"4MA\"].iloc[z] < DDW[str(x)][\"4MAS\"].iloc[z] and DDW[str(x)]['收盤價'].iloc[z] < DDW[str(x)]['最低價'].rolling(5).min().shift(1).iloc[z] :\n",
    "            KPBS = 0\n",
    "            #buy.append(\"0\")\n",
    "        KPBUY.append(KPBS)\n",
    "    DDW[str(x)][\"KPBUY\"] = KPBUY\n",
    "    DDW[str(x)][\"KPBUYS\"] = DDW[str(x)][\"KPBUY\"].shift(1)\n",
    "    pzb = DDW[str(x)][\"KPBUYS\"]  \n",
    "    pzb.name = str(x)\n",
    "    pzbs = DDW[str(x)][\"KPBUY\"]\n",
    "    pzbs.name = str(x)\n",
    "    DDW[str(x)][\"KPRR\"] = DDW[str(x)][\"DR\"] * DDW[str(x)][\"KPBUYS\"].dropna().astype(int)\n",
    "    PT = DDW[str(x)][\"KPRR\"]\n",
    "    PT.name = str(x)\n",
    "    if len(trr) == 0:\n",
    "        trr = PT\n",
    "    else:\n",
    "        trr = pd.merge(trr,PT,left_on = trr.index,right_on = PT.index,how = 'outer')\n",
    "        trr.set_index('key_0',inplace = True)\n",
    "    if len(pz) == 0:\n",
    "        pz = pzbs\n",
    "    else:\n",
    "        pz = pd.merge(pz,pzbs,left_on = pz.index,right_on = pzbs.index,how = 'outer')\n",
    "        pz.set_index('key_0',inplace = True)\n",
    "\n",
    "trrb =trr.sort_index().sum(axis = 1).cumsum().plot()\n",
    "\n",
    "plt.xlabel(\"time\")\n",
    "plt.ylabel(\"Profit\")\n"
   ]
  },
  {
   "cell_type": "markdown",
   "id": "7a6b610c-9f9a-41c8-87ff-b9b20e84c8d6",
   "metadata": {},
   "source": [
    "# 整理多單買賣訊01值"
   ]
  },
  {
   "cell_type": "code",
   "execution_count": 12,
   "id": "0e1139b6-b50f-4f96-a65a-a8e47d62c462",
   "metadata": {
    "tags": []
   },
   "outputs": [
    {
     "name": "stdout",
     "output_type": "stream",
     "text": [
      "130.448\n",
      "0.0\n",
      "491.0\n"
     ]
    },
    {
     "data": {
      "image/png": "[encoded data removed]",
      "text/plain": [
       "<Figure size 432x288 with 1 Axes>"
      ]
     },
     "metadata": {
      "needs_background": "light"
     },
     "output_type": "display_data"
    }
   ],
   "source": [
    "pz1 = pz.sort_index()\n",
    "f = lambda x :float(x)\n",
    "pz2 = pz1.applymap(f)\n",
    "pz3 = pz2.sum(axis=1)\n",
    "pz4 = pz3.groupby(pd.Grouper(freq='1W')).tail(1)\n",
    "plt.rcParams['font.family'] = ['Microsoft JhengHei'] # 中文標籤\n",
    "plt.rcParams['axes.unicode_minus'] = False # 負號\n",
    "print(pz4.mean())\n",
    "print(pz4.min())\n",
    "print(pz4.max())\n",
    "pz4.plot()\n",
    "plt.xlabel(\"年份\")\n",
    "plt.ylabel(\"檔數\")\n",
    "plt.savefig('多方部位變化表.png')\n"
   ]
  },
  {
   "cell_type": "markdown",
   "id": "08d4f5dc-be38-4c3a-8bbc-d0d8aab9b881",
   "metadata": {},
   "source": [
    "# 填寫資料更新日期"
   ]
  },
  {
   "cell_type": "code",
   "execution_count": 13,
   "id": "245799b9-9d26-4c5c-9ce8-c1e09c9964a3",
   "metadata": {},
   "outputs": [],
   "source": [
    "當週日期 = trr.index[-1]\n",
    "前週日期 = trr.index[-2]"
   ]
  },
  {
   "cell_type": "markdown",
   "id": "01d3d131-ba39-41e1-bf32-b83fa2ac67d7",
   "metadata": {},
   "source": [
    "# 關鍵點當週買進部位"
   ]
  },
  {
   "cell_type": "code",
   "execution_count": 14,
   "id": "4df92570-83e0-409f-8a95-1f6be4646885",
   "metadata": {},
   "outputs": [
    {
     "name": "stdout",
     "output_type": "stream",
     "text": [
      "關鍵點買進標的\n",
      "1504    1.0\n",
      "2345    1.0\n",
      "2377    1.0\n",
      "2472    1.0\n",
      "3005    1.0\n",
      "3008    1.0\n",
      "3038    1.0\n",
      "5225    1.0\n",
      "5288    1.0\n",
      "5607    1.0\n",
      "6176    1.0\n",
      "Name: 2023-03-10 00:00:00, dtype: float64\n",
      "關鍵點買進檔數 11\n",
      "關鍵點持有部位數目 227\n",
      "關鍵點賣出部位\n",
      "Series([], Name: 2023-03-10 00:00:00, dtype: float64)\n",
      "關鍵點賣出檔數 0\n"
     ]
    }
   ],
   "source": [
    "關鍵點持有部位 = pz2.loc[當週日期][(pz2.loc[當週日期]==1)]\n",
    "關鍵點買進 = pz2.loc[當週日期][(pz2.loc[當週日期]==1) & (pz2.loc[前週日期]==0)]\n",
    "關鍵點賣出 = pz2.loc[當週日期][(pz2.loc[當週日期]==0) & (pz2.loc[前週日期]==1)]\n",
    "print(\"關鍵點買進標的\")\n",
    "print(關鍵點買進)\n",
    "print(\"關鍵點買進檔數\" , len(關鍵點買進))\n",
    "print(\"關鍵點持有部位數目\" , len(關鍵點持有部位))\n",
    "print(\"關鍵點賣出部位\")\n",
    "print(關鍵點賣出)\n",
    "print(\"關鍵點賣出檔數\" , len(關鍵點賣出))\n"
   ]
  },
  {
   "cell_type": "markdown",
   "id": "beb27bef-bb25-4a83-8c16-0154a17c31fa",
   "metadata": {},
   "source": [
    "# 關鍵點歷年損益"
   ]
  },
  {
   "cell_type": "code",
   "execution_count": 15,
   "id": "779e6f3b-6aff-4160-8608-901fd1a4d723",
   "metadata": {},
   "outputs": [
    {
     "data": {
      "image/png": "[encoded data removed]",
      "text/plain": [
       "<Figure size 432x288 with 1 Axes>"
      ]
     },
     "metadata": {
      "needs_background": "light"
     },
     "output_type": "display_data"
    }
   ],
   "source": [
    "yl = ['2016','2017','2018','2019','2020','2021','2022','2023']\n",
    "for h in yl :\n",
    "    trrt = trr.groupby(pd.Grouper(freq='1W')).sum().sum(axis=1)[str(h)].cumsum()\n",
    "    trrtfig = trrt.plot()\n",
    "trrtfig = plt.gcf()\n",
    "\n",
    "plt.xlabel(\"年份\")\n",
    "plt.ylabel(\"報酬\")\n",
    "trrtfig.savefig(r'C:\\Users\\larryx30\\larryx30\\每週買賣報表\\關鍵點歷年損益.png')"
   ]
  },
  {
   "cell_type": "code",
   "execution_count": 16,
   "id": "eaa1264e-7005-49a1-bbd0-c2ffa903f3b0",
   "metadata": {},
   "outputs": [
    {
     "data": {
      "text/plain": [
       "key_0\n",
       "2023-01-01     -71.364099\n",
       "2023-01-08     -71.037003\n",
       "2023-01-15    -163.236191\n",
       "2023-01-22     -60.990446\n",
       "2023-01-29     -60.990446\n",
       "2023-02-05     319.597855\n",
       "2023-02-12     534.062702\n",
       "2023-02-19     967.955032\n",
       "2023-02-26    1353.502255\n",
       "2023-03-05    1771.361037\n",
       "2023-03-12    1954.070848\n",
       "Freq: W-SUN, dtype: float64"
      ]
     },
     "execution_count": 16,
     "metadata": {},
     "output_type": "execute_result"
    }
   ],
   "source": [
    "trrt['2023']"
   ]
  },
  {
   "cell_type": "code",
   "execution_count": 17,
   "id": "d73de3cb-eadb-40e0-abc2-5c2d745426d1",
   "metadata": {},
   "outputs": [
    {
     "data": {
      "text/plain": [
       "<AxesSubplot:xlabel='key_0'>"
      ]
     },
     "execution_count": 17,
     "metadata": {},
     "output_type": "execute_result"
    },
    {
     "data": {
      "image/png": "[encoded data removed]",
      "text/plain": [
       "<Figure size 432x288 with 1 Axes>"
      ]
     },
     "metadata": {
      "needs_background": "light"
     },
     "output_type": "display_data"
    }
   ],
   "source": [
    "trrt['2023'].plot()"
   ]
  },
  {
   "cell_type": "markdown",
   "id": "5342df81-3d79-497d-bbd9-62c72d38a11e",
   "metadata": {},
   "source": [
    "# 放空補丁策略"
   ]
  },
  {
   "cell_type": "code",
   "execution_count": 18,
   "id": "74b026e0-ffdf-4c21-aaf1-ece21dbdb71e",
   "metadata": {
    "tags": []
   },
   "outputs": [
    {
     "name": "stderr",
     "output_type": "stream",
     "text": [
      "100%|██████████| 1098/1098 [01:36<00:00, 11.34it/s]\n"
     ]
    },
    {
     "data": {
      "text/plain": [
       "<AxesSubplot:xlabel='key_0'>"
      ]
     },
     "execution_count": 18,
     "metadata": {},
     "output_type": "execute_result"
    },
    {
     "data": {
      "image/png": "[encoded data removed]",
      "text/plain": [
       "<Figure size 432x288 with 1 Axes>"
      ]
     },
     "metadata": {
      "needs_background": "light"
     },
     "output_type": "display_data"
    }
   ],
   "source": [
    "import talib\n",
    "ERROR = []\n",
    "trrs = pd.DataFrame()\n",
    "pzs = pd.DataFrame()\n",
    "\n",
    "for x in tqdm(SKTCRI):\n",
    "    \n",
    "    DDW[str(x)]['LOW5'] = DDW[str(x)][\"收盤價\"].rolling(2).min()\n",
    "    DDW[str(x)]['SMAX3'] = DDW[str(x)][\"最高價\"].rolling(2).max()\n",
    "    DDW[str(x)][\"LOW5S\"] = DDW[str(x)][\"LOW5\"].shift(1)\n",
    "    DDW[str(x)][\"4SELLMA\"] = talib.MA(DDW[str(x)][\"還原收盤價\"].dropna(), timeperiod=4, matype=0)\n",
    "    DDW[str(x)][\"COVERMA\"] = talib.MA(DDW[str(x)][\"還原收盤價\"].dropna(), timeperiod=7, matype=0)\n",
    "    DDW[str(x)][\"SCHECKMA\"] = talib.MA(DDW[str(x)][\"收盤價\"].dropna(), timeperiod=20, matype=0)\n",
    "    DDW[str(x)][\"4SELLMAS\"] = DDW[str(x)][\"4SELLMA\"].shift(1)\n",
    "    DDW[str(x)][\"30SELLMA\"] = talib.MA(DDW[str(x)][\"還原收盤價\"].dropna(), timeperiod=20, matype=0)\n",
    "    DDW[str(x)][\"60SELLMA\"] = talib.MA(DDW[str(x)][\"還原收盤價\"].dropna(), timeperiod=20, matype=0)\n",
    "    DDW[str(x)][\"DR\"] = ((DDW[str(x)][\"還原收盤價\"] - DDW[str(x)][\"還原收盤價\"].shift(1))/DDW[str(x)][\"還原收盤價\"].shift(1))*100\n",
    "    DDW['TWA00']['4SELLHMA'] = talib.MA(DDW['TWA00'][\"收盤價\"].dropna(), timeperiod=2, matype=0)\n",
    "    DDW['TWA00']['20SELLHMA'] = talib.MA(DDW['TWA00'][\"收盤價\"].dropna(), timeperiod=20, matype=0)\n",
    "    DDW[str(x)]['大盤夏普']= DDW['TWA00']['sharpe'].fillna(method = 'pad',axis =0)\n",
    "    BSS = 0\n",
    "    SELL =[]\n",
    "    for z in range(len(DDW[str(x)])):\n",
    "\n",
    "        if DDW[str(x)]['成交金額(千)'].iloc[z] > 100000 and DDW[str(x)][\"30SELLMA\"].iloc[z] < DDW[str(x)][\"30SELLMA\"].shift(1).iloc[z] \\\n",
    "        and DDW[str(x)][\"還原收盤價\"].iloc[z]  <  DDW[str(x)][\"60SELLMA\"].iloc[z] and DDW[str(x)][\"SCHECKMA\"].iloc[z] < DDW[str(x)][\"SCHECKMA\"].shift(4).iloc[z]\\\n",
    "        and DDW[str(x)]['收盤價'].iloc[z] < DDW[str(x)]['LOW5S'].iloc[z]  and DDW[str(x)]['資使用率'].iloc[z] > 3 and DDW[str(x)]['融資維持率(%)'].iloc[z] > 140 :\n",
    "         \n",
    "            BSS = -1\n",
    "\n",
    "        elif   (DDW[str(x)]['還原收盤價'].iloc[z] > DDW[str(x)]['COVERMA'].iloc[z] and DDW[str(x)]['COVERMA'].iloc[z] > DDW[str(x)]['COVERMA'].shift(1).iloc[z]) \\\n",
    "         or DDW[str(x)]['融資維持率(%)'].iloc[z] < 130 or DDW[str(x)]['還原收盤價'].iloc[z] > DDW[str(x)][\"COVERMA\"].iloc[z] :\n",
    "            BSS = 0\n",
    "        # or \n",
    "        #DDW[str(x)]['收盤價'].iloc[z] > DDW[str(x)]['最高價'].shift(4).iloc[z] or\n",
    "        #if  DDW['TWA00']['4SELLHMA'].iloc[z] > DDW['TWA00']['20SELLHMA'].iloc[z]  :\n",
    "            #BSS = 0\n",
    "            \n",
    "        SELL.append(BSS)\n",
    "    DDW[str(x)][\"SELL\"] = SELL\n",
    "    DDW[str(x)][\"SELLS\"] = DDW[str(x)][\"SELL\"].shift(1)\n",
    "    ps = DDW[str(x)][\"SELLS\"]  \n",
    "    ps.name = str(x)\n",
    "    pss = DDW[str(x)][\"SELL\"]\n",
    "    pss.name = str(x)\n",
    "    DDW[str(x)][\"SRR\"] = DDW[str(x)][\"DR\"] * DDW[str(x)][\"SELLS\"].dropna().astype(int)\n",
    "    PTS = DDW[str(x)][\"SRR\"]\n",
    "    PTS.name = str(x)\n",
    "    if len(trrs) == 0:\n",
    "        trrs = PTS\n",
    "    else:\n",
    "        trrs = pd.merge(trrs,PTS,left_on = trrs.index,right_on = PTS.index,how = 'outer')\n",
    "        trrs.set_index('key_0',inplace = True)\n",
    "    if len(pzs) == 0:\n",
    "        pzs = pss\n",
    "    else:\n",
    "        pzs = pd.merge(pzs,pss,left_on = pzs.index,right_on = pss.index,how = 'outer')\n",
    "        pzs.set_index('key_0',inplace = True)\n",
    "\n",
    "trrsp = trrs.sort_index().sum(axis = 1).cumsum()\n",
    "trrsp.plot()"
   ]
  },
  {
   "cell_type": "markdown",
   "id": "515e4eaf-1317-4157-85d5-b1687aacae38",
   "metadata": {},
   "source": [
    "# 整理空單買賣訊01值"
   ]
  },
  {
   "cell_type": "code",
   "execution_count": 19,
   "id": "2d363bdf-22c7-4ec2-903d-6ec2c300b830",
   "metadata": {},
   "outputs": [
    {
     "name": "stdout",
     "output_type": "stream",
     "text": [
      "-50.306666666666665\n",
      "-150.0\n",
      "0.0\n"
     ]
    },
    {
     "data": {
      "image/png": "[encoded data removed]",
      "text/plain": [
       "<Figure size 432x288 with 1 Axes>"
      ]
     },
     "metadata": {
      "needs_background": "light"
     },
     "output_type": "display_data"
    }
   ],
   "source": [
    "pzs1 = pzs.sort_index()\n",
    "f1 = lambda x :float(x)\n",
    "pzs2 = pzs1.applymap(f1)\n",
    "pzs3 = pzs2.sum(axis=1)\n",
    "pzs4 = pzs3.groupby(pd.Grouper(freq='1W')).tail(1)\n",
    "print(pzs4.mean())\n",
    "print(pzs4.min())\n",
    "print(pzs4.max())\n",
    "pzs4.plot()\n",
    "plt.xlabel(\"年份\")\n",
    "plt.ylabel(\"檔數\")\n",
    "plt.savefig('空方部位變化表.png')\n",
    "pzs4.to_excel(r'C:\\Users\\larryx30\\larryx30\\每週買賣報表\\空單部位變化.xlsx')"
   ]
  },
  {
   "cell_type": "code",
   "execution_count": 20,
   "id": "3b0578c8-a629-4ff0-b94b-bbbb88a9e07c",
   "metadata": {},
   "outputs": [
    {
     "data": {
      "text/plain": [
       "key_0\n",
       "2023-01-06    1783.054393\n",
       "2023-01-13    1751.098486\n",
       "2023-01-20    1664.110198\n",
       "2023-01-27    1664.110198\n",
       "2023-02-03    1235.688750\n",
       "2023-02-10    1245.133096\n",
       "2023-02-17    1237.419357\n",
       "2023-02-24    1228.876000\n",
       "2023-03-03    1217.577845\n",
       "2023-03-10    1212.297123\n",
       "dtype: float64"
      ]
     },
     "execution_count": 20,
     "metadata": {},
     "output_type": "execute_result"
    }
   ],
   "source": [
    "trrsp['2023']"
   ]
  },
  {
   "cell_type": "markdown",
   "id": "a67bd8ad-845f-4bec-8a75-dd81f2e0735f",
   "metadata": {},
   "source": [
    "# 空單當週放空部位"
   ]
  },
  {
   "cell_type": "code",
   "execution_count": null,
   "id": "f5f35a71-c0ef-4799-bfb3-7130693fab5a",
   "metadata": {},
   "outputs": [],
   "source": []
  },
  {
   "cell_type": "code",
   "execution_count": 21,
   "id": "aa0ddb4b-f1a4-426d-8501-e7d75b65845e",
   "metadata": {},
   "outputs": [
    {
     "name": "stdout",
     "output_type": "stream",
     "text": [
      "空單放空標的\n",
      "9802   -1.0\n",
      "Name: 2023-03-10 00:00:00, dtype: float64\n",
      "空單放空檔數 1\n",
      "空單持有空單部位數目 4\n",
      "空單回補部位\n",
      "1319    0.0\n",
      "1536    0.0\n",
      "2312    0.0\n",
      "Name: 2023-03-10 00:00:00, dtype: float64\n",
      "空單回補檔數 3\n"
     ]
    }
   ],
   "source": [
    "空單放空部位 = pzs2.loc[當週日期][(pzs2.loc[當週日期]== -1)]\n",
    "空單放空 = pzs2.loc[當週日期][(pzs2.loc[當週日期]== -1) & (pzs2.loc[前週日期]==0)]\n",
    "空單回補 = pzs2.loc[當週日期][(pzs2.loc[當週日期]==0) & (pzs2.loc[前週日期]==-1)]\n",
    "print(\"空單放空標的\")\n",
    "print(空單放空)\n",
    "print(\"空單放空檔數\" , len(空單放空))\n",
    "print(\"空單持有空單部位數目\" , len(空單放空部位))\n",
    "print(\"空單回補部位\")\n",
    "print(空單回補)\n",
    "print(\"空單回補檔數\" , len(空單回補))"
   ]
  },
  {
   "cell_type": "code",
   "execution_count": 22,
   "id": "b76e6b12-28d9-4f3b-a457-6773a8faebca",
   "metadata": {},
   "outputs": [
    {
     "data": {
      "text/plain": [
       "1218   -1.0\n",
       "1736   -1.0\n",
       "2059   -1.0\n",
       "9802   -1.0\n",
       "Name: 2023-03-10 00:00:00, dtype: float64"
      ]
     },
     "execution_count": 22,
     "metadata": {},
     "output_type": "execute_result"
    }
   ],
   "source": [
    "空單放空部位"
   ]
  },
  {
   "cell_type": "code",
   "execution_count": null,
   "id": "37f4277c-f912-4d9a-a4e3-9eda59532c10",
   "metadata": {},
   "outputs": [],
   "source": []
  },
  {
   "cell_type": "markdown",
   "id": "8cff5671-16aa-4574-a89d-e17a1d0d8632",
   "metadata": {},
   "source": [
    "# 空單歷年損益"
   ]
  },
  {
   "cell_type": "code",
   "execution_count": 23,
   "id": "da249b09-ba1d-4138-85a5-ddc849132cb6",
   "metadata": {},
   "outputs": [
    {
     "data": {
      "image/png": "[encoded data removed]",
      "text/plain": [
       "<Figure size 432x288 with 1 Axes>"
      ]
     },
     "metadata": {
      "needs_background": "light"
     },
     "output_type": "display_data"
    }
   ],
   "source": [
    "\n",
    "yl = ['2016','2017','2018','2019','2020','2021','2022','2023']\n",
    "for h in yl :\n",
    "    trrts = trrs.groupby(pd.Grouper(freq='1W')).sum().sum(axis=1)[str(h)].cumsum()\n",
    "    trrtsfig = trrts.plot()\n",
    "trrtsfig = plt.gcf()\n",
    "\n",
    "plt.xlabel(\"年份\")\n",
    "plt.ylabel(\"報酬\")\n",
    "trrtfig.savefig('空單歷年損益.png')"
   ]
  },
  {
   "cell_type": "markdown",
   "id": "46da27a2-324f-4c65-b074-27e77f135b09",
   "metadata": {},
   "source": [
    "# 台積電策略"
   ]
  },
  {
   "cell_type": "code",
   "execution_count": 24,
   "id": "c5e92416-a866-4075-9fec-bdce50ce3578",
   "metadata": {
    "tags": []
   },
   "outputs": [
    {
     "data": {
      "text/html": [
       "<div>\n",
       "<style scoped>\n",
       "    .dataframe tbody tr th:only-of-type {\n",
       "        vertical-align: middle;\n",
       "    }\n",
       "\n",
       "    .dataframe tbody tr th {\n",
       "        vertical-align: top;\n",
       "    }\n",
       "\n",
       "    .dataframe thead th {\n",
       "        text-align: right;\n",
       "    }\n",
       "</style>\n",
       "<table border=\"1\" class=\"dataframe\">\n",
       "  <thead>\n",
       "    <tr style=\"text-align: right;\">\n",
       "      <th></th>\n",
       "      <th>開盤價</th>\n",
       "      <th>最高價</th>\n",
       "      <th>最低價</th>\n",
       "      <th>收盤價</th>\n",
       "      <th>成交金額(千)</th>\n",
       "      <th>資使用率</th>\n",
       "      <th>融資維持率(%)</th>\n",
       "      <th>還原收盤價</th>\n",
       "      <th>投信持股比率(%)</th>\n",
       "      <th>投信持股成本</th>\n",
       "      <th>...</th>\n",
       "      <th>MAXNS</th>\n",
       "      <th>MINN2330</th>\n",
       "      <th>MINNS</th>\n",
       "      <th>2330MA</th>\n",
       "      <th>2330SMA</th>\n",
       "      <th>2330LMA</th>\n",
       "      <th>出場價</th>\n",
       "      <th>BUY2330</th>\n",
       "      <th>BUY2330S</th>\n",
       "      <th>2330RR</th>\n",
       "    </tr>\n",
       "    <tr>\n",
       "      <th>日期</th>\n",
       "      <th></th>\n",
       "      <th></th>\n",
       "      <th></th>\n",
       "      <th></th>\n",
       "      <th></th>\n",
       "      <th></th>\n",
       "      <th></th>\n",
       "      <th></th>\n",
       "      <th></th>\n",
       "      <th></th>\n",
       "      <th></th>\n",
       "      <th></th>\n",
       "      <th></th>\n",
       "      <th></th>\n",
       "      <th></th>\n",
       "      <th></th>\n",
       "      <th></th>\n",
       "      <th></th>\n",
       "      <th></th>\n",
       "      <th></th>\n",
       "      <th></th>\n",
       "    </tr>\n",
       "  </thead>\n",
       "  <tbody>\n",
       "    <tr>\n",
       "      <th>2023-01-06</th>\n",
       "      <td>446.0</td>\n",
       "      <td>459.5</td>\n",
       "      <td>443.0</td>\n",
       "      <td>458.5</td>\n",
       "      <td>36899783</td>\n",
       "      <td>0.41</td>\n",
       "      <td>166.446793</td>\n",
       "      <td>458.5</td>\n",
       "      <td>0.66</td>\n",
       "      <td>503.05</td>\n",
       "      <td>...</td>\n",
       "      <td>478.74</td>\n",
       "      <td>448.5</td>\n",
       "      <td>448.5</td>\n",
       "      <td>450.2880</td>\n",
       "      <td>453.0165</td>\n",
       "      <td>450.2880</td>\n",
       "      <td>442.5</td>\n",
       "      <td>0</td>\n",
       "      <td>0.0</td>\n",
       "      <td>0.000000</td>\n",
       "    </tr>\n",
       "    <tr>\n",
       "      <th>2023-01-13</th>\n",
       "      <td>468.0</td>\n",
       "      <td>509.0</td>\n",
       "      <td>467.5</td>\n",
       "      <td>500.0</td>\n",
       "      <td>102765898</td>\n",
       "      <td>0.34</td>\n",
       "      <td>180.184998</td>\n",
       "      <td>500.0</td>\n",
       "      <td>0.67</td>\n",
       "      <td>502.83</td>\n",
       "      <td>...</td>\n",
       "      <td>471.00</td>\n",
       "      <td>448.5</td>\n",
       "      <td>448.5</td>\n",
       "      <td>449.9805</td>\n",
       "      <td>450.2880</td>\n",
       "      <td>449.9805</td>\n",
       "      <td>442.5</td>\n",
       "      <td>1</td>\n",
       "      <td>0.0</td>\n",
       "      <td>0.000000</td>\n",
       "    </tr>\n",
       "    <tr>\n",
       "      <th>2023-01-20</th>\n",
       "      <td>506.0</td>\n",
       "      <td>508.0</td>\n",
       "      <td>499.5</td>\n",
       "      <td>503.0</td>\n",
       "      <td>34358630</td>\n",
       "      <td>0.32</td>\n",
       "      <td>180.764694</td>\n",
       "      <td>503.0</td>\n",
       "      <td>0.65</td>\n",
       "      <td>502.83</td>\n",
       "      <td>...</td>\n",
       "      <td>500.00</td>\n",
       "      <td>448.5</td>\n",
       "      <td>448.5</td>\n",
       "      <td>451.1575</td>\n",
       "      <td>449.9805</td>\n",
       "      <td>451.1575</td>\n",
       "      <td>442.5</td>\n",
       "      <td>1</td>\n",
       "      <td>1.0</td>\n",
       "      <td>0.600000</td>\n",
       "    </tr>\n",
       "    <tr>\n",
       "      <th>2023-01-27</th>\n",
       "      <td>506.0</td>\n",
       "      <td>508.0</td>\n",
       "      <td>499.5</td>\n",
       "      <td>503.0</td>\n",
       "      <td>0</td>\n",
       "      <td>0.32</td>\n",
       "      <td>180.764694</td>\n",
       "      <td>503.0</td>\n",
       "      <td>0.65</td>\n",
       "      <td>502.83</td>\n",
       "      <td>...</td>\n",
       "      <td>503.00</td>\n",
       "      <td>458.5</td>\n",
       "      <td>448.5</td>\n",
       "      <td>452.8285</td>\n",
       "      <td>451.1575</td>\n",
       "      <td>452.8285</td>\n",
       "      <td>442.5</td>\n",
       "      <td>1</td>\n",
       "      <td>1.0</td>\n",
       "      <td>0.000000</td>\n",
       "    </tr>\n",
       "    <tr>\n",
       "      <th>2023-02-03</th>\n",
       "      <td>542.0</td>\n",
       "      <td>543.0</td>\n",
       "      <td>521.0</td>\n",
       "      <td>542.0</td>\n",
       "      <td>187776140</td>\n",
       "      <td>0.29</td>\n",
       "      <td>188.263199</td>\n",
       "      <td>542.0</td>\n",
       "      <td>0.65</td>\n",
       "      <td>503.26</td>\n",
       "      <td>...</td>\n",
       "      <td>503.00</td>\n",
       "      <td>500.0</td>\n",
       "      <td>458.5</td>\n",
       "      <td>456.4635</td>\n",
       "      <td>452.8285</td>\n",
       "      <td>456.4635</td>\n",
       "      <td>443.0</td>\n",
       "      <td>1</td>\n",
       "      <td>1.0</td>\n",
       "      <td>7.753479</td>\n",
       "    </tr>\n",
       "    <tr>\n",
       "      <th>2023-02-10</th>\n",
       "      <td>532.0</td>\n",
       "      <td>546.0</td>\n",
       "      <td>522.0</td>\n",
       "      <td>545.0</td>\n",
       "      <td>78629198</td>\n",
       "      <td>0.29</td>\n",
       "      <td>185.622498</td>\n",
       "      <td>545.0</td>\n",
       "      <td>0.66</td>\n",
       "      <td>503.49</td>\n",
       "      <td>...</td>\n",
       "      <td>542.00</td>\n",
       "      <td>503.0</td>\n",
       "      <td>500.0</td>\n",
       "      <td>461.0935</td>\n",
       "      <td>456.4635</td>\n",
       "      <td>461.0935</td>\n",
       "      <td>467.5</td>\n",
       "      <td>1</td>\n",
       "      <td>1.0</td>\n",
       "      <td>0.553506</td>\n",
       "    </tr>\n",
       "    <tr>\n",
       "      <th>2023-02-17</th>\n",
       "      <td>544.0</td>\n",
       "      <td>546.0</td>\n",
       "      <td>516.0</td>\n",
       "      <td>518.0</td>\n",
       "      <td>93742311</td>\n",
       "      <td>0.29</td>\n",
       "      <td>173.338593</td>\n",
       "      <td>518.0</td>\n",
       "      <td>0.66</td>\n",
       "      <td>504.05</td>\n",
       "      <td>...</td>\n",
       "      <td>545.00</td>\n",
       "      <td>503.0</td>\n",
       "      <td>503.0</td>\n",
       "      <td>466.0145</td>\n",
       "      <td>461.0935</td>\n",
       "      <td>466.0145</td>\n",
       "      <td>499.5</td>\n",
       "      <td>1</td>\n",
       "      <td>1.0</td>\n",
       "      <td>-4.954128</td>\n",
       "    </tr>\n",
       "    <tr>\n",
       "      <th>2023-02-24</th>\n",
       "      <td>514.0</td>\n",
       "      <td>525.0</td>\n",
       "      <td>505.0</td>\n",
       "      <td>511.0</td>\n",
       "      <td>70953097</td>\n",
       "      <td>0.30</td>\n",
       "      <td>170.335602</td>\n",
       "      <td>511.0</td>\n",
       "      <td>0.66</td>\n",
       "      <td>504.09</td>\n",
       "      <td>...</td>\n",
       "      <td>545.00</td>\n",
       "      <td>511.0</td>\n",
       "      <td>503.0</td>\n",
       "      <td>469.7900</td>\n",
       "      <td>466.0145</td>\n",
       "      <td>469.7900</td>\n",
       "      <td>499.5</td>\n",
       "      <td>1</td>\n",
       "      <td>1.0</td>\n",
       "      <td>-1.351351</td>\n",
       "    </tr>\n",
       "    <tr>\n",
       "      <th>2023-03-03</th>\n",
       "      <td>504.0</td>\n",
       "      <td>525.0</td>\n",
       "      <td>504.0</td>\n",
       "      <td>516.0</td>\n",
       "      <td>45479934</td>\n",
       "      <td>0.31</td>\n",
       "      <td>171.198395</td>\n",
       "      <td>516.0</td>\n",
       "      <td>0.67</td>\n",
       "      <td>504.20</td>\n",
       "      <td>...</td>\n",
       "      <td>545.00</td>\n",
       "      <td>511.0</td>\n",
       "      <td>511.0</td>\n",
       "      <td>475.1080</td>\n",
       "      <td>469.7900</td>\n",
       "      <td>475.1080</td>\n",
       "      <td>505.0</td>\n",
       "      <td>1</td>\n",
       "      <td>1.0</td>\n",
       "      <td>0.978474</td>\n",
       "    </tr>\n",
       "    <tr>\n",
       "      <th>2023-03-10</th>\n",
       "      <td>520.0</td>\n",
       "      <td>524.0</td>\n",
       "      <td>517.0</td>\n",
       "      <td>521.0</td>\n",
       "      <td>12883854</td>\n",
       "      <td>0.31</td>\n",
       "      <td>172.764603</td>\n",
       "      <td>521.0</td>\n",
       "      <td>0.67</td>\n",
       "      <td>504.30</td>\n",
       "      <td>...</td>\n",
       "      <td>545.00</td>\n",
       "      <td>511.0</td>\n",
       "      <td>511.0</td>\n",
       "      <td>481.7945</td>\n",
       "      <td>475.1080</td>\n",
       "      <td>481.7945</td>\n",
       "      <td>504.0</td>\n",
       "      <td>1</td>\n",
       "      <td>1.0</td>\n",
       "      <td>0.968992</td>\n",
       "    </tr>\n",
       "  </tbody>\n",
       "</table>\n",
       "<p>10 rows × 45 columns</p>\n",
       "</div>"
      ],
      "text/plain": [
       "              開盤價    最高價    最低價    收盤價    成交金額(千)  資使用率    融資維持率(%)  還原收盤價  \\\n",
       "日期                                                                           \n",
       "2023-01-06  446.0  459.5  443.0  458.5   36899783  0.41  166.446793  458.5   \n",
       "2023-01-13  468.0  509.0  467.5  500.0  102765898  0.34  180.184998  500.0   \n",
       "2023-01-20  506.0  508.0  499.5  503.0   34358630  0.32  180.764694  503.0   \n",
       "2023-01-27  506.0  508.0  499.5  503.0          0  0.32  180.764694  503.0   \n",
       "2023-02-03  542.0  543.0  521.0  542.0  187776140  0.29  188.263199  542.0   \n",
       "2023-02-10  532.0  546.0  522.0  545.0   78629198  0.29  185.622498  545.0   \n",
       "2023-02-17  544.0  546.0  516.0  518.0   93742311  0.29  173.338593  518.0   \n",
       "2023-02-24  514.0  525.0  505.0  511.0   70953097  0.30  170.335602  511.0   \n",
       "2023-03-03  504.0  525.0  504.0  516.0   45479934  0.31  171.198395  516.0   \n",
       "2023-03-10  520.0  524.0  517.0  521.0   12883854  0.31  172.764603  521.0   \n",
       "\n",
       "            投信持股比率(%)  投信持股成本  ...   MAXNS  MINN2330  MINNS    2330MA  \\\n",
       "日期                             ...                                      \n",
       "2023-01-06       0.66  503.05  ...  478.74     448.5  448.5  450.2880   \n",
       "2023-01-13       0.67  502.83  ...  471.00     448.5  448.5  449.9805   \n",
       "2023-01-20       0.65  502.83  ...  500.00     448.5  448.5  451.1575   \n",
       "2023-01-27       0.65  502.83  ...  503.00     458.5  448.5  452.8285   \n",
       "2023-02-03       0.65  503.26  ...  503.00     500.0  458.5  456.4635   \n",
       "2023-02-10       0.66  503.49  ...  542.00     503.0  500.0  461.0935   \n",
       "2023-02-17       0.66  504.05  ...  545.00     503.0  503.0  466.0145   \n",
       "2023-02-24       0.66  504.09  ...  545.00     511.0  503.0  469.7900   \n",
       "2023-03-03       0.67  504.20  ...  545.00     511.0  511.0  475.1080   \n",
       "2023-03-10       0.67  504.30  ...  545.00     511.0  511.0  481.7945   \n",
       "\n",
       "             2330SMA   2330LMA    出場價  BUY2330  BUY2330S    2330RR  \n",
       "日期                                                                  \n",
       "2023-01-06  453.0165  450.2880  442.5        0       0.0  0.000000  \n",
       "2023-01-13  450.2880  449.9805  442.5        1       0.0  0.000000  \n",
       "2023-01-20  449.9805  451.1575  442.5        1       1.0  0.600000  \n",
       "2023-01-27  451.1575  452.8285  442.5        1       1.0  0.000000  \n",
       "2023-02-03  452.8285  456.4635  443.0        1       1.0  7.753479  \n",
       "2023-02-10  456.4635  461.0935  467.5        1       1.0  0.553506  \n",
       "2023-02-17  461.0935  466.0145  499.5        1       1.0 -4.954128  \n",
       "2023-02-24  466.0145  469.7900  499.5        1       1.0 -1.351351  \n",
       "2023-03-03  469.7900  475.1080  505.0        1       1.0  0.978474  \n",
       "2023-03-10  475.1080  481.7945  504.0        1       1.0  0.968992  \n",
       "\n",
       "[10 rows x 45 columns]"
      ]
     },
     "execution_count": 24,
     "metadata": {},
     "output_type": "execute_result"
    },
    {
     "data": {
      "image/png": "[encoded data removed]",
      "text/plain": [
       "<Figure size 432x288 with 1 Axes>"
      ]
     },
     "metadata": {
      "needs_background": "light"
     },
     "output_type": "display_data"
    }
   ],
   "source": [
    "import talib\n",
    "ERROR = []\n",
    "trr2330 = pd.DataFrame()\n",
    "pz2330 = pd.DataFrame()\n",
    "\n",
    "\n",
    "    \n",
    "DDW['2330']['MAXN2330'] = DDW['2330'][\"還原收盤價\"].rolling(4).max()\n",
    "DDW['2330'][\"MAXNS\"] = DDW['2330'][\"MAXN2330\"].shift(1)\n",
    "DDW['2330']['MINN2330'] = DDW['2330'][\"還原收盤價\"].rolling(4).min()\n",
    "DDW['2330'][\"MINNS\"] = DDW['2330'][\"MINN2330\"].shift(1)\n",
    "DDW['2330'][\"2330MA\"] = talib.MA(DDW['2330'][\"還原收盤價\"].dropna(), timeperiod=20, matype=0)\n",
    "DDW['2330'][\"2330SMA\"] = DDW['2330'][\"2330MA\"].shift(1)\n",
    "DDW['2330'][\"2330LMA\"] = talib.MA(DDW['2330'][\"還原收盤價\"].dropna(), timeperiod=20, matype=0)\n",
    "DDW['2330'][\"DR\"] = ((DDW['2330'][\"還原收盤價\"] - DDW['2330'][\"還原收盤價\"].shift(1))/DDW['2330'][\"還原收盤價\"].shift(1))*100\n",
    "DDW['TWA00']['4SHMA'] = talib.MA(DDW['TWA00'][\"sharpe\"].dropna(), timeperiod=4, matype=0)\n",
    "DDW['TWA00']['20SHMA'] = talib.MA(DDW['TWA00'][\"sharpe\"].dropna(), timeperiod=20, matype=0)\n",
    "DDW['2330']['出場價'] = DDW['2330'][\"最低價\"].rolling(4).min().shift(1)\n",
    "BS2330 = 0\n",
    "BUY2330 =[]\n",
    "for z in range(len(DDW['2330'])):\n",
    "\n",
    "    if  DDW['2330'][\"還原收盤價\"].iloc[z]  >  DDW['2330'][\"2330MA\"].iloc[z] and DDW['2330']['收盤價'].iloc[z] > DDW['2330']['最高價'].rolling(2).max().shift(1).iloc[z] \\\n",
    "    and   DDW['TWA00']['4SHMA'].iloc[z] < 0.3 :\n",
    "         BS2330 = 1\n",
    "\n",
    "    elif  DDW['2330'][\"收盤價\"].iloc[z] < DDW['2330'][\"出場價\"].iloc[z]   :\n",
    "        BS2330 = 0\n",
    "        \n",
    "    \n",
    "        BS2330 = 0\n",
    "        #buy.append(\"0\")\n",
    "    BUY2330.append(BS2330)\n",
    "DDW['2330'][\"BUY2330\"] = BUY2330\n",
    "DDW['2330'][\"BUY2330S\"] = DDW['2330'][\"BUY2330\"].shift(1)\n",
    "pz2330 = DDW['2330'][\"BUY2330S\"]  \n",
    "pz2330.name = '2330'\n",
    "pzz2330 = DDW['2330'][\"BUY2330\"]\n",
    "pzz2330.name = '2330'\n",
    "DDW['2330'][\"2330RR\"] = DDW['2330'][\"DR\"] * DDW['2330'][\"BUY2330S\"].dropna().astype(int)\n",
    "PTS2330 = DDW['2330'][\"2330RR\"]\n",
    "PTS2330.name = '2330'\n",
    "if len(trr2330) == 0:\n",
    "    trr2330 = PTS2330\n",
    "else:\n",
    "    trr2330 = pd.merge(trr2330,PTS2330,left_on = trrs.index,right_on = PTS.index,how = 'outer')\n",
    "    trr2330.set_index('key_0',inplace = True)\n",
    "\n",
    "trr2330fig = trr2330.cumsum().plot()\n",
    "trr2330fig = plt.gcf()\n",
    "plt.xlabel(\"time\")\n",
    "plt.ylabel(\"Return Rate\")\n",
    "trr2330fig.savefig('2330')\n",
    "DDW['2330'].tail(10)"
   ]
  },
  {
   "cell_type": "markdown",
   "id": "916d46e7-1918-4a54-b541-26bc7afabc3c",
   "metadata": {},
   "source": [
    "# 全市場夏普處理與合併"
   ]
  },
  {
   "cell_type": "code",
   "execution_count": 25,
   "id": "f9f51875-4798-463b-9f0e-c37a2a6e7e99",
   "metadata": {},
   "outputs": [
    {
     "name": "stderr",
     "output_type": "stream",
     "text": [
      "100%|██████████| 1776/1776 [00:18<00:00, 97.55it/s] \n",
      "100%|██████████| 1776/1776 [00:01<00:00, 1255.21it/s]\n"
     ]
    },
    {
     "data": {
      "text/html": [
       "<div>\n",
       "<style scoped>\n",
       "    .dataframe tbody tr th:only-of-type {\n",
       "        vertical-align: middle;\n",
       "    }\n",
       "\n",
       "    .dataframe tbody tr th {\n",
       "        vertical-align: top;\n",
       "    }\n",
       "\n",
       "    .dataframe thead th {\n",
       "        text-align: right;\n",
       "    }\n",
       "</style>\n",
       "<table border=\"1\" class=\"dataframe\">\n",
       "  <thead>\n",
       "    <tr style=\"text-align: right;\">\n",
       "      <th></th>\n",
       "      <th>開盤價</th>\n",
       "      <th>最高價</th>\n",
       "      <th>最低價</th>\n",
       "      <th>收盤價</th>\n",
       "      <th>成交金額(千)</th>\n",
       "      <th>資使用率</th>\n",
       "      <th>融資維持率(%)</th>\n",
       "      <th>還原收盤價</th>\n",
       "      <th>投信持股比率(%)</th>\n",
       "      <th>投信持股成本</th>\n",
       "      <th>...</th>\n",
       "      <th>2330SMA</th>\n",
       "      <th>2330LMA</th>\n",
       "      <th>出場價</th>\n",
       "      <th>BUY2330</th>\n",
       "      <th>BUY2330S</th>\n",
       "      <th>2330RR</th>\n",
       "      <th>rolling_ret</th>\n",
       "      <th>rolling_std</th>\n",
       "      <th>sharpe105</th>\n",
       "      <th>sharp1</th>\n",
       "    </tr>\n",
       "    <tr>\n",
       "      <th>日期</th>\n",
       "      <th></th>\n",
       "      <th></th>\n",
       "      <th></th>\n",
       "      <th></th>\n",
       "      <th></th>\n",
       "      <th></th>\n",
       "      <th></th>\n",
       "      <th></th>\n",
       "      <th></th>\n",
       "      <th></th>\n",
       "      <th></th>\n",
       "      <th></th>\n",
       "      <th></th>\n",
       "      <th></th>\n",
       "      <th></th>\n",
       "      <th></th>\n",
       "      <th></th>\n",
       "      <th></th>\n",
       "      <th></th>\n",
       "      <th></th>\n",
       "      <th></th>\n",
       "    </tr>\n",
       "  </thead>\n",
       "  <tbody>\n",
       "    <tr>\n",
       "      <th>2023-03-10</th>\n",
       "      <td>520.0</td>\n",
       "      <td>524.0</td>\n",
       "      <td>517.0</td>\n",
       "      <td>521.0</td>\n",
       "      <td>12883854</td>\n",
       "      <td>0.31</td>\n",
       "      <td>172.764603</td>\n",
       "      <td>521.0</td>\n",
       "      <td>0.67</td>\n",
       "      <td>504.3</td>\n",
       "      <td>...</td>\n",
       "      <td>475.108</td>\n",
       "      <td>481.7945</td>\n",
       "      <td>504.0</td>\n",
       "      <td>1</td>\n",
       "      <td>1.0</td>\n",
       "      <td>0.968992</td>\n",
       "      <td>-0.000599</td>\n",
       "      <td>0.042924</td>\n",
       "      <td>-0.013952</td>\n",
       "      <td>0.329278</td>\n",
       "    </tr>\n",
       "  </tbody>\n",
       "</table>\n",
       "<p>1 rows × 49 columns</p>\n",
       "</div>"
      ],
      "text/plain": [
       "              開盤價    最高價    最低價    收盤價   成交金額(千)  資使用率    融資維持率(%)  還原收盤價  \\\n",
       "日期                                                                          \n",
       "2023-03-10  520.0  524.0  517.0  521.0  12883854  0.31  172.764603  521.0   \n",
       "\n",
       "            投信持股比率(%)  投信持股成本  ...  2330SMA   2330LMA    出場價  BUY2330  \\\n",
       "日期                             ...                                      \n",
       "2023-03-10       0.67   504.3  ...  475.108  481.7945  504.0        1   \n",
       "\n",
       "            BUY2330S    2330RR  rolling_ret  rolling_std  sharpe105    sharp1  \n",
       "日期                                                                             \n",
       "2023-03-10       1.0  0.968992    -0.000599     0.042924  -0.013952  0.329278  \n",
       "\n",
       "[1 rows x 49 columns]"
      ]
     },
     "execution_count": 25,
     "metadata": {},
     "output_type": "execute_result"
    }
   ],
   "source": [
    "# 日期處理及設定reblance間隔\n",
    "\n",
    "#設定rebalance頻率及sharpe觀察日數\n",
    "rebalance = 52\n",
    "\n",
    "#設定納入股票檔數\n",
    "count = 10\n",
    "fee = 2\n",
    "#主程式\n",
    "shar = pd.DataFrame()\n",
    "\n",
    "#計算個股Sharpe ratio\n",
    "for i in tqdm(DDW.keys()):\n",
    "    change = DDW[str(i)][\"還原收盤價\"].pct_change()\n",
    "    sigma = change.std()\n",
    "    DDW[str(i)]['rolling_ret'] = change.rolling(rebalance).mean()\n",
    "    DDW[str(i)]['rolling_std'] = change.rolling(rebalance).std()\n",
    "    DDW[str(i)]['sharpe105'] = DDW[str(i)]['rolling_ret'] / DDW[str(i)]['rolling_std']\n",
    "    APT = DDW[str(i)][\"sharpe105\"]\n",
    "    APT.name = str(i)\n",
    "\n",
    "    if len(shar) == 0:\n",
    "        shar = APT\n",
    "    else:\n",
    "        shar = pd.merge(shar,APT,left_on = shar.index,right_on = APT.index,how = 'outer')\n",
    "        shar.set_index('key_0',inplace = True)\n",
    "        shar.index.name = '日期'\n",
    "shar1 = shar.quantile(0.99,axis= 1)\n",
    "shar2 = pd.DataFrame(shar1.sort_index()).rename(columns = {0.99:'sharp1'})\n",
    "for key in tqdm(DDW.keys()):\n",
    "    DDW[key] =  DDW[key].merge(shar2,left_index=True,right_index = True,how='left')\n",
    "DDW['2330'].tail(1)"
   ]
  },
  {
   "cell_type": "markdown",
   "id": "6ce82101-5f35-4f84-ac48-96587cd95836",
   "metadata": {},
   "source": [
    "# 去除多欄(資料多_X才處理)"
   ]
  },
  {
   "cell_type": "code",
   "execution_count": 26,
   "id": "d3951ea0-0e4d-4fb4-b0fd-b6cb17412097",
   "metadata": {},
   "outputs": [],
   "source": [
    "#for key in tqdm(DDW.keys()):\n",
    "    #DDW[key] = DDW[key].drop(columns = ['sharp1_x','sharp1_y'])"
   ]
  },
  {
   "cell_type": "markdown",
   "id": "fe4ddec9-f17c-418e-aa8e-6361b8026864",
   "metadata": {},
   "source": [
    "# M夏普策略"
   ]
  },
  {
   "cell_type": "code",
   "execution_count": 27,
   "id": "5f30e75b-a764-4783-9f33-d7df876350af",
   "metadata": {},
   "outputs": [
    {
     "name": "stderr",
     "output_type": "stream",
     "text": [
      "100%|██████████| 1098/1098 [02:30<00:00,  7.30it/s]\n"
     ]
    },
    {
     "data": {
      "text/plain": [
       "<AxesSubplot:xlabel='key_0'>"
      ]
     },
     "execution_count": 27,
     "metadata": {},
     "output_type": "execute_result"
    },
    {
     "data": {
      "image/png": "[encoded data removed]",
      "text/plain": [
       "<Figure size 432x288 with 1 Axes>"
      ]
     },
     "metadata": {
      "needs_background": "light"
     },
     "output_type": "display_data"
    }
   ],
   "source": [
    "import talib\n",
    "ERROR = []\n",
    "trrmsharpe = pd.DataFrame()\n",
    "pzmsp = pd.DataFrame()\n",
    "for x in tqdm(SKTCRI):\n",
    "    \n",
    "    BQT = 0\n",
    "    BUYQT =[]\n",
    "    for z in range(len(DDW[str(x)])):\n",
    "\n",
    "        if DDW[str(x)]['sharpe105'].iloc[z] > DDW[str(x)]['sharp1'].iloc[z]  and DDW[str(x)]['成交金額(千)'].iloc[z] > 30000 and DDW[str(x)]['sharpe105'].iloc[z] > 0 \\\n",
    "        and DDW[str(x)]['資使用率'].iloc[z] < 30 and DDW[str(x)]['大盤夏普'].iloc[z] > 0.4 :\n",
    "            BQT = 1\n",
    "\n",
    "        elif   DDW[str(x)][\"收盤價\"].iloc[z] < DDW[str(x)][\"最低價\"].shift(1).rolling(4).min().iloc[z] or DDW[str(x)]['大盤夏普'].iloc[z] < 0:\n",
    "            BQT = 0\n",
    "        \n",
    "        #if  DDW['TWA00']['4SELLHMA'].iloc[z] > DDW['TWA00']['20SELLHMA'].iloc[z]  :\n",
    "            #BSS = 0\n",
    "            \n",
    "        BUYQT.append(BQT)\n",
    "    DDW[str(x)][\"BUYQT\"] = BUYQT\n",
    "    DDW[str(x)][\"BUYQTS\"] = DDW[str(x)][\"BUYQT\"].shift(1)\n",
    "    tqt = DDW[str(x)][\"BUYQTS\"]  \n",
    "    tqt.name = str(x)\n",
    "    pqt = DDW[str(x)][\"BUYQT\"]\n",
    "    pqt.name = str(x)\n",
    "    DDW[str(x)][\"QTRR\"] = DDW[str(x)][\"DR\"] * DDW[str(x)][\"BUYQTS\"].dropna().astype(int)\n",
    "    PQT = DDW[str(x)][\"QTRR\"]\n",
    "    PQT.name = str(x)    \n",
    "    if len(trrmsharpe) == 0:\n",
    "        trrmsharpe = PQT\n",
    "    else:\n",
    "        trrmsharpe = pd.merge(trrmsharpe,PQT,left_on = trrmsharpe.index,right_on = PQT.index,how = 'outer')\n",
    "        trrmsharpe.set_index('key_0',inplace = True)\n",
    "    if len(pzmsp) == 0:\n",
    "        pzmsp = pqt\n",
    "    else:\n",
    "        pzmsp = pd.merge(pzmsp,pqt,left_on = pzmsp.index,right_on = pqt.index,how = 'outer')\n",
    "        pzmsp.set_index('key_0',inplace = True)\n",
    "\n",
    "tqt1 = trrmsharpe.sort_index().sum(axis = 1).cumsum()\n",
    "tqt1.plot()"
   ]
  },
  {
   "cell_type": "markdown",
   "id": "75f22a0c-a7f0-451f-8dfa-4779eccf3220",
   "metadata": {},
   "source": [
    "# 整理夏普買賣訊01值"
   ]
  },
  {
   "cell_type": "code",
   "execution_count": 28,
   "id": "014019d9-7e3f-47b5-9c42-037f6086ef0d",
   "metadata": {},
   "outputs": [
    {
     "name": "stdout",
     "output_type": "stream",
     "text": [
      "9.114666666666666\n",
      "0.0\n",
      "28.0\n"
     ]
    },
    {
     "data": {
      "image/png": "[encoded data removed]",
      "text/plain": [
       "<Figure size 432x288 with 1 Axes>"
      ]
     },
     "metadata": {
      "needs_background": "light"
     },
     "output_type": "display_data"
    }
   ],
   "source": [
    "夏普1 = pzmsp.sort_index()\n",
    "f2 = lambda x :float(x)\n",
    "夏普2 = 夏普1.applymap(f2)\n",
    "夏普3 = 夏普2.sum(axis=1)\n",
    "夏普部位 =夏普3.groupby(pd.Grouper(freq='1W')).tail(1)\n",
    "print(夏普部位.mean())\n",
    "print(夏普部位.min())\n",
    "print(夏普部位.max())\n",
    "夏普部位.plot()\n",
    "plt.xlabel(\"年份\")\n",
    "plt.ylabel(\"檔數\")\n",
    "plt.savefig('空方部位變化表.png')"
   ]
  },
  {
   "cell_type": "markdown",
   "id": "088db18a-27ec-42ce-9f5d-efa64432663f",
   "metadata": {},
   "source": [
    "# M夏普當週買進部位"
   ]
  },
  {
   "cell_type": "code",
   "execution_count": 29,
   "id": "a9bef3ab-83f6-4531-83ab-9df525543e73",
   "metadata": {},
   "outputs": [
    {
     "name": "stdout",
     "output_type": "stream",
     "text": [
      "M夏普買進標的\n",
      "Series([], Name: 2023-03-10 00:00:00, dtype: float64)\n",
      "M夏普買進檔數 0\n",
      "M夏普持有部位數目 0\n",
      "M夏普賣出部位\n",
      "Series([], Name: 2023-03-10 00:00:00, dtype: float64)\n",
      "M夏普賣出檔數 0\n"
     ]
    }
   ],
   "source": [
    "M夏普持有部位 = 夏普2.loc[當週日期][夏普2.loc[當週日期] ==1]\n",
    "M夏普買進 = 夏普2.loc[當週日期][(夏普2.loc[當週日期] ==1) & (夏普2.loc[前週日期] ==0)]\n",
    "M夏普賣出 = 夏普2.loc[當週日期][(夏普2.loc[當週日期] ==0) & (夏普2.loc[前週日期] ==1)]\n",
    "print(\"M夏普買進標的\")\n",
    "print(M夏普買進)\n",
    "print(\"M夏普買進檔數\" , len(M夏普買進))\n",
    "print(\"M夏普持有部位數目\" , len(M夏普持有部位))\n",
    "print(\"M夏普賣出部位\")\n",
    "print(M夏普賣出)\n",
    "print(\"M夏普賣出檔數\" , len(M夏普賣出))"
   ]
  },
  {
   "cell_type": "markdown",
   "id": "d02847e0-156c-42eb-91db-818b493acd56",
   "metadata": {},
   "source": [
    "# 夏普歷年損益"
   ]
  },
  {
   "cell_type": "code",
   "execution_count": 30,
   "id": "ef5aecbc-f779-40df-b9d3-39482eb5b968",
   "metadata": {},
   "outputs": [
    {
     "data": {
      "image/png": "[encoded data removed]",
      "text/plain": [
       "<Figure size 432x288 with 1 Axes>"
      ]
     },
     "metadata": {
      "needs_background": "light"
     },
     "output_type": "display_data"
    }
   ],
   "source": [
    "yl = ['2017','2018','2019','2020','2021','2022']\n",
    "for h in yl :\n",
    "    trrtms = trrmsharpe.groupby(pd.Grouper(freq='1W')).sum().sum(axis=1)[str(h)].cumsum()\n",
    "    trrtmsfig = (trrtms*3).plot()\n",
    "trrtmsfig = plt.gcf()\n",
    "\n",
    "plt.xlabel(\"年份\")\n",
    "plt.ylabel(\"報酬\")\n",
    "trrtmsfig.savefig('M夏普歷年損益.png')"
   ]
  },
  {
   "cell_type": "markdown",
   "id": "777bc197-5ab5-4899-8374-ff29cf907434",
   "metadata": {},
   "source": [
    "# 量能突破策略"
   ]
  },
  {
   "cell_type": "code",
   "execution_count": 31,
   "id": "a0cad597-eb54-42e2-b16e-0846fb00f32a",
   "metadata": {},
   "outputs": [
    {
     "name": "stderr",
     "output_type": "stream",
     "text": [
      "100%|██████████| 1098/1098 [02:56<00:00,  6.23it/s]\n"
     ]
    },
    {
     "data": {
      "text/plain": [
       "Text(0, 0.5, 'Profit')"
      ]
     },
     "execution_count": 31,
     "metadata": {},
     "output_type": "execute_result"
    },
    {
     "data": {
      "image/png": "[encoded data removed]",
      "text/plain": [
       "<Figure size 432x288 with 1 Axes>"
      ]
     },
     "metadata": {
      "needs_background": "light"
     },
     "output_type": "display_data"
    }
   ],
   "source": [
    "import talib\n",
    "ERROR = []\n",
    "trrv = pd.DataFrame()\n",
    "pvz = pd.DataFrame()\n",
    "\n",
    "for x in tqdm(SKTCRI):\n",
    "    \n",
    "    DDW[str(x)]['SMAX52'] = DDW[str(x)][\"還原收盤價\"].rolling(4).max()\n",
    "    DDW[str(x)][\"SMAX52S\"] = DDW[str(x)][\"MAX52\"].shift(1)\n",
    "    DDW[str(x)][\"4MA\"] = talib.MA(DDW[str(x)][\"還原收盤價\"].dropna(), timeperiod=5, matype=0)\n",
    "    DDW[str(x)][\"4MAS\"] = DDW[str(x)][\"4MA\"].shift(1)\n",
    "    DDW[str(x)][\"DR\"] = ((DDW[str(x)][\"還原收盤價\"] - DDW[str(x)][\"還原收盤價\"].shift(1))/DDW[str(x)][\"還原收盤價\"].shift(1))*100\n",
    "    VBS = 0\n",
    "    VBUY =[]\n",
    "    for z in range(len(DDW[str(x)])):\n",
    "\n",
    "        if DDW[str(x)][\"成交金額(千)\"].iloc[z]  > (DDW[str(x)][\"成交金額(千)\"].shift(1)*1.5).iloc[z] and DDW[str(x)][\"成交金額(千)\"].iloc[z] > 100000 \\\n",
    "        and DDW[str(x)][\"收盤價\"].iloc[z]  > (DDW[str(x)][\"最高價\"].shift(2)*1.1).iloc[z] and DDW[str(x)]['收盤價'].iloc[z] > DDW[str(x)][\"SMAX52S\"].iloc[z] \\\n",
    "        and DDW[str(x)]['大盤夏普'].iloc[z] > 0.3:\n",
    "        \n",
    "            VBS = 1\n",
    "\n",
    "        elif  DDW[str(x)][\"收盤價\"].iloc[z] < DDW[str(x)][\"最低價\"].shift(2).iloc[z] or DDW[str(x)]['大盤夏普'].iloc[z]  < 0.3 :\n",
    "            VBS = 0\n",
    "            #buy.append(\"0\")\n",
    "        VBUY.append(VBS)\n",
    "    DDW[str(x)][\"VBUY\"] = VBUY\n",
    "    DDW[str(x)][\"VBUYS\"] = DDW[str(x)][\"VBUY\"].shift(1)\n",
    "    pzb = DDW[str(x)][\"VBUYS\"]  \n",
    "    pzb.name = str(x)\n",
    "    pvzbs = DDW[str(x)][\"VBUY\"]\n",
    "    pvzbs.name = str(x)\n",
    "    DDW[str(x)][\"RR\"] = DDW[str(x)][\"DR\"] * DDW[str(x)][\"VBUYS\"].dropna().astype(int)\n",
    "    PVT = DDW[str(x)][\"RR\"]\n",
    "    PVT.name = str(x)\n",
    "    if len(trr) == 0:\n",
    "        trrv = PVT\n",
    "    else:\n",
    "        trrv = pd.merge(trrv,PVT,left_on = trrv.index,right_on = PVT.index,how = 'outer')\n",
    "        trrv.set_index('key_0',inplace = True)\n",
    "    if len(pz) == 0:\n",
    "        pvz = pvzbs\n",
    "    else:\n",
    "        pvz = pd.merge(pvz,pvzbs,left_on = pvz.index,right_on = pvzbs.index,how = 'outer')\n",
    "        pvz.set_index('key_0',inplace = True)\n",
    "\n",
    "trrv1 =trrv.sort_index().sum(axis = 1).cumsum().plot()\n",
    "\n",
    "plt.xlabel(\"time\")\n",
    "plt.ylabel(\"Profit\")"
   ]
  },
  {
   "cell_type": "markdown",
   "id": "d0965297-5ec5-426c-a0ea-cb9d6b16da53",
   "metadata": {},
   "source": [
    "# 整理量能買賣訊01值"
   ]
  },
  {
   "cell_type": "code",
   "execution_count": 32,
   "id": "5ec46ca9-306d-4230-a438-45eb92663f5d",
   "metadata": {},
   "outputs": [
    {
     "name": "stdout",
     "output_type": "stream",
     "text": [
      "37.58133333333333\n",
      "0.0\n",
      "264.0\n"
     ]
    },
    {
     "data": {
      "image/png": "[encoded data removed]",
      "text/plain": [
       "<Figure size 432x288 with 1 Axes>"
      ]
     },
     "metadata": {
      "needs_background": "light"
     },
     "output_type": "display_data"
    }
   ],
   "source": [
    "pvz1 = pvz.sort_index()\n",
    "f4 = lambda x :float(x)\n",
    "pvz2 = pvz1.applymap(f4)\n",
    "pvz3 = pvz2.sum(axis=1)\n",
    "pvz4 = pvz3.groupby(pd.Grouper(freq='1W')).tail(1)\n",
    "print(pvz4.mean())\n",
    "print(pvz4.min())\n",
    "print(pvz4.max())\n",
    "pvz4.plot()\n",
    "plt.xlabel(\"年份\")\n",
    "plt.ylabel(\"檔數\")\n",
    "plt.savefig('量能部位變化表.png')"
   ]
  },
  {
   "cell_type": "markdown",
   "id": "3dc78306-2f60-40bc-bd06-575feda5c24b",
   "metadata": {},
   "source": [
    "# <font color=\"red\">量能當週買進部位</font>"
   ]
  },
  {
   "cell_type": "code",
   "execution_count": 33,
   "id": "e65fd0fa-7e2b-43c3-8cdb-2506ff7a8ffc",
   "metadata": {},
   "outputs": [
    {
     "name": "stdout",
     "output_type": "stream",
     "text": [
      "量能買進標的\n",
      "Series([], Name: 2023-03-10 00:00:00, dtype: float64)\n",
      "量能買進檔數 0\n",
      "量能持有部位數目 0\n",
      "量能賣出部位\n",
      "Series([], Name: 2023-03-10 00:00:00, dtype: float64)\n",
      "量能賣出檔數 0\n"
     ]
    }
   ],
   "source": [
    "#當週日期 = '2022-08-26'\n",
    "#前週日期 = '2022-08-19'\n",
    "\n",
    "量能持有部位 = pvz2.loc[當週日期][pvz2.loc[當週日期] ==1]\n",
    "量能買進 = pvz2.loc[當週日期][(pvz2.loc[當週日期] ==1) & (pvz2.loc[前週日期] ==0)]\n",
    "量能賣出 = pvz2.loc[當週日期][(pvz2.loc[當週日期] ==0) & (pvz2.loc[前週日期] ==1)]\n",
    "print(\"量能買進標的\")\n",
    "print(量能買進)\n",
    "print(\"量能買進檔數\" , len(量能買進))\n",
    "print(\"量能持有部位數目\" , len(量能持有部位))\n",
    "print(\"量能賣出部位\")\n",
    "print(量能賣出)\n",
    "print(\"量能賣出檔數\" , len(量能賣出))"
   ]
  },
  {
   "cell_type": "markdown",
   "id": "284dd215-fd8a-4f71-855d-04da835c24c6",
   "metadata": {},
   "source": [
    "# 低接策略"
   ]
  },
  {
   "cell_type": "code",
   "execution_count": 34,
   "id": "288a515c-d347-4c7b-802e-0568d90a4c0c",
   "metadata": {},
   "outputs": [
    {
     "name": "stderr",
     "output_type": "stream",
     "text": [
      "100%|██████████| 1098/1098 [02:58<00:00,  6.14it/s]\n"
     ]
    },
    {
     "data": {
      "image/png": "[encoded data removed]",
      "text/plain": [
       "<Figure size 432x288 with 1 Axes>"
      ]
     },
     "metadata": {
      "needs_background": "light"
     },
     "output_type": "display_data"
    }
   ],
   "source": [
    "import talib\n",
    "ERROR = []\n",
    "trrkd = pd.DataFrame()\n",
    "pzkd1 = pd.DataFrame()\n",
    "\n",
    "for x in tqdm(SKTCRI):\n",
    "    DDW[str(x)][\"K\"],DDW[str(x)][\"D\"] = talib.STOCH(DDW[str(x)]['最高價'], \n",
    "                              DDW[str(x)]['最低價'], \n",
    "                              DDW[str(x)]['收盤價'], \n",
    "                              fastk_period=52,\n",
    "                              slowk_period=10,\n",
    "                              slowk_matype=1,\n",
    "                              slowd_period=10,\n",
    "                              slowd_matype=1)\n",
    "    DDW[str(x)][\"4MA\"] = talib.MA(DDW[str(x)][\"還原收盤價\"].dropna(), timeperiod=5, matype=0)\n",
    "    DDW[str(x)][\"4MAS\"] = DDW[str(x)][\"4MA\"].shift(1)\n",
    "    DDW[str(x)][\"DR\"] = ((DDW[str(x)][\"還原收盤價\"] - DDW[str(x)][\"還原收盤價\"].shift(1))/DDW[str(x)][\"還原收盤價\"].shift(1))*100\n",
    "    DDW[str(x)]['大盤夏普']= DDW['TWA00']['sharpe'].fillna(method = 'pad',axis =0)\n",
    "    KDBS = 0\n",
    "    KDBUY =[]\n",
    "    for z in range(len(DDW[str(x)])):\n",
    "\n",
    "        if DDW[str(x)][\"K\"].iloc[z] > DDW[str(x)][\"D\"].iloc[z] and DDW[str(x)][\"K\"].shift(1).iloc[z] < DDW[str(x)][\"D\"].shift(1).iloc[z] \\\n",
    "        and DDW[str(x)]['成交金額(千)'].iloc[z] < 500000 and DDW[str(x)]['融資維持率(%)'].iloc[z] > 150 \\\n",
    "        and DDW[str(x)]['D'].iloc[z] < 20 and DDW[str(x)]['還原收盤價'].iloc[z] < (DDW[str(x)]['MAX52S']*0.7).iloc[z] :\n",
    "        \n",
    "            KDBS = 1\n",
    "\n",
    "        elif  DDW[str(x)]['收盤價'].iloc[z] < DDW[str(x)]['最低價'].rolling(4).min().shift(1).iloc[z] :\n",
    "            KDBS = 0\n",
    "            #buy.append(\"0\")\n",
    "        KDBUY.append(KDBS)\n",
    "    DDW[str(x)][\"KDBUY\"] = KDBUY\n",
    "    DDW[str(x)][\"KDBUYS\"] = DDW[str(x)][\"KDBUY\"].shift(1)\n",
    "    pzkd = DDW[str(x)][\"KDBUYS\"]  \n",
    "    pzkd.name = str(x)\n",
    "    pzkds = DDW[str(x)][\"KDBUY\"]\n",
    "    pzkds.name = str(x)\n",
    "    DDW[str(x)][\"KDRR\"] = DDW[str(x)][\"DR\"] * DDW[str(x)][\"KDBUYS\"].dropna().astype(int)\n",
    "    PVKD= DDW[str(x)][\"KDRR\"]\n",
    "    PVKD.name = str(x)\n",
    "    if len(trrkd) == 0:\n",
    "        trrkd = PVKD\n",
    "    else:\n",
    "        trrkd = pd.merge(trrkd,PVKD,left_on = trrkd.index,right_on = PVKD.index,how = 'outer')\n",
    "        trrkd.set_index('key_0',inplace = True)\n",
    "    if len(pzkd) == 0:\n",
    "        pzkd1 = pzkds\n",
    "    else:\n",
    "        pzkd1 = pd.merge(pzkd1,pzkds,left_on = pzkd1.index,right_on = pzkds.index,how = 'outer')\n",
    "        pzkd1.set_index('key_0',inplace = True)\n",
    "\n",
    "trrkd1 =trrkd.sort_index().sum(axis = 1).cumsum().plot()\n",
    "\n",
    "plt.xlabel(\"time\")\n",
    "plt.ylabel(\"Profit\")\n",
    "plt.savefig('低接損益')"
   ]
  },
  {
   "cell_type": "markdown",
   "id": "4bdecfd6-2936-4307-b3b4-c7a15b778815",
   "metadata": {},
   "source": [
    "# 整理低接買賣訊01值"
   ]
  },
  {
   "cell_type": "code",
   "execution_count": 35,
   "id": "fc5f9fcd-a77a-4ab0-b5b5-b1c847a79928",
   "metadata": {},
   "outputs": [
    {
     "name": "stdout",
     "output_type": "stream",
     "text": [
      "8.253333333333334\n",
      "0.0\n",
      "50.0\n"
     ]
    },
    {
     "data": {
      "image/png": "[encoded data removed]",
      "text/plain": [
       "<Figure size 432x288 with 1 Axes>"
      ]
     },
     "metadata": {
      "needs_background": "light"
     },
     "output_type": "display_data"
    }
   ],
   "source": [
    "KD1 = pzkd1.sort_index()\n",
    "f6 = lambda x :float(x)\n",
    "KD2 = KD1.applymap(f6)\n",
    "KD3 = KD2.sum(axis=1)\n",
    "KD部位 =KD3.groupby(pd.Grouper(freq='1W')).tail(1)\n",
    "print(KD部位.mean())\n",
    "print(KD部位.min())\n",
    "print(KD部位.max())\n",
    "KD部位.plot()\n",
    "plt.xlabel(\"年份\")\n",
    "plt.ylabel(\"檔數\")\n",
    "plt.savefig('低接部位變化表.png')"
   ]
  },
  {
   "cell_type": "markdown",
   "id": "36c76033-6050-4a63-a85b-8cc2f041aabc",
   "metadata": {},
   "source": [
    "# 低接當週買進部位"
   ]
  },
  {
   "cell_type": "code",
   "execution_count": 36,
   "id": "3261e4a5-7b84-450b-aa16-930a866a30f9",
   "metadata": {},
   "outputs": [
    {
     "name": "stdout",
     "output_type": "stream",
     "text": [
      "低接買進標的\n",
      "2607    1.0\n",
      "3532    1.0\n",
      "Name: 2023-03-10 00:00:00, dtype: float64\n",
      "低接買進檔數 2\n",
      "低接持有部位數目 50\n",
      "低接賣出部位\n",
      "Series([], Name: 2023-03-10 00:00:00, dtype: float64)\n",
      "低接賣出檔數 0\n"
     ]
    }
   ],
   "source": [
    "\n",
    "低接持有部位 = KD2.loc[當週日期][KD2.loc[當週日期] ==1]\n",
    "低接買進 = KD2.loc[當週日期][(KD2.loc[當週日期] ==1) & (KD2.loc[前週日期] ==0)]\n",
    "低接賣出 = KD2.loc[當週日期][(KD2.loc[當週日期] ==0) & (KD2.loc[前週日期] ==1)]\n",
    "print(\"低接買進標的\")\n",
    "print(低接買進)\n",
    "print(\"低接買進檔數\" , len(低接買進))\n",
    "print(\"低接持有部位數目\" , len(低接持有部位))\n",
    "print(\"低接賣出部位\")\n",
    "print(低接賣出)\n",
    "print(\"低接賣出檔數\" , len(低接賣出))"
   ]
  },
  {
   "cell_type": "markdown",
   "id": "7028bbb3-a57f-4290-afdb-7baf86487cf8",
   "metadata": {},
   "source": [
    "# 融資爆發策略\n"
   ]
  },
  {
   "cell_type": "code",
   "execution_count": 37,
   "id": "2056b195-bd52-44a1-acd1-70d918d667d7",
   "metadata": {},
   "outputs": [
    {
     "name": "stderr",
     "output_type": "stream",
     "text": [
      "100%|██████████| 1098/1098 [02:17<00:00,  7.96it/s]\n"
     ]
    },
    {
     "data": {
      "text/plain": [
       "Text(0, 0.5, 'Profit')"
      ]
     },
     "execution_count": 37,
     "metadata": {},
     "output_type": "execute_result"
    },
    {
     "data": {
      "image/png": "[encoded data removed]",
      "text/plain": [
       "<Figure size 432x288 with 1 Axes>"
      ]
     },
     "metadata": {
      "needs_background": "light"
     },
     "output_type": "display_data"
    }
   ],
   "source": [
    "import talib\n",
    "ERROR = []\n",
    "trrmm = pd.DataFrame()\n",
    "pzmm = pd.DataFrame()\n",
    "pzmm1 = pd.DataFrame()\n",
    "for x in tqdm(SKTCRI):\n",
    "    \n",
    "    \n",
    "    DDW[str(x)][\"4MA\"] = talib.MA(DDW[str(x)][\"還原收盤價\"].dropna(), timeperiod=5, matype=0)\n",
    "    DDW[str(x)][\"4MAS\"] = DDW[str(x)][\"4MA\"].shift(1)\n",
    "    DDW[str(x)][\"DR\"] = ((DDW[str(x)][\"還原收盤價\"] - DDW[str(x)][\"還原收盤價\"].shift(1))/DDW[str(x)][\"還原收盤價\"].shift(1))*100\n",
    "    DDW[str(x)]['大盤夏普']= DDW['TWA00']['sharpe'].fillna(method = 'pad',axis =0)\n",
    "    MMBS = 0\n",
    "    MMBUY =[]\n",
    "    for z in range(len(DDW[str(x)])):\n",
    "\n",
    "        if DDW[str(x)]['融資維持率(%)'].iloc[z] > 170 and DDW[str(x)]['融資維持率(%)'].shift(1).iloc[z] < 170  \\\n",
    "        and  DDW[str(x)]['成交金額(千)'].iloc[z] < 250000 and DDW[str(x)]['K'].iloc[z] > 50 and DDW[str(x)]['資使用率'].iloc[z] < 15 and  DDW[str(x)]['成交金額(千)'].iloc[z] > 10000 :\n",
    "        \n",
    "            MMBS = 1\n",
    "\n",
    "        elif    (DDW[str(x)]['融資維持率(%)'].shift(1).iloc[z] < 160) or \\\n",
    "         (DDW[str(x)]['收盤價'].iloc[z] < DDW[str(x)]['最低價'].rolling(5).min().shift(1).iloc[z] and DDW[str(x)]['還原收盤價'].iloc[z] < DDW[str(x)]['4MA'].iloc[z] ):\n",
    "            MMBS = 0\n",
    "            #buy.append(\"0\")\n",
    "        MMBUY.append(MMBS)\n",
    "    DDW[str(x)][\"MMBUY\"] = MMBUY\n",
    "    DDW[str(x)][\"MMBUYS\"] = DDW[str(x)][\"MMBUY\"].shift(1)\n",
    "    pzmm = DDW[str(x)][\"MMBUYS\"]  \n",
    "    pzmm.name = str(x)\n",
    "    pzmms = DDW[str(x)][\"MMBUY\"]\n",
    "    pzmms.name = str(x)\n",
    "    DDW[str(x)][\"MMRR\"] = DDW[str(x)][\"DR\"] * DDW[str(x)][\"MMBUYS\"].dropna().astype(int)\n",
    "    PVMM= DDW[str(x)][\"MMRR\"]\n",
    "    PVMM.name = str(x)\n",
    "    if len(trrmm) == 0:\n",
    "        trrmm = PVMM\n",
    "    else:\n",
    "        trrmm = pd.merge(trrmm,PVMM,left_on = trrmm.index,right_on = PVMM.index,how = 'outer')\n",
    "        trrmm.set_index('key_0',inplace = True)\n",
    "    if len(pzmm) == 0:\n",
    "        pzmm1 = pzmms\n",
    "    else:\n",
    "        pzmm1 = pd.merge(pzmm1,pzmms,left_on = pzmm1.index,right_on = pzmms.index,how = 'outer')\n",
    "        pzmm1.set_index('key_0',inplace = True)\n",
    "\n",
    "trrmm1 =trrmm.sort_index().sum(axis = 1).cumsum().plot()\n",
    "\n",
    "plt.xlabel(\"time\")\n",
    "plt.ylabel(\"Profit\")\n"
   ]
  },
  {
   "cell_type": "code",
   "execution_count": 38,
   "id": "c1ddfc79-3916-47e0-83d8-7f7fcffeb1d1",
   "metadata": {},
   "outputs": [
    {
     "data": {
      "text/plain": [
       "Text(0, 0.5, '報酬')"
      ]
     },
     "execution_count": 38,
     "metadata": {},
     "output_type": "execute_result"
    },
    {
     "data": {
      "image/png": "[encoded data removed]",
      "text/plain": [
       "<Figure size 432x288 with 1 Axes>"
      ]
     },
     "metadata": {
      "needs_background": "light"
     },
     "output_type": "display_data"
    }
   ],
   "source": [
    "ymm = ['2017','2018','2019','2020','2021','2022','2023']\n",
    "for h in ymm :\n",
    "    trrmmy = trrmm.groupby(pd.Grouper(freq='1W')).sum().sum(axis=1)[str(h)].cumsum()\n",
    "    trrmmy1 = (trrmmy).plot()\n",
    "\n",
    "\n",
    "plt.xlabel(\"年份\")\n",
    "plt.ylabel(\"報酬\")\n"
   ]
  },
  {
   "cell_type": "markdown",
   "id": "cb2ce545-8d71-4493-928f-db8323f5c995",
   "metadata": {},
   "source": [
    "# 整理融資爆發買賣訊01值"
   ]
  },
  {
   "cell_type": "code",
   "execution_count": 39,
   "id": "32971427-b0ff-4ece-9055-af54fd7b7124",
   "metadata": {},
   "outputs": [
    {
     "name": "stdout",
     "output_type": "stream",
     "text": [
      "60.552\n",
      "0.0\n",
      "263.0\n"
     ]
    },
    {
     "data": {
      "image/png": "[encoded data removed]",
      "text/plain": [
       "<Figure size 432x288 with 1 Axes>"
      ]
     },
     "metadata": {
      "needs_background": "light"
     },
     "output_type": "display_data"
    }
   ],
   "source": [
    "MM1 = pzmm1.sort_index()\n",
    "f12 = lambda x :float(x)\n",
    "MM2 = MM1.applymap(f12)\n",
    "MM3 = MM2.sum(axis=1)\n",
    "MM部位 =MM3.groupby(pd.Grouper(freq='1W')).tail(1)\n",
    "print(MM部位.mean())\n",
    "print(MM部位.min())\n",
    "print(MM部位.max())\n",
    "MM部位.plot()\n",
    "plt.xlabel(\"年份\")\n",
    "plt.ylabel(\"檔數\")\n",
    "plt.savefig('量能部位變化表.png')"
   ]
  },
  {
   "cell_type": "markdown",
   "id": "2d3f4292-5f8d-4a27-88d3-6a00d7911d15",
   "metadata": {},
   "source": [
    "# 融資爆發當週買進部位"
   ]
  },
  {
   "cell_type": "code",
   "execution_count": 40,
   "id": "53994074-e64b-4be5-b3d0-341600dbf0f8",
   "metadata": {},
   "outputs": [
    {
     "name": "stdout",
     "output_type": "stream",
     "text": [
      "MM買進標的\n",
      "1321    1.0\n",
      "1434    1.0\n",
      "1702    1.0\n",
      "1720    1.0\n",
      "2328    1.0\n",
      "2392    1.0\n",
      "2428    1.0\n",
      "2439    1.0\n",
      "3218    1.0\n",
      "3498    1.0\n",
      "5704    1.0\n",
      "6112    1.0\n",
      "6180    1.0\n",
      "6234    1.0\n",
      "6284    1.0\n",
      "6416    1.0\n",
      "Name: 2023-03-10 00:00:00, dtype: float64\n",
      "MM買進檔數 16\n",
      "MM持有部位數目 133\n",
      "MM賣出部位\n",
      "Series([], Name: 2023-03-10 00:00:00, dtype: float64)\n",
      "MM賣出檔數 0\n"
     ]
    }
   ],
   "source": [
    "MM持有部位 = MM2.loc[當週日期][(MM2.loc[當週日期]==1)]\n",
    "MM買進 = MM2.loc[當週日期][(MM2.loc[當週日期]==1) & (MM2.loc[前週日期]==0)]\n",
    "MM賣出 = MM2.loc[當週日期][(MM2.loc[當週日期]==0) & (MM2.loc[前週日期]==1)]\n",
    "print(\"MM買進標的\")\n",
    "print(MM買進)\n",
    "print(\"MM買進檔數\" , len(MM買進))\n",
    "print(\"MM持有部位數目\" , len(MM持有部位))\n",
    "print(\"MM賣出部位\")\n",
    "print(MM賣出)\n",
    "print(\"MM賣出檔數\" , len(MM賣出))"
   ]
  },
  {
   "cell_type": "code",
   "execution_count": null,
   "id": "e85877ce-376c-49d1-b605-cbe41ef3f055",
   "metadata": {},
   "outputs": [],
   "source": []
  },
  {
   "cell_type": "markdown",
   "id": "ac41d238-6563-47e0-a6c1-cc26c8a7a4b5",
   "metadata": {},
   "source": [
    "# 外資策略"
   ]
  },
  {
   "cell_type": "code",
   "execution_count": 41,
   "id": "600a882b-d38e-46bf-bf52-b7e6819d5a35",
   "metadata": {},
   "outputs": [
    {
     "name": "stderr",
     "output_type": "stream",
     "text": [
      "100%|██████████| 1098/1098 [01:54<00:00,  9.57it/s]\n"
     ]
    },
    {
     "data": {
      "text/plain": [
       "Text(0, 0.5, 'Profit')"
      ]
     },
     "execution_count": 41,
     "metadata": {},
     "output_type": "execute_result"
    },
    {
     "data": {
      "image/png": "[encoded data removed]",
      "text/plain": [
       "<Figure size 432x288 with 1 Axes>"
      ]
     },
     "metadata": {
      "needs_background": "light"
     },
     "output_type": "display_data"
    }
   ],
   "source": [
    "import talib\n",
    "ERROR = []\n",
    "trrtest = pd.DataFrame()\n",
    "pztest = pd.DataFrame()\n",
    "pztest1 = pd.DataFrame()\n",
    "for x in tqdm(SKTCRI):\n",
    "    \n",
    "    \n",
    "    DDW[str(x)][\"FF4MA\"] = talib.MA(DDW[str(x)][\"還原收盤價\"].dropna(), timeperiod=10, matype=0)\n",
    "    DDW[str(x)][\"FF4MAS\"] = DDW[str(x)][\"FF4MA\"].shift(1)\n",
    "    DDW[str(x)]['FFMAX'] = DDW[str(x)][\"還原收盤價\"].rolling(10).max()\n",
    "    DDW[str(x)][\"FFMAXS\"] = DDW[str(x)][\"FFMAX\"].shift(1)\n",
    "    DDW[str(x)][\"FFMINS\"] = DDW[str(x)][\"最低價\"].rolling(10).min().shift(1)\n",
    "    DDW[str(x)][\"DR\"] = ((DDW[str(x)][\"還原收盤價\"] - DDW[str(x)][\"還原收盤價\"].shift(1))/DDW[str(x)][\"還原收盤價\"].shift(1))*100\n",
    "    #DDW[str(x)]['大盤夏普']= DDW['TWA00']['sharpe'].fillna(method = 'pad',axis =0)\n",
    "    TESTBS = 0\n",
    "    TESTBUY =[]\n",
    "    for z in range(len(DDW[str(x)])):\n",
    "\n",
    "        if  DDW[str(x)]['外資持股比率(%)'].iloc[z] > DDW[str(x)]['外資持股比率(%)'].shift(1).iloc[z] and DDW[str(x)]['外資持股比率(%)'].iloc[z] >10 \\\n",
    "        and  DDW[str(x)]['成交金額(千)'].iloc[z] < 700000 and DDW[str(x)]['還原收盤價'].iloc[z] > DDW[str(x)]['FFMAXS'].iloc[z] and  DDW[str(x)]['成交金額(千)'].iloc[z] > 50000 \\\n",
    "        and DDW[str(x)]['外資持股比率(%)'].iloc[z] > DDW[str(x)]['外資持股比率(%)'].shift(10).iloc[z] :\n",
    "            TESTBS = 1\n",
    "\n",
    "        elif DDW[str(x)]['還原收盤價'].iloc[z] < (DDW[str(x)]['FF4MA'].iloc[z]) or DDW[str(x)]['收盤價'].iloc[z] < (DDW[str(x)]['FFMINS'].iloc[z]) \\\n",
    "        or (DDW[str(x)]['外資持股比率(%)'].iloc[z] < DDW[str(x)]['外資持股比率(%)'].shift(5).iloc[z] and DDW[str(x)]['還原收盤價'].iloc[z] < DDW[str(x)]['還原收盤價'].shift(3).iloc[z]):\n",
    "            TESTBS = 0\n",
    "            #buy.append(\"0\")\n",
    "        TESTBUY.append(TESTBS)\n",
    "    DDW[str(x)][\"TESTBUY\"] = TESTBUY\n",
    "    DDW[str(x)][\"TESTBUYS\"] = DDW[str(x)][\"TESTBUY\"].shift(1)\n",
    "    pztests = DDW[str(x)][\"TESTBUYS\"]  \n",
    "    pztests.name = str(x)\n",
    "    pztest = DDW[str(x)][\"TESTBUY\"]\n",
    "    pztest.name = str(x)\n",
    "    DDW[str(x)][\"TESTRR\"] = DDW[str(x)][\"DR\"] * DDW[str(x)][\"TESTBUYS\"].dropna().astype(int)\n",
    "    PVTEST= DDW[str(x)][\"TESTRR\"]\n",
    "    PVTEST.name = str(x)\n",
    "    if len(trrtest) == 0:\n",
    "        trrtest = PVTEST\n",
    "    else:\n",
    "        trrtest = pd.merge(trrtest,PVTEST,left_on = trrtest.index,right_on = PVTEST.index,how = 'outer')\n",
    "        trrtest.set_index('key_0',inplace = True)\n",
    "    if len(pztest) == 0:\n",
    "        pztest1 = pztest\n",
    "    else:\n",
    "        pztest1 = pd.merge(pztest1,pztest,left_on = pztest1.index,right_on = pztest.index,how = 'outer')\n",
    "        pztest1.set_index('key_0',inplace = True)\n",
    "\n",
    "trrtest1 =trrtest.sort_index().sum(axis = 1).cumsum().plot()\n",
    "\n",
    "plt.xlabel(\"time\")\n",
    "plt.ylabel(\"Profit\")\n"
   ]
  },
  {
   "cell_type": "markdown",
   "id": "9e3f6fe0-d6d3-46c7-af64-6665f7dad09f",
   "metadata": {},
   "source": [
    "# 整理外資買賣訊01值"
   ]
  },
  {
   "cell_type": "code",
   "execution_count": 42,
   "id": "07c4c30d-a26d-41e5-8aa9-711eb160dbac",
   "metadata": {},
   "outputs": [
    {
     "name": "stdout",
     "output_type": "stream",
     "text": [
      "42.626666666666665\n",
      "0.0\n",
      "132.0\n"
     ]
    },
    {
     "data": {
      "image/png": "[encoded data removed]",
      "text/plain": [
       "<Figure size 432x288 with 1 Axes>"
      ]
     },
     "metadata": {
      "needs_background": "light"
     },
     "output_type": "display_data"
    }
   ],
   "source": [
    "外資1 = pztest1.sort_index()\n",
    "fsit = lambda x :float(x)\n",
    "外資2 = 外資1.applymap(fsit)\n",
    "外資3 = 外資2.sum(axis=1)\n",
    "外資4 = 外資3.groupby(pd.Grouper(freq='1W')).tail(1)\n",
    "print(外資4.mean())\n",
    "print(外資4.min())\n",
    "print(外資4.max())\n",
    "外資4.plot()\n",
    "plt.xlabel(\"年份\")\n",
    "plt.ylabel(\"檔數\")\n",
    "plt.savefig('外資部位變化表.png')"
   ]
  },
  {
   "cell_type": "markdown",
   "id": "dfa5d934-316e-4630-96a1-d10b39763935",
   "metadata": {},
   "source": [
    "# 外資當週買進部位"
   ]
  },
  {
   "cell_type": "code",
   "execution_count": 43,
   "id": "3941793e-73d5-4c13-991c-7d8222bdfcfc",
   "metadata": {},
   "outputs": [
    {
     "name": "stdout",
     "output_type": "stream",
     "text": [
      "外資買進標的\n",
      "1609    1.0\n",
      "1762    1.0\n",
      "2206    1.0\n",
      "2324    1.0\n",
      "2328    1.0\n",
      "2377    1.0\n",
      "2383    1.0\n",
      "2492    1.0\n",
      "2732    1.0\n",
      "3218    1.0\n",
      "3236    1.0\n",
      "3545    1.0\n",
      "3587    1.0\n",
      "4736    1.0\n",
      "5243    1.0\n",
      "6143    1.0\n",
      "8091    1.0\n",
      "8150    1.0\n",
      "Name: 2023-03-10 00:00:00, dtype: float64\n",
      "外資買進檔數 18\n",
      "外資持有部位數目 132\n",
      "外資賣出部位\n",
      "2401    0.0\n",
      "4148    0.0\n",
      "Name: 2023-03-10 00:00:00, dtype: float64\n",
      "外資賣出檔數 2\n"
     ]
    }
   ],
   "source": [
    "外資持有部位 = 外資2.loc[當週日期][外資2.loc[當週日期] ==1]\n",
    "外資買進 = 外資2.loc[當週日期][(外資2.loc[當週日期] ==1) & (外資2.loc[前週日期] ==0)]\n",
    "外資賣出 = 外資2.loc[當週日期][(外資2.loc[當週日期] ==0) & (外資2.loc[前週日期] ==1)]\n",
    "print(\"外資買進標的\")\n",
    "print(外資買進)\n",
    "print(\"外資買進檔數\" , len(外資買進))\n",
    "print(\"外資持有部位數目\" , len(外資持有部位))\n",
    "print(\"外資賣出部位\")\n",
    "print(外資賣出)\n",
    "print(\"外資賣出檔數\" , len(外資賣出))"
   ]
  },
  {
   "cell_type": "code",
   "execution_count": 44,
   "id": "785cf475-9bb0-4f63-9e16-f18d622dc5a8",
   "metadata": {},
   "outputs": [
    {
     "data": {
      "text/plain": [
       "Text(0, 0.5, '報酬')"
      ]
     },
     "execution_count": 44,
     "metadata": {},
     "output_type": "execute_result"
    },
    {
     "data": {
      "image/png": "[encoded data removed]",
      "text/plain": [
       "<Figure size 432x288 with 1 Axes>"
      ]
     },
     "metadata": {
      "needs_background": "light"
     },
     "output_type": "display_data"
    }
   ],
   "source": [
    "yl = ['2020','2021','2022','2023']\n",
    "for h in yl :\n",
    "    trrtestw = trrtest.groupby(pd.Grouper(freq='1W')).sum().sum(axis=1)[str(h)].cumsum()\n",
    "    trrtestfig = (trrtestw).plot()\n",
    "\n",
    "\n",
    "plt.xlabel(\"年份\")\n",
    "plt.ylabel(\"報酬\")\n"
   ]
  },
  {
   "cell_type": "code",
   "execution_count": 45,
   "id": "080c79a7-7e84-4a7f-89f9-fcd116feabac",
   "metadata": {},
   "outputs": [
    {
     "name": "stdout",
     "output_type": "stream",
     "text": [
      "外資持有部位數目\n",
      "['1102', '1104', '1201', '1210', '1215', '1240', '1304', '1312', '1313', '1314', '1409', '1473', '1514', '1527', '1532', '1565', '1591', '1609', '1612', '1702', '1707', '1712', '1762', '1907', '1909', '2006', '2015', '2066', '2104', '2206', '2324', '2328', '2329', '2356', '2377', '2383', '2385', '2392', '2393', '2402', '2404', '2439', '2492', '2504', '2515', '2605', '2633', '2636', '2732', '2754', '2903', '2916', '3005', '3010', '3014', '3026', '3038', '3093', '3211', '3218', '3227', '3236', '3260', '3264', '3357', '3413', '3530', '3545', '3587', '3596', '3611', '3703', '3704', '4126', '4137', '4164', '4190', '4736', '4755', '4938', '4953', '5015', '5225', '5243', '5284', '5289', '5340', '5371', '5388', '5434', '5471', '5478', '5534', '5536', '5609', '6109', '6139', '6143', '6147', '6166', '6175', '6180', '6214', '6234', '6239', '6257', '6412', '6414', '6438', '6462', '6469', '6561', '6605', '6609', '6612', '6670', '6672', '6683', '6703', '8049', '8081', '8088', '8091', '8105', '8150', '8182', '8210', '8213', '8422', '8942', '9925', '9938']\n"
     ]
    }
   ],
   "source": [
    "print(\"外資持有部位數目\")\n",
    "print(list(外資持有部位.index))"
   ]
  },
  {
   "cell_type": "code",
   "execution_count": 46,
   "id": "d711ef7f-65c9-4147-b500-7bcf65e1f61f",
   "metadata": {},
   "outputs": [
    {
     "data": {
      "text/plain": [
       "<AxesSubplot:xlabel='日期'>"
      ]
     },
     "execution_count": 46,
     "metadata": {},
     "output_type": "execute_result"
    },
    {
     "data": {
      "image/png": "[encoded data removed]",
      "text/plain": [
       "<Figure size 432x288 with 1 Axes>"
      ]
     },
     "metadata": {
      "needs_background": "light"
     },
     "output_type": "display_data"
    }
   ],
   "source": [
    "DDW['1304']['TESTRR'].cumsum().plot()"
   ]
  },
  {
   "cell_type": "code",
   "execution_count": null,
   "id": "fbd51b19-139a-4439-8c52-9f8afefab221",
   "metadata": {},
   "outputs": [],
   "source": []
  },
  {
   "cell_type": "markdown",
   "id": "e39d15e9-0cec-490c-bbb5-47cb6f63f9b4",
   "metadata": {},
   "source": [
    "# 所有策略部位變化與配置"
   ]
  },
  {
   "cell_type": "code",
   "execution_count": 47,
   "id": "08a7492b-d4e7-43f9-985d-a4327b5b7764",
   "metadata": {},
   "outputs": [
    {
     "data": {
      "image/png": "[encoded data removed]",
      "text/plain": [
       "<Figure size 432x288 with 1 Axes>"
      ]
     },
     "metadata": {
      "needs_background": "light"
     },
     "output_type": "display_data"
    }
   ],
   "source": [
    "pz4.plot()#關鍵點\n",
    "pzs4.plot()#放空\n",
    "(夏普部位*6).plot()#強勢夏普\n",
    "pvz4.plot()#量能\n",
    "KD部位.plot()#低接\n",
    "(MM部位*2).plot()#融資\n",
    "外資4.plot()\n",
    "plt.savefig('所有策略檔數')\n"
   ]
  },
  {
   "cell_type": "code",
   "execution_count": 48,
   "id": "2afcd2aa-37c3-4dda-84b5-6d5e2037170d",
   "metadata": {},
   "outputs": [
    {
     "data": {
      "text/plain": [
       "<AxesSubplot:xlabel='key_0'>"
      ]
     },
     "execution_count": 48,
     "metadata": {},
     "output_type": "execute_result"
    },
    {
     "data": {
      "image/png": "[encoded data removed]",
      "text/plain": [
       "<Figure size 432x288 with 1 Axes>"
      ]
     },
     "metadata": {
      "needs_background": "light"
     },
     "output_type": "display_data"
    }
   ],
   "source": [
    "trr.sort_index().sum(axis = 1).cumsum().plot()\n",
    "trrs.sort_index().sum(axis = 1).cumsum().plot()\n",
    "(trr2330*20).sort_index().cumsum().plot()\n",
    "(trrmsharpe.sort_index().sum(axis = 1).cumsum()*3).plot()\n",
    "trrv.sort_index().sum(axis = 1).cumsum().plot()\n",
    "trrkd.sort_index().sum(axis = 1).cumsum().plot()\n",
    "(trrmm.sort_index().sum(axis = 1).cumsum()).plot()\n",
    "trrtest.sort_index().sum(axis = 1).cumsum().plot()"
   ]
  },
  {
   "cell_type": "markdown",
   "id": "3f31cc7a-c067-4598-8f5d-d10abdc17e20",
   "metadata": {},
   "source": [
    "# 淨部位變化"
   ]
  },
  {
   "cell_type": "code",
   "execution_count": 49,
   "id": "12b986d8-c8a9-406e-bf5b-989eaf598e09",
   "metadata": {},
   "outputs": [
    {
     "name": "stdout",
     "output_type": "stream",
     "text": [
      "多空總部位 406.0\n"
     ]
    },
    {
     "data": {
      "image/png": "[encoded data removed]",
      "text/plain": [
       "<Figure size 432x288 with 1 Axes>"
      ]
     },
     "metadata": {
      "needs_background": "light"
     },
     "output_type": "display_data"
    }
   ],
   "source": [
    "總部位變化 =  pz4 + pzs4 + (夏普部位)   +MM部位+KD部位 #+pvz4+ 外資4\n",
    "總部位變化.plot()\n",
    "print('多空總部位',總部位變化[當週日期])\n",
    "plt.xlabel(\"年份\")\n",
    "plt.ylabel(\"檔數\")\n",
    "plt.savefig(r'C:\\Users\\larryx30\\larryx30\\每週買賣報表\\總部位水位變化')"
   ]
  },
  {
   "cell_type": "code",
   "execution_count": 50,
   "id": "4fbb5d8c-35a9-4a74-af7f-8f591c1ebbcd",
   "metadata": {},
   "outputs": [
    {
     "data": {
      "text/plain": [
       "Timestamp('2023-03-10 00:00:00')"
      ]
     },
     "execution_count": 50,
     "metadata": {},
     "output_type": "execute_result"
    }
   ],
   "source": [
    "trr.index[-1]\n"
   ]
  },
  {
   "cell_type": "code",
   "execution_count": 51,
   "id": "a16b3e82-2cb3-4b91-bc37-70a7433c3eb5",
   "metadata": {},
   "outputs": [
    {
     "data": {
      "text/plain": [
       "key_0\n",
       "2022-04-01    164.0\n",
       "2022-04-08    132.0\n",
       "2022-04-15     82.0\n",
       "2022-04-22    107.0\n",
       "2022-04-29     38.0\n",
       "2022-05-06     31.0\n",
       "2022-05-13    -36.0\n",
       "2022-05-20      1.0\n",
       "2022-05-27     15.0\n",
       "2022-06-03     93.0\n",
       "2022-06-10     94.0\n",
       "2022-06-17     14.0\n",
       "2022-06-24      2.0\n",
       "2022-07-01    -12.0\n",
       "2022-07-08     -9.0\n",
       "2022-07-15     -4.0\n",
       "2022-07-22     40.0\n",
       "2022-07-29     76.0\n",
       "2022-08-05     43.0\n",
       "2022-08-12    117.0\n",
       "2022-08-19    177.0\n",
       "2022-08-26    180.0\n",
       "2022-09-02    134.0\n",
       "2022-09-09    115.0\n",
       "2022-09-16    139.0\n",
       "2022-09-23     71.0\n",
       "2022-09-30    -11.0\n",
       "2022-10-07     -3.0\n",
       "2022-10-14    -28.0\n",
       "2022-10-21    -44.0\n",
       "2022-10-28    -62.0\n",
       "2022-11-04     17.0\n",
       "2022-11-11     72.0\n",
       "2022-11-18    105.0\n",
       "2022-11-25    123.0\n",
       "2022-12-02    175.0\n",
       "2022-12-09    167.0\n",
       "2022-12-16    145.0\n",
       "2022-12-23     97.0\n",
       "2022-12-30     77.0\n",
       "2023-01-06     91.0\n",
       "2023-01-13     91.0\n",
       "2023-01-20    112.0\n",
       "2023-01-27    125.0\n",
       "2023-02-03    197.0\n",
       "2023-02-10    232.0\n",
       "2023-02-17    274.0\n",
       "2023-02-24    332.0\n",
       "2023-03-03    375.0\n",
       "2023-03-10    406.0\n",
       "dtype: float64"
      ]
     },
     "execution_count": 51,
     "metadata": {},
     "output_type": "execute_result"
    }
   ],
   "source": [
    "總部位變化.tail(50)\n"
   ]
  },
  {
   "cell_type": "code",
   "execution_count": 52,
   "id": "1200951e-3b55-4425-a594-ae55f30c6749",
   "metadata": {},
   "outputs": [],
   "source": [
    "總部位變化.to_excel(r'C:\\Users\\larryx30\\larryx30\\每週買賣報表\\淨部位變化.xlsx')"
   ]
  },
  {
   "cell_type": "markdown",
   "id": "9c67a2d2-580e-48b3-b528-5344c7bebdfb",
   "metadata": {},
   "source": [
    "# 混合策略損益"
   ]
  },
  {
   "cell_type": "code",
   "execution_count": 53,
   "id": "f8a5a74e-48c0-462d-a945-508f617f9d9f",
   "metadata": {},
   "outputs": [
    {
     "data": {
      "image/png": "[encoded data removed]",
      "text/plain": [
       "<Figure size 432x288 with 1 Axes>"
      ]
     },
     "metadata": {
      "needs_background": "light"
     },
     "output_type": "display_data"
    }
   ],
   "source": [
    "所有策略加總 =  trrsp  + (trr.sort_index().sum(axis = 1).cumsum())*0.5 + (trrkd.sort_index().sum(axis = 1).cumsum()) \\\n",
    " +(trrmm.sort_index().sum(axis = 1).cumsum())+tqt1 #++ trrtest.sort_index().sum(axis = 1).cumsum()+(trr2330*20)+ (trrv.sort_index().sum(axis = 1).cumsum())\n",
    "所有策略加總.plot()\n",
    "plt.savefig(\"所有策略加總\")"
   ]
  },
  {
   "cell_type": "markdown",
   "id": "39b7d087-8fa7-4291-a3e6-e1116f369ac4",
   "metadata": {},
   "source": [
    "# 歷年損益"
   ]
  },
  {
   "cell_type": "code",
   "execution_count": 54,
   "id": "a412a6b8-c6eb-442e-9712-4a26e0983ce8",
   "metadata": {},
   "outputs": [
    {
     "data": {
      "image/png": "[encoded data removed]",
      "text/plain": [
       "<Figure size 432x288 with 1 Axes>"
      ]
     },
     "metadata": {
      "needs_background": "light"
     },
     "output_type": "display_data"
    }
   ],
   "source": [
    "分年加總 = (trr.sort_index().sum(axis = 1)) + (trrs.sort_index().sum(axis = 1)) + (trrmsharpe.sort_index().sum(axis = 1))+ (trrkd.sort_index().sum(axis = 1)) +\\\n",
    " (trrmm.sort_index().sum(axis = 1))# +(trrv.sort_index().sum(axis = 1) +)\n",
    "(分年加總['2016']*1).cumsum().plot()\n",
    "(分年加總['2017']*1).cumsum().plot()\n",
    "(分年加總['2018']*1).cumsum().plot()\n",
    "(分年加總['2019']*1).cumsum().plot()\n",
    "(分年加總['2020']*1).cumsum().plot()\n",
    "(分年加總['2021']*1).cumsum().plot()\n",
    "(分年加總['2022']*1).cumsum().plot()\n",
    "(分年加總['2023']*1).cumsum().plot()\n",
    "\n",
    "\n",
    "\n",
    "plt.savefig(r'C:\\Users\\larryx30\\larryx30\\每週買賣報表\\分年損益.png')\n"
   ]
  },
  {
   "cell_type": "code",
   "execution_count": null,
   "id": "2745cead-c67a-4556-90e9-6549ff9195c4",
   "metadata": {},
   "outputs": [],
   "source": []
  },
  {
   "cell_type": "code",
   "execution_count": 55,
   "id": "b4544965-1066-4d8f-b9e3-7b5e1dece443",
   "metadata": {},
   "outputs": [
    {
     "data": {
      "text/plain": [
       "key_0\n",
       "2023-01-06    -381.994613\n",
       "2023-01-13    -559.267078\n",
       "2023-01-20    -506.109191\n",
       "2023-01-27    -506.109191\n",
       "2023-02-03    -186.556235\n",
       "2023-02-10      58.349080\n",
       "2023-02-17     769.038321\n",
       "2023-02-24    1486.058339\n",
       "2023-03-03    2166.052655\n",
       "2023-03-10    2491.914001\n",
       "dtype: float64"
      ]
     },
     "execution_count": 55,
     "metadata": {},
     "output_type": "execute_result"
    }
   ],
   "source": [
    "分年加總['2023':].cumsum()"
   ]
  },
  {
   "cell_type": "code",
   "execution_count": 56,
   "id": "33c0d8fa-12de-430d-8447-39d8587ed558",
   "metadata": {},
   "outputs": [
    {
     "data": {
      "text/plain": [
       "<AxesSubplot:xlabel='key_0'>"
      ]
     },
     "execution_count": 56,
     "metadata": {},
     "output_type": "execute_result"
    },
    {
     "data": {
      "image/png": "[encoded data removed]",
      "text/plain": [
       "<Figure size 432x288 with 1 Axes>"
      ]
     },
     "metadata": {
      "needs_background": "light"
     },
     "output_type": "display_data"
    }
   ],
   "source": [
    "分年加總['2022':].cumsum().plot()"
   ]
  },
  {
   "cell_type": "code",
   "execution_count": null,
   "id": "0bb8fd6e-9c53-4f9e-af68-d67da06997b9",
   "metadata": {},
   "outputs": [],
   "source": []
  },
  {
   "cell_type": "markdown",
   "id": "0567e658-042d-4ff9-8692-ca0fb8e5f2c1",
   "metadata": {},
   "source": [
    "# 前後比較"
   ]
  },
  {
   "cell_type": "code",
   "execution_count": 57,
   "id": "2ab2aee0-aea4-498d-8c91-ced68fc95462",
   "metadata": {},
   "outputs": [
    {
     "data": {
      "image/png": "[encoded data removed]",
      "text/plain": [
       "<Figure size 432x288 with 1 Axes>"
      ]
     },
     "metadata": {
      "needs_background": "light"
     },
     "output_type": "display_data"
    }
   ],
   "source": [
    "(分年加總['2022':]).cumsum().plot()\n",
    "(trr['2022':].sort_index().sum(axis = 1).cumsum()).plot()\n",
    "plt.savefig(r'C:\\Users\\larryx30\\larryx30\\每週買賣報表\\前後比較.png')"
   ]
  },
  {
   "cell_type": "code",
   "execution_count": 58,
   "id": "d482679a-1a35-4110-b730-a825275065b9",
   "metadata": {},
   "outputs": [
    {
     "data": {
      "image/png": "[encoded data removed]",
      "text/plain": [
       "<Figure size 432x288 with 1 Axes>"
      ]
     },
     "metadata": {
      "needs_background": "light"
     },
     "output_type": "display_data"
    }
   ],
   "source": [
    "pz4.plot()#關鍵點\n",
    "#pzs4.plot()\n",
    "#(夏普部位*6).plot()\n",
    "#pvz4.plot()\n",
    "KD部位.plot()\n",
    "#(MM部位*2).plot()\n",
    "plt.savefig(r'C:\\Users\\larryx30\\larryx30\\每週買賣報表\\檔數交會.png')"
   ]
  },
  {
   "cell_type": "markdown",
   "id": "94d872f1-710d-4444-94b9-e31d94581e54",
   "metadata": {},
   "source": [
    "# 當週彙總整理"
   ]
  },
  {
   "cell_type": "code",
   "execution_count": 59,
   "id": "8b3c97c7-2e04-44f8-bfc5-11bb51aa4902",
   "metadata": {},
   "outputs": [
    {
     "name": "stdout",
     "output_type": "stream",
     "text": [
      "關鍵點買進標的\n",
      "1504    1.0\n",
      "2345    1.0\n",
      "2377    1.0\n",
      "2472    1.0\n",
      "3005    1.0\n",
      "3008    1.0\n",
      "3038    1.0\n",
      "5225    1.0\n",
      "5288    1.0\n",
      "5607    1.0\n",
      "6176    1.0\n",
      "Name: 2023-03-10 00:00:00, dtype: float64\n",
      "關鍵點買進檔數 11\n",
      "關鍵點持有部位數目 227\n",
      "關鍵點賣出標的\n",
      "Series([], Name: 2023-03-10 00:00:00, dtype: float64)\n",
      "關鍵點賣出檔數 0\n",
      "M夏普買進標的\n",
      "Series([], Name: 2023-03-10 00:00:00, dtype: float64)\n",
      "M夏普買進檔數 0\n",
      "M夏普持有部位數目 0\n",
      "M夏普賣出標的\n",
      "Series([], Name: 2023-03-10 00:00:00, dtype: float64)\n",
      "M夏普賣出檔數 0\n",
      "量能買進標的\n",
      "Series([], Name: 2023-03-10 00:00:00, dtype: float64)\n",
      "量能買進檔數 0\n",
      "量能持有部位數目 0\n",
      "量能賣出標的\n",
      "Series([], Name: 2023-03-10 00:00:00, dtype: float64)\n",
      "量能賣出檔數 0\n",
      "低接買進標的\n",
      "2607    1.0\n",
      "3532    1.0\n",
      "Name: 2023-03-10 00:00:00, dtype: float64\n",
      "低接買進檔數 2\n",
      "低接持有部位數目 50\n",
      "低接賣出標的\n",
      "Series([], Name: 2023-03-10 00:00:00, dtype: float64)\n",
      "低接賣出檔數 0\n",
      "融資爆發買進標的\n",
      "1321    1.0\n",
      "1434    1.0\n",
      "1702    1.0\n",
      "1720    1.0\n",
      "2328    1.0\n",
      "2392    1.0\n",
      "2428    1.0\n",
      "2439    1.0\n",
      "3218    1.0\n",
      "3498    1.0\n",
      "5704    1.0\n",
      "6112    1.0\n",
      "6180    1.0\n",
      "6234    1.0\n",
      "6284    1.0\n",
      "6416    1.0\n",
      "Name: 2023-03-10 00:00:00, dtype: float64\n",
      "融資爆發買進檔數 16\n",
      "融資爆發持有部位數目 133\n",
      "融資爆發賣出標的\n",
      "Series([], Name: 2023-03-10 00:00:00, dtype: float64)\n",
      "融資爆發賣出檔數 0\n",
      "外資買進標的\n",
      "1609    1.0\n",
      "1762    1.0\n",
      "2206    1.0\n",
      "2324    1.0\n",
      "2328    1.0\n",
      "2377    1.0\n",
      "2383    1.0\n",
      "2492    1.0\n",
      "2732    1.0\n",
      "3218    1.0\n",
      "3236    1.0\n",
      "3545    1.0\n",
      "3587    1.0\n",
      "4736    1.0\n",
      "5243    1.0\n",
      "6143    1.0\n",
      "8091    1.0\n",
      "8150    1.0\n",
      "Name: 2023-03-10 00:00:00, dtype: float64\n",
      "外資買進檔數 18\n",
      "外資持有部位數目 132\n",
      "外資賣出標的\n",
      "2401    0.0\n",
      "4148    0.0\n",
      "Name: 2023-03-10 00:00:00, dtype: float64\n",
      "外資賣出檔數 2\n",
      "空單放空標的\n",
      "9802   -1.0\n",
      "Name: 2023-03-10 00:00:00, dtype: float64\n",
      "空單放空檔數 1\n",
      "空單持有空單部位數目 4\n",
      "空單回補標的\n",
      "1319    0.0\n",
      "1536    0.0\n",
      "2312    0.0\n",
      "Name: 2023-03-10 00:00:00, dtype: float64\n"
     ]
    }
   ],
   "source": [
    "print(\"關鍵點買進標的\")\n",
    "print(關鍵點買進)\n",
    "print(\"關鍵點買進檔數\" , len(關鍵點買進))\n",
    "print(\"關鍵點持有部位數目\" , len(關鍵點持有部位))\n",
    "print(\"關鍵點賣出標的\")\n",
    "print(關鍵點賣出)\n",
    "print(\"關鍵點賣出檔數\" , len(關鍵點賣出))\n",
    "print(\"M夏普買進標的\")\n",
    "print(M夏普買進)\n",
    "print(\"M夏普買進檔數\" , len(M夏普買進))\n",
    "print(\"M夏普持有部位數目\" , len(M夏普持有部位))\n",
    "print(\"M夏普賣出標的\")\n",
    "print(M夏普賣出)\n",
    "print(\"M夏普賣出檔數\" , len(M夏普賣出))\n",
    "print(\"量能買進標的\")\n",
    "print(量能買進)\n",
    "print(\"量能買進檔數\" , len(量能買進))\n",
    "print(\"量能持有部位數目\" , len(量能持有部位))\n",
    "print(\"量能賣出標的\")\n",
    "print(量能賣出)\n",
    "print(\"量能賣出檔數\" , len(量能賣出))\n",
    "print(\"低接買進標的\")\n",
    "print(低接買進)\n",
    "print(\"低接買進檔數\" , len(低接買進))\n",
    "print(\"低接持有部位數目\" , len(低接持有部位))\n",
    "print(\"低接賣出標的\")\n",
    "print(低接賣出)\n",
    "print(\"低接賣出檔數\" , len(低接賣出))\n",
    "print(\"融資爆發買進標的\")\n",
    "print(MM買進)\n",
    "print(\"融資爆發買進檔數\" , len(MM買進))\n",
    "print(\"融資爆發持有部位數目\" , len(MM持有部位))\n",
    "print(\"融資爆發賣出標的\")\n",
    "print(MM賣出)\n",
    "print(\"融資爆發賣出檔數\" , len(MM賣出))\n",
    "print(\"外資買進標的\")\n",
    "print(外資買進)\n",
    "print(\"外資買進檔數\" , len(外資買進))\n",
    "print(\"外資持有部位數目\" , len(外資持有部位))\n",
    "print(\"外資賣出標的\")\n",
    "print(外資賣出)\n",
    "print(\"外資賣出檔數\" , len(外資賣出))\n",
    "print(\"空單放空標的\")\n",
    "print(空單放空)\n",
    "print(\"空單放空檔數\" , len(空單放空))\n",
    "print(\"空單持有空單部位數目\" , len(空單放空部位))\n",
    "print(\"空單回補標的\")\n",
    "print(空單回補)\n"
   ]
  },
  {
   "cell_type": "code",
   "execution_count": 60,
   "id": "a4c302a7-4bfb-4846-aab1-e840d15c8e5f",
   "metadata": {},
   "outputs": [
    {
     "name": "stdout",
     "output_type": "stream",
     "text": [
      "關鍵點持有部位\n",
      "['1102', '1103', '1104', '1108', '1215', '1216', '1231', '1234', '1256', '1268', '1342', '1402', '1434', '1473', '1503', '1504', '1513', '1514', '1519', '1527', '1532', '1535', '1590', '1593', '1598', '1605', '1707', '1720', '1752', '1762', '1777', '1783', '1786', '1795', '2017', '2063', '2065', '2201', '2228', '2247', '2301', '2303', '2327', '2345', '2356', '2377', '2385', '2392', '2397', '2402', '2404', '2425', '2449', '2450', '2451', '2471', '2472', '2474', '2480', '2488', '2493', '2539', '2633', '2634', '2640', '2701', '2704', '2706', '2707', '2722', '2723', '2727', '2729', '2732', '2752', '2753', '2754', '2755', '2903', '2916', '3005', '3008', '3017', '3022', '3023', '3029', '3034', '3038', '3088', '3090', '3147', '3209', '3231', '3236', '3264', '3265', '3293', '3357', '3416', '3443', '3454', '3501', '3528', '3529', '3537', '3564', '3577', '3587', '3611', '3617', '3652', '3653', '3679', '3680', '3684', '3704', '3705', '3711', '4104', '4111', '4119', '4126', '4129', '4137', '4138', '4155', '4160', '4163', '4164', '4526', '4533', '4536', '4572', '4747', '4938', '4953', '4974', '5009', '5225', '5284', '5288', '5289', '5315', '5340', '5403', '5434', '5439', '5465', '5534', '5536', '5607', '5704', '5904', '6112', '6121', '6123', '6128', '6139', '6146', '6147', '6155', '6166', '6170', '6176', '6180', '6188', '6197', '6215', '6221', '6227', '6234', '6245', '6277', '6412', '6414', '6417', '6451', '6469', '6472', '6515', '6523', '6527', '6556', '6561', '6570', '6579', '6603', '6605', '6609', '6612', '6613', '6664', '6666', '6670', '6690', '6697', '6703', '6751', '6752', '6754', '8043', '8049', '8088', '8105', '8109', '8131', '8210', '8215', '8234', '8271', '8383', '8401', '8420', '8433', '8436', '8462', '8464', '8478', '8924', '8931', '8938', '8942', '9925', '9937', '9939', '9942', '9943']\n",
      "M夏普持有部位\n",
      "[]\n",
      "低接持有部位\n",
      "['1220', '1515', '1612', '1725', '1773', '2015', '2030', '2031', '2032', '2340', '2399', '2417', '2428', '2441', '2605', '2607', '2636', '3049', '3122', '3217', '3221', '3317', '3357', '3438', '3526', '3532', '3645', '4137', '4735', '4945', '4952', '4967', '5299', '5438', '5609', '6104', '6120', '6170', '6187', '6284', '6435', '6578', '6594', '6706', '6741', '8054', '8111', '8437', '8463', '8477']\n",
      "融資爆發持有部位\n",
      "['1104', '1256', '1264', '1268', '1321', '1339', '1434', '1445', '1463', '1465', '1473', '1527', '1535', '1593', '1598', '1618', '1702', '1720', '1777', '1786', '2013', '2063', '2065', '2066', '2107', '2221', '2228', '2247', '2328', '2385', '2392', '2397', '2402', '2420', '2425', '2428', '2430', '2439', '2451', '2467', '2471', '2488', '2493', '2496', '2539', '2546', '2640', '2701', '2704', '2903', '2916', '3032', '3038', '3052', '3090', '3147', '3206', '3218', '3236', '3265', '3380', '3402', '3498', '3501', '3528', '3611', '3652', '3679', '4104', '4107', '4119', '4126', '4138', '4155', '4163', '4164', '4190', '4572', '4581', '4974', '5288', '5434', '5465', '5704', '5907', '6112', '6115', '6123', '6146', '6155', '6180', '6184', '6208', '6215', '6221', '6227', '6234', '6263', '6277', '6284', '6416', '6469', '6523', '6561', '6570', '6579', '6609', '6664', '6666', '6776', '8043', '8049', '8088', '8105', '8109', '8131', '8147', '8249', '8284', '8383', '8401', '8403', '8420', '8433', '8446', '8462', '8941', '9907', '9924', '9925', '9939', '9943', '9951']\n",
      "空單持有部位\n",
      "['1218', '1736', '2059', '9802']\n"
     ]
    }
   ],
   "source": [
    "pd.set_option('display.max_rows',None)\n",
    "print('關鍵點持有部位')\n",
    "print(list(關鍵點持有部位.index))\n",
    "print('M夏普持有部位')\n",
    "print(list(M夏普持有部位.index))\n",
    "#print('量能持有部位')\n",
    "#print(list(量能持有部位.index))\n",
    "print('低接持有部位')\n",
    "print(list(低接持有部位.index))\n",
    "print('融資爆發持有部位')\n",
    "print(list(MM持有部位.index))\n",
    "print('空單持有部位')\n",
    "print(list(空單放空部位.index))\n",
    "#print('外資持有部位')\n",
    "#print(list(外資持有部位.index))"
   ]
  },
  {
   "cell_type": "markdown",
   "id": "143e480a-875b-4e0f-b5b9-4868e7c7a6d9",
   "metadata": {},
   "source": [
    "# 育儀每週需求資料"
   ]
  },
  {
   "cell_type": "code",
   "execution_count": 61,
   "id": "daca6257-1288-43aa-9716-a7035b21b634",
   "metadata": {},
   "outputs": [],
   "source": [
    "import math\n",
    "import datetime\n",
    "育儀檔DF = pd.DataFrame()\n",
    "育儀檔DF['空單賣出標的'] = list(空單放空.index)\n",
    "lsws=[]\n",
    "張數=[]\n",
    "for i in range(len(育儀檔DF)):\n",
    "    lsws.append(DDW[育儀檔DF.iloc[i,0]].tail(1).iloc[0,3])\n",
    "育儀檔DF['空單賣出收盤價'] = lsws\n",
    "for l in range(len(育儀檔DF)):\n",
    "    張數 = 1000000/(育儀檔DF['空單賣出收盤價']*1000)\n",
    "floormethod = lambda x :math.ceil(x)\n",
    "\n",
    "#try:\n",
    "    #育儀檔DF['需求張數'] = 張數.apply(floormethod)\n",
    "    #育儀檔DF.to_excel(r'C:\\Users\\larryx30\\larryx30\\每週買賣報表\\借券\\每週空單需求'+datetime.datetime.today().strftime('%Y-%m-%d')+'.xlsx')\n",
    "#except:\n",
    "    #pass"
   ]
  },
  {
   "cell_type": "markdown",
   "id": "587a453c-ef0d-4e73-ac1c-dd5e8ce3dcba",
   "metadata": {},
   "source": [
    "# 每週買賣總表"
   ]
  },
  {
   "cell_type": "code",
   "execution_count": 62,
   "id": "2473d0f8-0113-4b79-bf93-93e3dab3eaaf",
   "metadata": {},
   "outputs": [
    {
     "data": {
      "text/html": [
       "<div>\n",
       "<style scoped>\n",
       "    .dataframe tbody tr th:only-of-type {\n",
       "        vertical-align: middle;\n",
       "    }\n",
       "\n",
       "    .dataframe tbody tr th {\n",
       "        vertical-align: top;\n",
       "    }\n",
       "\n",
       "    .dataframe thead th {\n",
       "        text-align: right;\n",
       "    }\n",
       "</style>\n",
       "<table border=\"1\" class=\"dataframe\">\n",
       "  <thead>\n",
       "    <tr style=\"text-align: right;\">\n",
       "      <th></th>\n",
       "      <th>關鍵點買進</th>\n",
       "      <th>M夏普買進</th>\n",
       "      <th>量能買進</th>\n",
       "      <th>低接買進</th>\n",
       "      <th>融資買進</th>\n",
       "      <th>外資買進</th>\n",
       "      <th>空單回補</th>\n",
       "    </tr>\n",
       "  </thead>\n",
       "  <tbody>\n",
       "    <tr>\n",
       "      <th>0</th>\n",
       "      <td>1504</td>\n",
       "      <td>NaN</td>\n",
       "      <td>NaN</td>\n",
       "      <td>2607</td>\n",
       "      <td>1321</td>\n",
       "      <td>1609</td>\n",
       "      <td>1319</td>\n",
       "    </tr>\n",
       "    <tr>\n",
       "      <th>1</th>\n",
       "      <td>2345</td>\n",
       "      <td>NaN</td>\n",
       "      <td>NaN</td>\n",
       "      <td>3532</td>\n",
       "      <td>1434</td>\n",
       "      <td>1762</td>\n",
       "      <td>1536</td>\n",
       "    </tr>\n",
       "    <tr>\n",
       "      <th>2</th>\n",
       "      <td>2377</td>\n",
       "      <td>NaN</td>\n",
       "      <td>NaN</td>\n",
       "      <td>NaN</td>\n",
       "      <td>1702</td>\n",
       "      <td>2206</td>\n",
       "      <td>2312</td>\n",
       "    </tr>\n",
       "    <tr>\n",
       "      <th>3</th>\n",
       "      <td>2472</td>\n",
       "      <td>NaN</td>\n",
       "      <td>NaN</td>\n",
       "      <td>NaN</td>\n",
       "      <td>1720</td>\n",
       "      <td>2324</td>\n",
       "      <td>NaN</td>\n",
       "    </tr>\n",
       "    <tr>\n",
       "      <th>4</th>\n",
       "      <td>3005</td>\n",
       "      <td>NaN</td>\n",
       "      <td>NaN</td>\n",
       "      <td>NaN</td>\n",
       "      <td>2328</td>\n",
       "      <td>2328</td>\n",
       "      <td>NaN</td>\n",
       "    </tr>\n",
       "    <tr>\n",
       "      <th>5</th>\n",
       "      <td>3008</td>\n",
       "      <td>NaN</td>\n",
       "      <td>NaN</td>\n",
       "      <td>NaN</td>\n",
       "      <td>2392</td>\n",
       "      <td>2377</td>\n",
       "      <td>NaN</td>\n",
       "    </tr>\n",
       "    <tr>\n",
       "      <th>6</th>\n",
       "      <td>3038</td>\n",
       "      <td>NaN</td>\n",
       "      <td>NaN</td>\n",
       "      <td>NaN</td>\n",
       "      <td>2428</td>\n",
       "      <td>2383</td>\n",
       "      <td>NaN</td>\n",
       "    </tr>\n",
       "    <tr>\n",
       "      <th>7</th>\n",
       "      <td>5225</td>\n",
       "      <td>NaN</td>\n",
       "      <td>NaN</td>\n",
       "      <td>NaN</td>\n",
       "      <td>2439</td>\n",
       "      <td>2492</td>\n",
       "      <td>NaN</td>\n",
       "    </tr>\n",
       "    <tr>\n",
       "      <th>8</th>\n",
       "      <td>5288</td>\n",
       "      <td>NaN</td>\n",
       "      <td>NaN</td>\n",
       "      <td>NaN</td>\n",
       "      <td>3218</td>\n",
       "      <td>2732</td>\n",
       "      <td>NaN</td>\n",
       "    </tr>\n",
       "    <tr>\n",
       "      <th>9</th>\n",
       "      <td>5607</td>\n",
       "      <td>NaN</td>\n",
       "      <td>NaN</td>\n",
       "      <td>NaN</td>\n",
       "      <td>3498</td>\n",
       "      <td>3218</td>\n",
       "      <td>NaN</td>\n",
       "    </tr>\n",
       "    <tr>\n",
       "      <th>10</th>\n",
       "      <td>6176</td>\n",
       "      <td>NaN</td>\n",
       "      <td>NaN</td>\n",
       "      <td>NaN</td>\n",
       "      <td>5704</td>\n",
       "      <td>3236</td>\n",
       "      <td>NaN</td>\n",
       "    </tr>\n",
       "    <tr>\n",
       "      <th>11</th>\n",
       "      <td>NaN</td>\n",
       "      <td>NaN</td>\n",
       "      <td>NaN</td>\n",
       "      <td>NaN</td>\n",
       "      <td>6112</td>\n",
       "      <td>3545</td>\n",
       "      <td>NaN</td>\n",
       "    </tr>\n",
       "    <tr>\n",
       "      <th>12</th>\n",
       "      <td>NaN</td>\n",
       "      <td>NaN</td>\n",
       "      <td>NaN</td>\n",
       "      <td>NaN</td>\n",
       "      <td>6180</td>\n",
       "      <td>3587</td>\n",
       "      <td>NaN</td>\n",
       "    </tr>\n",
       "    <tr>\n",
       "      <th>13</th>\n",
       "      <td>NaN</td>\n",
       "      <td>NaN</td>\n",
       "      <td>NaN</td>\n",
       "      <td>NaN</td>\n",
       "      <td>6234</td>\n",
       "      <td>4736</td>\n",
       "      <td>NaN</td>\n",
       "    </tr>\n",
       "    <tr>\n",
       "      <th>14</th>\n",
       "      <td>NaN</td>\n",
       "      <td>NaN</td>\n",
       "      <td>NaN</td>\n",
       "      <td>NaN</td>\n",
       "      <td>6284</td>\n",
       "      <td>5243</td>\n",
       "      <td>NaN</td>\n",
       "    </tr>\n",
       "    <tr>\n",
       "      <th>15</th>\n",
       "      <td>NaN</td>\n",
       "      <td>NaN</td>\n",
       "      <td>NaN</td>\n",
       "      <td>NaN</td>\n",
       "      <td>6416</td>\n",
       "      <td>6143</td>\n",
       "      <td>NaN</td>\n",
       "    </tr>\n",
       "    <tr>\n",
       "      <th>16</th>\n",
       "      <td>NaN</td>\n",
       "      <td>NaN</td>\n",
       "      <td>NaN</td>\n",
       "      <td>NaN</td>\n",
       "      <td>NaN</td>\n",
       "      <td>8091</td>\n",
       "      <td>NaN</td>\n",
       "    </tr>\n",
       "    <tr>\n",
       "      <th>17</th>\n",
       "      <td>NaN</td>\n",
       "      <td>NaN</td>\n",
       "      <td>NaN</td>\n",
       "      <td>NaN</td>\n",
       "      <td>NaN</td>\n",
       "      <td>8150</td>\n",
       "      <td>NaN</td>\n",
       "    </tr>\n",
       "  </tbody>\n",
       "</table>\n",
       "</div>"
      ],
      "text/plain": [
       "   關鍵點買進 M夏普買進 量能買進  低接買進  融資買進  外資買進  空單回補\n",
       "0   1504   NaN  NaN  2607  1321  1609  1319\n",
       "1   2345   NaN  NaN  3532  1434  1762  1536\n",
       "2   2377   NaN  NaN   NaN  1702  2206  2312\n",
       "3   2472   NaN  NaN   NaN  1720  2324   NaN\n",
       "4   3005   NaN  NaN   NaN  2328  2328   NaN\n",
       "5   3008   NaN  NaN   NaN  2392  2377   NaN\n",
       "6   3038   NaN  NaN   NaN  2428  2383   NaN\n",
       "7   5225   NaN  NaN   NaN  2439  2492   NaN\n",
       "8   5288   NaN  NaN   NaN  3218  2732   NaN\n",
       "9   5607   NaN  NaN   NaN  3498  3218   NaN\n",
       "10  6176   NaN  NaN   NaN  5704  3236   NaN\n",
       "11   NaN   NaN  NaN   NaN  6112  3545   NaN\n",
       "12   NaN   NaN  NaN   NaN  6180  3587   NaN\n",
       "13   NaN   NaN  NaN   NaN  6234  4736   NaN\n",
       "14   NaN   NaN  NaN   NaN  6284  5243   NaN\n",
       "15   NaN   NaN  NaN   NaN  6416  6143   NaN\n",
       "16   NaN   NaN  NaN   NaN   NaN  8091   NaN\n",
       "17   NaN   NaN  NaN   NaN   NaN  8150   NaN"
      ]
     },
     "execution_count": 62,
     "metadata": {},
     "output_type": "execute_result"
    }
   ],
   "source": [
    "每週買DF = pd.DataFrame()\n",
    "每週買DF = pd.concat([每週買DF,pd.DataFrame(關鍵點買進.index,columns = ['關鍵點買進'])],axis=1)\n",
    "#每週買DF = pd.concat([每週買DF,pd.DataFrame(關鍵點賣出.index,columns = ['關鍵點賣出'])],axis=1)\n",
    "每週買DF = pd.concat([每週買DF,pd.DataFrame(M夏普買進.index,columns = ['M夏普買進'])],axis=1)\n",
    "#每週買DF = pd.concat([每週買DF,pd.DataFrame(M夏普賣出.index,columns = ['M夏普賣出'])],axis=1)\n",
    "每週買DF = pd.concat([每週買DF,pd.DataFrame(量能買進.index,columns = ['量能買進'])],axis=1)\n",
    "#每週買DF = pd.concat([每週買DF,pd.DataFrame(量能賣出.index,columns = ['量能賣出'])],axis=1)\n",
    "每週買DF = pd.concat([每週買DF,pd.DataFrame(低接買進.index,columns = ['低接買進'])],axis=1)\n",
    "#每週買DF = pd.concat([每週買DF,pd.DataFrame(低接賣出.index,columns = ['低接賣出'])],axis=1)\n",
    "每週買DF = pd.concat([每週買DF,pd.DataFrame(MM買進.index,columns = ['融資買進'])],axis=1)\n",
    "#每週買DF = pd.concat([每週買DF,pd.DataFrame(MM賣出.index,columns = ['融資賣出'])],axis=1)\n",
    "每週買DF = pd.concat([每週買DF,pd.DataFrame(外資買進.index,columns = ['外資買進'])],axis=1)\n",
    "#每週買DF = pd.concat([每週買DF,pd.DataFrame(外資賣出.index,columns = ['外資賣出'])],axis=1)\n",
    "每週買DF = pd.concat([每週買DF,pd.DataFrame(空單回補.index,columns = ['空單回補'])],axis=1)\n",
    "#每週買DF = pd.concat([每週買DF,pd.DataFrame(空單回補.index,columns = ['空單回補'])],axis=1)\n",
    "每週買DF"
   ]
  },
  {
   "cell_type": "code",
   "execution_count": 63,
   "id": "4ea5c5eb-fe8b-4f66-bfbb-e373521a7f4b",
   "metadata": {},
   "outputs": [],
   "source": [
    "import datetime\n",
    "\n",
    "#每週買DF.to_excel(r'C:\\Users\\larryx30\\larryx30\\每週買賣報表\\買進\\每週買進總表'+datetime.datetime.today().strftime('%Y-%m-%d')+'.xlsx')"
   ]
  },
  {
   "cell_type": "code",
   "execution_count": 64,
   "id": "c0276792-a22a-466d-91cf-ccb0e27e2117",
   "metadata": {},
   "outputs": [
    {
     "data": {
      "text/html": [
       "<div>\n",
       "<style scoped>\n",
       "    .dataframe tbody tr th:only-of-type {\n",
       "        vertical-align: middle;\n",
       "    }\n",
       "\n",
       "    .dataframe tbody tr th {\n",
       "        vertical-align: top;\n",
       "    }\n",
       "\n",
       "    .dataframe thead th {\n",
       "        text-align: right;\n",
       "    }\n",
       "</style>\n",
       "<table border=\"1\" class=\"dataframe\">\n",
       "  <thead>\n",
       "    <tr style=\"text-align: right;\">\n",
       "      <th></th>\n",
       "      <th>關鍵點賣出</th>\n",
       "      <th>M夏普賣出</th>\n",
       "      <th>量能賣出</th>\n",
       "      <th>低接賣出</th>\n",
       "      <th>融資賣出</th>\n",
       "      <th>外資賣出</th>\n",
       "      <th>空單放空</th>\n",
       "    </tr>\n",
       "  </thead>\n",
       "  <tbody>\n",
       "    <tr>\n",
       "      <th>0</th>\n",
       "      <td>NaN</td>\n",
       "      <td>NaN</td>\n",
       "      <td>NaN</td>\n",
       "      <td>NaN</td>\n",
       "      <td>NaN</td>\n",
       "      <td>2401</td>\n",
       "      <td>9802</td>\n",
       "    </tr>\n",
       "    <tr>\n",
       "      <th>1</th>\n",
       "      <td>NaN</td>\n",
       "      <td>NaN</td>\n",
       "      <td>NaN</td>\n",
       "      <td>NaN</td>\n",
       "      <td>NaN</td>\n",
       "      <td>4148</td>\n",
       "      <td>NaN</td>\n",
       "    </tr>\n",
       "  </tbody>\n",
       "</table>\n",
       "</div>"
      ],
      "text/plain": [
       "  關鍵點賣出 M夏普賣出 量能賣出 低接賣出 融資賣出  外資賣出  空單放空\n",
       "0   NaN   NaN  NaN  NaN  NaN  2401  9802\n",
       "1   NaN   NaN  NaN  NaN  NaN  4148   NaN"
      ]
     },
     "execution_count": 64,
     "metadata": {},
     "output_type": "execute_result"
    }
   ],
   "source": [
    "每週賣DF = pd.DataFrame()\n",
    "#每週賣DF = pd.concat([每週賣DF,pd.DataFrame(關鍵點買進.index,columns = ['關鍵點買進'])],axis=1)\n",
    "每週賣DF = pd.concat([每週賣DF,pd.DataFrame(關鍵點賣出.index,columns = ['關鍵點賣出'])],axis=1)\n",
    "#每週賣DF = pd.concat([每週賣DF,pd.DataFrame(M夏普買進.index,columns = ['M夏普買進'])],axis=1)\n",
    "每週賣DF = pd.concat([每週賣DF,pd.DataFrame(M夏普賣出.index,columns = ['M夏普賣出'])],axis=1)\n",
    "#每週賣DF = pd.concat([每週賣DF,pd.DataFrame(量能買進.index,columns = ['量能買進'])],axis=1)\n",
    "每週賣DF = pd.concat([每週賣DF,pd.DataFrame(量能賣出.index,columns = ['量能賣出'])],axis=1)\n",
    "#每週賣DF = pd.concat([每週賣DF,pd.DataFrame(低接買進.index,columns = ['低接買進'])],axis=1)\n",
    "每週賣DF = pd.concat([每週賣DF,pd.DataFrame(低接賣出.index,columns = ['低接賣出'])],axis=1)\n",
    "#每週賣DF = pd.concat([每週賣DF,pd.DataFrame(MM買進.index,columns = ['融資買進'])],axis=1)\n",
    "每週賣DF = pd.concat([每週賣DF,pd.DataFrame(MM賣出.index,columns = ['融資賣出'])],axis=1)\n",
    "#每週賣DF = pd.concat([每週賣DF,pd.DataFrame(外資買進.index,columns = ['外資買進'])],axis=1)\n",
    "每週賣DF = pd.concat([每週賣DF,pd.DataFrame(外資賣出.index,columns = ['外資賣出'])],axis=1)\n",
    "#每週賣DF = pd.concat([每週賣DF,pd.DataFrame(空單放空.index,columns = ['空單放空'])],axis=1)\n",
    "每週賣DF = pd.concat([每週賣DF,pd.DataFrame(空單放空.index,columns = ['空單放空'])],axis=1)\n",
    "每週賣DF\n"
   ]
  },
  {
   "cell_type": "code",
   "execution_count": 65,
   "id": "592b9f43-aa77-4777-af93-a973481e4159",
   "metadata": {},
   "outputs": [],
   "source": [
    "#每週賣DF.to_excel(r'C:\\Users\\larryx30\\larryx30\\每週買賣報表\\賣出\\每週賣出總表'+datetime.datetime.today().strftime('%Y-%m-%d')+'.xlsx')"
   ]
  },
  {
   "cell_type": "code",
   "execution_count": 66,
   "id": "96ba6ee2-a9e8-4299-9105-ea9dac4902f6",
   "metadata": {},
   "outputs": [],
   "source": [
    "#try:\n",
    "   # !jupyter nbconvert --to python SQL週資料轉化.ipynb\n",
    "# python即转化为.py，script即转化为.html\n",
    "# file_name.ipynb即当前module的文件名\n",
    "#except:\n",
    "    #pass"
   ]
  },
  {
   "cell_type": "code",
   "execution_count": null,
   "id": "13ab0afa-6dd0-40cf-8501-7043fcba0852",
   "metadata": {},
   "outputs": [],
   "source": []
  },
  {
   "cell_type": "code",
   "execution_count": null,
   "id": "442bd7fa-494d-44fa-bf67-63e78faa28f5",
   "metadata": {},
   "outputs": [],
   "source": []
  },
  {
   "cell_type": "code",
   "execution_count": null,
   "id": "838734bf-c634-4be8-b5f5-408087031a8e",
   "metadata": {},
   "outputs": [],
   "source": []
  },
  {
   "cell_type": "code",
   "execution_count": null,
   "id": "ed1a47b5-a008-4d59-8f02-9e0054a2faf1",
   "metadata": {},
   "outputs": [],
   "source": []
  },
  {
   "cell_type": "code",
   "execution_count": null,
   "id": "ff17dee7-39dd-4276-9e1e-7f8285abe5f9",
   "metadata": {},
   "outputs": [],
   "source": []
  }
 ],
 "metadata": {
  "kernelspec": {
   "display_name": "Python 3",
   "language": "python",
   "name": "python3"
  },
  "language_info": {
   "codemirror_mode": {
    "name": "ipython",
    "version": 3
   },
   "file_extension": ".py",
   "mimetype": "text/x-python",
   "name": "python",
   "nbconvert_exporter": "python",
   "pygments_lexer": "ipython3",
   "version": "3.8.8"
  },
  "toc-autonumbering": true,
  "toc-showmarkdowntxt": true
 },
 "nbformat": 4,
 "nbformat_minor": 5
}
