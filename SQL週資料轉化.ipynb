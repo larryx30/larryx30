{
 "cells": [
  {
   "cell_type": "markdown",
   "id": "0268eb58-3649-41ad-8799-3b4d7fd8d4c5",
   "metadata": {},
   "source": [
    "# SQL資料更新"
   ]
  },
  {
   "cell_type": "code",
   "execution_count": null,
   "id": "d4493e43-d5be-494a-abd1-f64fc5749110",
   "metadata": {
    "tags": []
   },
   "outputs": [
    {
     "name": "stdout",
     "output_type": "stream",
     "text": [
      "Connecting to database using pyodbc...\n",
      "Succesfully Connected to database using pyodbc!\n"
     ]
    },
    {
     "name": "stderr",
     "output_type": "stream",
     "text": [
      " 13%|█▎        | 226/1776 [15:15<1:30:41,  3.51s/it] "
     ]
    }
   ],
   "source": [
    "import pyodbc\n",
    "import pandas as pd\n",
    "import numpy as np\n",
    "import warnings\n",
    "from tqdm import tqdm\n",
    "warnings.filterwarnings(\"ignore\")\n",
    "DB_Host = \"192.168.1.16\"\n",
    "DB_Name = \"X01\"\n",
    "DB_User = \"cm23357868\"#以我的帳號為例，請填入您個人帳號\n",
    "DB_Password = \"86875332\"#以我的密碼為例，請填入您個人密碼\n",
    "\n",
    "print(\"Connecting to database using pyodbc...\")\n",
    "\n",
    "db = pyodbc.connect('DRIVER={ODBC Driver 13 for SQL Server}; SERVER=' + DB_Host + '; DATABASE=' + DB_Name + '; UID=' + DB_User + '; PWD=' + DB_Password)\n",
    "\n",
    "print(\"Succesfully Connected to database using pyodbc!\")\n",
    "\n",
    "cursor = db.cursor()\n",
    "#假設我有個列表(tuple也可以)裡面有股票代號，示範只導入前十項\n",
    "\n",
    "s_code_df = pd.read_excel(\"C:\\\\Users\\\\larryx30\\\\Desktop\\\\ALLSTOCK.xlsx\")\n",
    "stock_ls = list(s_code_df.loc[0:,'NUM'])\n",
    "data_ls = []\n",
    "data_frame = pd.DataFrame()\n",
    "for stock_code in tqdm(stock_ls):\n",
    "    query1 = \"\"\"SELECT  [日期]\n",
    "      ,[股票代號]\n",
    "      ,[股票名稱]\n",
    "      ,[資使用率]\n",
    "      ,[融資維持率(%%)]\n",
    "      FROM [X01].[dbo].[日融資券排行] WITH(NOLOCK) where 股票代號 = '%s' And 日期 >= 20070101 order by 日期 \"\"\" %stock_code\n",
    "    query2 = \"\"\"SELECT [日期]\n",
    "      ,[股票代號]\n",
    "      ,[股票名稱]\n",
    "      ,[開盤價]\n",
    "      ,[最高價]\n",
    "      ,[最低價]\n",
    "      ,[收盤價]\n",
    "      ,[成交金額(千)]\n",
    "      FROM [X01].[dbo].[日收盤表排行] WITH(NOLOCK) where 股票代號 = '%s' And 日期 >= 20070101 order by 日期 \"\"\" %stock_code\n",
    "    query3 = \"\"\"SELECT [日期]\n",
    "      ,[股票代號]\n",
    "      ,[股票名稱]\n",
    "      ,[還原收盤價]\n",
    "      FROM [X01].[dbo].[日報酬率比較表] WITH(NOLOCK) where 股票代號 = '%s' And 日期 >= 20070101 order by 日期 \"\"\"  %stock_code\n",
    "    query4 = \"\"\"SELECT [日期]\n",
    "      ,[股票代號]\n",
    "      ,[股票名稱]\n",
    "      ,[投信買賣超金額(千)]\n",
    "      ,[投信持股比率(%%)]\n",
    "      ,[投信持股市值(百萬)]\n",
    "      ,[投信持股成本]\n",
    "      FROM [X01].[dbo].[日投信明細與排行] WITH(NOLOCK) where 股票代號 = '%s' And 日期 >= 20070101 order by 日期 \"\"\"  %stock_code\n",
    "    query5 = \"\"\"SELECT [日期]\n",
    "      ,[股票代號]\n",
    "      ,[股票名稱]\n",
    "      ,[外資買賣超金額(千)]\n",
    "      ,[外資持股比率(%%)]\n",
    "      ,[外資持股市值(百萬)]\n",
    "      ,[外資持股成本]\n",
    "      FROM [X01].[dbo].[日外資持股與排行] WITH(NOLOCK) where 股票代號 = '%s' And 日期 >= 20070101 order by 日期 \"\"\"  %stock_code\n",
    "    \n",
    "    df_Financing = pd.read_sql(query1, db)#.dropna()\n",
    "    df_price = pd.read_sql(query2, db)\n",
    "    df_res_price = pd.read_sql(query3, db)\n",
    "    df_sit = pd.read_sql(query4, db)\n",
    "    df_ff = pd.read_sql(query5, db)\n",
    "    df_from_sql = df_price.merge(df_Financing, on= ['日期', '股票代號', '股票名稱']).fillna(0)\n",
    "    df_from_sql = df_from_sql.merge(df_res_price, on= ['日期', '股票代號', '股票名稱']).fillna(0)\n",
    "    df_from_sql = df_from_sql.merge(df_sit,on = ['日期', '股票代號', '股票名稱']).fillna(0)\n",
    "    df_from_sql = df_from_sql.merge(df_ff,on = ['日期', '股票代號', '股票名稱']).fillna(0)\n",
    "    df_from_sql['日期'] = pd.to_datetime(df_from_sql['日期'],format = \"%Y%m%d\").fillna(0)\n",
    "    df_from_sql = df_from_sql.set_index('日期')\n",
    "    data_ls.append(df_from_sql)\n",
    "    data_frame = pd.concat([data_frame,df_from_sql],axis = 0)\n",
    "    \n"
   ]
  },
  {
   "cell_type": "code",
   "execution_count": null,
   "id": "d2c300c2-bd8c-4286-8c7f-a3ec9d655bbf",
   "metadata": {},
   "outputs": [],
   "source": [
    "data_frame.tail(10)"
   ]
  },
  {
   "cell_type": "code",
   "execution_count": null,
   "id": "1968bbbb-f431-4f3b-8b59-f95823d7f4f1",
   "metadata": {},
   "outputs": [],
   "source": []
  },
  {
   "cell_type": "markdown",
   "id": "d0e40700-6622-4fe2-8a8d-fdefabc54c82",
   "metadata": {},
   "source": [
    "# 整理樞紐1"
   ]
  },
  {
   "cell_type": "code",
   "execution_count": null,
   "id": "3957c5a7-02ff-4142-8378-11fc154e0cc1",
   "metadata": {},
   "outputs": [],
   "source": [
    "feature_ls = data_frame.columns[3:]\n",
    "data_frame = data_frame.reset_index(drop = False)\n",
    "data_pivots_ls = []\n",
    "for feature in tqdm(feature_ls):\n",
    "    data_pivot = data_frame.pivot('日期','股票代號',feature)\n",
    "    data_pivots_ls.append(data_pivot)\n",
    "data_dict = {str(stock_ls[i]):data_ls[i] for i in range(len(stock_ls))}\n",
    "    "
   ]
  },
  {
   "cell_type": "code",
   "execution_count": null,
   "id": "7bb8be6c-4d8a-42e2-b403-6abb35fcd68d",
   "metadata": {},
   "outputs": [],
   "source": [
    "data_dict['TWA00'].tail(2)"
   ]
  },
  {
   "cell_type": "code",
   "execution_count": null,
   "id": "8663668a-d2dd-46fd-8ded-36bb9ed691bf",
   "metadata": {},
   "outputs": [],
   "source": [
    "data_dict['1301'].tail(2)"
   ]
  },
  {
   "cell_type": "markdown",
   "id": "63f20871-b6de-437f-a7f9-4aae05b2378f",
   "metadata": {},
   "source": [
    "# 整理樞紐2及字典合併"
   ]
  },
  {
   "cell_type": "code",
   "execution_count": null,
   "id": "422b3a4b-1c12-4dfa-9ed3-c49027686873",
   "metadata": {},
   "outputs": [],
   "source": [
    "pivot_dict = {str(feature_ls[i]):data_pivots_ls[i] for i in range(len(feature_ls))}\n",
    "data_dict.update(pivot_dict)"
   ]
  },
  {
   "cell_type": "markdown",
   "id": "15385420-d314-4ca8-8fc9-653b6e759779",
   "metadata": {
    "tags": []
   },
   "source": [
    "# 回測樣本代號"
   ]
  },
  {
   "cell_type": "code",
   "execution_count": null,
   "id": "e04300d1-856b-4c82-8bf6-9c894c7133ca",
   "metadata": {
    "tags": []
   },
   "outputs": [],
   "source": [
    "response1 = pd.read_excel(r\"C:\\Users\\larryx30\\Desktop\\\\ALLSTOCK.xlsx\")\n",
    "response1.index = response1.index+1\n",
    "AS = response1['NUM']\n",
    "response2 = pd.read_excel(r\"C:\\Users\\larryx30\\Desktop\\\\TCRINEW.xlsx\")\n",
    "response2.index = response2.index+1\n",
    "SKTCRI = response2['NUM']\n",
    "response3 = pd.read_excel(r\"C:\\Users\\larryx30\\Desktop\\\\STOCKFUTURE.xlsx\")\n",
    "response3.index = response3.index+1\n",
    "SF = response3['NUM']\n",
    "DDW = {}\n",
    "for j in tqdm(AS):\n",
    "    DDW[str(j)] = data_dict[str(j)].resample('W-FRI').agg({'開盤價':'first', '最高價':'max', '最低價':'min', '收盤價':'last','成交金額(千)':'sum','資使用率':'last','融資維持率(%)':'last', '還原收盤價':'last','投信持股比率(%)':'last','投信持股成本':'last','外資持股比率(%)':'last','外資持股成本':'last','投信持股市值(百萬)':'last'})\n",
    "for fi in tqdm(AS):\n",
    "    DDW[str(fi)] = DDW[str(fi)].fillna(method = 'pad' ,axis = 0)"
   ]
  },
  {
   "cell_type": "code",
   "execution_count": null,
   "id": "f470bcfc-1599-49c2-8906-3c478ed56d01",
   "metadata": {},
   "outputs": [],
   "source": [
    "DDW['TWA00'].tail(3)"
   ]
  },
  {
   "cell_type": "markdown",
   "id": "c7913940-b21d-4fda-af27-22284e2c245f",
   "metadata": {
    "tags": []
   },
   "source": [
    "# 計算大盤夏普"
   ]
  },
  {
   "cell_type": "code",
   "execution_count": null,
   "id": "94ae0343-26a7-46b9-9b11-568be85a75f0",
   "metadata": {},
   "outputs": [],
   "source": [
    "import matplotlib.pyplot as plt\n",
    "import mplfinance as mpf\n",
    "import seaborn as sns\n",
    "shar2 = pd.DataFrame()\n",
    "\n",
    "change2 = data_dict[\"TWA00\"][\"還原收盤價\"].pct_change()\n",
    "sigma2 = change2.std()\n",
    "data_dict[\"TWA00\"]['rolling_ret'] = change2.rolling(252).mean()\n",
    "data_dict[\"TWA00\"]['rolling_std'] = change2.rolling(252).std()\n",
    "data_dict[\"TWA00\"]['sharpe'] = (data_dict[\"TWA00\"]['rolling_ret'] / data_dict[\"TWA00\"]['rolling_std']) * (252 ** 0.5)\n",
    "\n",
    "APT2 = data_dict[\"TWA00\"][\"sharpe\"]\n",
    "APT2.name = 'TWA00'\n",
    "DDW['TWA00'][\"sharpe\"] = data_dict['TWA00']['sharpe'].groupby(pd.Grouper(freq='1W')).tail(1)\n",
    "if len(shar2) == 0:\n",
    "    shar2 = APT2\n",
    "else:\n",
    "    shar2 = pd.merge(shar2,APT2,left_on = shar2.index,right_on = APT2.index,how = 'outer')\n",
    "    shar2.set_index('key_0',inplace = True)\n",
    "\n",
    "plt.figure(figsize=(8,3))\n",
    "plt.xlabel(\"time\")\n",
    "plt.ylabel(\"Sharpe ratio\")\n",
    "shar2.plot(label = \"TWA00\")\n",
    "plt.legend()"
   ]
  },
  {
   "cell_type": "markdown",
   "id": "040c38a7-c0fe-4154-9444-445bac887a32",
   "metadata": {},
   "source": [
    "# 計算全股票夏普"
   ]
  },
  {
   "cell_type": "code",
   "execution_count": null,
   "id": "f3f970a1-da43-479d-af8c-4b63f9f387df",
   "metadata": {},
   "outputs": [],
   "source": [
    "#Sharpe\n",
    "shar = pd.DataFrame()\n",
    "\n",
    "for i in tqdm(AS):\n",
    "    change = data_dict[str(i)][\"還原收盤價\"].pct_change()\n",
    "    sigma = change.std()\n",
    "    data_dict[str(i)]['rolling_ret'] = change.rolling(252).mean()\n",
    "    data_dict[str(i)]['rolling_std'] = change.rolling(252).std()\n",
    "    data_dict[str(i)]['sharpe'] = (data_dict[str(i)]['rolling_ret'] / data_dict[str(i)]['rolling_std']) * (252 ** 0.5)\n",
    "\n",
    "    APT = data_dict[str(i)][\"sharpe\"]\n",
    "    APT.name = i\n",
    "\n",
    "    if len(shar) == 0:\n",
    "        shar = APT\n",
    "    else:\n",
    "        shar = pd.merge(shar,APT,left_on = shar.index,right_on = APT.index,how = 'outer')\n",
    "        shar.set_index('key_0',inplace = True)\n",
    "\n",
    "plt.figure(figsize=(8,3))\n",
    "plt.xlabel(\"time\")\n",
    "plt.ylabel(\"Sharpe ratio\")\n",
    "wholesharpe = shar.sort_index().sum(axis = 1)/len(shar.columns)\n",
    "wholesharpe.plot(label = \"STOCK\")\n",
    "plt.legend()\n",
    "plt.savefig(\"一籃子夏普\")"
   ]
  },
  {
   "cell_type": "markdown",
   "id": "cd9aeefa-1781-4bf8-af37-516e29851043",
   "metadata": {},
   "source": [
    "# 母關鍵點策略"
   ]
  },
  {
   "cell_type": "code",
   "execution_count": null,
   "id": "d31cf2c5-d13b-48aa-9daf-a682c926f4f1",
   "metadata": {
    "tags": []
   },
   "outputs": [],
   "source": [
    "import talib\n",
    "ERROR = []\n",
    "trr = pd.DataFrame()\n",
    "pz = pd.DataFrame()\n",
    "\n",
    "for x in tqdm(SKTCRI):\n",
    "    \n",
    "    DDW[str(x)]['MAX52'] = DDW[str(x)][\"還原收盤價\"].rolling(52).max()\n",
    "    DDW[str(x)][\"MAX52S\"] = DDW[str(x)][\"MAX52\"].shift(1)\n",
    "    DDW[str(x)][\"4MA\"] = talib.MA(DDW[str(x)][\"還原收盤價\"].dropna(), timeperiod=5, matype=0)\n",
    "    DDW[str(x)][\"4MAS\"] = DDW[str(x)][\"4MA\"].shift(1)\n",
    "    DDW[str(x)][\"DR\"] = ((DDW[str(x)][\"還原收盤價\"] - DDW[str(x)][\"還原收盤價\"].shift(1))/DDW[str(x)][\"還原收盤價\"].shift(1))*100\n",
    "    KPBS = 0\n",
    "    KPBUY =[]\n",
    "    for z in range(len(DDW[str(x)])):\n",
    "\n",
    "        if DDW[str(x)][\"還原收盤價\"].iloc[z]  > DDW[str(x)][\"MAX52S\"].iloc[z] and  DDW[str(x)][\"成交金額(千)\"].iloc[z] > 50000 and  DDW[str(x)][\"資使用率\"].iloc[z] < 15 \\\n",
    "        and DDW[str(x)][\"成交金額(千)\"].shift(1).iloc[z] > 20000  :\n",
    "        \n",
    "            KPBS = 1\n",
    "\n",
    "        elif DDW[str(x)][\"4MA\"].iloc[z] < DDW[str(x)][\"4MAS\"].iloc[z] and DDW[str(x)]['收盤價'].iloc[z] < DDW[str(x)]['最低價'].rolling(5).min().shift(1).iloc[z] :\n",
    "            KPBS = 0\n",
    "            #buy.append(\"0\")\n",
    "        KPBUY.append(KPBS)\n",
    "    DDW[str(x)][\"KPBUY\"] = KPBUY\n",
    "    DDW[str(x)][\"KPBUYS\"] = DDW[str(x)][\"KPBUY\"].shift(1)\n",
    "    pzb = DDW[str(x)][\"KPBUYS\"]  \n",
    "    pzb.name = str(x)\n",
    "    pzbs = DDW[str(x)][\"KPBUY\"]\n",
    "    pzbs.name = str(x)\n",
    "    DDW[str(x)][\"KPRR\"] = DDW[str(x)][\"DR\"] * DDW[str(x)][\"KPBUYS\"].dropna().astype(int)\n",
    "    PT = DDW[str(x)][\"KPRR\"]\n",
    "    PT.name = str(x)\n",
    "    if len(trr) == 0:\n",
    "        trr = PT\n",
    "    else:\n",
    "        trr = pd.merge(trr,PT,left_on = trr.index,right_on = PT.index,how = 'outer')\n",
    "        trr.set_index('key_0',inplace = True)\n",
    "    if len(pz) == 0:\n",
    "        pz = pzbs\n",
    "    else:\n",
    "        pz = pd.merge(pz,pzbs,left_on = pz.index,right_on = pzbs.index,how = 'outer')\n",
    "        pz.set_index('key_0',inplace = True)\n",
    "\n",
    "trrb =trr.sort_index().sum(axis = 1).cumsum().plot()\n",
    "\n",
    "plt.xlabel(\"time\")\n",
    "plt.ylabel(\"Profit\")\n"
   ]
  },
  {
   "cell_type": "markdown",
   "id": "7a6b610c-9f9a-41c8-87ff-b9b20e84c8d6",
   "metadata": {},
   "source": [
    "# 整理多單買賣訊01值"
   ]
  },
  {
   "cell_type": "code",
   "execution_count": null,
   "id": "0e1139b6-b50f-4f96-a65a-a8e47d62c462",
   "metadata": {
    "tags": []
   },
   "outputs": [],
   "source": [
    "pz1 = pz.sort_index()\n",
    "f = lambda x :float(x)\n",
    "pz2 = pz1.applymap(f)\n",
    "pz3 = pz2.sum(axis=1)\n",
    "pz4 = pz3.groupby(pd.Grouper(freq='1W')).tail(1)\n",
    "plt.rcParams['font.family'] = ['Microsoft JhengHei'] # 中文標籤\n",
    "plt.rcParams['axes.unicode_minus'] = False # 負號\n",
    "print(pz4.mean())\n",
    "print(pz4.min())\n",
    "print(pz4.max())\n",
    "pz4.plot()\n",
    "plt.xlabel(\"年份\")\n",
    "plt.ylabel(\"檔數\")\n",
    "plt.savefig('多方部位變化表.png')\n"
   ]
  },
  {
   "cell_type": "markdown",
   "id": "08d4f5dc-be38-4c3a-8bbc-d0d8aab9b881",
   "metadata": {},
   "source": [
    "# 填寫資料更新日期"
   ]
  },
  {
   "cell_type": "code",
   "execution_count": null,
   "id": "245799b9-9d26-4c5c-9ce8-c1e09c9964a3",
   "metadata": {},
   "outputs": [],
   "source": [
    "當週日期 = trr.index[-1]\n",
    "前週日期 = trr.index[-2]"
   ]
  },
  {
   "cell_type": "markdown",
   "id": "01d3d131-ba39-41e1-bf32-b83fa2ac67d7",
   "metadata": {},
   "source": [
    "# 關鍵點當週買進部位"
   ]
  },
  {
   "cell_type": "code",
   "execution_count": null,
   "id": "4df92570-83e0-409f-8a95-1f6be4646885",
   "metadata": {},
   "outputs": [],
   "source": [
    "關鍵點持有部位 = pz2.loc[當週日期][(pz2.loc[當週日期]==1)]\n",
    "關鍵點買進 = pz2.loc[當週日期][(pz2.loc[當週日期]==1) & (pz2.loc[前週日期]==0)]\n",
    "關鍵點賣出 = pz2.loc[當週日期][(pz2.loc[當週日期]==0) & (pz2.loc[前週日期]==1)]\n",
    "print(\"關鍵點買進標的\")\n",
    "print(關鍵點買進)\n",
    "print(\"關鍵點買進檔數\" , len(關鍵點買進))\n",
    "print(\"關鍵點持有部位數目\" , len(關鍵點持有部位))\n",
    "print(\"關鍵點賣出部位\")\n",
    "print(關鍵點賣出)\n",
    "print(\"關鍵點賣出檔數\" , len(關鍵點賣出))\n"
   ]
  },
  {
   "cell_type": "markdown",
   "id": "beb27bef-bb25-4a83-8c16-0154a17c31fa",
   "metadata": {},
   "source": [
    "# 關鍵點歷年損益"
   ]
  },
  {
   "cell_type": "code",
   "execution_count": null,
   "id": "779e6f3b-6aff-4160-8608-901fd1a4d723",
   "metadata": {},
   "outputs": [],
   "source": [
    "yl = ['2008','2009','2010','2011','2012','2013','2014','2015','2016','2017','2018','2019','2020','2021','2022']\n",
    "for h in yl :\n",
    "    trrt = trr.groupby(pd.Grouper(freq='1W')).sum().sum(axis=1)[str(h)].cumsum()\n",
    "    trrtfig = trrt.plot()\n",
    "trrtfig = plt.gcf()\n",
    "\n",
    "plt.xlabel(\"年份\")\n",
    "plt.ylabel(\"報酬\")\n",
    "trrtfig.savefig('主模型歷年損益.png')"
   ]
  },
  {
   "cell_type": "code",
   "execution_count": null,
   "id": "eaa1264e-7005-49a1-bbd0-c2ffa903f3b0",
   "metadata": {},
   "outputs": [],
   "source": [
    "trrt['2022']"
   ]
  },
  {
   "cell_type": "code",
   "execution_count": null,
   "id": "d73de3cb-eadb-40e0-abc2-5c2d745426d1",
   "metadata": {},
   "outputs": [],
   "source": [
    "trrt['2022'].plot()"
   ]
  },
  {
   "cell_type": "markdown",
   "id": "5342df81-3d79-497d-bbd9-62c72d38a11e",
   "metadata": {},
   "source": [
    "# 放空補丁策略"
   ]
  },
  {
   "cell_type": "code",
   "execution_count": null,
   "id": "74b026e0-ffdf-4c21-aaf1-ece21dbdb71e",
   "metadata": {},
   "outputs": [],
   "source": [
    "import talib\n",
    "ERROR = []\n",
    "trrs = pd.DataFrame()\n",
    "pzs = pd.DataFrame()\n",
    "\n",
    "for x in tqdm(SKTCRI):\n",
    "    \n",
    "    DDW[str(x)]['LOW5'] = DDW[str(x)][\"收盤價\"].rolling(2).min()\n",
    "    DDW[str(x)]['SMAX3'] = DDW[str(x)][\"最高價\"].rolling(2).max()\n",
    "    DDW[str(x)][\"LOW5S\"] = DDW[str(x)][\"LOW5\"].shift(1)\n",
    "    DDW[str(x)][\"4SELLMA\"] = talib.MA(DDW[str(x)][\"還原收盤價\"].dropna(), timeperiod=4, matype=0)\n",
    "    DDW[str(x)][\"COVERMA\"] = talib.MA(DDW[str(x)][\"還原收盤價\"].dropna(), timeperiod=7, matype=0)\n",
    "    DDW[str(x)][\"SCHECKMA\"] = talib.MA(DDW[str(x)][\"收盤價\"].dropna(), timeperiod=20, matype=0)\n",
    "    DDW[str(x)][\"4SELLMAS\"] = DDW[str(x)][\"4SELLMA\"].shift(1)\n",
    "    DDW[str(x)][\"30SELLMA\"] = talib.MA(DDW[str(x)][\"還原收盤價\"].dropna(), timeperiod=20, matype=0)\n",
    "    DDW[str(x)][\"60SELLMA\"] = talib.MA(DDW[str(x)][\"還原收盤價\"].dropna(), timeperiod=20, matype=0)\n",
    "    DDW[str(x)][\"DR\"] = ((DDW[str(x)][\"還原收盤價\"] - DDW[str(x)][\"還原收盤價\"].shift(1))/DDW[str(x)][\"還原收盤價\"].shift(1))*100\n",
    "    DDW['TWA00']['4SELLHMA'] = talib.MA(DDW['TWA00'][\"收盤價\"].dropna(), timeperiod=2, matype=0)\n",
    "    DDW['TWA00']['20SELLHMA'] = talib.MA(DDW['TWA00'][\"收盤價\"].dropna(), timeperiod=20, matype=0)\n",
    "    DDW[str(x)]['大盤夏普']= DDW['TWA00']['sharpe'].fillna(method = 'pad',axis =0)\n",
    "    BSS = 0\n",
    "    SELL =[]\n",
    "    for z in range(len(DDW[str(x)])):\n",
    "\n",
    "        if DDW[str(x)]['成交金額(千)'].iloc[z] > 100000 and DDW[str(x)][\"30SELLMA\"].iloc[z] < DDW[str(x)][\"30SELLMA\"].shift(1).iloc[z] \\\n",
    "        and DDW[str(x)][\"還原收盤價\"].iloc[z]  <  DDW[str(x)][\"60SELLMA\"].iloc[z] and DDW[str(x)][\"SCHECKMA\"].iloc[z] < DDW[str(x)][\"SCHECKMA\"].shift(4).iloc[z]\\\n",
    "        and DDW[str(x)]['收盤價'].iloc[z] < DDW[str(x)]['LOW5S'].iloc[z]  and DDW[str(x)]['資使用率'].iloc[z] > 3 and DDW[str(x)]['融資維持率(%)'].iloc[z] > 140 :\n",
    "         \n",
    "            BSS = -1\n",
    "\n",
    "        elif   (DDW[str(x)]['還原收盤價'].iloc[z] > DDW[str(x)]['COVERMA'].iloc[z] and DDW[str(x)]['COVERMA'].iloc[z] > DDW[str(x)]['COVERMA'].shift(1).iloc[z]) \\\n",
    "         or DDW[str(x)]['融資維持率(%)'].iloc[z] < 130 or DDW[str(x)]['還原收盤價'].iloc[z] > DDW[str(x)][\"COVERMA\"].iloc[z] :\n",
    "            BSS = 0\n",
    "        # or \n",
    "        #DDW[str(x)]['收盤價'].iloc[z] > DDW[str(x)]['最高價'].shift(4).iloc[z] or\n",
    "        #if  DDW['TWA00']['4SELLHMA'].iloc[z] > DDW['TWA00']['20SELLHMA'].iloc[z]  :\n",
    "            #BSS = 0\n",
    "            \n",
    "        SELL.append(BSS)\n",
    "    DDW[str(x)][\"SELL\"] = SELL\n",
    "    DDW[str(x)][\"SELLS\"] = DDW[str(x)][\"SELL\"].shift(1)\n",
    "    ps = DDW[str(x)][\"SELLS\"]  \n",
    "    ps.name = str(x)\n",
    "    pss = DDW[str(x)][\"SELL\"]\n",
    "    pss.name = str(x)\n",
    "    DDW[str(x)][\"SRR\"] = DDW[str(x)][\"DR\"] * DDW[str(x)][\"SELLS\"].dropna().astype(int)\n",
    "    PTS = DDW[str(x)][\"SRR\"]\n",
    "    PTS.name = str(x)\n",
    "    if len(trrs) == 0:\n",
    "        trrs = PTS\n",
    "    else:\n",
    "        trrs = pd.merge(trrs,PTS,left_on = trrs.index,right_on = PTS.index,how = 'outer')\n",
    "        trrs.set_index('key_0',inplace = True)\n",
    "    if len(pzs) == 0:\n",
    "        pzs = pss\n",
    "    else:\n",
    "        pzs = pd.merge(pzs,pss,left_on = pzs.index,right_on = pss.index,how = 'outer')\n",
    "        pzs.set_index('key_0',inplace = True)\n",
    "\n",
    "trrsp = trrs.sort_index().sum(axis = 1).cumsum()\n",
    "trrsp.plot()"
   ]
  },
  {
   "cell_type": "markdown",
   "id": "515e4eaf-1317-4157-85d5-b1687aacae38",
   "metadata": {},
   "source": [
    "# 整理空單買賣訊01值"
   ]
  },
  {
   "cell_type": "code",
   "execution_count": null,
   "id": "2d363bdf-22c7-4ec2-903d-6ec2c300b830",
   "metadata": {},
   "outputs": [],
   "source": [
    "pzs1 = pzs.sort_index()\n",
    "f1 = lambda x :float(x)\n",
    "pzs2 = pzs1.applymap(f1)\n",
    "pzs3 = pzs2.sum(axis=1)\n",
    "pzs4 = pzs3.groupby(pd.Grouper(freq='1W')).tail(1)\n",
    "print(pzs4.mean())\n",
    "print(pzs4.min())\n",
    "print(pzs4.max())\n",
    "pzs4.plot()\n",
    "plt.xlabel(\"年份\")\n",
    "plt.ylabel(\"檔數\")\n",
    "plt.savefig('空方部位變化表.png')"
   ]
  },
  {
   "cell_type": "markdown",
   "id": "a67bd8ad-845f-4bec-8a75-dd81f2e0735f",
   "metadata": {},
   "source": [
    "# 空單當週放空部位"
   ]
  },
  {
   "cell_type": "code",
   "execution_count": null,
   "id": "f5f35a71-c0ef-4799-bfb3-7130693fab5a",
   "metadata": {},
   "outputs": [],
   "source": []
  },
  {
   "cell_type": "code",
   "execution_count": null,
   "id": "aa0ddb4b-f1a4-426d-8501-e7d75b65845e",
   "metadata": {},
   "outputs": [],
   "source": [
    "空單放空部位 = pzs2.loc[當週日期][(pzs2.loc[當週日期]== -1)]\n",
    "空單放空 = pzs2.loc[當週日期][(pzs2.loc[當週日期]== -1) & (pzs2.loc[前週日期]==0)]\n",
    "空單回補 = pzs2.loc[當週日期][(pzs2.loc[當週日期]==0) & (pzs2.loc[前週日期]==-1)]\n",
    "print(\"空單放空標的\")\n",
    "print(空單放空)\n",
    "print(\"空單放空檔數\" , len(空單放空))\n",
    "print(\"空單持有空單部位數目\" , len(空單放空部位))\n",
    "print(\"空單回補部位\")\n",
    "print(空單回補)\n",
    "print(\"空單回補檔數\" , len(空單回補))"
   ]
  },
  {
   "cell_type": "code",
   "execution_count": null,
   "id": "b76e6b12-28d9-4f3b-a457-6773a8faebca",
   "metadata": {},
   "outputs": [],
   "source": [
    "空單放空部位"
   ]
  },
  {
   "cell_type": "code",
   "execution_count": null,
   "id": "37f4277c-f912-4d9a-a4e3-9eda59532c10",
   "metadata": {},
   "outputs": [],
   "source": [
    "DDW['3714']['SELL']"
   ]
  },
  {
   "cell_type": "markdown",
   "id": "8cff5671-16aa-4574-a89d-e17a1d0d8632",
   "metadata": {},
   "source": [
    "# 空單歷年損益"
   ]
  },
  {
   "cell_type": "code",
   "execution_count": null,
   "id": "da249b09-ba1d-4138-85a5-ddc849132cb6",
   "metadata": {},
   "outputs": [],
   "source": [
    "\n",
    "yl = ['2008','2009','2010','2011','2012','2013','2014','2015','2016','2017','2018','2019','2020','2021','2022']\n",
    "for h in yl :\n",
    "    trrts = trrs.groupby(pd.Grouper(freq='1W')).sum().sum(axis=1)[str(h)].cumsum()\n",
    "    trrtsfig = trrts.plot()\n",
    "trrtsfig = plt.gcf()\n",
    "\n",
    "plt.xlabel(\"年份\")\n",
    "plt.ylabel(\"報酬\")\n",
    "trrtfig.savefig('空單歷年損益.png')"
   ]
  },
  {
   "cell_type": "markdown",
   "id": "46da27a2-324f-4c65-b074-27e77f135b09",
   "metadata": {},
   "source": [
    "# 台積電策略"
   ]
  },
  {
   "cell_type": "code",
   "execution_count": null,
   "id": "c5e92416-a866-4075-9fec-bdce50ce3578",
   "metadata": {
    "tags": []
   },
   "outputs": [],
   "source": [
    "import talib\n",
    "ERROR = []\n",
    "trr2330 = pd.DataFrame()\n",
    "pz2330 = pd.DataFrame()\n",
    "\n",
    "\n",
    "    \n",
    "DDW['2330']['MAXN2330'] = DDW['2330'][\"還原收盤價\"].rolling(4).max()\n",
    "DDW['2330'][\"MAXNS\"] = DDW['2330'][\"MAXN2330\"].shift(1)\n",
    "DDW['2330']['MINN2330'] = DDW['2330'][\"還原收盤價\"].rolling(4).min()\n",
    "DDW['2330'][\"MINNS\"] = DDW['2330'][\"MINN2330\"].shift(1)\n",
    "DDW['2330'][\"2330MA\"] = talib.MA(DDW['2330'][\"還原收盤價\"].dropna(), timeperiod=20, matype=0)\n",
    "DDW['2330'][\"2330SMA\"] = DDW['2330'][\"2330MA\"].shift(1)\n",
    "DDW['2330'][\"2330LMA\"] = talib.MA(DDW['2330'][\"還原收盤價\"].dropna(), timeperiod=20, matype=0)\n",
    "DDW['2330'][\"DR\"] = ((DDW['2330'][\"還原收盤價\"] - DDW['2330'][\"還原收盤價\"].shift(1))/DDW['2330'][\"還原收盤價\"].shift(1))*100\n",
    "DDW['TWA00']['4SHMA'] = talib.MA(DDW['TWA00'][\"sharpe\"].dropna(), timeperiod=4, matype=0)\n",
    "DDW['TWA00']['20SHMA'] = talib.MA(DDW['TWA00'][\"sharpe\"].dropna(), timeperiod=20, matype=0)\n",
    "DDW['2330']['出場價'] = DDW['2330'][\"最低價\"].rolling(4).min().shift(1)\n",
    "BS2330 = 0\n",
    "BUY2330 =[]\n",
    "for z in range(len(DDW['2330'])):\n",
    "\n",
    "    if  DDW['2330'][\"還原收盤價\"].iloc[z]  >  DDW['2330'][\"2330MA\"].iloc[z] and DDW['2330']['收盤價'].iloc[z] > DDW['2330']['最高價'].rolling(2).max().shift(1).iloc[z] \\\n",
    "    and   DDW['TWA00']['4SHMA'].iloc[z] < 0.3 :\n",
    "         BS2330 = 1\n",
    "\n",
    "    elif  DDW['2330'][\"收盤價\"].iloc[z] < DDW['2330'][\"出場價\"].iloc[z]   :\n",
    "        BS2330 = 0\n",
    "        \n",
    "    \n",
    "        BS2330 = 0\n",
    "        #buy.append(\"0\")\n",
    "    BUY2330.append(BS2330)\n",
    "DDW['2330'][\"BUY2330\"] = BUY2330\n",
    "DDW['2330'][\"BUY2330S\"] = DDW['2330'][\"BUY2330\"].shift(1)\n",
    "pz2330 = DDW['2330'][\"BUY2330S\"]  \n",
    "pz2330.name = '2330'\n",
    "pzz2330 = DDW['2330'][\"BUY2330\"]\n",
    "pzz2330.name = '2330'\n",
    "DDW['2330'][\"2330RR\"] = DDW['2330'][\"DR\"] * DDW['2330'][\"BUY2330S\"].dropna().astype(int)\n",
    "PTS2330 = DDW['2330'][\"2330RR\"]\n",
    "PTS2330.name = '2330'\n",
    "if len(trr2330) == 0:\n",
    "    trr2330 = PTS2330\n",
    "else:\n",
    "    trr2330 = pd.merge(trr2330,PTS2330,left_on = trrs.index,right_on = PTS.index,how = 'outer')\n",
    "    trr2330.set_index('key_0',inplace = True)\n",
    "\n",
    "trr2330fig = trr2330.cumsum().plot()\n",
    "trr2330fig = plt.gcf()\n",
    "plt.xlabel(\"time\")\n",
    "plt.ylabel(\"Return Rate\")\n",
    "trr2330fig.savefig('2330')\n",
    "DDW['2330'].tail(10)"
   ]
  },
  {
   "cell_type": "markdown",
   "id": "916d46e7-1918-4a54-b541-26bc7afabc3c",
   "metadata": {},
   "source": [
    "# 全市場夏普處理與合併"
   ]
  },
  {
   "cell_type": "code",
   "execution_count": null,
   "id": "f9f51875-4798-463b-9f0e-c37a2a6e7e99",
   "metadata": {},
   "outputs": [],
   "source": [
    "# 日期處理及設定reblance間隔\n",
    "\n",
    "#設定rebalance頻率及sharpe觀察日數\n",
    "rebalance = 52\n",
    "\n",
    "#設定納入股票檔數\n",
    "count = 10\n",
    "fee = 2\n",
    "#主程式\n",
    "shar = pd.DataFrame()\n",
    "\n",
    "#計算個股Sharpe ratio\n",
    "for i in tqdm(DDW.keys()):\n",
    "    change = DDW[str(i)][\"還原收盤價\"].pct_change()\n",
    "    sigma = change.std()\n",
    "    DDW[str(i)]['rolling_ret'] = change.rolling(rebalance).mean()\n",
    "    DDW[str(i)]['rolling_std'] = change.rolling(rebalance).std()\n",
    "    DDW[str(i)]['sharpe105'] = DDW[str(i)]['rolling_ret'] / DDW[str(i)]['rolling_std']\n",
    "    APT = DDW[str(i)][\"sharpe105\"]\n",
    "    APT.name = str(i)\n",
    "\n",
    "    if len(shar) == 0:\n",
    "        shar = APT\n",
    "    else:\n",
    "        shar = pd.merge(shar,APT,left_on = shar.index,right_on = APT.index,how = 'outer')\n",
    "        shar.set_index('key_0',inplace = True)\n",
    "        shar.index.name = '日期'\n",
    "shar1 = shar.quantile(0.99,axis= 1)\n",
    "shar2 = pd.DataFrame(shar1.sort_index()).rename(columns = {0.99:'sharp1'})\n",
    "for key in tqdm(DDW.keys()):\n",
    "    DDW[key] =  DDW[key].merge(shar2,left_index=True,right_index = True,how='left')\n",
    "DDW['2330'].tail(1)"
   ]
  },
  {
   "cell_type": "markdown",
   "id": "6ce82101-5f35-4f84-ac48-96587cd95836",
   "metadata": {},
   "source": [
    "# 去除多欄(資料多_X才處理)"
   ]
  },
  {
   "cell_type": "code",
   "execution_count": null,
   "id": "d3951ea0-0e4d-4fb4-b0fd-b6cb17412097",
   "metadata": {},
   "outputs": [],
   "source": [
    "#for key in tqdm(DDW.keys()):\n",
    "    #DDW[key] = DDW[key].drop(columns = ['sharp1_x','sharp1_y'])"
   ]
  },
  {
   "cell_type": "markdown",
   "id": "fe4ddec9-f17c-418e-aa8e-6361b8026864",
   "metadata": {},
   "source": [
    "# M夏普策略"
   ]
  },
  {
   "cell_type": "code",
   "execution_count": null,
   "id": "5f30e75b-a764-4783-9f33-d7df876350af",
   "metadata": {},
   "outputs": [],
   "source": [
    "import talib\n",
    "ERROR = []\n",
    "trrmsharpe = pd.DataFrame()\n",
    "pzmsp = pd.DataFrame()\n",
    "for x in tqdm(SKTCRI):\n",
    "    \n",
    "    BQT = 0\n",
    "    BUYQT =[]\n",
    "    for z in range(len(DDW[str(x)])):\n",
    "\n",
    "        if DDW[str(x)]['sharpe105'].iloc[z] > DDW[str(x)]['sharp1'].iloc[z]  and DDW[str(x)]['成交金額(千)'].iloc[z] > 30000 and DDW[str(x)]['sharpe105'].iloc[z] > 0 \\\n",
    "        and DDW[str(x)]['資使用率'].iloc[z] < 30 and DDW[str(x)]['大盤夏普'].iloc[z] > 0.4 :\n",
    "            BQT = 1\n",
    "\n",
    "        elif   DDW[str(x)][\"收盤價\"].iloc[z] < DDW[str(x)][\"最低價\"].shift(1).rolling(4).min().iloc[z] or DDW[str(x)]['大盤夏普'].iloc[z] < 0:\n",
    "            BQT = 0\n",
    "        \n",
    "        #if  DDW['TWA00']['4SELLHMA'].iloc[z] > DDW['TWA00']['20SELLHMA'].iloc[z]  :\n",
    "            #BSS = 0\n",
    "            \n",
    "        BUYQT.append(BQT)\n",
    "    DDW[str(x)][\"BUYQT\"] = BUYQT\n",
    "    DDW[str(x)][\"BUYQTS\"] = DDW[str(x)][\"BUYQT\"].shift(1)\n",
    "    tqt = DDW[str(x)][\"BUYQTS\"]  \n",
    "    tqt.name = str(x)\n",
    "    pqt = DDW[str(x)][\"BUYQT\"]\n",
    "    pqt.name = str(x)\n",
    "    DDW[str(x)][\"QTRR\"] = DDW[str(x)][\"DR\"] * DDW[str(x)][\"BUYQTS\"].dropna().astype(int)\n",
    "    PQT = DDW[str(x)][\"QTRR\"]\n",
    "    PQT.name = str(x)    \n",
    "    if len(trrmsharpe) == 0:\n",
    "        trrmsharpe = PQT\n",
    "    else:\n",
    "        trrmsharpe = pd.merge(trrmsharpe,PQT,left_on = trrmsharpe.index,right_on = PQT.index,how = 'outer')\n",
    "        trrmsharpe.set_index('key_0',inplace = True)\n",
    "    if len(pzmsp) == 0:\n",
    "        pzmsp = pqt\n",
    "    else:\n",
    "        pzmsp = pd.merge(pzmsp,pqt,left_on = pzmsp.index,right_on = pqt.index,how = 'outer')\n",
    "        pzmsp.set_index('key_0',inplace = True)\n",
    "\n",
    "tqt1 = trrmsharpe.sort_index().sum(axis = 1).cumsum()\n",
    "tqt1.plot()"
   ]
  },
  {
   "cell_type": "markdown",
   "id": "75f22a0c-a7f0-451f-8dfa-4779eccf3220",
   "metadata": {},
   "source": [
    "# 整理夏普買賣訊01值"
   ]
  },
  {
   "cell_type": "code",
   "execution_count": null,
   "id": "014019d9-7e3f-47b5-9c42-037f6086ef0d",
   "metadata": {},
   "outputs": [],
   "source": [
    "夏普1 = pzmsp.sort_index()\n",
    "f2 = lambda x :float(x)\n",
    "夏普2 = 夏普1.applymap(f2)\n",
    "夏普3 = 夏普2.sum(axis=1)\n",
    "夏普部位 =夏普3.groupby(pd.Grouper(freq='1W')).tail(1)\n",
    "print(夏普部位.mean())\n",
    "print(夏普部位.min())\n",
    "print(夏普部位.max())\n",
    "夏普部位.plot()\n",
    "plt.xlabel(\"年份\")\n",
    "plt.ylabel(\"檔數\")\n",
    "plt.savefig('空方部位變化表.png')"
   ]
  },
  {
   "cell_type": "markdown",
   "id": "088db18a-27ec-42ce-9f5d-efa64432663f",
   "metadata": {},
   "source": [
    "# M夏普當週買進部位"
   ]
  },
  {
   "cell_type": "code",
   "execution_count": null,
   "id": "a9bef3ab-83f6-4531-83ab-9df525543e73",
   "metadata": {},
   "outputs": [],
   "source": [
    "M夏普持有部位 = 夏普2.loc[當週日期][夏普2.loc[當週日期] ==1]\n",
    "M夏普買進 = 夏普2.loc[當週日期][(夏普2.loc[當週日期] ==1) & (夏普2.loc[前週日期] ==0)]\n",
    "M夏普賣出 = 夏普2.loc[當週日期][(夏普2.loc[當週日期] ==0) & (夏普2.loc[前週日期] ==1)]\n",
    "print(\"M夏普買進標的\")\n",
    "print(M夏普買進)\n",
    "print(\"M夏普買進檔數\" , len(M夏普買進))\n",
    "print(\"M夏普持有部位數目\" , len(M夏普持有部位))\n",
    "print(\"M夏普賣出部位\")\n",
    "print(M夏普賣出)\n",
    "print(\"M夏普賣出檔數\" , len(M夏普賣出))"
   ]
  },
  {
   "cell_type": "markdown",
   "id": "d02847e0-156c-42eb-91db-818b493acd56",
   "metadata": {},
   "source": [
    "# 夏普歷年損益"
   ]
  },
  {
   "cell_type": "code",
   "execution_count": null,
   "id": "ef5aecbc-f779-40df-b9d3-39482eb5b968",
   "metadata": {},
   "outputs": [],
   "source": [
    "yl = ['2008','2009','2010','2011','2012','2013','2014','2015','2016','2017','2018','2019','2020','2021','2022']\n",
    "for h in yl :\n",
    "    trrtms = trrmsharpe.groupby(pd.Grouper(freq='1W')).sum().sum(axis=1)[str(h)].cumsum()\n",
    "    trrtmsfig = (trrtms*6).plot()\n",
    "trrtmsfig = plt.gcf()\n",
    "\n",
    "plt.xlabel(\"年份\")\n",
    "plt.ylabel(\"報酬\")\n",
    "trrtmsfig.savefig('M夏普歷年損益.png')"
   ]
  },
  {
   "cell_type": "markdown",
   "id": "777bc197-5ab5-4899-8374-ff29cf907434",
   "metadata": {},
   "source": [
    "# 量能突破策略"
   ]
  },
  {
   "cell_type": "code",
   "execution_count": null,
   "id": "a0cad597-eb54-42e2-b16e-0846fb00f32a",
   "metadata": {},
   "outputs": [],
   "source": [
    "import talib\n",
    "ERROR = []\n",
    "trrv = pd.DataFrame()\n",
    "pvz = pd.DataFrame()\n",
    "\n",
    "for x in tqdm(SKTCRI):\n",
    "    \n",
    "    DDW[str(x)]['SMAX52'] = DDW[str(x)][\"還原收盤價\"].rolling(4).max()\n",
    "    DDW[str(x)][\"SMAX52S\"] = DDW[str(x)][\"MAX52\"].shift(1)\n",
    "    DDW[str(x)][\"4MA\"] = talib.MA(DDW[str(x)][\"還原收盤價\"].dropna(), timeperiod=5, matype=0)\n",
    "    DDW[str(x)][\"4MAS\"] = DDW[str(x)][\"4MA\"].shift(1)\n",
    "    DDW[str(x)][\"DR\"] = ((DDW[str(x)][\"還原收盤價\"] - DDW[str(x)][\"還原收盤價\"].shift(1))/DDW[str(x)][\"還原收盤價\"].shift(1))*100\n",
    "    VBS = 0\n",
    "    VBUY =[]\n",
    "    for z in range(len(DDW[str(x)])):\n",
    "\n",
    "        if DDW[str(x)][\"成交金額(千)\"].iloc[z]  > (DDW[str(x)][\"成交金額(千)\"].shift(1)*1.5).iloc[z] and DDW[str(x)][\"成交金額(千)\"].iloc[z] > 100000 \\\n",
    "        and DDW[str(x)][\"收盤價\"].iloc[z]  > (DDW[str(x)][\"最高價\"].shift(2)*1.1).iloc[z] and DDW[str(x)]['收盤價'].iloc[z] > DDW[str(x)][\"SMAX52S\"].iloc[z] \\\n",
    "        and DDW[str(x)]['大盤夏普'].iloc[z] > 0.3:\n",
    "        \n",
    "            VBS = 1\n",
    "\n",
    "        elif  DDW[str(x)][\"收盤價\"].iloc[z] < DDW[str(x)][\"最低價\"].shift(2).iloc[z] or DDW[str(x)]['大盤夏普'].iloc[z]  < 0.3 :\n",
    "            VBS = 0\n",
    "            #buy.append(\"0\")\n",
    "        VBUY.append(VBS)\n",
    "    DDW[str(x)][\"VBUY\"] = VBUY\n",
    "    DDW[str(x)][\"VBUYS\"] = DDW[str(x)][\"VBUY\"].shift(1)\n",
    "    pzb = DDW[str(x)][\"VBUYS\"]  \n",
    "    pzb.name = str(x)\n",
    "    pvzbs = DDW[str(x)][\"VBUY\"]\n",
    "    pvzbs.name = str(x)\n",
    "    DDW[str(x)][\"RR\"] = DDW[str(x)][\"DR\"] * DDW[str(x)][\"VBUYS\"].dropna().astype(int)\n",
    "    PVT = DDW[str(x)][\"RR\"]\n",
    "    PVT.name = str(x)\n",
    "    if len(trr) == 0:\n",
    "        trrv = PVT\n",
    "    else:\n",
    "        trrv = pd.merge(trrv,PVT,left_on = trrv.index,right_on = PVT.index,how = 'outer')\n",
    "        trrv.set_index('key_0',inplace = True)\n",
    "    if len(pz) == 0:\n",
    "        pvz = pvzbs\n",
    "    else:\n",
    "        pvz = pd.merge(pvz,pvzbs,left_on = pvz.index,right_on = pvzbs.index,how = 'outer')\n",
    "        pvz.set_index('key_0',inplace = True)\n",
    "\n",
    "trrv1 =trrv.sort_index().sum(axis = 1).cumsum().plot()\n",
    "\n",
    "plt.xlabel(\"time\")\n",
    "plt.ylabel(\"Profit\")"
   ]
  },
  {
   "cell_type": "markdown",
   "id": "d0965297-5ec5-426c-a0ea-cb9d6b16da53",
   "metadata": {},
   "source": [
    "# 整理量能買賣訊01值"
   ]
  },
  {
   "cell_type": "code",
   "execution_count": null,
   "id": "5ec46ca9-306d-4230-a438-45eb92663f5d",
   "metadata": {},
   "outputs": [],
   "source": [
    "pvz1 = pvz.sort_index()\n",
    "f4 = lambda x :float(x)\n",
    "pvz2 = pvz1.applymap(f4)\n",
    "pvz3 = pvz2.sum(axis=1)\n",
    "pvz4 = pvz3.groupby(pd.Grouper(freq='1W')).tail(1)\n",
    "print(pvz4.mean())\n",
    "print(pvz4.min())\n",
    "print(pvz4.max())\n",
    "pvz4.plot()\n",
    "plt.xlabel(\"年份\")\n",
    "plt.ylabel(\"檔數\")\n",
    "plt.savefig('量能部位變化表.png')"
   ]
  },
  {
   "cell_type": "markdown",
   "id": "3dc78306-2f60-40bc-bd06-575feda5c24b",
   "metadata": {},
   "source": [
    "# <font color=\"red\">量能當週買進部位</font>"
   ]
  },
  {
   "cell_type": "code",
   "execution_count": null,
   "id": "e65fd0fa-7e2b-43c3-8cdb-2506ff7a8ffc",
   "metadata": {},
   "outputs": [],
   "source": [
    "#當週日期 = '2022-08-26'\n",
    "#前週日期 = '2022-08-19'\n",
    "\n",
    "量能持有部位 = pvz2.loc[當週日期][pvz2.loc[當週日期] ==1]\n",
    "量能買進 = pvz2.loc[當週日期][(pvz2.loc[當週日期] ==1) & (pvz2.loc[前週日期] ==0)]\n",
    "量能賣出 = pvz2.loc[當週日期][(pvz2.loc[當週日期] ==0) & (pvz2.loc[前週日期] ==1)]\n",
    "print(\"量能買進標的\")\n",
    "print(量能買進)\n",
    "print(\"量能買進檔數\" , len(量能買進))\n",
    "print(\"量能持有部位數目\" , len(量能持有部位))\n",
    "print(\"量能賣出部位\")\n",
    "print(量能賣出)\n",
    "print(\"量能賣出檔數\" , len(量能賣出))"
   ]
  },
  {
   "cell_type": "markdown",
   "id": "284dd215-fd8a-4f71-855d-04da835c24c6",
   "metadata": {},
   "source": [
    "# 低接策略"
   ]
  },
  {
   "cell_type": "code",
   "execution_count": null,
   "id": "288a515c-d347-4c7b-802e-0568d90a4c0c",
   "metadata": {},
   "outputs": [],
   "source": [
    "import talib\n",
    "ERROR = []\n",
    "trrkd = pd.DataFrame()\n",
    "pzkd1 = pd.DataFrame()\n",
    "\n",
    "for x in tqdm(SKTCRI):\n",
    "    DDW[str(x)][\"K\"],DDW[str(x)][\"D\"] = talib.STOCH(DDW[str(x)]['最高價'], \n",
    "                              DDW[str(x)]['最低價'], \n",
    "                              DDW[str(x)]['收盤價'], \n",
    "                              fastk_period=52,\n",
    "                              slowk_period=10,\n",
    "                              slowk_matype=1,\n",
    "                              slowd_period=10,\n",
    "                              slowd_matype=1)\n",
    "    DDW[str(x)][\"4MA\"] = talib.MA(DDW[str(x)][\"還原收盤價\"].dropna(), timeperiod=5, matype=0)\n",
    "    DDW[str(x)][\"4MAS\"] = DDW[str(x)][\"4MA\"].shift(1)\n",
    "    DDW[str(x)][\"DR\"] = ((DDW[str(x)][\"還原收盤價\"] - DDW[str(x)][\"還原收盤價\"].shift(1))/DDW[str(x)][\"還原收盤價\"].shift(1))*100\n",
    "    DDW[str(x)]['大盤夏普']= DDW['TWA00']['sharpe'].fillna(method = 'pad',axis =0)\n",
    "    KDBS = 0\n",
    "    KDBUY =[]\n",
    "    for z in range(len(DDW[str(x)])):\n",
    "\n",
    "        if DDW[str(x)][\"K\"].iloc[z] > DDW[str(x)][\"D\"].iloc[z] and DDW[str(x)][\"K\"].shift(1).iloc[z] < DDW[str(x)][\"D\"].shift(1).iloc[z] \\\n",
    "        and DDW[str(x)]['成交金額(千)'].iloc[z] < 500000 and DDW[str(x)]['融資維持率(%)'].iloc[z] > 150 \\\n",
    "        and DDW[str(x)]['D'].iloc[z] < 20 and DDW[str(x)]['還原收盤價'].iloc[z] < (DDW[str(x)]['MAX52S']*0.7).iloc[z] :\n",
    "        \n",
    "            KDBS = 1\n",
    "\n",
    "        elif  DDW[str(x)]['收盤價'].iloc[z] < DDW[str(x)]['最低價'].rolling(4).min().shift(1).iloc[z] :\n",
    "            KDBS = 0\n",
    "            #buy.append(\"0\")\n",
    "        KDBUY.append(KDBS)\n",
    "    DDW[str(x)][\"KDBUY\"] = KDBUY\n",
    "    DDW[str(x)][\"KDBUYS\"] = DDW[str(x)][\"KDBUY\"].shift(1)\n",
    "    pzkd = DDW[str(x)][\"KDBUYS\"]  \n",
    "    pzkd.name = str(x)\n",
    "    pzkds = DDW[str(x)][\"KDBUY\"]\n",
    "    pzkds.name = str(x)\n",
    "    DDW[str(x)][\"KDRR\"] = DDW[str(x)][\"DR\"] * DDW[str(x)][\"KDBUYS\"].dropna().astype(int)\n",
    "    PVKD= DDW[str(x)][\"KDRR\"]\n",
    "    PVKD.name = str(x)\n",
    "    if len(trrkd) == 0:\n",
    "        trrkd = PVKD\n",
    "    else:\n",
    "        trrkd = pd.merge(trrkd,PVKD,left_on = trrkd.index,right_on = PVKD.index,how = 'outer')\n",
    "        trrkd.set_index('key_0',inplace = True)\n",
    "    if len(pzkd) == 0:\n",
    "        pzkd1 = pzkds\n",
    "    else:\n",
    "        pzkd1 = pd.merge(pzkd1,pzkds,left_on = pzkd1.index,right_on = pzkds.index,how = 'outer')\n",
    "        pzkd1.set_index('key_0',inplace = True)\n",
    "\n",
    "trrkd1 =trrkd.sort_index().sum(axis = 1).cumsum().plot()\n",
    "\n",
    "plt.xlabel(\"time\")\n",
    "plt.ylabel(\"Profit\")\n",
    "plt.savefig('低接損益')"
   ]
  },
  {
   "cell_type": "markdown",
   "id": "4bdecfd6-2936-4307-b3b4-c7a15b778815",
   "metadata": {},
   "source": [
    "# 整理低接買賣訊01值"
   ]
  },
  {
   "cell_type": "code",
   "execution_count": null,
   "id": "fc5f9fcd-a77a-4ab0-b5b5-b1c847a79928",
   "metadata": {},
   "outputs": [],
   "source": [
    "KD1 = pzkd1.sort_index()\n",
    "f6 = lambda x :float(x)\n",
    "KD2 = KD1.applymap(f6)\n",
    "KD3 = KD2.sum(axis=1)\n",
    "KD部位 =KD3.groupby(pd.Grouper(freq='1W')).tail(1)\n",
    "print(KD部位.mean())\n",
    "print(KD部位.min())\n",
    "print(KD部位.max())\n",
    "KD部位.plot()\n",
    "plt.xlabel(\"年份\")\n",
    "plt.ylabel(\"檔數\")\n",
    "plt.savefig('低接部位變化表.png')"
   ]
  },
  {
   "cell_type": "markdown",
   "id": "36c76033-6050-4a63-a85b-8cc2f041aabc",
   "metadata": {},
   "source": [
    "# 低接當週買進部位"
   ]
  },
  {
   "cell_type": "code",
   "execution_count": null,
   "id": "3261e4a5-7b84-450b-aa16-930a866a30f9",
   "metadata": {},
   "outputs": [],
   "source": [
    "\n",
    "低接持有部位 = KD2.loc[當週日期][KD2.loc[當週日期] ==1]\n",
    "低接買進 = KD2.loc[當週日期][(KD2.loc[當週日期] ==1) & (KD2.loc[前週日期] ==0)]\n",
    "低接賣出 = KD2.loc[當週日期][(KD2.loc[當週日期] ==0) & (KD2.loc[前週日期] ==1)]\n",
    "print(\"低接買進標的\")\n",
    "print(低接買進)\n",
    "print(\"低接買進檔數\" , len(低接買進))\n",
    "print(\"低接持有部位數目\" , len(低接持有部位))\n",
    "print(\"低接賣出部位\")\n",
    "print(低接賣出)\n",
    "print(\"低接賣出檔數\" , len(低接賣出))"
   ]
  },
  {
   "cell_type": "markdown",
   "id": "7028bbb3-a57f-4290-afdb-7baf86487cf8",
   "metadata": {},
   "source": [
    "# 融資爆發策略\n"
   ]
  },
  {
   "cell_type": "code",
   "execution_count": null,
   "id": "2056b195-bd52-44a1-acd1-70d918d667d7",
   "metadata": {},
   "outputs": [],
   "source": [
    "import talib\n",
    "ERROR = []\n",
    "trrmm = pd.DataFrame()\n",
    "pzmm = pd.DataFrame()\n",
    "pzmm1 = pd.DataFrame()\n",
    "for x in tqdm(SKTCRI):\n",
    "    \n",
    "    \n",
    "    DDW[str(x)][\"4MA\"] = talib.MA(DDW[str(x)][\"還原收盤價\"].dropna(), timeperiod=5, matype=0)\n",
    "    DDW[str(x)][\"4MAS\"] = DDW[str(x)][\"4MA\"].shift(1)\n",
    "    DDW[str(x)][\"DR\"] = ((DDW[str(x)][\"還原收盤價\"] - DDW[str(x)][\"還原收盤價\"].shift(1))/DDW[str(x)][\"還原收盤價\"].shift(1))*100\n",
    "    DDW[str(x)]['大盤夏普']= DDW['TWA00']['sharpe'].fillna(method = 'pad',axis =0)\n",
    "    MMBS = 0\n",
    "    MMBUY =[]\n",
    "    for z in range(len(DDW[str(x)])):\n",
    "\n",
    "        if DDW[str(x)]['融資維持率(%)'].iloc[z] > 170 and DDW[str(x)]['融資維持率(%)'].shift(1).iloc[z] < 170  \\\n",
    "        and  DDW[str(x)]['成交金額(千)'].iloc[z] < 250000 and DDW[str(x)]['K'].iloc[z] > 50 and DDW[str(x)]['資使用率'].iloc[z] < 15 and  DDW[str(x)]['成交金額(千)'].iloc[z] > 10000 :\n",
    "        \n",
    "            MMBS = 1\n",
    "\n",
    "        elif    (DDW[str(x)]['融資維持率(%)'].shift(1).iloc[z] < 160) or \\\n",
    "         (DDW[str(x)]['收盤價'].iloc[z] < DDW[str(x)]['最低價'].rolling(5).min().shift(1).iloc[z] and DDW[str(x)]['還原收盤價'].iloc[z] < DDW[str(x)]['4MA'].iloc[z] ):\n",
    "            MMBS = 0\n",
    "            #buy.append(\"0\")\n",
    "        MMBUY.append(MMBS)\n",
    "    DDW[str(x)][\"MMBUY\"] = MMBUY\n",
    "    DDW[str(x)][\"MMBUYS\"] = DDW[str(x)][\"MMBUY\"].shift(1)\n",
    "    pzmm = DDW[str(x)][\"MMBUYS\"]  \n",
    "    pzmm.name = str(x)\n",
    "    pzmms = DDW[str(x)][\"MMBUY\"]\n",
    "    pzmms.name = str(x)\n",
    "    DDW[str(x)][\"MMRR\"] = DDW[str(x)][\"DR\"] * DDW[str(x)][\"MMBUYS\"].dropna().astype(int)\n",
    "    PVMM= DDW[str(x)][\"MMRR\"]\n",
    "    PVMM.name = str(x)\n",
    "    if len(trrmm) == 0:\n",
    "        trrmm = PVMM\n",
    "    else:\n",
    "        trrmm = pd.merge(trrmm,PVMM,left_on = trrmm.index,right_on = PVMM.index,how = 'outer')\n",
    "        trrmm.set_index('key_0',inplace = True)\n",
    "    if len(pzmm) == 0:\n",
    "        pzmm1 = pzmms\n",
    "    else:\n",
    "        pzmm1 = pd.merge(pzmm1,pzmms,left_on = pzmm1.index,right_on = pzmms.index,how = 'outer')\n",
    "        pzmm1.set_index('key_0',inplace = True)\n",
    "\n",
    "trrmm1 =trrmm.sort_index().sum(axis = 1).cumsum().plot()\n",
    "\n",
    "plt.xlabel(\"time\")\n",
    "plt.ylabel(\"Profit\")\n"
   ]
  },
  {
   "cell_type": "markdown",
   "id": "cb2ce545-8d71-4493-928f-db8323f5c995",
   "metadata": {},
   "source": [
    "# 整理融資爆發買賣訊01值"
   ]
  },
  {
   "cell_type": "code",
   "execution_count": null,
   "id": "32971427-b0ff-4ece-9055-af54fd7b7124",
   "metadata": {},
   "outputs": [],
   "source": [
    "MM1 = pzmm1.sort_index()\n",
    "f12 = lambda x :float(x)\n",
    "MM2 = MM1.applymap(f12)\n",
    "MM3 = MM2.sum(axis=1)\n",
    "MM部位 =MM3.groupby(pd.Grouper(freq='1W')).tail(1)\n",
    "print(MM部位.mean())\n",
    "print(MM部位.min())\n",
    "print(MM部位.max())\n",
    "MM部位.plot()\n",
    "plt.xlabel(\"年份\")\n",
    "plt.ylabel(\"檔數\")\n",
    "plt.savefig('量能部位變化表.png')"
   ]
  },
  {
   "cell_type": "markdown",
   "id": "2d3f4292-5f8d-4a27-88d3-6a00d7911d15",
   "metadata": {},
   "source": [
    "# 融資爆發當週買進部位"
   ]
  },
  {
   "cell_type": "code",
   "execution_count": null,
   "id": "53994074-e64b-4be5-b3d0-341600dbf0f8",
   "metadata": {},
   "outputs": [],
   "source": [
    "MM持有部位 = MM2.loc[當週日期][(MM2.loc[當週日期]==1)]\n",
    "MM買進 = MM2.loc[當週日期][(MM2.loc[當週日期]==1) & (MM2.loc[前週日期]==0)]\n",
    "MM賣出 = MM2.loc[當週日期][(MM2.loc[當週日期]==0) & (MM2.loc[前週日期]==1)]\n",
    "print(\"MM買進標的\")\n",
    "print(MM買進)\n",
    "print(\"MM買進檔數\" , len(MM買進))\n",
    "print(\"MM持有部位數目\" , len(MM持有部位))\n",
    "print(\"MM賣出部位\")\n",
    "print(MM賣出)\n",
    "print(\"MM賣出檔數\" , len(MM賣出))"
   ]
  },
  {
   "cell_type": "code",
   "execution_count": null,
   "id": "e85877ce-376c-49d1-b605-cbe41ef3f055",
   "metadata": {},
   "outputs": [],
   "source": []
  },
  {
   "cell_type": "markdown",
   "id": "ac41d238-6563-47e0-a6c1-cc26c8a7a4b5",
   "metadata": {},
   "source": [
    "# 外資策略"
   ]
  },
  {
   "cell_type": "code",
   "execution_count": null,
   "id": "600a882b-d38e-46bf-bf52-b7e6819d5a35",
   "metadata": {},
   "outputs": [],
   "source": [
    "import talib\n",
    "ERROR = []\n",
    "trrtest = pd.DataFrame()\n",
    "pztest = pd.DataFrame()\n",
    "pztest1 = pd.DataFrame()\n",
    "for x in tqdm(SKTCRI):\n",
    "    \n",
    "    \n",
    "    DDW[str(x)][\"FF4MA\"] = talib.MA(DDW[str(x)][\"還原收盤價\"].dropna(), timeperiod=10, matype=0)\n",
    "    DDW[str(x)][\"FF4MAS\"] = DDW[str(x)][\"FF4MA\"].shift(1)\n",
    "    DDW[str(x)]['FFMAX'] = DDW[str(x)][\"還原收盤價\"].rolling(10).max()\n",
    "    DDW[str(x)][\"FFMAXS\"] = DDW[str(x)][\"FFMAX\"].shift(1)\n",
    "    DDW[str(x)][\"FFMINS\"] = DDW[str(x)][\"最低價\"].rolling(10).min().shift(1)\n",
    "    DDW[str(x)][\"DR\"] = ((DDW[str(x)][\"還原收盤價\"] - DDW[str(x)][\"還原收盤價\"].shift(1))/DDW[str(x)][\"還原收盤價\"].shift(1))*100\n",
    "    #DDW[str(x)]['大盤夏普']= DDW['TWA00']['sharpe'].fillna(method = 'pad',axis =0)\n",
    "    TESTBS = 0\n",
    "    TESTBUY =[]\n",
    "    for z in range(len(DDW[str(x)])):\n",
    "\n",
    "        if  DDW[str(x)]['外資持股比率(%)'].iloc[z] > DDW[str(x)]['外資持股比率(%)'].shift(1).iloc[z] and DDW[str(x)]['外資持股比率(%)'].iloc[z] >10 \\\n",
    "        and  DDW[str(x)]['成交金額(千)'].iloc[z] < 700000 and DDW[str(x)]['還原收盤價'].iloc[z] > DDW[str(x)]['FFMAXS'].iloc[z] and  DDW[str(x)]['成交金額(千)'].iloc[z] > 50000 \\\n",
    "        and DDW[str(x)]['外資持股比率(%)'].iloc[z] > DDW[str(x)]['外資持股比率(%)'].shift(10).iloc[z] :\n",
    "            TESTBS = 1\n",
    "\n",
    "        elif DDW[str(x)]['還原收盤價'].iloc[z] < (DDW[str(x)]['FF4MA'].iloc[z]) or DDW[str(x)]['收盤價'].iloc[z] < (DDW[str(x)]['FFMINS'].iloc[z]) \\\n",
    "        or (DDW[str(x)]['外資持股比率(%)'].iloc[z] < DDW[str(x)]['外資持股比率(%)'].shift(5).iloc[z] and DDW[str(x)]['還原收盤價'].iloc[z] < DDW[str(x)]['還原收盤價'].shift(3).iloc[z]):\n",
    "            TESTBS = 0\n",
    "            #buy.append(\"0\")\n",
    "        TESTBUY.append(TESTBS)\n",
    "    DDW[str(x)][\"TESTBUY\"] = TESTBUY\n",
    "    DDW[str(x)][\"TESTBUYS\"] = DDW[str(x)][\"TESTBUY\"].shift(1)\n",
    "    pztests = DDW[str(x)][\"TESTBUYS\"]  \n",
    "    pztests.name = str(x)\n",
    "    pztest = DDW[str(x)][\"TESTBUY\"]\n",
    "    pztest.name = str(x)\n",
    "    DDW[str(x)][\"TESTRR\"] = DDW[str(x)][\"DR\"] * DDW[str(x)][\"TESTBUYS\"].dropna().astype(int)\n",
    "    PVTEST= DDW[str(x)][\"TESTRR\"]\n",
    "    PVTEST.name = str(x)\n",
    "    if len(trrtest) == 0:\n",
    "        trrtest = PVTEST\n",
    "    else:\n",
    "        trrtest = pd.merge(trrtest,PVTEST,left_on = trrtest.index,right_on = PVTEST.index,how = 'outer')\n",
    "        trrtest.set_index('key_0',inplace = True)\n",
    "    if len(pztest) == 0:\n",
    "        pztest1 = pztest\n",
    "    else:\n",
    "        pztest1 = pd.merge(pztest1,pztest,left_on = pztest1.index,right_on = pztest.index,how = 'outer')\n",
    "        pztest1.set_index('key_0',inplace = True)\n",
    "\n",
    "trrtest1 =trrtest.sort_index().sum(axis = 1).cumsum().plot()\n",
    "\n",
    "plt.xlabel(\"time\")\n",
    "plt.ylabel(\"Profit\")\n"
   ]
  },
  {
   "cell_type": "markdown",
   "id": "9e3f6fe0-d6d3-46c7-af64-6665f7dad09f",
   "metadata": {},
   "source": [
    "# 整理外資買賣訊01值"
   ]
  },
  {
   "cell_type": "code",
   "execution_count": null,
   "id": "07c4c30d-a26d-41e5-8aa9-711eb160dbac",
   "metadata": {},
   "outputs": [],
   "source": [
    "外資1 = pztest1.sort_index()\n",
    "fsit = lambda x :float(x)\n",
    "外資2 = 外資1.applymap(fsit)\n",
    "外資3 = 外資2.sum(axis=1)\n",
    "外資4 = 外資3.groupby(pd.Grouper(freq='1W')).tail(1)\n",
    "print(外資4.mean())\n",
    "print(外資4.min())\n",
    "print(外資4.max())\n",
    "外資4.plot()\n",
    "plt.xlabel(\"年份\")\n",
    "plt.ylabel(\"檔數\")\n",
    "plt.savefig('外資部位變化表.png')"
   ]
  },
  {
   "cell_type": "markdown",
   "id": "dfa5d934-316e-4630-96a1-d10b39763935",
   "metadata": {},
   "source": [
    "# 外資當週買進部位"
   ]
  },
  {
   "cell_type": "code",
   "execution_count": null,
   "id": "3941793e-73d5-4c13-991c-7d8222bdfcfc",
   "metadata": {},
   "outputs": [],
   "source": [
    "外資持有部位 = 外資2.loc[當週日期][外資2.loc[當週日期] ==1]\n",
    "外資買進 = 外資2.loc[當週日期][(外資2.loc[當週日期] ==1) & (外資2.loc[前週日期] ==0)]\n",
    "外資賣出 = 外資2.loc[當週日期][(外資2.loc[當週日期] ==0) & (外資2.loc[前週日期] ==1)]\n",
    "print(\"外資買進標的\")\n",
    "print(外資買進)\n",
    "print(\"外資買進檔數\" , len(外資買進))\n",
    "print(\"外資持有部位數目\" , len(外資持有部位))\n",
    "print(\"外資賣出部位\")\n",
    "print(外資賣出)\n",
    "print(\"外資賣出檔數\" , len(外資賣出))"
   ]
  },
  {
   "cell_type": "code",
   "execution_count": null,
   "id": "785cf475-9bb0-4f63-9e16-f18d622dc5a8",
   "metadata": {},
   "outputs": [],
   "source": [
    "yl = ['2008','2009','2010','2011','2012','2013','2014','2015','2016','2017','2018','2019','2020','2021','2022']\n",
    "for h in yl :\n",
    "    trrtestw = trrtest.groupby(pd.Grouper(freq='1W')).sum().sum(axis=1)[str(h)].cumsum()\n",
    "    trrtestfig = (trrtestw).plot()\n",
    "\n",
    "\n",
    "plt.xlabel(\"年份\")\n",
    "plt.ylabel(\"報酬\")\n"
   ]
  },
  {
   "cell_type": "code",
   "execution_count": null,
   "id": "080c79a7-7e84-4a7f-89f9-fcd116feabac",
   "metadata": {},
   "outputs": [],
   "source": [
    "print(\"外資持有部位數目\")\n",
    "print(list(外資持有部位.index))"
   ]
  },
  {
   "cell_type": "code",
   "execution_count": null,
   "id": "d711ef7f-65c9-4147-b500-7bcf65e1f61f",
   "metadata": {},
   "outputs": [],
   "source": [
    "DDW['1304']['TESTRR'].cumsum().plot()"
   ]
  },
  {
   "cell_type": "code",
   "execution_count": null,
   "id": "fbd51b19-139a-4439-8c52-9f8afefab221",
   "metadata": {},
   "outputs": [],
   "source": []
  },
  {
   "cell_type": "markdown",
   "id": "e39d15e9-0cec-490c-bbb5-47cb6f63f9b4",
   "metadata": {},
   "source": [
    "# 所有策略部位變化與配置"
   ]
  },
  {
   "cell_type": "code",
   "execution_count": null,
   "id": "08a7492b-d4e7-43f9-985d-a4327b5b7764",
   "metadata": {},
   "outputs": [],
   "source": [
    "pz4.plot()#關鍵點\n",
    "pzs4.plot()#放空\n",
    "(夏普部位*6).plot()#強勢夏普\n",
    "pvz4.plot()#量能\n",
    "KD部位.plot()#低接\n",
    "(MM部位*2).plot()#融資\n",
    "外資4.plot()\n",
    "plt.savefig('所有策略檔數')\n"
   ]
  },
  {
   "cell_type": "code",
   "execution_count": null,
   "id": "2afcd2aa-37c3-4dda-84b5-6d5e2037170d",
   "metadata": {},
   "outputs": [],
   "source": [
    "trr.sort_index().sum(axis = 1).cumsum().plot()\n",
    "trrs.sort_index().sum(axis = 1).cumsum().plot()\n",
    "(trr2330*20).sort_index().cumsum().plot()\n",
    "(trrmsharpe.sort_index().sum(axis = 1).cumsum()*6).plot()\n",
    "trrv.sort_index().sum(axis = 1).cumsum().plot()\n",
    "trrkd.sort_index().sum(axis = 1).cumsum().plot()\n",
    "(trrmm.sort_index().sum(axis = 1).cumsum()).plot()\n",
    "trrtest.sort_index().sum(axis = 1).cumsum().plot()"
   ]
  },
  {
   "cell_type": "markdown",
   "id": "3f31cc7a-c067-4598-8f5d-d10abdc17e20",
   "metadata": {},
   "source": [
    "# 淨部位變化"
   ]
  },
  {
   "cell_type": "code",
   "execution_count": null,
   "id": "12b986d8-c8a9-406e-bf5b-989eaf598e09",
   "metadata": {},
   "outputs": [],
   "source": [
    "總部位變化 =  pz4 + pzs4 + (夏普部位)   +MM部位+KD部位 #+pvz4+ 外資4\n",
    "總部位變化.plot()\n",
    "print('多空總部位',總部位變化[當週日期])\n",
    "plt.xlabel(\"年份\")\n",
    "plt.ylabel(\"檔數\")\n",
    "plt.savefig(r'C:\\Users\\larryx30\\larryx30\\每週買賣報表\\總部位水位變化')"
   ]
  },
  {
   "cell_type": "code",
   "execution_count": null,
   "id": "4fbb5d8c-35a9-4a74-af7f-8f591c1ebbcd",
   "metadata": {},
   "outputs": [],
   "source": [
    "trr.index[-1]\n"
   ]
  },
  {
   "cell_type": "code",
   "execution_count": null,
   "id": "a16b3e82-2cb3-4b91-bc37-70a7433c3eb5",
   "metadata": {},
   "outputs": [],
   "source": [
    "總部位變化.tail(50)\n"
   ]
  },
  {
   "cell_type": "code",
   "execution_count": null,
   "id": "1200951e-3b55-4425-a594-ae55f30c6749",
   "metadata": {},
   "outputs": [],
   "source": [
    "總部位變化.to_excel(r'C:\\Users\\larryx30\\larryx30\\每週買賣報表\\淨部位變化.xlsx')"
   ]
  },
  {
   "cell_type": "markdown",
   "id": "9c67a2d2-580e-48b3-b528-5344c7bebdfb",
   "metadata": {},
   "source": [
    "# 混合策略損益"
   ]
  },
  {
   "cell_type": "code",
   "execution_count": null,
   "id": "f8a5a74e-48c0-462d-a945-508f617f9d9f",
   "metadata": {},
   "outputs": [],
   "source": [
    "所有策略加總 =  trrsp   + (trr.sort_index().sum(axis = 1).cumsum())*0.5 + (trrkd.sort_index().sum(axis = 1).cumsum()) \\\n",
    " +(trrmm.sort_index().sum(axis = 1).cumsum())+tqt1 #++ trrtest.sort_index().sum(axis = 1).cumsum()+(trr2330*20)+ (trrv.sort_index().sum(axis = 1).cumsum())\n",
    "所有策略加總.plot()\n",
    "plt.savefig(\"所有策略加總\")"
   ]
  },
  {
   "cell_type": "code",
   "execution_count": null,
   "id": "a412a6b8-c6eb-442e-9712-4a26e0983ce8",
   "metadata": {},
   "outputs": [],
   "source": [
    "分年加總 = (trr.sort_index().sum(axis = 1)) + (trrs.sort_index().sum(axis = 1)) + (trrmsharpe.sort_index().sum(axis = 1))*3+ (trrkd.sort_index().sum(axis = 1)) +\\\n",
    " (trrmm.sort_index().sum(axis = 1))# +(trrv.sort_index().sum(axis = 1) +)\n",
    "(分年加總['2022']*1).cumsum().plot()\n",
    "(分年加總['2021']*1).cumsum().plot()\n",
    "(分年加總['2020']*1).cumsum().plot()\n",
    "(分年加總['2019']*1).cumsum().plot()\n",
    "(分年加總['2018']*1).cumsum().plot()\n",
    "(分年加總['2017']*1).cumsum().plot()\n",
    "(分年加總['2016']*1).cumsum().plot()\n",
    "(分年加總['2015']*1).cumsum().plot()\n",
    "(分年加總['2014']*1).cumsum().plot()\n",
    "(分年加總['2013']*1).cumsum().plot()\n",
    "(分年加總['2012']*1).cumsum().plot()\n",
    "(分年加總['2011']*1).cumsum().plot()\n",
    "(分年加總['2010']*1).cumsum().plot()\n",
    "(分年加總['2009']*1).cumsum().plot()\n",
    "(分年加總['2008']*1).cumsum().plot()\n",
    "(分年加總['2007']*1).cumsum().plot()\n",
    "\n",
    "plt.savefig(r'C:\\Users\\larryx30\\larryx30\\每週買賣報表\\分年損益.png')\n"
   ]
  },
  {
   "cell_type": "code",
   "execution_count": null,
   "id": "b4544965-1066-4d8f-b9e3-7b5e1dece443",
   "metadata": {},
   "outputs": [],
   "source": [
    "分年加總['2022'].cumsum()"
   ]
  },
  {
   "cell_type": "code",
   "execution_count": null,
   "id": "06a2fbf8-038a-444a-ab0b-c4733e256b89",
   "metadata": {},
   "outputs": [],
   "source": [
    "(分年加總['2022']).cumsum().plot()\n",
    "(trr['2022'].sort_index().sum(axis = 1).cumsum()).plot()\n",
    "plt.savefig(r'C:\\Users\\larryx30\\larryx30\\每週買賣報表\\前後比較.png')"
   ]
  },
  {
   "cell_type": "code",
   "execution_count": null,
   "id": "d482679a-1a35-4110-b730-a825275065b9",
   "metadata": {},
   "outputs": [],
   "source": [
    "pz4.plot()#關鍵點\n",
    "#pzs4.plot()\n",
    "#(夏普部位*6).plot()\n",
    "#pvz4.plot()\n",
    "KD部位.plot()\n",
    "#(MM部位*2).plot()\n",
    "plt.savefig(r'C:\\Users\\larryx30\\larryx30\\每週買賣報表\\檔數交會.png')"
   ]
  },
  {
   "cell_type": "markdown",
   "id": "94d872f1-710d-4444-94b9-e31d94581e54",
   "metadata": {},
   "source": [
    "# 當週彙總整理"
   ]
  },
  {
   "cell_type": "code",
   "execution_count": null,
   "id": "8b3c97c7-2e04-44f8-bfc5-11bb51aa4902",
   "metadata": {},
   "outputs": [],
   "source": [
    "print(\"關鍵點買進標的\")\n",
    "print(關鍵點買進)\n",
    "print(\"關鍵點買進檔數\" , len(關鍵點買進))\n",
    "print(\"關鍵點持有部位數目\" , len(關鍵點持有部位))\n",
    "print(\"關鍵點賣出標的\")\n",
    "print(關鍵點賣出)\n",
    "print(\"關鍵點賣出檔數\" , len(關鍵點賣出))\n",
    "print(\"M夏普買進標的\")\n",
    "print(M夏普買進)\n",
    "print(\"M夏普買進檔數\" , len(M夏普買進))\n",
    "print(\"M夏普持有部位數目\" , len(M夏普持有部位))\n",
    "print(\"M夏普賣出標的\")\n",
    "print(M夏普賣出)\n",
    "print(\"M夏普賣出檔數\" , len(M夏普賣出))\n",
    "print(\"量能買進標的\")\n",
    "print(量能買進)\n",
    "print(\"量能買進檔數\" , len(量能買進))\n",
    "print(\"量能持有部位數目\" , len(量能持有部位))\n",
    "print(\"量能賣出標的\")\n",
    "print(量能賣出)\n",
    "print(\"量能賣出檔數\" , len(量能賣出))\n",
    "print(\"低接買進標的\")\n",
    "print(低接買進)\n",
    "print(\"低接買進檔數\" , len(低接買進))\n",
    "print(\"低接持有部位數目\" , len(低接持有部位))\n",
    "print(\"低接賣出標的\")\n",
    "print(低接賣出)\n",
    "print(\"低接賣出檔數\" , len(低接賣出))\n",
    "print(\"融資爆發買進標的\")\n",
    "print(MM買進)\n",
    "print(\"融資爆發買進檔數\" , len(MM買進))\n",
    "print(\"融資爆發持有部位數目\" , len(MM持有部位))\n",
    "print(\"融資爆發賣出標的\")\n",
    "print(MM賣出)\n",
    "print(\"融資爆發賣出檔數\" , len(MM賣出))\n",
    "print(\"外資買進標的\")\n",
    "print(外資買進)\n",
    "print(\"外資買進檔數\" , len(外資買進))\n",
    "print(\"外資持有部位數目\" , len(外資持有部位))\n",
    "print(\"外資賣出標的\")\n",
    "print(外資賣出)\n",
    "print(\"外資賣出檔數\" , len(外資賣出))\n",
    "print(\"空單放空標的\")\n",
    "print(空單放空)\n",
    "print(\"空單放空檔數\" , len(空單放空))\n",
    "print(\"空單持有空單部位數目\" , len(空單放空部位))\n",
    "print(\"空單回補標的\")\n",
    "print(空單回補)\n"
   ]
  },
  {
   "cell_type": "code",
   "execution_count": null,
   "id": "a4c302a7-4bfb-4846-aab1-e840d15c8e5f",
   "metadata": {},
   "outputs": [],
   "source": [
    "pd.set_option('display.max_rows',None)\n",
    "print('關鍵點持有部位')\n",
    "print(list(關鍵點持有部位.index))\n",
    "print('M夏普持有部位')\n",
    "print(list(M夏普持有部位.index))\n",
    "#print('量能持有部位')\n",
    "#print(list(量能持有部位.index))\n",
    "print('低接持有部位')\n",
    "print(list(低接持有部位.index))\n",
    "print('融資爆發持有部位')\n",
    "print(list(MM持有部位.index))\n",
    "print('空單持有部位')\n",
    "print(list(空單放空部位.index))\n",
    "#print('外資持有部位')\n",
    "#print(list(外資持有部位.index))"
   ]
  },
  {
   "cell_type": "markdown",
   "id": "143e480a-875b-4e0f-b5b9-4868e7c7a6d9",
   "metadata": {},
   "source": [
    "# 育儀每週需求資料"
   ]
  },
  {
   "cell_type": "code",
   "execution_count": null,
   "id": "daca6257-1288-43aa-9716-a7035b21b634",
   "metadata": {},
   "outputs": [],
   "source": [
    "import math\n",
    "import datetime\n",
    "育儀檔DF = pd.DataFrame()\n",
    "育儀檔DF['空單賣出標的'] = list(空單放空.index)\n",
    "lsws=[]\n",
    "張數=[]\n",
    "for i in range(len(育儀檔DF)):\n",
    "    lsws.append(DDW[育儀檔DF.iloc[i,0]].tail(1).iloc[0,3])\n",
    "育儀檔DF['空單賣出收盤價'] = lsws\n",
    "for l in range(len(育儀檔DF)):\n",
    "    張數 = 500000/(育儀檔DF['空單賣出收盤價']*1000)\n",
    "floormethod = lambda x :math.floor(x)\n",
    "\n",
    "#try:\n",
    "    #育儀檔DF['需求張數'] = 張數.apply(floormethod)\n",
    "    #育儀檔DF.to_excel(r'C:\\Users\\larryx30\\larryx30\\每週買賣報表\\借券\\每週空單需求'+datetime.datetime.today().strftime('%Y-%m-%d')+'.xlsx')\n",
    "#except:\n",
    "    #pass"
   ]
  },
  {
   "cell_type": "markdown",
   "id": "587a453c-ef0d-4e73-ac1c-dd5e8ce3dcba",
   "metadata": {},
   "source": [
    "# 每週買賣總表"
   ]
  },
  {
   "cell_type": "code",
   "execution_count": null,
   "id": "2473d0f8-0113-4b79-bf93-93e3dab3eaaf",
   "metadata": {},
   "outputs": [],
   "source": [
    "每週買DF = pd.DataFrame()\n",
    "每週買DF = pd.concat([每週買DF,pd.DataFrame(關鍵點買進.index,columns = ['關鍵點買進'])],axis=1)\n",
    "#每週買DF = pd.concat([每週買DF,pd.DataFrame(關鍵點賣出.index,columns = ['關鍵點賣出'])],axis=1)\n",
    "每週買DF = pd.concat([每週買DF,pd.DataFrame(M夏普買進.index,columns = ['M夏普買進'])],axis=1)\n",
    "#每週買DF = pd.concat([每週買DF,pd.DataFrame(M夏普賣出.index,columns = ['M夏普賣出'])],axis=1)\n",
    "每週買DF = pd.concat([每週買DF,pd.DataFrame(量能買進.index,columns = ['量能買進'])],axis=1)\n",
    "#每週買DF = pd.concat([每週買DF,pd.DataFrame(量能賣出.index,columns = ['量能賣出'])],axis=1)\n",
    "每週買DF = pd.concat([每週買DF,pd.DataFrame(低接買進.index,columns = ['低接買進'])],axis=1)\n",
    "#每週買DF = pd.concat([每週買DF,pd.DataFrame(低接賣出.index,columns = ['低接賣出'])],axis=1)\n",
    "每週買DF = pd.concat([每週買DF,pd.DataFrame(MM買進.index,columns = ['融資買進'])],axis=1)\n",
    "#每週買DF = pd.concat([每週買DF,pd.DataFrame(MM賣出.index,columns = ['融資賣出'])],axis=1)\n",
    "每週買DF = pd.concat([每週買DF,pd.DataFrame(外資買進.index,columns = ['外資買進'])],axis=1)\n",
    "#每週買DF = pd.concat([每週買DF,pd.DataFrame(外資賣出.index,columns = ['外資賣出'])],axis=1)\n",
    "每週買DF = pd.concat([每週買DF,pd.DataFrame(空單回補.index,columns = ['空單回補'])],axis=1)\n",
    "#每週買DF = pd.concat([每週買DF,pd.DataFrame(空單回補.index,columns = ['空單回補'])],axis=1)\n",
    "每週買DF"
   ]
  },
  {
   "cell_type": "code",
   "execution_count": null,
   "id": "4ea5c5eb-fe8b-4f66-bfbb-e373521a7f4b",
   "metadata": {},
   "outputs": [],
   "source": [
    "import datetime\n",
    "\n",
    "#每週買DF.to_excel(r'C:\\Users\\larryx30\\larryx30\\每週買賣報表\\買進\\每週買進總表'+datetime.datetime.today().strftime('%Y-%m-%d')+'.xlsx')"
   ]
  },
  {
   "cell_type": "code",
   "execution_count": null,
   "id": "c0276792-a22a-466d-91cf-ccb0e27e2117",
   "metadata": {},
   "outputs": [],
   "source": [
    "每週賣DF = pd.DataFrame()\n",
    "#每週賣DF = pd.concat([每週賣DF,pd.DataFrame(關鍵點買進.index,columns = ['關鍵點買進'])],axis=1)\n",
    "每週賣DF = pd.concat([每週賣DF,pd.DataFrame(關鍵點賣出.index,columns = ['關鍵點賣出'])],axis=1)\n",
    "#每週賣DF = pd.concat([每週賣DF,pd.DataFrame(M夏普買進.index,columns = ['M夏普買進'])],axis=1)\n",
    "每週賣DF = pd.concat([每週賣DF,pd.DataFrame(M夏普賣出.index,columns = ['M夏普賣出'])],axis=1)\n",
    "#每週賣DF = pd.concat([每週賣DF,pd.DataFrame(量能買進.index,columns = ['量能買進'])],axis=1)\n",
    "每週賣DF = pd.concat([每週賣DF,pd.DataFrame(量能賣出.index,columns = ['量能賣出'])],axis=1)\n",
    "#每週賣DF = pd.concat([每週賣DF,pd.DataFrame(低接買進.index,columns = ['低接買進'])],axis=1)\n",
    "每週賣DF = pd.concat([每週賣DF,pd.DataFrame(低接賣出.index,columns = ['低接賣出'])],axis=1)\n",
    "#每週賣DF = pd.concat([每週賣DF,pd.DataFrame(MM買進.index,columns = ['融資買進'])],axis=1)\n",
    "每週賣DF = pd.concat([每週賣DF,pd.DataFrame(MM賣出.index,columns = ['融資賣出'])],axis=1)\n",
    "#每週賣DF = pd.concat([每週賣DF,pd.DataFrame(外資買進.index,columns = ['外資買進'])],axis=1)\n",
    "每週賣DF = pd.concat([每週賣DF,pd.DataFrame(外資賣出.index,columns = ['外資賣出'])],axis=1)\n",
    "#每週賣DF = pd.concat([每週賣DF,pd.DataFrame(空單放空.index,columns = ['空單放空'])],axis=1)\n",
    "每週賣DF = pd.concat([每週賣DF,pd.DataFrame(空單放空.index,columns = ['空單放空'])],axis=1)\n",
    "每週賣DF\n"
   ]
  },
  {
   "cell_type": "code",
   "execution_count": null,
   "id": "592b9f43-aa77-4777-af93-a973481e4159",
   "metadata": {},
   "outputs": [],
   "source": [
    "#每週賣DF.to_excel(r'C:\\Users\\larryx30\\larryx30\\每週買賣報表\\賣出\\每週賣出總表'+datetime.datetime.today().strftime('%Y-%m-%d')+'.xlsx')"
   ]
  },
  {
   "cell_type": "code",
   "execution_count": null,
   "id": "96ba6ee2-a9e8-4299-9105-ea9dac4902f6",
   "metadata": {},
   "outputs": [],
   "source": [
    "#try:\n",
    "   # !jupyter nbconvert --to python SQL週資料轉化.ipynb\n",
    "# python即转化为.py，script即转化为.html\n",
    "# file_name.ipynb即当前module的文件名\n",
    "#except:\n",
    "    #pass"
   ]
  },
  {
   "cell_type": "code",
   "execution_count": null,
   "id": "13ab0afa-6dd0-40cf-8501-7043fcba0852",
   "metadata": {},
   "outputs": [],
   "source": [
    "DDW['2330'].tail(10)"
   ]
  },
  {
   "cell_type": "code",
   "execution_count": null,
   "id": "442bd7fa-494d-44fa-bf67-63e78faa28f5",
   "metadata": {},
   "outputs": [],
   "source": [
    "data_dict['1101'].tail(10)"
   ]
  },
  {
   "cell_type": "code",
   "execution_count": null,
   "id": "838734bf-c634-4be8-b5f5-408087031a8e",
   "metadata": {},
   "outputs": [],
   "source": [
    "data_dict['2330'].tail(10)"
   ]
  },
  {
   "cell_type": "code",
   "execution_count": null,
   "id": "ed1a47b5-a008-4d59-8f02-9e0054a2faf1",
   "metadata": {},
   "outputs": [],
   "source": []
  },
  {
   "cell_type": "code",
   "execution_count": null,
   "id": "ff17dee7-39dd-4276-9e1e-7f8285abe5f9",
   "metadata": {},
   "outputs": [],
   "source": []
  }
 ],
 "metadata": {
  "kernelspec": {
   "display_name": "Python 3",
   "language": "python",
   "name": "python3"
  },
  "language_info": {
   "codemirror_mode": {
    "name": "ipython",
    "version": 3
   },
   "file_extension": ".py",
   "mimetype": "text/x-python",
   "name": "python",
   "nbconvert_exporter": "python",
   "pygments_lexer": "ipython3",
   "version": "3.8.8"
  },
  "toc-autonumbering": true,
  "toc-showmarkdowntxt": true
 },
 "nbformat": 4,
 "nbformat_minor": 5
}
