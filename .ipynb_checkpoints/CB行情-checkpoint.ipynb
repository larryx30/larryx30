{
 "cells": [
  {
   "cell_type": "code",
   "execution_count": 6,
   "id": "0e31fe85-b70d-4d24-8923-274a51a6701b",
   "metadata": {},
   "outputs": [],
   "source": [
    "import pandas as pd\n",
    "import pyodbc\n",
    "import numpy as np\n",
    "\n",
    "class get_df:\n",
    "\n",
    "    def __init__(self):\n",
    "        self.DB_infos = {\"X01\" : (\"192.168.1.16\", \"X01\", \"cm23357868\", \"86875332\")}\n",
    "        self.querys = {}\n",
    "        self.db = str()\n",
    "        self.df_dict =  dict()\n",
    "        self.w_code_dict = dict()\n",
    "        self.point_dict = dict()\n",
    "        self.result_dict = dict()\n",
    "        \n",
    "    def db_connect(self, DB_info):\n",
    "        DB_Host, DB_Name, DB_User, DB_Password = self.DB_infos[DB_info]\n",
    "        print(\"Connecting to database using pyodbc...\")\n",
    "        self.db = pyodbc.connect('DRIVER={ODBC Driver 13 for SQL Server}; SERVER=' + DB_Host + '; DATABASE=' + DB_Name + '; UID=' + DB_User + '; PWD=' + DB_Password)\n",
    "        print(\"Succesfully Connected to database using pyodbc!\")\n",
    "      \n",
    "    def load_data(self, query):\n",
    "        df =  pd.read_sql(self.querys[query], self.db)\n",
    "        return df\n",
    "    @staticmethod\n",
    "    def make_CB():\n",
    "        df =\"\"\"SELECT    [日期]\n",
    "                        ,[代號]\n",
    "                        ,[名稱]\n",
    "                        ,[開盤價]\n",
    "                        ,[最高價]\n",
    "                        ,[最低價]\n",
    "                        ,[收盤價]\n",
    "                        ,[漲跌]\n",
    "                        ,[漲幅(%)]\n",
    "                        ,[成交張數]\n",
    "                        ,[成交筆數]\n",
    "                        ,[成交金額(千)]\n",
    "                        ,[成交均價]\n",
    "                        ,[次日參考價]\n",
    "                        ,[標的代號]\n",
    "                        ,[標的名稱]\n",
    "                        ,[標的收盤價]\n",
    "                        ,[標的漲跌幅(%)]\n",
    "                        ,[最高價(議價)]\n",
    "                        ,[最低價(議價)]\n",
    "                        ,[收盤價(議價)]\n",
    "                        ,[漲跌(議價)]\n",
    "                        ,[漲幅(議價)(%)]\n",
    "                        ,[成交張數(議價)]\n",
    "                        ,[成交筆數(議價)]\n",
    "                        ,[成交金額(議價)(千)]\n",
    "                        ,[RTIME]\n",
    "                        ,[開盤價(成交)]\n",
    "                        ,[最高價(成交)]\n",
    "                        ,[最低價(成交)]\n",
    "                        ,[收盤價(成交)]\n",
    "                        ,[漲跌(成交)]\n",
    "                        ,[漲幅(成交)(%)]\n",
    "\n",
    "                    FROM [X01].[dbo].[可轉公司債收盤] where 日期 >= 20020101 order by 日期\"\"\"\n",
    "\n",
    "        return df"
   ]
  },
  {
   "cell_type": "code",
   "execution_count": 7,
   "id": "70a1ffd8-183c-44c8-bce6-bf5fb5e8eee9",
   "metadata": {},
   "outputs": [
    {
     "name": "stdout",
     "output_type": "stream",
     "text": [
      "Connecting to database using pyodbc...\n",
      "Succesfully Connected to database using pyodbc!\n"
     ]
    }
   ],
   "source": [
    "sql_base = get_df()\n",
    "sql_base.db_connect('X01')\n",
    "sql_base.querys['CB'] = sql_base.make_CB()"
   ]
  },
  {
   "cell_type": "code",
   "execution_count": 9,
   "id": "5cb7946f-baf5-43db-9c3b-9a0215730c73",
   "metadata": {},
   "outputs": [],
   "source": [
    "CB行情表 = sql_base.load_data('CB')\n",
    "CB行情表 = ETF行情表.sort_values(by = ['日期','代號']).reset_index(drop = True)"
   ]
  },
  {
   "cell_type": "code",
   "execution_count": 11,
   "id": "efbe77e7-b19c-4271-af7c-ccf021338c0e",
   "metadata": {},
   "outputs": [],
   "source": [
    "#CB行情表"
   ]
  },
  {
   "cell_type": "code",
   "execution_count": 13,
   "id": "0187bd67-e84c-4535-be1d-f2adca21689c",
   "metadata": {},
   "outputs": [],
   "source": [
    "CB行情表['日期'] = pd.to_datetime(CB行情表['日期'],format = \"%Y%m%d\")\n",
    "CB行情表 = CB行情表.set_index('日期')"
   ]
  },
  {
   "cell_type": "code",
   "execution_count": 25,
   "id": "8f5637a7-f0ec-4c74-9191-3d2ad5a893fc",
   "metadata": {},
   "outputs": [
    {
     "data": {
      "text/plain": [
       "日期\n",
       "2023-11-03    84732\n",
       "2023-11-03    89275\n",
       "2023-11-03    89276\n",
       "2023-11-03    89321\n",
       "2023-11-03    89383\n",
       "              ...  \n",
       "2023-11-06    89383\n",
       "2023-11-06    99061\n",
       "2023-11-06    99211\n",
       "2023-11-06    99585\n",
       "2023-11-06    99586\n",
       "Name: 代號, Length: 300, dtype: object"
      ]
     },
     "execution_count": 25,
     "metadata": {},
     "output_type": "execute_result"
    }
   ],
   "source": [
    "CB行情表['代號'].tail(300)"
   ]
  },
  {
   "cell_type": "code",
   "execution_count": null,
   "id": "78c8db84-3810-4f25-980e-61ba1fefaf65",
   "metadata": {},
   "outputs": [],
   "source": []
  },
  {
   "cell_type": "code",
   "execution_count": null,
   "id": "2778d19d-4b99-4359-8d9f-c24f0d6d5e04",
   "metadata": {},
   "outputs": [],
   "source": []
  }
 ],
 "metadata": {
  "kernelspec": {
   "display_name": "Python 3",
   "language": "python",
   "name": "python3"
  },
  "language_info": {
   "codemirror_mode": {
    "name": "ipython",
    "version": 3
   },
   "file_extension": ".py",
   "mimetype": "text/x-python",
   "name": "python",
   "nbconvert_exporter": "python",
   "pygments_lexer": "ipython3",
   "version": "3.8.8"
  }
 },
 "nbformat": 4,
 "nbformat_minor": 5
}
