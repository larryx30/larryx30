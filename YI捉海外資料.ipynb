{
 "cells": [
  {
   "cell_type": "code",
   "execution_count": 3,
   "id": "21d46955-bccf-4a71-a51e-f412210ee8a4",
   "metadata": {},
   "outputs": [],
   "source": [
    "import numpy as np\n",
    "import matplotlib.pyplot as plt\n",
    "import pandas as pd\n",
    "from pandas import Series,DataFrame\n"
   ]
  },
  {
   "cell_type": "code",
   "execution_count": 4,
   "id": "dbc77527-b20a-46ff-b2dd-7d53e4b9944a",
   "metadata": {},
   "outputs": [],
   "source": [
    "import pandas\n",
    "from pandas_datareader import data as pdr\n",
    "import yfinance as yfin\n",
    "yfin.pdr_override()"
   ]
  },
  {
   "cell_type": "code",
   "execution_count": 6,
   "id": "54ce6541-7fad-45f7-8385-4ab318d63e7e",
   "metadata": {},
   "outputs": [
    {
     "name": "stdout",
     "output_type": "stream",
     "text": [
      "[*********************100%***********************]  1 of 1 completed\n",
      "[*********************100%***********************]  1 of 1 completed\n",
      "[*********************100%***********************]  1 of 1 completed\n",
      "[*********************100%***********************]  1 of 1 completed\n"
     ]
    }
   ],
   "source": [
    "all_data = {ticker:pdr.get_data_yahoo(ticker) for ticker in ['AAPL','IBM','MSFT','GOOG']}\n",
    "price = pd.DataFrame({ticker:data['Adj Close'] for ticker,data in all_data.items()})\n",
    "volume = pd.DataFrame({ticker:data['Volume'] for ticker,data in all_data.items()})"
   ]
  },
  {
   "cell_type": "code",
   "execution_count": 10,
   "id": "6c90a458-0e67-4065-8b63-1f7e475de4cc",
   "metadata": {},
   "outputs": [
    {
     "data": {
      "text/plain": [
       "<AxesSubplot:xlabel='Date'>"
      ]
     },
     "execution_count": 10,
     "metadata": {},
     "output_type": "execute_result"
    },
    {
     "data": {
      "image/png": "[encoded data removed]",
      "text/plain": [
       "<Figure size 432x288 with 1 Axes>"
      ]
     },
     "metadata": {
      "needs_background": "light"
     },
     "output_type": "display_data"
    }
   ],
   "source": [
    "price.AAPL.plot()"
   ]
  },
  {
   "cell_type": "code",
   "execution_count": 14,
   "id": "5d634630-499f-4415-a357-bfb8fc091749",
   "metadata": {},
   "outputs": [
    {
     "data": {
      "text/plain": [
       "count    10738.000000\n",
       "mean         0.001109\n",
       "std          0.028141\n",
       "min         -0.518692\n",
       "25%         -0.012901\n",
       "50%          0.000000\n",
       "75%          0.014644\n",
       "max          0.332281\n",
       "Name: AAPL, dtype: float64"
      ]
     },
     "execution_count": 14,
     "metadata": {},
     "output_type": "execute_result"
    }
   ],
   "source": [
    "price.pct_change().AAPL.describe()"
   ]
  },
  {
   "cell_type": "code",
   "execution_count": 15,
   "id": "3eff3124-9831-4347-82ee-c452be713f7c",
   "metadata": {},
   "outputs": [],
   "source": [
    "returns = price.pct_change()"
   ]
  },
  {
   "cell_type": "code",
   "execution_count": 16,
   "id": "cd8775e8-05a1-4ee5-aa67-e02d3192b370",
   "metadata": {},
   "outputs": [
    {
     "data": {
      "text/html": [
       "<div>\n",
       "<style scoped>\n",
       "    .dataframe tbody tr th:only-of-type {\n",
       "        vertical-align: middle;\n",
       "    }\n",
       "\n",
       "    .dataframe tbody tr th {\n",
       "        vertical-align: top;\n",
       "    }\n",
       "\n",
       "    .dataframe thead th {\n",
       "        text-align: right;\n",
       "    }\n",
       "</style>\n",
       "<table border=\"1\" class=\"dataframe\">\n",
       "  <thead>\n",
       "    <tr style=\"text-align: right;\">\n",
       "      <th></th>\n",
       "      <th>AAPL</th>\n",
       "      <th>IBM</th>\n",
       "      <th>MSFT</th>\n",
       "      <th>GOOG</th>\n",
       "    </tr>\n",
       "    <tr>\n",
       "      <th>Date</th>\n",
       "      <th></th>\n",
       "      <th></th>\n",
       "      <th></th>\n",
       "      <th></th>\n",
       "    </tr>\n",
       "  </thead>\n",
       "  <tbody>\n",
       "    <tr>\n",
       "      <th>1962-01-02</th>\n",
       "      <td>NaN</td>\n",
       "      <td>NaN</td>\n",
       "      <td>NaN</td>\n",
       "      <td>NaN</td>\n",
       "    </tr>\n",
       "    <tr>\n",
       "      <th>1962-01-03</th>\n",
       "      <td>NaN</td>\n",
       "      <td>0.008742</td>\n",
       "      <td>NaN</td>\n",
       "      <td>NaN</td>\n",
       "    </tr>\n",
       "    <tr>\n",
       "      <th>1962-01-04</th>\n",
       "      <td>NaN</td>\n",
       "      <td>-0.009965</td>\n",
       "      <td>NaN</td>\n",
       "      <td>NaN</td>\n",
       "    </tr>\n",
       "    <tr>\n",
       "      <th>1962-01-05</th>\n",
       "      <td>NaN</td>\n",
       "      <td>-0.019694</td>\n",
       "      <td>NaN</td>\n",
       "      <td>NaN</td>\n",
       "    </tr>\n",
       "    <tr>\n",
       "      <th>1962-01-08</th>\n",
       "      <td>NaN</td>\n",
       "      <td>-0.018750</td>\n",
       "      <td>NaN</td>\n",
       "      <td>NaN</td>\n",
       "    </tr>\n",
       "    <tr>\n",
       "      <th>...</th>\n",
       "      <td>...</td>\n",
       "      <td>...</td>\n",
       "      <td>...</td>\n",
       "      <td>...</td>\n",
       "    </tr>\n",
       "    <tr>\n",
       "      <th>2023-07-13</th>\n",
       "      <td>0.004057</td>\n",
       "      <td>0.008130</td>\n",
       "      <td>0.016192</td>\n",
       "      <td>0.043555</td>\n",
       "    </tr>\n",
       "    <tr>\n",
       "      <th>2023-07-14</th>\n",
       "      <td>0.000787</td>\n",
       "      <td>-0.003883</td>\n",
       "      <td>0.007529</td>\n",
       "      <td>0.006969</td>\n",
       "    </tr>\n",
       "    <tr>\n",
       "      <th>2023-07-17</th>\n",
       "      <td>0.017306</td>\n",
       "      <td>0.006297</td>\n",
       "      <td>0.001419</td>\n",
       "      <td>-0.005091</td>\n",
       "    </tr>\n",
       "    <tr>\n",
       "      <th>2023-07-18</th>\n",
       "      <td>-0.001340</td>\n",
       "      <td>0.008343</td>\n",
       "      <td>0.039800</td>\n",
       "      <td>-0.007836</td>\n",
       "    </tr>\n",
       "    <tr>\n",
       "      <th>2023-07-19</th>\n",
       "      <td>0.007072</td>\n",
       "      <td>0.000886</td>\n",
       "      <td>-0.012267</td>\n",
       "      <td>-0.010477</td>\n",
       "    </tr>\n",
       "  </tbody>\n",
       "</table>\n",
       "<p>15492 rows × 4 columns</p>\n",
       "</div>"
      ],
      "text/plain": [
       "                AAPL       IBM      MSFT      GOOG\n",
       "Date                                              \n",
       "1962-01-02       NaN       NaN       NaN       NaN\n",
       "1962-01-03       NaN  0.008742       NaN       NaN\n",
       "1962-01-04       NaN -0.009965       NaN       NaN\n",
       "1962-01-05       NaN -0.019694       NaN       NaN\n",
       "1962-01-08       NaN -0.018750       NaN       NaN\n",
       "...              ...       ...       ...       ...\n",
       "2023-07-13  0.004057  0.008130  0.016192  0.043555\n",
       "2023-07-14  0.000787 -0.003883  0.007529  0.006969\n",
       "2023-07-17  0.017306  0.006297  0.001419 -0.005091\n",
       "2023-07-18 -0.001340  0.008343  0.039800 -0.007836\n",
       "2023-07-19  0.007072  0.000886 -0.012267 -0.010477\n",
       "\n",
       "[15492 rows x 4 columns]"
      ]
     },
     "execution_count": 16,
     "metadata": {},
     "output_type": "execute_result"
    }
   ],
   "source": [
    "returns"
   ]
  },
  {
   "cell_type": "code",
   "execution_count": 17,
   "id": "c74e73e9-9a15-472d-aec9-9d6149af9d80",
   "metadata": {},
   "outputs": [
    {
     "data": {
      "text/plain": [
       "count    10738.000000\n",
       "mean         0.001109\n",
       "std          0.028141\n",
       "min         -0.518692\n",
       "25%         -0.012901\n",
       "50%          0.000000\n",
       "75%          0.014644\n",
       "max          0.332281\n",
       "Name: AAPL, dtype: float64"
      ]
     },
     "execution_count": 17,
     "metadata": {},
     "output_type": "execute_result"
    }
   ],
   "source": [
    "returns.AAPL.describe()"
   ]
  },
  {
   "cell_type": "code",
   "execution_count": null,
   "id": "3935d2be-1283-4172-852a-e3a046900f85",
   "metadata": {},
   "outputs": [],
   "source": []
  }
 ],
 "metadata": {
  "kernelspec": {
   "display_name": "Python 3",
   "language": "python",
   "name": "python3"
  },
  "language_info": {
   "codemirror_mode": {
    "name": "ipython",
    "version": 3
   },
   "file_extension": ".py",
   "mimetype": "text/x-python",
   "name": "python",
   "nbconvert_exporter": "python",
   "pygments_lexer": "ipython3",
   "version": "3.8.8"
  }
 },
 "nbformat": 4,
 "nbformat_minor": 5
}
